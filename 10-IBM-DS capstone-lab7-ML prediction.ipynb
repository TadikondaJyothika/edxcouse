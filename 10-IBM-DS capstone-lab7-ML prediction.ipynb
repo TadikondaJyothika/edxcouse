





<!DOCTYPE html>
<html
  lang="en"
  
  data-color-mode="auto" data-light-theme="light" data-dark-theme="dark"
  data-a11y-animated-images="system" data-a11y-link-underlines="true"
  >




  <head>
    <meta charset="utf-8">
  <link rel="dns-prefetch" href="https://github.githubassets.com">
  <link rel="dns-prefetch" href="https://avatars.githubusercontent.com">
  <link rel="dns-prefetch" href="https://github-cloud.s3.amazonaws.com">
  <link rel="dns-prefetch" href="https://user-images.githubusercontent.com/">
  <link rel="preconnect" href="https://github.githubassets.com" crossorigin>
  <link rel="preconnect" href="https://avatars.githubusercontent.com">

  


  <link crossorigin="anonymous" media="all" rel="stylesheet" href="https://github.githubassets.com/assets/light-0f9c7cd68e73.css" /><link crossorigin="anonymous" media="all" rel="stylesheet" href="https://github.githubassets.com/assets/dark-13e7ced9cfd1.css" /><link data-color-theme="dark_dimmed" crossorigin="anonymous" media="all" rel="stylesheet" data-href="https://github.githubassets.com/assets/dark_dimmed-2750ec09b714.css" /><link data-color-theme="dark_high_contrast" crossorigin="anonymous" media="all" rel="stylesheet" data-href="https://github.githubassets.com/assets/dark_high_contrast-eafba68d0651.css" /><link data-color-theme="dark_colorblind" crossorigin="anonymous" media="all" rel="stylesheet" data-href="https://github.githubassets.com/assets/dark_colorblind-9dac3572ee8b.css" /><link data-color-theme="light_colorblind" crossorigin="anonymous" media="all" rel="stylesheet" data-href="https://github.githubassets.com/assets/light_colorblind-f53ff1166155.css" /><link data-color-theme="light_high_contrast" crossorigin="anonymous" media="all" rel="stylesheet" data-href="https://github.githubassets.com/assets/light_high_contrast-36b45129f009.css" /><link data-color-theme="light_tritanopia" crossorigin="anonymous" media="all" rel="stylesheet" data-href="https://github.githubassets.com/assets/light_tritanopia-07725da6cdcc.css" /><link data-color-theme="dark_tritanopia" crossorigin="anonymous" media="all" rel="stylesheet" data-href="https://github.githubassets.com/assets/dark_tritanopia-9283e9393c90.css" />
    <link crossorigin="anonymous" media="all" rel="stylesheet" href="https://github.githubassets.com/assets/primer-primitives-03314b57bb48.css" />
    <link crossorigin="anonymous" media="all" rel="stylesheet" href="https://github.githubassets.com/assets/primer-48c59db9c012.css" />
    <link crossorigin="anonymous" media="all" rel="stylesheet" href="https://github.githubassets.com/assets/global-071dbbbd8ff7.css" />
    <link crossorigin="anonymous" media="all" rel="stylesheet" href="https://github.githubassets.com/assets/github-909d3a6d1216.css" />
  <link crossorigin="anonymous" media="all" rel="stylesheet" href="https://github.githubassets.com/assets/repository-33a7c32c5a6c.css" />
<link crossorigin="anonymous" media="all" rel="stylesheet" href="https://github.githubassets.com/assets/code-8654c00e799b.css" />

  


  <script type="application/json" id="client-env">{"locale":"en","featureFlags":["code_vulnerability_scanning","copilot_chat_in_mobile_ga","copilot_conversational_ux_history_refs","copilot_smell_icebreaker_ux","copilot_implicit_context","copilot_stop_response","failbot_handle_non_errors","geojson_azure_maps","image_metric_tracking","marketing_forms_api_integration_contact_request","marketing_pages_search_explore_provider","turbo_experiment_risky","sample_network_conn_type","no_character_key_shortcuts_in_inputs","react_start_transition_for_navigations","custom_inp","remove_child_patch"]}</script>
<script crossorigin="anonymous" defer="defer" type="application/javascript" src="https://github.githubassets.com/assets/wp-runtime-490e761b329f.js"></script>
<script crossorigin="anonymous" defer="defer" type="application/javascript" src="https://github.githubassets.com/assets/vendors-node_modules_dompurify_dist_purify_js-13ee51630182.js"></script>
<script crossorigin="anonymous" defer="defer" type="application/javascript" src="https://github.githubassets.com/assets/vendors-node_modules_oddbird_popover-polyfill_dist_popover_js-7bd350d761f4.js"></script>
<script crossorigin="anonymous" defer="defer" type="application/javascript" src="https://github.githubassets.com/assets/vendors-node_modules_smoothscroll-polyfill_dist_smoothscroll_js-node_modules_stacktrace-parse-a448e4-bb5415637fe0.js"></script>
<script crossorigin="anonymous" defer="defer" type="application/javascript" src="https://github.githubassets.com/assets/environment-b9fd6c57ed9b.js"></script>
<script crossorigin="anonymous" defer="defer" type="application/javascript" src="https://github.githubassets.com/assets/vendors-node_modules_github_selector-observer_dist_index_esm_js-9f960d9b217c.js"></script>
<script crossorigin="anonymous" defer="defer" type="application/javascript" src="https://github.githubassets.com/assets/vendors-node_modules_primer_behaviors_dist_esm_focus-zone_js-086f7a27bac0.js"></script>
<script crossorigin="anonymous" defer="defer" type="application/javascript" src="https://github.githubassets.com/assets/vendors-node_modules_github_relative-time-element_dist_index_js-c76945c5961a.js"></script>
<script crossorigin="anonymous" defer="defer" type="application/javascript" src="https://github.githubassets.com/assets/vendors-node_modules_github_combobox-nav_dist_index_js-node_modules_github_markdown-toolbar-e-820fc0-bc8f02b96749.js"></script>
<script crossorigin="anonymous" defer="defer" type="application/javascript" src="https://github.githubassets.com/assets/vendors-node_modules_github_auto-complete-element_dist_index_js-node_modules_github_details-d-ed9a97-3fb8ce186301.js"></script>
<script crossorigin="anonymous" defer="defer" type="application/javascript" src="https://github.githubassets.com/assets/vendors-node_modules_github_text-expander-element_dist_index_js-8a621df59e80.js"></script>
<script crossorigin="anonymous" defer="defer" type="application/javascript" src="https://github.githubassets.com/assets/vendors-node_modules_delegated-events_dist_index_js-node_modules_stacktrace-parser_dist_stack-443cd5-1ba4dbac454f.js"></script>
<script crossorigin="anonymous" defer="defer" type="application/javascript" src="https://github.githubassets.com/assets/vendors-node_modules_github_filter-input-element_dist_index_js-node_modules_github_remote-inp-b7d8f4-7dc906febe69.js"></script>
<script crossorigin="anonymous" defer="defer" type="application/javascript" src="https://github.githubassets.com/assets/vendors-node_modules_github_file-attachment-element_dist_index_js-node_modules_primer_view-co-3959a9-28f0ee9fece0.js"></script>
<script crossorigin="anonymous" defer="defer" type="application/javascript" src="https://github.githubassets.com/assets/app_assets_modules_github_onfocus_ts-ui_packages_trusted-types-policies_policy_ts-ui_packages-6fe316-8ed7f869463a.js"></script>
<script crossorigin="anonymous" defer="defer" type="application/javascript" src="https://github.githubassets.com/assets/github-elements-f7fe73c93e30.js"></script>
<script crossorigin="anonymous" defer="defer" type="application/javascript" src="https://github.githubassets.com/assets/element-registry-7a4a1ad7d028.js"></script>
<script crossorigin="anonymous" defer="defer" type="application/javascript" src="https://github.githubassets.com/assets/vendors-node_modules_github_catalyst_lib_index_js-node_modules_github_hydro-analytics-client_-4da1df-9de8d527f925.js"></script>
<script crossorigin="anonymous" defer="defer" type="application/javascript" src="https://github.githubassets.com/assets/vendors-node_modules_braintree_browser-detection_dist_browser-detection_js-node_modules_githu-fd5530-6f4d94175afe.js"></script>
<script crossorigin="anonymous" defer="defer" type="application/javascript" src="https://github.githubassets.com/assets/vendors-node_modules_lit-html_lit-html_js-5b376145beff.js"></script>
<script crossorigin="anonymous" defer="defer" type="application/javascript" src="https://github.githubassets.com/assets/vendors-node_modules_morphdom_dist_morphdom-esm_js-node_modules_github_memoize_dist_esm_index_js-05801f7ca718.js"></script>
<script crossorigin="anonymous" defer="defer" type="application/javascript" src="https://github.githubassets.com/assets/vendors-node_modules_github_turbo_dist_turbo_es2017-esm_js-c91f4ad18b62.js"></script>
<script crossorigin="anonymous" defer="defer" type="application/javascript" src="https://github.githubassets.com/assets/vendors-node_modules_github_remote-form_dist_index_js-node_modules_delegated-events_dist_inde-893f9f-a8ec7ed862cf.js"></script>
<script crossorigin="anonymous" defer="defer" type="application/javascript" src="https://github.githubassets.com/assets/vendors-node_modules_scroll-anchoring_dist_scroll-anchoring_esm_js-node_modules_github_hotkey-1a1d91-d831c241f313.js"></script>
<script crossorigin="anonymous" defer="defer" type="application/javascript" src="https://github.githubassets.com/assets/vendors-node_modules_color-convert_index_js-72c9fbde5ad4.js"></script>
<script crossorigin="anonymous" defer="defer" type="application/javascript" src="https://github.githubassets.com/assets/vendors-node_modules_primer_behaviors_dist_esm_dimensions_js-node_modules_github_jtml_lib_index_js-95b84ee6bc34.js"></script>
<script crossorigin="anonymous" defer="defer" type="application/javascript" src="https://github.githubassets.com/assets/vendors-node_modules_github_session-resume_dist_index_js-node_modules_primer_behaviors_dist_e-da6ec6-3f39339c9d98.js"></script>
<script crossorigin="anonymous" defer="defer" type="application/javascript" src="https://github.githubassets.com/assets/vendors-node_modules_github_quote-selection_dist_index_js-node_modules_github_textarea-autosi-9e0349-b0f4de5b992f.js"></script>
<script crossorigin="anonymous" defer="defer" type="application/javascript" src="https://github.githubassets.com/assets/ui_packages_sudo_sudo_ts-74c0d1051bc3.js"></script>
<script crossorigin="anonymous" defer="defer" type="application/javascript" src="https://github.githubassets.com/assets/app_assets_modules_github_updatable-content_ts-ui_packages_hydro-analytics_hydro-analytics_ts-82813f-2f25462cf4b0.js"></script>
<script crossorigin="anonymous" defer="defer" type="application/javascript" src="https://github.githubassets.com/assets/app_assets_modules_github_behaviors_task-list_ts-app_assets_modules_github_onfocus_ts-app_ass-421cec-355eb4940fad.js"></script>
<script crossorigin="anonymous" defer="defer" type="application/javascript" src="https://github.githubassets.com/assets/app_assets_modules_github_sticky-scroll-into-view_ts-1390d8d5a0dc.js"></script>
<script crossorigin="anonymous" defer="defer" type="application/javascript" src="https://github.githubassets.com/assets/app_assets_modules_github_behaviors_ajax-error_ts-app_assets_modules_github_behaviors_include-2e2258-057ee3dfb92c.js"></script>
<script crossorigin="anonymous" defer="defer" type="application/javascript" src="https://github.githubassets.com/assets/app_assets_modules_github_behaviors_commenting_edit_ts-app_assets_modules_github_behaviors_ht-83c235-103883687a95.js"></script>
<script crossorigin="anonymous" defer="defer" type="application/javascript" src="https://github.githubassets.com/assets/behaviors-6de464341e2e.js"></script>
<script crossorigin="anonymous" defer="defer" type="application/javascript" src="https://github.githubassets.com/assets/vendors-node_modules_delegated-events_dist_index_js-node_modules_github_catalyst_lib_index_js-06ff531-2ea61fcc9a71.js"></script>
<script crossorigin="anonymous" defer="defer" type="application/javascript" src="https://github.githubassets.com/assets/notifications-global-6d6db5144cc3.js"></script>
<script crossorigin="anonymous" defer="defer" type="application/javascript" src="https://github.githubassets.com/assets/app_assets_modules_github_repositories_get-repo-element_ts-c4da75162aa4.js"></script>
<script crossorigin="anonymous" defer="defer" type="application/javascript" src="https://github.githubassets.com/assets/code-menu-67595c3a6d0c.js"></script>
  
  <script crossorigin="anonymous" defer="defer" type="application/javascript" src="https://github.githubassets.com/assets/react-lib-3a96fca5389a.js"></script>
<script crossorigin="anonymous" defer="defer" type="application/javascript" src="https://github.githubassets.com/assets/vendors-node_modules_primer_octicons-react_dist_index_esm_js-node_modules_primer_react_lib-es-541a38-c11d7563bc20.js"></script>
<script crossorigin="anonymous" defer="defer" type="application/javascript" src="https://github.githubassets.com/assets/vendors-node_modules_primer_react_lib-esm_Box_Box_js-8f8c5e2a2cbf.js"></script>
<script crossorigin="anonymous" defer="defer" type="application/javascript" src="https://github.githubassets.com/assets/vendors-node_modules_primer_react_lib-esm_Button_Button_js-ffa038d7f274.js"></script>
<script crossorigin="anonymous" defer="defer" type="application/javascript" src="https://github.githubassets.com/assets/vendors-node_modules_primer_react_lib-esm_TooltipV2_Tooltip_js-d9cd558a3443.js"></script>
<script crossorigin="anonymous" defer="defer" type="application/javascript" src="https://github.githubassets.com/assets/vendors-node_modules_primer_react_node_modules_primer_octicons-react_dist_index_esm_mjs-8030d6011494.js"></script>
<script crossorigin="anonymous" defer="defer" type="application/javascript" src="https://github.githubassets.com/assets/vendors-node_modules_primer_react_lib-esm_ActionList_index_js-a9437e7d3d6a.js"></script>
<script crossorigin="anonymous" defer="defer" type="application/javascript" src="https://github.githubassets.com/assets/vendors-node_modules_primer_react_lib-esm_Text_Text_js-node_modules_primer_react_lib-esm_Text-85a14b-3ddd3412665d.js"></script>
<script crossorigin="anonymous" defer="defer" type="application/javascript" src="https://github.githubassets.com/assets/vendors-node_modules_primer_react_lib-esm_FormControl_FormControl_js-7742a325a895.js"></script>
<script crossorigin="anonymous" defer="defer" type="application/javascript" src="https://github.githubassets.com/assets/vendors-node_modules_primer_react_lib-esm_AnchoredOverlay_AnchoredOverlay_js-4c761b535add.js"></script>
<script crossorigin="anonymous" defer="defer" type="application/javascript" src="https://github.githubassets.com/assets/vendors-node_modules_react-router-dom_dist_index_js-2b1dbeadb6d4.js"></script>
<script crossorigin="anonymous" defer="defer" type="application/javascript" src="https://github.githubassets.com/assets/vendors-node_modules_primer_react_lib-esm_ConfirmationDialog_ConfirmationDialog_js-8fb4cb0b8bf3.js"></script>
<script crossorigin="anonymous" defer="defer" type="application/javascript" src="https://github.githubassets.com/assets/vendors-node_modules_primer_react_lib-esm_Heading_Heading_js-node_modules_primer_react_lib-es-09461f-b6800c935d2b.js"></script>
<script crossorigin="anonymous" defer="defer" type="application/javascript" src="https://github.githubassets.com/assets/vendors-node_modules_primer_react_lib-esm_Label_Label_js-node_modules_primer_react_lib-esm_Se-443e5e-732d80415edc.js"></script>
<script crossorigin="anonymous" defer="defer" type="application/javascript" src="https://github.githubassets.com/assets/vendors-node_modules_primer_react_lib-esm_AvatarStack_AvatarStack_js-node_modules_primer_reac-6dc608-b1ae62f152fd.js"></script>
<script crossorigin="anonymous" defer="defer" type="application/javascript" src="https://github.githubassets.com/assets/vendors-node_modules_primer_react_lib-esm_Avatar_Avatar_js-node_modules_primer_react_lib-esm_-7f6456-ff35cd66fa9c.js"></script>
<script crossorigin="anonymous" defer="defer" type="application/javascript" src="https://github.githubassets.com/assets/ui_packages_react-core_create-browser-history_ts-ui_packages_safe-storage_safe-storage_ts-ui_-682c2c-173099330e24.js"></script>
<script crossorigin="anonymous" defer="defer" type="application/javascript" src="https://github.githubassets.com/assets/ui_packages_react-core_register-app_ts-1b1f53d95ef9.js"></script>
<script crossorigin="anonymous" defer="defer" type="application/javascript" src="https://github.githubassets.com/assets/ui_packages_paths_index_ts-922fee1fcbe0.js"></script>
<script crossorigin="anonymous" defer="defer" type="application/javascript" src="https://github.githubassets.com/assets/ui_packages_ref-selector_RefSelector_tsx-01bf310f9cb6.js"></script>
<script crossorigin="anonymous" defer="defer" type="application/javascript" src="https://github.githubassets.com/assets/ui_packages_commit-attribution_index_ts-ui_packages_commit-checks-status_index_ts-ui_packages-59a8e3-d8a8a30fe2d7.js"></script>
<script crossorigin="anonymous" defer="defer" type="application/javascript" src="https://github.githubassets.com/assets/app_assets_modules_react-shared_hooks_use-canonical-object_ts-ui_packages_code-view-shared_ho-e725dc-2ace46dba7e0.js"></script>
<script crossorigin="anonymous" defer="defer" type="application/javascript" src="https://github.githubassets.com/assets/node_modules_github_mini-throttle_dist_index_js-app_assets_modules_github_blob-anchor_ts-app_-55c012-6f0349cfd4d6.js"></script>
<script crossorigin="anonymous" defer="defer" type="application/javascript" src="https://github.githubassets.com/assets/ui_packages_code-view-shared_components_files-search_FileResultsList_tsx-f92c1226319d.js"></script>
<script crossorigin="anonymous" defer="defer" type="application/javascript" src="https://github.githubassets.com/assets/react-code-view-c1d9359a2889.js"></script>
<link crossorigin="anonymous" media="all" rel="stylesheet" href="https://github.githubassets.com/assets/react-code-view.f2d60f636eb02c2001df.module.css" />


  <title>edxcourse/10-IBM-DS capstone-lab7-ML prediction.ipynb at main · SrinandanMoram/edxcourse · GitHub</title>



  <meta name="route-pattern" content="/:user_id/:repository/blob/*name(/*path)" data-turbo-transient>
  <meta name="route-controller" content="blob" data-turbo-transient>
  <meta name="route-action" content="show" data-turbo-transient>

    
  <meta name="current-catalog-service-hash" content="82c569b93da5c18ed649ebd4c2c79437db4611a6a1373e805a3cb001c64130b7">


  <meta name="request-id" content="7403:21179F:143269E:16D7526:66422FD0" data-pjax-transient="true"/><meta name="html-safe-nonce" content="4e8e6accb599aa5b5de5448a7134f45576cac85fb8fbe2f3c52454581d2456cb" data-pjax-transient="true"/><meta name="visitor-payload" content="eyJyZWZlcnJlciI6Imh0dHBzOi8vZ2l0aHViLmNvbS9TcmluYW5kYW5Nb3JhbS9lZHhjb3Vyc2UiLCJyZXF1ZXN0X2lkIjoiNzQwMzoyMTE3OUY6MTQzMjY5RToxNkQ3NTI2OjY2NDIyRkQwIiwidmlzaXRvcl9pZCI6IjgzMzUyNDQ5NzAwOTMwNjQwNDciLCJyZWdpb25fZWRnZSI6ImNlbnRyYWxpbmRpYSIsInJlZ2lvbl9yZW5kZXIiOiJjZW50cmFsaW5kaWEifQ==" data-pjax-transient="true"/><meta name="visitor-hmac" content="8d7561899b58b96545a93b75284e418c406225c5ef24871951ff62dbe7dc9f0f" data-pjax-transient="true"/>


    <meta name="hovercard-subject-tag" content="repository:779673552" data-turbo-transient>


  <meta name="github-keyboard-shortcuts" content="repository,source-code,file-tree,copilot" data-turbo-transient="true" />
  

  <meta name="selected-link" value="repo_source" data-turbo-transient>
  <link rel="assets" href="https://github.githubassets.com/">

    <meta name="google-site-verification" content="Apib7-x98H0j5cPqHWwSMm6dNU4GmODRoqxLiDzdx9I">

<meta name="octolytics-url" content="https://collector.github.com/github/collect" />

  <meta name="analytics-location" content="/&lt;user-name&gt;/&lt;repo-name&gt;/blob/show" data-turbo-transient="true" />

  




    <meta name="user-login" content="">

  

    <meta name="viewport" content="width=device-width">

    

      <meta name="description" content="Contribute to SrinandanMoram/edxcourse development by creating an account on GitHub.">

      <link rel="search" type="application/opensearchdescription+xml" href="/opensearch.xml" title="GitHub">

    <link rel="fluid-icon" href="https://github.com/fluidicon.png" title="GitHub">
    <meta property="fb:app_id" content="1401488693436528">
    <meta name="apple-itunes-app" content="app-id=1477376905, app-argument=https://github.com/SrinandanMoram/edxcourse/blob/main/10-IBM-DS%20capstone-lab7-ML%20prediction.ipynb" />

      <meta name="twitter:image:src" content="https://opengraph.githubassets.com/f0fa0b5f23dd3b20d2d5be8e0c1657fe798a2516aa4c040204d679a75c87c36c/SrinandanMoram/edxcourse" /><meta name="twitter:site" content="@github" /><meta name="twitter:card" content="summary_large_image" /><meta name="twitter:title" content="edxcourse/10-IBM-DS capstone-lab7-ML prediction.ipynb at main · SrinandanMoram/edxcourse" /><meta name="twitter:description" content="Contribute to SrinandanMoram/edxcourse development by creating an account on GitHub." />
  <meta property="og:image" content="https://opengraph.githubassets.com/f0fa0b5f23dd3b20d2d5be8e0c1657fe798a2516aa4c040204d679a75c87c36c/SrinandanMoram/edxcourse" /><meta property="og:image:alt" content="Contribute to SrinandanMoram/edxcourse development by creating an account on GitHub." /><meta property="og:image:width" content="1200" /><meta property="og:image:height" content="600" /><meta property="og:site_name" content="GitHub" /><meta property="og:type" content="object" /><meta property="og:title" content="edxcourse/10-IBM-DS capstone-lab7-ML prediction.ipynb at main · SrinandanMoram/edxcourse" /><meta property="og:url" content="https://github.com/SrinandanMoram/edxcourse/blob/main/10-IBM-DS%20capstone-lab7-ML%20prediction.ipynb" /><meta property="og:description" content="Contribute to SrinandanMoram/edxcourse development by creating an account on GitHub." />
  




      <meta name="hostname" content="github.com">



        <meta name="expected-hostname" content="github.com">


  <meta http-equiv="x-pjax-version" content="b008d987ff87835a5a09d2ed0f3032b7dfd49b4b8f0149c08d305399b7d187a5" data-turbo-track="reload">
  <meta http-equiv="x-pjax-csp-version" content="38c639a245e1dd04786881fae1060fbd72d3ed419b2f0d38d6082dc9d67876c3" data-turbo-track="reload">
  <meta http-equiv="x-pjax-css-version" content="0d2d19d1a71f6c7d97bd08f2757864aeef3b110d70b930f9923fe5659cfb9f52" data-turbo-track="reload">
  <meta http-equiv="x-pjax-js-version" content="632506ba005c739d0aefb4ae491617adce5e65e4a2c537d35704f79655c39875" data-turbo-track="reload">

  <meta name="turbo-cache-control" content="no-preview" data-turbo-transient="">

      <meta name="turbo-cache-control" content="no-cache" data-turbo-transient>
    <meta data-hydrostats="publish">
  <meta name="go-import" content="github.com/SrinandanMoram/edxcourse git https://github.com/SrinandanMoram/edxcourse.git">

  <meta name="octolytics-dimension-user_id" content="143417526" /><meta name="octolytics-dimension-user_login" content="SrinandanMoram" /><meta name="octolytics-dimension-repository_id" content="779673552" /><meta name="octolytics-dimension-repository_nwo" content="SrinandanMoram/edxcourse" /><meta name="octolytics-dimension-repository_public" content="true" /><meta name="octolytics-dimension-repository_is_fork" content="false" /><meta name="octolytics-dimension-repository_network_root_id" content="779673552" /><meta name="octolytics-dimension-repository_network_root_nwo" content="SrinandanMoram/edxcourse" />



    

    <meta name="turbo-body-classes" content="logged-out env-production page-responsive">


  <meta name="browser-stats-url" content="https://api.github.com/_private/browser/stats">

  <meta name="browser-errors-url" content="https://api.github.com/_private/browser/errors">

  <link rel="mask-icon" href="https://github.githubassets.com/assets/pinned-octocat-093da3e6fa40.svg" color="#000000">
  <link rel="alternate icon" class="js-site-favicon" type="image/png" href="https://github.githubassets.com/favicons/favicon.png">
  <link rel="icon" class="js-site-favicon" type="image/svg+xml" href="https://github.githubassets.com/favicons/favicon.svg">

<meta name="theme-color" content="#1e2327">
<meta name="color-scheme" content="light dark" />

  <meta name="msapplication-TileImage" content="/windows-tile.png">
  <meta name="msapplication-TileColor" content="#ffffff">

  <link rel="manifest" href="/manifest.json" crossOrigin="use-credentials">

  </head>

  <body class="logged-out env-production page-responsive" style="word-wrap: break-word;">
    <div data-turbo-body class="logged-out env-production page-responsive" style="word-wrap: break-word;">
      


    <div class="position-relative js-header-wrapper ">
      <a href="#start-of-content" data-skip-target-assigned="false" class="px-2 py-4 color-bg-accent-emphasis color-fg-on-emphasis show-on-focus js-skip-to-content">Skip to content</a>
      
      <span data-view-component="true" class="progress-pjax-loader Progress position-fixed width-full">
    <span style="width: 0%;" data-view-component="true" class="Progress-item progress-pjax-loader-bar left-0 top-0 color-bg-accent-emphasis"></span>
</span>      
      
      






<script crossorigin="anonymous" defer="defer" type="application/javascript" src="https://github.githubassets.com/assets/vendors-node_modules_primer_react_lib-esm_Button_IconButton_js-node_modules_primer_react_lib--b964b4-60018fb56234.js"></script>

<script crossorigin="anonymous" defer="defer" type="application/javascript" src="https://github.githubassets.com/assets/keyboard-shortcuts-dialog-9a5d036ad405.js"></script>

<react-partial
  partial-name="keyboard-shortcuts-dialog"
  data-ssr="false"
>
  
  <script type="application/json" data-target="react-partial.embeddedData">{"props":{"docsUrl":"https://docs.github.com/get-started/accessibility/keyboard-shortcuts"}}</script>
  <div data-target="react-partial.reactRoot"></div>
</react-partial>




      

        

            
<script crossorigin="anonymous" defer="defer" type="application/javascript" src="https://github.githubassets.com/assets/vendors-node_modules_github_remote-form_dist_index_js-node_modules_delegated-events_dist_inde-94fd67-674f4853d4fe.js"></script>
<script crossorigin="anonymous" defer="defer" type="application/javascript" src="https://github.githubassets.com/assets/sessions-f9a6b5829a62.js"></script>
<header class="Header-old header-logged-out js-details-container Details position-relative f4 py-3" role="banner" data-color-mode=light data-light-theme=light data-dark-theme=dark>
  <h2 class="sr-only">Navigation Menu</h2>

  <button type="button" class="Header-backdrop d-lg-none border-0 position-fixed top-0 left-0 width-full height-full js-details-target" aria-label="Toggle navigation">
    <span class="d-none">Toggle navigation</span>
  </button>

  <div class=" d-flex flex-column flex-lg-row flex-items-center p-responsive height-full position-relative z-1">
    <div class="d-flex flex-justify-between flex-items-center width-full width-lg-auto">
      <a class="mr-lg-3 color-fg-inherit flex-order-2" href="https://github.com/" aria-label="Homepage" data-ga-click="(Logged out) Header, go to homepage, icon:logo-wordmark">
        <svg height="32" aria-hidden="true" viewBox="0 0 16 16" version="1.1" width="32" data-view-component="true" class="octicon octicon-mark-github">
    <path d="M8 0c4.42 0 8 3.58 8 8a8.013 8.013 0 0 1-5.45 7.59c-.4.08-.55-.17-.55-.38 0-.27.01-1.13.01-2.2 0-.75-.25-1.23-.54-1.48 1.78-.2 3.65-.88 3.65-3.95 0-.88-.31-1.59-.82-2.15.08-.2.36-1.02-.08-2.12 0 0-.67-.22-2.2.82-.64-.18-1.32-.27-2-.27-.68 0-1.36.09-2 .27-1.53-1.03-2.2-.82-2.2-.82-.44 1.1-.16 1.92-.08 2.12-.51.56-.82 1.28-.82 2.15 0 3.06 1.86 3.75 3.64 3.95-.23.2-.44.55-.51 1.07-.46.21-1.61.55-2.33-.66-.15-.24-.6-.83-1.23-.82-.67.01-.27.38.01.53.34.19.73.9.82 1.13.16.45.68 1.31 2.69.94 0 .67.01 1.3.01 1.49 0 .21-.15.45-.55.38A7.995 7.995 0 0 1 0 8c0-4.42 3.58-8 8-8Z"></path>
</svg>
      </a>

      <div class="flex-1">
        <a href="/login?return_to=https%3A%2F%2Fgithub.com%2FSrinandanMoram%2Fedxcourse%2Fblob%2Fmain%2F10-IBM-DS%2520capstone-lab7-ML%2520prediction.ipynb"
          class="d-inline-block d-lg-none flex-order-1 f5 no-underline border color-border-default rounded-2 px-2 py-1 color-fg-inherit"
          data-hydro-click="{&quot;event_type&quot;:&quot;authentication.click&quot;,&quot;payload&quot;:{&quot;location_in_page&quot;:&quot;site header menu&quot;,&quot;repository_id&quot;:null,&quot;auth_type&quot;:&quot;SIGN_UP&quot;,&quot;originating_url&quot;:&quot;https://github.com/SrinandanMoram/edxcourse/blob/main/10-IBM-DS%20capstone-lab7-ML%20prediction.ipynb&quot;,&quot;user_id&quot;:null}}" data-hydro-click-hmac="5e9c7c5e9fe8505ca677c67e96fbba28fe4052aab9de6afc57946b0954c88378"
          data-ga-click="(Logged out) Header, clicked Sign in, text:sign-in">
          Sign in
        </a>
      </div>

      <div class="flex-1 flex-order-2 text-right">
        <button aria-label="Toggle navigation" aria-expanded="false" type="button" data-view-component="true" class="js-details-target Button--link Button--medium Button d-lg-none color-fg-inherit p-1">  <span class="Button-content">
    <span class="Button-label"><div class="HeaderMenu-toggle-bar rounded my-1"></div>
            <div class="HeaderMenu-toggle-bar rounded my-1"></div>
            <div class="HeaderMenu-toggle-bar rounded my-1"></div></span>
  </span>
</button>
      </div>
    </div>


    <div class="HeaderMenu--logged-out p-responsive height-fit position-lg-relative d-lg-flex flex-column flex-auto pt-7 pb-4 top-0">
      <div class="header-menu-wrapper d-flex flex-column flex-self-end flex-lg-row flex-justify-between flex-auto p-3 p-lg-0 rounded rounded-lg-0 mt-3 mt-lg-0">
          <nav class="mt-0 px-3 px-lg-0 mb-3 mb-lg-0" aria-label="Global">
            <ul class="d-lg-flex list-style-none">
                <li class="HeaderMenu-item position-relative flex-wrap flex-justify-between flex-items-center d-block d-lg-flex flex-lg-nowrap flex-lg-items-center js-details-container js-header-menu-item">
      <button type="button" class="HeaderMenu-link border-0 width-full width-lg-auto px-0 px-lg-2 py-3 py-lg-2 no-wrap d-flex flex-items-center flex-justify-between js-details-target" aria-expanded="false">
        Product
        <svg opacity="0.5" aria-hidden="true" height="16" viewBox="0 0 16 16" version="1.1" width="16" data-view-component="true" class="octicon octicon-chevron-down HeaderMenu-icon ml-1">
    <path d="M12.78 5.22a.749.749 0 0 1 0 1.06l-4.25 4.25a.749.749 0 0 1-1.06 0L3.22 6.28a.749.749 0 1 1 1.06-1.06L8 8.939l3.72-3.719a.749.749 0 0 1 1.06 0Z"></path>
</svg>
      </button>
      <div class="HeaderMenu-dropdown dropdown-menu rounded m-0 p-0 py-2 py-lg-4 position-relative position-lg-absolute left-0 left-lg-n3 d-lg-flex dropdown-menu-wide">
          <div class="px-lg-4 border-lg-right mb-4 mb-lg-0 pr-lg-7">
            <ul class="list-style-none f5" >
                <li>
  <a class="HeaderMenu-dropdown-link lh-condensed d-block no-underline position-relative py-2 Link--secondary d-flex flex-items-center pb-lg-3" data-analytics-event="{&quot;category&quot;:&quot;Header dropdown (logged out), Product&quot;,&quot;action&quot;:&quot;click to go to Actions&quot;,&quot;label&quot;:&quot;ref_cta:Actions;&quot;}" href="https://github.com/features/actions">
      <svg aria-hidden="true" height="24" viewBox="0 0 24 24" version="1.1" width="24" data-view-component="true" class="octicon octicon-workflow color-fg-subtle mr-3">
    <path d="M1 3a2 2 0 0 1 2-2h6.5a2 2 0 0 1 2 2v6.5a2 2 0 0 1-2 2H7v4.063C7 16.355 7.644 17 8.438 17H12.5v-2.5a2 2 0 0 1 2-2H21a2 2 0 0 1 2 2V21a2 2 0 0 1-2 2h-6.5a2 2 0 0 1-2-2v-2.5H8.437A2.939 2.939 0 0 1 5.5 15.562V11.5H3a2 2 0 0 1-2-2Zm2-.5a.5.5 0 0 0-.5.5v6.5a.5.5 0 0 0 .5.5h6.5a.5.5 0 0 0 .5-.5V3a.5.5 0 0 0-.5-.5ZM14.5 14a.5.5 0 0 0-.5.5V21a.5.5 0 0 0 .5.5H21a.5.5 0 0 0 .5-.5v-6.5a.5.5 0 0 0-.5-.5Z"></path>
</svg>
      <div>
        <div class="color-fg-default h4">Actions</div>
        Automate any workflow
      </div>

    
</a></li>

                <li>
  <a class="HeaderMenu-dropdown-link lh-condensed d-block no-underline position-relative py-2 Link--secondary d-flex flex-items-center pb-lg-3" data-analytics-event="{&quot;category&quot;:&quot;Header dropdown (logged out), Product&quot;,&quot;action&quot;:&quot;click to go to Packages&quot;,&quot;label&quot;:&quot;ref_cta:Packages;&quot;}" href="https://github.com/features/packages">
      <svg aria-hidden="true" height="24" viewBox="0 0 24 24" version="1.1" width="24" data-view-component="true" class="octicon octicon-package color-fg-subtle mr-3">
    <path d="M12.876.64V.639l8.25 4.763c.541.313.875.89.875 1.515v9.525a1.75 1.75 0 0 1-.875 1.516l-8.25 4.762a1.748 1.748 0 0 1-1.75 0l-8.25-4.763a1.75 1.75 0 0 1-.875-1.515V6.917c0-.625.334-1.202.875-1.515L11.126.64a1.748 1.748 0 0 1 1.75 0Zm-1 1.298L4.251 6.34l7.75 4.474 7.75-4.474-7.625-4.402a.248.248 0 0 0-.25 0Zm.875 19.123 7.625-4.402a.25.25 0 0 0 .125-.216V7.639l-7.75 4.474ZM3.501 7.64v8.803c0 .09.048.172.125.216l7.625 4.402v-8.947Z"></path>
</svg>
      <div>
        <div class="color-fg-default h4">Packages</div>
        Host and manage packages
      </div>

    
</a></li>

                <li>
  <a class="HeaderMenu-dropdown-link lh-condensed d-block no-underline position-relative py-2 Link--secondary d-flex flex-items-center pb-lg-3" data-analytics-event="{&quot;category&quot;:&quot;Header dropdown (logged out), Product&quot;,&quot;action&quot;:&quot;click to go to Security&quot;,&quot;label&quot;:&quot;ref_cta:Security;&quot;}" href="https://github.com/features/security">
      <svg aria-hidden="true" height="24" viewBox="0 0 24 24" version="1.1" width="24" data-view-component="true" class="octicon octicon-shield-check color-fg-subtle mr-3">
    <path d="M16.53 9.78a.75.75 0 0 0-1.06-1.06L11 13.19l-1.97-1.97a.75.75 0 0 0-1.06 1.06l2.5 2.5a.75.75 0 0 0 1.06 0l5-5Z"></path><path d="m12.54.637 8.25 2.675A1.75 1.75 0 0 1 22 4.976V10c0 6.19-3.771 10.704-9.401 12.83a1.704 1.704 0 0 1-1.198 0C5.77 20.705 2 16.19 2 10V4.976c0-.758.489-1.43 1.21-1.664L11.46.637a1.748 1.748 0 0 1 1.08 0Zm-.617 1.426-8.25 2.676a.249.249 0 0 0-.173.237V10c0 5.46 3.28 9.483 8.43 11.426a.199.199 0 0 0 .14 0C17.22 19.483 20.5 15.461 20.5 10V4.976a.25.25 0 0 0-.173-.237l-8.25-2.676a.253.253 0 0 0-.154 0Z"></path>
</svg>
      <div>
        <div class="color-fg-default h4">Security</div>
        Find and fix vulnerabilities
      </div>

    
</a></li>

                <li>
  <a class="HeaderMenu-dropdown-link lh-condensed d-block no-underline position-relative py-2 Link--secondary d-flex flex-items-center pb-lg-3" data-analytics-event="{&quot;category&quot;:&quot;Header dropdown (logged out), Product&quot;,&quot;action&quot;:&quot;click to go to Codespaces&quot;,&quot;label&quot;:&quot;ref_cta:Codespaces;&quot;}" href="https://github.com/features/codespaces">
      <svg aria-hidden="true" height="24" viewBox="0 0 24 24" version="1.1" width="24" data-view-component="true" class="octicon octicon-codespaces color-fg-subtle mr-3">
    <path d="M3.5 3.75C3.5 2.784 4.284 2 5.25 2h13.5c.966 0 1.75.784 1.75 1.75v7.5A1.75 1.75 0 0 1 18.75 13H5.25a1.75 1.75 0 0 1-1.75-1.75Zm-2 12c0-.966.784-1.75 1.75-1.75h17.5c.966 0 1.75.784 1.75 1.75v4a1.75 1.75 0 0 1-1.75 1.75H3.25a1.75 1.75 0 0 1-1.75-1.75ZM5.25 3.5a.25.25 0 0 0-.25.25v7.5c0 .138.112.25.25.25h13.5a.25.25 0 0 0 .25-.25v-7.5a.25.25 0 0 0-.25-.25Zm-2 12a.25.25 0 0 0-.25.25v4c0 .138.112.25.25.25h17.5a.25.25 0 0 0 .25-.25v-4a.25.25 0 0 0-.25-.25Z"></path><path d="M10 17.75a.75.75 0 0 1 .75-.75h6.5a.75.75 0 0 1 0 1.5h-6.5a.75.75 0 0 1-.75-.75Zm-4 0a.75.75 0 0 1 .75-.75h.5a.75.75 0 0 1 0 1.5h-.5a.75.75 0 0 1-.75-.75Z"></path>
</svg>
      <div>
        <div class="color-fg-default h4">Codespaces</div>
        Instant dev environments
      </div>

    
</a></li>

                <li>
  <a class="HeaderMenu-dropdown-link lh-condensed d-block no-underline position-relative py-2 Link--secondary d-flex flex-items-center pb-lg-3" data-analytics-event="{&quot;category&quot;:&quot;Header dropdown (logged out), Product&quot;,&quot;action&quot;:&quot;click to go to Copilot&quot;,&quot;label&quot;:&quot;ref_cta:Copilot;&quot;}" href="https://github.com/features/copilot">
      <svg aria-hidden="true" height="24" viewBox="0 0 24 24" version="1.1" width="24" data-view-component="true" class="octicon octicon-copilot color-fg-subtle mr-3">
    <path d="M23.922 16.992c-.861 1.495-5.859 5.023-11.922 5.023-6.063 0-11.061-3.528-11.922-5.023A.641.641 0 0 1 0 16.736v-2.869a.841.841 0 0 1 .053-.22c.372-.935 1.347-2.292 2.605-2.656.167-.429.414-1.055.644-1.517a10.195 10.195 0 0 1-.052-1.086c0-1.331.282-2.499 1.132-3.368.397-.406.89-.717 1.474-.952 1.399-1.136 3.392-2.093 6.122-2.093 2.731 0 4.767.957 6.166 2.093.584.235 1.077.546 1.474.952.85.869 1.132 2.037 1.132 3.368 0 .368-.014.733-.052 1.086.23.462.477 1.088.644 1.517 1.258.364 2.233 1.721 2.605 2.656a.832.832 0 0 1 .053.22v2.869a.641.641 0 0 1-.078.256ZM12.172 11h-.344a4.323 4.323 0 0 1-.355.508C10.703 12.455 9.555 13 7.965 13c-1.725 0-2.989-.359-3.782-1.259a2.005 2.005 0 0 1-.085-.104L4 11.741v6.585c1.435.779 4.514 2.179 8 2.179 3.486 0 6.565-1.4 8-2.179v-6.585l-.098-.104s-.033.045-.085.104c-.793.9-2.057 1.259-3.782 1.259-1.59 0-2.738-.545-3.508-1.492a4.323 4.323 0 0 1-.355-.508h-.016.016Zm.641-2.935c.136 1.057.403 1.913.878 2.497.442.544 1.134.938 2.344.938 1.573 0 2.292-.337 2.657-.751.384-.435.558-1.15.558-2.361 0-1.14-.243-1.847-.705-2.319-.477-.488-1.319-.862-2.824-1.025-1.487-.161-2.192.138-2.533.529-.269.307-.437.808-.438 1.578v.021c0 .265.021.562.063.893Zm-1.626 0c.042-.331.063-.628.063-.894v-.02c-.001-.77-.169-1.271-.438-1.578-.341-.391-1.046-.69-2.533-.529-1.505.163-2.347.537-2.824 1.025-.462.472-.705 1.179-.705 2.319 0 1.211.175 1.926.558 2.361.365.414 1.084.751 2.657.751 1.21 0 1.902-.394 2.344-.938.475-.584.742-1.44.878-2.497Z"></path><path d="M14.5 14.25a1 1 0 0 1 1 1v2a1 1 0 0 1-2 0v-2a1 1 0 0 1 1-1Zm-5 0a1 1 0 0 1 1 1v2a1 1 0 0 1-2 0v-2a1 1 0 0 1 1-1Z"></path>
</svg>
      <div>
        <div class="color-fg-default h4">Copilot</div>
        Write better code with AI
      </div>

    
</a></li>

                <li>
  <a class="HeaderMenu-dropdown-link lh-condensed d-block no-underline position-relative py-2 Link--secondary d-flex flex-items-center pb-lg-3" data-analytics-event="{&quot;category&quot;:&quot;Header dropdown (logged out), Product&quot;,&quot;action&quot;:&quot;click to go to Code review&quot;,&quot;label&quot;:&quot;ref_cta:Code review;&quot;}" href="https://github.com/features/code-review">
      <svg aria-hidden="true" height="24" viewBox="0 0 24 24" version="1.1" width="24" data-view-component="true" class="octicon octicon-code-review color-fg-subtle mr-3">
    <path d="M10.3 6.74a.75.75 0 0 1-.04 1.06l-2.908 2.7 2.908 2.7a.75.75 0 1 1-1.02 1.1l-3.5-3.25a.75.75 0 0 1 0-1.1l3.5-3.25a.75.75 0 0 1 1.06.04Zm3.44 1.06a.75.75 0 1 1 1.02-1.1l3.5 3.25a.75.75 0 0 1 0 1.1l-3.5 3.25a.75.75 0 1 1-1.02-1.1l2.908-2.7-2.908-2.7Z"></path><path d="M1.5 4.25c0-.966.784-1.75 1.75-1.75h17.5c.966 0 1.75.784 1.75 1.75v12.5a1.75 1.75 0 0 1-1.75 1.75h-9.69l-3.573 3.573A1.458 1.458 0 0 1 5 21.043V18.5H3.25a1.75 1.75 0 0 1-1.75-1.75ZM3.25 4a.25.25 0 0 0-.25.25v12.5c0 .138.112.25.25.25h2.5a.75.75 0 0 1 .75.75v3.19l3.72-3.72a.749.749 0 0 1 .53-.22h10a.25.25 0 0 0 .25-.25V4.25a.25.25 0 0 0-.25-.25Z"></path>
</svg>
      <div>
        <div class="color-fg-default h4">Code review</div>
        Manage code changes
      </div>

    
</a></li>

                <li>
  <a class="HeaderMenu-dropdown-link lh-condensed d-block no-underline position-relative py-2 Link--secondary d-flex flex-items-center pb-lg-3" data-analytics-event="{&quot;category&quot;:&quot;Header dropdown (logged out), Product&quot;,&quot;action&quot;:&quot;click to go to Issues&quot;,&quot;label&quot;:&quot;ref_cta:Issues;&quot;}" href="https://github.com/features/issues">
      <svg aria-hidden="true" height="24" viewBox="0 0 24 24" version="1.1" width="24" data-view-component="true" class="octicon octicon-issue-opened color-fg-subtle mr-3">
    <path d="M12 1c6.075 0 11 4.925 11 11s-4.925 11-11 11S1 18.075 1 12 5.925 1 12 1ZM2.5 12a9.5 9.5 0 0 0 9.5 9.5 9.5 9.5 0 0 0 9.5-9.5A9.5 9.5 0 0 0 12 2.5 9.5 9.5 0 0 0 2.5 12Zm9.5 2a2 2 0 1 1-.001-3.999A2 2 0 0 1 12 14Z"></path>
</svg>
      <div>
        <div class="color-fg-default h4">Issues</div>
        Plan and track work
      </div>

    
</a></li>

                <li>
  <a class="HeaderMenu-dropdown-link lh-condensed d-block no-underline position-relative py-2 Link--secondary d-flex flex-items-center" data-analytics-event="{&quot;category&quot;:&quot;Header dropdown (logged out), Product&quot;,&quot;action&quot;:&quot;click to go to Discussions&quot;,&quot;label&quot;:&quot;ref_cta:Discussions;&quot;}" href="https://github.com/features/discussions">
      <svg aria-hidden="true" height="24" viewBox="0 0 24 24" version="1.1" width="24" data-view-component="true" class="octicon octicon-comment-discussion color-fg-subtle mr-3">
    <path d="M1.75 1h12.5c.966 0 1.75.784 1.75 1.75v9.5A1.75 1.75 0 0 1 14.25 14H8.061l-2.574 2.573A1.458 1.458 0 0 1 3 15.543V14H1.75A1.75 1.75 0 0 1 0 12.25v-9.5C0 1.784.784 1 1.75 1ZM1.5 2.75v9.5c0 .138.112.25.25.25h2a.75.75 0 0 1 .75.75v2.19l2.72-2.72a.749.749 0 0 1 .53-.22h6.5a.25.25 0 0 0 .25-.25v-9.5a.25.25 0 0 0-.25-.25H1.75a.25.25 0 0 0-.25.25Z"></path><path d="M22.5 8.75a.25.25 0 0 0-.25-.25h-3.5a.75.75 0 0 1 0-1.5h3.5c.966 0 1.75.784 1.75 1.75v9.5A1.75 1.75 0 0 1 22.25 20H21v1.543a1.457 1.457 0 0 1-2.487 1.03L15.939 20H10.75A1.75 1.75 0 0 1 9 18.25v-1.465a.75.75 0 0 1 1.5 0v1.465c0 .138.112.25.25.25h5.5a.75.75 0 0 1 .53.22l2.72 2.72v-2.19a.75.75 0 0 1 .75-.75h2a.25.25 0 0 0 .25-.25v-9.5Z"></path>
</svg>
      <div>
        <div class="color-fg-default h4">Discussions</div>
        Collaborate outside of code
      </div>

    
</a></li>

            </ul>
          </div>
          <div class="px-lg-4">
              <span class="d-block h4 color-fg-default my-1" id="product-explore-heading">Explore</span>
            <ul class="list-style-none f5" aria-labelledby="product-explore-heading">
                <li>
  <a class="HeaderMenu-dropdown-link lh-condensed d-block no-underline position-relative py-2 Link--secondary" data-analytics-event="{&quot;category&quot;:&quot;Header dropdown (logged out), Product&quot;,&quot;action&quot;:&quot;click to go to All features&quot;,&quot;label&quot;:&quot;ref_cta:All features;&quot;}" href="https://github.com/features">
      All features

    
</a></li>

                <li>
  <a class="HeaderMenu-dropdown-link lh-condensed d-block no-underline position-relative py-2 Link--secondary" target="_blank" data-analytics-event="{&quot;category&quot;:&quot;Header dropdown (logged out), Product&quot;,&quot;action&quot;:&quot;click to go to Documentation&quot;,&quot;label&quot;:&quot;ref_cta:Documentation;&quot;}" href="https://docs.github.com">
      Documentation

    <svg aria-hidden="true" height="16" viewBox="0 0 16 16" version="1.1" width="16" data-view-component="true" class="octicon octicon-link-external HeaderMenu-external-icon color-fg-subtle">
    <path d="M3.75 2h3.5a.75.75 0 0 1 0 1.5h-3.5a.25.25 0 0 0-.25.25v8.5c0 .138.112.25.25.25h8.5a.25.25 0 0 0 .25-.25v-3.5a.75.75 0 0 1 1.5 0v3.5A1.75 1.75 0 0 1 12.25 14h-8.5A1.75 1.75 0 0 1 2 12.25v-8.5C2 2.784 2.784 2 3.75 2Zm6.854-1h4.146a.25.25 0 0 1 .25.25v4.146a.25.25 0 0 1-.427.177L13.03 4.03 9.28 7.78a.751.751 0 0 1-1.042-.018.751.751 0 0 1-.018-1.042l3.75-3.75-1.543-1.543A.25.25 0 0 1 10.604 1Z"></path>
</svg>
</a></li>

                <li>
  <a class="HeaderMenu-dropdown-link lh-condensed d-block no-underline position-relative py-2 Link--secondary" target="_blank" data-analytics-event="{&quot;category&quot;:&quot;Header dropdown (logged out), Product&quot;,&quot;action&quot;:&quot;click to go to GitHub Skills&quot;,&quot;label&quot;:&quot;ref_cta:GitHub Skills;&quot;}" href="https://skills.github.com">
      GitHub Skills

    <svg aria-hidden="true" height="16" viewBox="0 0 16 16" version="1.1" width="16" data-view-component="true" class="octicon octicon-link-external HeaderMenu-external-icon color-fg-subtle">
    <path d="M3.75 2h3.5a.75.75 0 0 1 0 1.5h-3.5a.25.25 0 0 0-.25.25v8.5c0 .138.112.25.25.25h8.5a.25.25 0 0 0 .25-.25v-3.5a.75.75 0 0 1 1.5 0v3.5A1.75 1.75 0 0 1 12.25 14h-8.5A1.75 1.75 0 0 1 2 12.25v-8.5C2 2.784 2.784 2 3.75 2Zm6.854-1h4.146a.25.25 0 0 1 .25.25v4.146a.25.25 0 0 1-.427.177L13.03 4.03 9.28 7.78a.751.751 0 0 1-1.042-.018.751.751 0 0 1-.018-1.042l3.75-3.75-1.543-1.543A.25.25 0 0 1 10.604 1Z"></path>
</svg>
</a></li>

                <li>
  <a class="HeaderMenu-dropdown-link lh-condensed d-block no-underline position-relative py-2 Link--secondary" target="_blank" data-analytics-event="{&quot;category&quot;:&quot;Header dropdown (logged out), Product&quot;,&quot;action&quot;:&quot;click to go to Blog&quot;,&quot;label&quot;:&quot;ref_cta:Blog;&quot;}" href="https://github.blog">
      Blog

    <svg aria-hidden="true" height="16" viewBox="0 0 16 16" version="1.1" width="16" data-view-component="true" class="octicon octicon-link-external HeaderMenu-external-icon color-fg-subtle">
    <path d="M3.75 2h3.5a.75.75 0 0 1 0 1.5h-3.5a.25.25 0 0 0-.25.25v8.5c0 .138.112.25.25.25h8.5a.25.25 0 0 0 .25-.25v-3.5a.75.75 0 0 1 1.5 0v3.5A1.75 1.75 0 0 1 12.25 14h-8.5A1.75 1.75 0 0 1 2 12.25v-8.5C2 2.784 2.784 2 3.75 2Zm6.854-1h4.146a.25.25 0 0 1 .25.25v4.146a.25.25 0 0 1-.427.177L13.03 4.03 9.28 7.78a.751.751 0 0 1-1.042-.018.751.751 0 0 1-.018-1.042l3.75-3.75-1.543-1.543A.25.25 0 0 1 10.604 1Z"></path>
</svg>
</a></li>

            </ul>
          </div>
      </div>
</li>


                <li class="HeaderMenu-item position-relative flex-wrap flex-justify-between flex-items-center d-block d-lg-flex flex-lg-nowrap flex-lg-items-center js-details-container js-header-menu-item">
      <button type="button" class="HeaderMenu-link border-0 width-full width-lg-auto px-0 px-lg-2 py-3 py-lg-2 no-wrap d-flex flex-items-center flex-justify-between js-details-target" aria-expanded="false">
        Solutions
        <svg opacity="0.5" aria-hidden="true" height="16" viewBox="0 0 16 16" version="1.1" width="16" data-view-component="true" class="octicon octicon-chevron-down HeaderMenu-icon ml-1">
    <path d="M12.78 5.22a.749.749 0 0 1 0 1.06l-4.25 4.25a.749.749 0 0 1-1.06 0L3.22 6.28a.749.749 0 1 1 1.06-1.06L8 8.939l3.72-3.719a.749.749 0 0 1 1.06 0Z"></path>
</svg>
      </button>
      <div class="HeaderMenu-dropdown dropdown-menu rounded m-0 p-0 py-2 py-lg-4 position-relative position-lg-absolute left-0 left-lg-n3 px-lg-4">
          <div class="border-bottom pb-3 mb-3">
              <span class="d-block h4 color-fg-default my-1" id="solutions-for-heading">For</span>
            <ul class="list-style-none f5" aria-labelledby="solutions-for-heading">
                <li>
  <a class="HeaderMenu-dropdown-link lh-condensed d-block no-underline position-relative py-2 Link--secondary" data-analytics-event="{&quot;category&quot;:&quot;Header dropdown (logged out), Solutions&quot;,&quot;action&quot;:&quot;click to go to Enterprise&quot;,&quot;label&quot;:&quot;ref_cta:Enterprise;&quot;}" href="https://github.com/enterprise">
      Enterprise

    
</a></li>

                <li>
  <a class="HeaderMenu-dropdown-link lh-condensed d-block no-underline position-relative py-2 Link--secondary" data-analytics-event="{&quot;category&quot;:&quot;Header dropdown (logged out), Solutions&quot;,&quot;action&quot;:&quot;click to go to Teams&quot;,&quot;label&quot;:&quot;ref_cta:Teams;&quot;}" href="https://github.com/team">
      Teams

    
</a></li>

                <li>
  <a class="HeaderMenu-dropdown-link lh-condensed d-block no-underline position-relative py-2 Link--secondary" data-analytics-event="{&quot;category&quot;:&quot;Header dropdown (logged out), Solutions&quot;,&quot;action&quot;:&quot;click to go to Startups&quot;,&quot;label&quot;:&quot;ref_cta:Startups;&quot;}" href="https://github.com/enterprise/startups">
      Startups

    
</a></li>

                <li>
  <a class="HeaderMenu-dropdown-link lh-condensed d-block no-underline position-relative py-2 Link--secondary" target="_blank" data-analytics-event="{&quot;category&quot;:&quot;Header dropdown (logged out), Solutions&quot;,&quot;action&quot;:&quot;click to go to Education&quot;,&quot;label&quot;:&quot;ref_cta:Education;&quot;}" href="https://education.github.com">
      Education

    <svg aria-hidden="true" height="16" viewBox="0 0 16 16" version="1.1" width="16" data-view-component="true" class="octicon octicon-link-external HeaderMenu-external-icon color-fg-subtle">
    <path d="M3.75 2h3.5a.75.75 0 0 1 0 1.5h-3.5a.25.25 0 0 0-.25.25v8.5c0 .138.112.25.25.25h8.5a.25.25 0 0 0 .25-.25v-3.5a.75.75 0 0 1 1.5 0v3.5A1.75 1.75 0 0 1 12.25 14h-8.5A1.75 1.75 0 0 1 2 12.25v-8.5C2 2.784 2.784 2 3.75 2Zm6.854-1h4.146a.25.25 0 0 1 .25.25v4.146a.25.25 0 0 1-.427.177L13.03 4.03 9.28 7.78a.751.751 0 0 1-1.042-.018.751.751 0 0 1-.018-1.042l3.75-3.75-1.543-1.543A.25.25 0 0 1 10.604 1Z"></path>
</svg>
</a></li>

            </ul>
          </div>
          <div class="border-bottom pb-3 mb-3">
              <span class="d-block h4 color-fg-default my-1" id="solutions-by-solution-heading">By Solution</span>
            <ul class="list-style-none f5" aria-labelledby="solutions-by-solution-heading">
                <li>
  <a class="HeaderMenu-dropdown-link lh-condensed d-block no-underline position-relative py-2 Link--secondary" data-analytics-event="{&quot;category&quot;:&quot;Header dropdown (logged out), Solutions&quot;,&quot;action&quot;:&quot;click to go to CI/CD &amp;amp; Automation&quot;,&quot;label&quot;:&quot;ref_cta:CI/CD &amp;amp; Automation;&quot;}" href="https://github.com/solutions/ci-cd">
      CI/CD &amp; Automation

    
</a></li>

                <li>
  <a class="HeaderMenu-dropdown-link lh-condensed d-block no-underline position-relative py-2 Link--secondary" data-analytics-event="{&quot;category&quot;:&quot;Header dropdown (logged out), Solutions&quot;,&quot;action&quot;:&quot;click to go to DevOps&quot;,&quot;label&quot;:&quot;ref_cta:DevOps;&quot;}" href="https://github.com/solutions/devops">
      DevOps

    
</a></li>

                <li>
  <a class="HeaderMenu-dropdown-link lh-condensed d-block no-underline position-relative py-2 Link--secondary" target="_blank" data-analytics-event="{&quot;category&quot;:&quot;Header dropdown (logged out), Solutions&quot;,&quot;action&quot;:&quot;click to go to DevSecOps&quot;,&quot;label&quot;:&quot;ref_cta:DevSecOps;&quot;}" href="https://resources.github.com/devops/fundamentals/devsecops">
      DevSecOps

    <svg aria-hidden="true" height="16" viewBox="0 0 16 16" version="1.1" width="16" data-view-component="true" class="octicon octicon-link-external HeaderMenu-external-icon color-fg-subtle">
    <path d="M3.75 2h3.5a.75.75 0 0 1 0 1.5h-3.5a.25.25 0 0 0-.25.25v8.5c0 .138.112.25.25.25h8.5a.25.25 0 0 0 .25-.25v-3.5a.75.75 0 0 1 1.5 0v3.5A1.75 1.75 0 0 1 12.25 14h-8.5A1.75 1.75 0 0 1 2 12.25v-8.5C2 2.784 2.784 2 3.75 2Zm6.854-1h4.146a.25.25 0 0 1 .25.25v4.146a.25.25 0 0 1-.427.177L13.03 4.03 9.28 7.78a.751.751 0 0 1-1.042-.018.751.751 0 0 1-.018-1.042l3.75-3.75-1.543-1.543A.25.25 0 0 1 10.604 1Z"></path>
</svg>
</a></li>

            </ul>
          </div>
          <div class="">
              <span class="d-block h4 color-fg-default my-1" id="solutions-resources-heading">Resources</span>
            <ul class="list-style-none f5" aria-labelledby="solutions-resources-heading">
                <li>
  <a class="HeaderMenu-dropdown-link lh-condensed d-block no-underline position-relative py-2 Link--secondary" target="_blank" data-analytics-event="{&quot;category&quot;:&quot;Header dropdown (logged out), Solutions&quot;,&quot;action&quot;:&quot;click to go to Learning Pathways&quot;,&quot;label&quot;:&quot;ref_cta:Learning Pathways;&quot;}" href="https://resources.github.com/learn/pathways">
      Learning Pathways

    <svg aria-hidden="true" height="16" viewBox="0 0 16 16" version="1.1" width="16" data-view-component="true" class="octicon octicon-link-external HeaderMenu-external-icon color-fg-subtle">
    <path d="M3.75 2h3.5a.75.75 0 0 1 0 1.5h-3.5a.25.25 0 0 0-.25.25v8.5c0 .138.112.25.25.25h8.5a.25.25 0 0 0 .25-.25v-3.5a.75.75 0 0 1 1.5 0v3.5A1.75 1.75 0 0 1 12.25 14h-8.5A1.75 1.75 0 0 1 2 12.25v-8.5C2 2.784 2.784 2 3.75 2Zm6.854-1h4.146a.25.25 0 0 1 .25.25v4.146a.25.25 0 0 1-.427.177L13.03 4.03 9.28 7.78a.751.751 0 0 1-1.042-.018.751.751 0 0 1-.018-1.042l3.75-3.75-1.543-1.543A.25.25 0 0 1 10.604 1Z"></path>
</svg>
</a></li>

                <li>
  <a class="HeaderMenu-dropdown-link lh-condensed d-block no-underline position-relative py-2 Link--secondary" target="_blank" data-analytics-event="{&quot;category&quot;:&quot;Header dropdown (logged out), Solutions&quot;,&quot;action&quot;:&quot;click to go to White papers, Ebooks, Webinars&quot;,&quot;label&quot;:&quot;ref_cta:White papers, Ebooks, Webinars;&quot;}" href="https://resources.github.com">
      White papers, Ebooks, Webinars

    <svg aria-hidden="true" height="16" viewBox="0 0 16 16" version="1.1" width="16" data-view-component="true" class="octicon octicon-link-external HeaderMenu-external-icon color-fg-subtle">
    <path d="M3.75 2h3.5a.75.75 0 0 1 0 1.5h-3.5a.25.25 0 0 0-.25.25v8.5c0 .138.112.25.25.25h8.5a.25.25 0 0 0 .25-.25v-3.5a.75.75 0 0 1 1.5 0v3.5A1.75 1.75 0 0 1 12.25 14h-8.5A1.75 1.75 0 0 1 2 12.25v-8.5C2 2.784 2.784 2 3.75 2Zm6.854-1h4.146a.25.25 0 0 1 .25.25v4.146a.25.25 0 0 1-.427.177L13.03 4.03 9.28 7.78a.751.751 0 0 1-1.042-.018.751.751 0 0 1-.018-1.042l3.75-3.75-1.543-1.543A.25.25 0 0 1 10.604 1Z"></path>
</svg>
</a></li>

                <li>
  <a class="HeaderMenu-dropdown-link lh-condensed d-block no-underline position-relative py-2 Link--secondary" data-analytics-event="{&quot;category&quot;:&quot;Header dropdown (logged out), Solutions&quot;,&quot;action&quot;:&quot;click to go to Customer Stories&quot;,&quot;label&quot;:&quot;ref_cta:Customer Stories;&quot;}" href="https://github.com/customer-stories">
      Customer Stories

    
</a></li>

                <li>
  <a class="HeaderMenu-dropdown-link lh-condensed d-block no-underline position-relative py-2 Link--secondary" target="_blank" data-analytics-event="{&quot;category&quot;:&quot;Header dropdown (logged out), Solutions&quot;,&quot;action&quot;:&quot;click to go to Partners&quot;,&quot;label&quot;:&quot;ref_cta:Partners;&quot;}" href="https://partner.github.com">
      Partners

    <svg aria-hidden="true" height="16" viewBox="0 0 16 16" version="1.1" width="16" data-view-component="true" class="octicon octicon-link-external HeaderMenu-external-icon color-fg-subtle">
    <path d="M3.75 2h3.5a.75.75 0 0 1 0 1.5h-3.5a.25.25 0 0 0-.25.25v8.5c0 .138.112.25.25.25h8.5a.25.25 0 0 0 .25-.25v-3.5a.75.75 0 0 1 1.5 0v3.5A1.75 1.75 0 0 1 12.25 14h-8.5A1.75 1.75 0 0 1 2 12.25v-8.5C2 2.784 2.784 2 3.75 2Zm6.854-1h4.146a.25.25 0 0 1 .25.25v4.146a.25.25 0 0 1-.427.177L13.03 4.03 9.28 7.78a.751.751 0 0 1-1.042-.018.751.751 0 0 1-.018-1.042l3.75-3.75-1.543-1.543A.25.25 0 0 1 10.604 1Z"></path>
</svg>
</a></li>

            </ul>
          </div>
      </div>
</li>


                <li class="HeaderMenu-item position-relative flex-wrap flex-justify-between flex-items-center d-block d-lg-flex flex-lg-nowrap flex-lg-items-center js-details-container js-header-menu-item">
      <button type="button" class="HeaderMenu-link border-0 width-full width-lg-auto px-0 px-lg-2 py-3 py-lg-2 no-wrap d-flex flex-items-center flex-justify-between js-details-target" aria-expanded="false">
        Open Source
        <svg opacity="0.5" aria-hidden="true" height="16" viewBox="0 0 16 16" version="1.1" width="16" data-view-component="true" class="octicon octicon-chevron-down HeaderMenu-icon ml-1">
    <path d="M12.78 5.22a.749.749 0 0 1 0 1.06l-4.25 4.25a.749.749 0 0 1-1.06 0L3.22 6.28a.749.749 0 1 1 1.06-1.06L8 8.939l3.72-3.719a.749.749 0 0 1 1.06 0Z"></path>
</svg>
      </button>
      <div class="HeaderMenu-dropdown dropdown-menu rounded m-0 p-0 py-2 py-lg-4 position-relative position-lg-absolute left-0 left-lg-n3 px-lg-4">
          <div class="border-bottom pb-3 mb-3">
            <ul class="list-style-none f5" >
                <li>
  <a class="HeaderMenu-dropdown-link lh-condensed d-block no-underline position-relative py-2 Link--secondary d-flex flex-items-center" data-analytics-event="{&quot;category&quot;:&quot;Header dropdown (logged out), Open Source&quot;,&quot;action&quot;:&quot;click to go to GitHub Sponsors&quot;,&quot;label&quot;:&quot;ref_cta:GitHub Sponsors;&quot;}" href="https://github.com/sponsors">
      
      <div>
        <div class="color-fg-default h4">GitHub Sponsors</div>
        Fund open source developers
      </div>

    
</a></li>

            </ul>
          </div>
          <div class="border-bottom pb-3 mb-3">
            <ul class="list-style-none f5" >
                <li>
  <a class="HeaderMenu-dropdown-link lh-condensed d-block no-underline position-relative py-2 Link--secondary d-flex flex-items-center" data-analytics-event="{&quot;category&quot;:&quot;Header dropdown (logged out), Open Source&quot;,&quot;action&quot;:&quot;click to go to The ReadME Project&quot;,&quot;label&quot;:&quot;ref_cta:The ReadME Project;&quot;}" href="https://github.com/readme">
      
      <div>
        <div class="color-fg-default h4">The ReadME Project</div>
        GitHub community articles
      </div>

    
</a></li>

            </ul>
          </div>
          <div class="">
              <span class="d-block h4 color-fg-default my-1" id="open-source-repositories-heading">Repositories</span>
            <ul class="list-style-none f5" aria-labelledby="open-source-repositories-heading">
                <li>
  <a class="HeaderMenu-dropdown-link lh-condensed d-block no-underline position-relative py-2 Link--secondary" data-analytics-event="{&quot;category&quot;:&quot;Header dropdown (logged out), Open Source&quot;,&quot;action&quot;:&quot;click to go to Topics&quot;,&quot;label&quot;:&quot;ref_cta:Topics;&quot;}" href="https://github.com/topics">
      Topics

    
</a></li>

                <li>
  <a class="HeaderMenu-dropdown-link lh-condensed d-block no-underline position-relative py-2 Link--secondary" data-analytics-event="{&quot;category&quot;:&quot;Header dropdown (logged out), Open Source&quot;,&quot;action&quot;:&quot;click to go to Trending&quot;,&quot;label&quot;:&quot;ref_cta:Trending;&quot;}" href="https://github.com/trending">
      Trending

    
</a></li>

                <li>
  <a class="HeaderMenu-dropdown-link lh-condensed d-block no-underline position-relative py-2 Link--secondary" data-analytics-event="{&quot;category&quot;:&quot;Header dropdown (logged out), Open Source&quot;,&quot;action&quot;:&quot;click to go to Collections&quot;,&quot;label&quot;:&quot;ref_cta:Collections;&quot;}" href="https://github.com/collections">
      Collections

    
</a></li>

            </ul>
          </div>
      </div>
</li>


                <li class="HeaderMenu-item position-relative flex-wrap flex-justify-between flex-items-center d-block d-lg-flex flex-lg-nowrap flex-lg-items-center js-details-container js-header-menu-item">
    <a class="HeaderMenu-link no-underline px-0 px-lg-2 py-3 py-lg-2 d-block d-lg-inline-block" data-analytics-event="{&quot;category&quot;:&quot;Header menu top item (logged out)&quot;,&quot;action&quot;:&quot;click to go to Pricing&quot;,&quot;label&quot;:&quot;ref_cta:Pricing;&quot;}" href="https://github.com/pricing">Pricing</a>
</li>

            </ul>
          </nav>

        <div class="d-lg-flex flex-items-center mb-3 mb-lg-0 text-center text-lg-left ml-3" style="">
                


<qbsearch-input class="search-input" data-scope="repo:SrinandanMoram/edxcourse" data-custom-scopes-path="/search/custom_scopes" data-delete-custom-scopes-csrf="Yj2S0JO4Jf48kQaVYTKdWtM1eyP7ZXRq2u6tOG36LuNajRBc9uy07nSy4qYxUN5tQfzV6Z_jpohDmp9A3u9R9g" data-max-custom-scopes="10" data-header-redesign-enabled="false" data-initial-value="" data-blackbird-suggestions-path="/search/suggestions" data-jump-to-suggestions-path="/_graphql/GetSuggestedNavigationDestinations" data-current-repository="SrinandanMoram/edxcourse" data-current-org="" data-current-owner="SrinandanMoram" data-logged-in="false" data-copilot-chat-enabled="false" data-blackbird-indexed-repo-csrf="<esi:include src=&quot;/_esi/rails_csrf_token_form_hidden?r=PjCWpGVQd9N%2B6u5KatQEE7a5rP30KUTIzj8x4ncLzCbR%2FSPeZlMSnRJ5iF7ZqFBW1WT0waXtyTDm4N1KmX4D0RA4%2BQCVpj5QfmkCCgy5KJURHPtrtaUk4iFgux8TX%2BU6FfDkpOxAB6ryQEFaLRRCE4MmPrTutWvoeAOtNOVOXqFi%2Fdw0b40btfnbkAMgCIJz9v2GFt9HZ641wX5pCkgThGV86sVDdL4dCRmICZ5fGZgnHSQh9fRFKgchkv7CH4QUqFT52muxtRy9srH1NNx7e2abTWp%2BS8lFOSLLIfZ3dfGqOcvBbiRPZJy3wuTSYhY17eJNtvEOFUzhA7sNHLcgB%2FuRlR%2B%2FQpxwNCoaJhXCBX9AYBXmmIRm72mKpd209JSTj0jmRilDNemdwO0obKO5HfuisKvHZLPT8CsD55%2Fcvm5Kv6hLUQ8pfkX7KT91qgXgc5%2Bq0miyk8ZGuP4MIXZcHHnTMjRA64GH4Q6u%2B%2BrBQvH8kdiKjyZ%2Bwll4vJnHA5OeQ%2BmSt%2BlBa2PFv6GbkO3%2FW7%2BTShEJWr2Rv8gz6c0mzGNrTgQxGCU4WdSb1lmXJJuiGyWdj94qp2ekNS0Wnrde1rPbWjs5V3dqUU1RKn%2FVD7rfMXyXb%2FNxbB2m7jQrfUUItnfZIlBY--G4brx4%2FscZHNmOSI--hG%2FswsVgycWgDQZaYaWy4A%3D%3D&quot; />">
  <div
    class="search-input-container search-with-dialog position-relative d-flex flex-row flex-items-center mr-4 rounded"
    data-action="click:qbsearch-input#searchInputContainerClicked"
  >
      <button
        type="button"
        class="header-search-button placeholder  input-button form-control d-flex flex-1 flex-self-stretch flex-items-center no-wrap width-full py-0 pl-2 pr-0 text-left border-0 box-shadow-none"
        data-target="qbsearch-input.inputButton"
        placeholder="Search or jump to..."
        data-hotkey=s,/
        autocapitalize="off"
        data-action="click:qbsearch-input#handleExpand"
      >
        <div class="mr-2 color-fg-muted">
          <svg aria-hidden="true" height="16" viewBox="0 0 16 16" version="1.1" width="16" data-view-component="true" class="octicon octicon-search">
    <path d="M10.68 11.74a6 6 0 0 1-7.922-8.982 6 6 0 0 1 8.982 7.922l3.04 3.04a.749.749 0 0 1-.326 1.275.749.749 0 0 1-.734-.215ZM11.5 7a4.499 4.499 0 1 0-8.997 0A4.499 4.499 0 0 0 11.5 7Z"></path>
</svg>
        </div>
        <span class="flex-1" data-target="qbsearch-input.inputButtonText">Search or jump to...</span>
          <div class="d-flex" data-target="qbsearch-input.hotkeyIndicator">
            <svg xmlns="http://www.w3.org/2000/svg" width="22" height="20" aria-hidden="true" class="mr-1"><path fill="none" stroke="#979A9C" opacity=".4" d="M3.5.5h12c1.7 0 3 1.3 3 3v13c0 1.7-1.3 3-3 3h-12c-1.7 0-3-1.3-3-3v-13c0-1.7 1.3-3 3-3z"></path><path fill="#979A9C" d="M11.8 6L8 15.1h-.9L10.8 6h1z"></path></svg>

          </div>
      </button>

    <input type="hidden" name="type" class="js-site-search-type-field">

    
<div class="Overlay--hidden " data-modal-dialog-overlay>
  <modal-dialog data-action="close:qbsearch-input#handleClose cancel:qbsearch-input#handleClose" data-target="qbsearch-input.searchSuggestionsDialog" role="dialog" id="search-suggestions-dialog" aria-modal="true" aria-labelledby="search-suggestions-dialog-header" data-view-component="true" class="Overlay Overlay--width-large Overlay--height-auto">
      <h1 id="search-suggestions-dialog-header" class="sr-only">Search code, repositories, users, issues, pull requests...</h1>
    <div class="Overlay-body Overlay-body--paddingNone">
      
          <div data-view-component="true">        <div class="search-suggestions position-fixed width-full color-shadow-large border color-fg-default color-bg-default overflow-hidden d-flex flex-column query-builder-container"
          style="border-radius: 12px;"
          data-target="qbsearch-input.queryBuilderContainer"
          hidden
        >
          <!-- '"` --><!-- </textarea></xmp> --></option></form><form id="query-builder-test-form" action="" accept-charset="UTF-8" method="get">
  <query-builder data-target="qbsearch-input.queryBuilder" id="query-builder-query-builder-test" data-filter-key=":" data-view-component="true" class="QueryBuilder search-query-builder">
    <div class="FormControl FormControl--fullWidth">
      <label id="query-builder-test-label" for="query-builder-test" class="FormControl-label sr-only">
        Search
      </label>
      <div
        class="QueryBuilder-StyledInput width-fit "
        data-target="query-builder.styledInput"
      >
          <span id="query-builder-test-leadingvisual-wrap" class="FormControl-input-leadingVisualWrap QueryBuilder-leadingVisualWrap">
            <svg aria-hidden="true" height="16" viewBox="0 0 16 16" version="1.1" width="16" data-view-component="true" class="octicon octicon-search FormControl-input-leadingVisual">
    <path d="M10.68 11.74a6 6 0 0 1-7.922-8.982 6 6 0 0 1 8.982 7.922l3.04 3.04a.749.749 0 0 1-.326 1.275.749.749 0 0 1-.734-.215ZM11.5 7a4.499 4.499 0 1 0-8.997 0A4.499 4.499 0 0 0 11.5 7Z"></path>
</svg>
          </span>
        <div data-target="query-builder.styledInputContainer" class="QueryBuilder-StyledInputContainer">
          <div
            aria-hidden="true"
            class="QueryBuilder-StyledInputContent"
            data-target="query-builder.styledInputContent"
          ></div>
          <div class="QueryBuilder-InputWrapper">
            <div aria-hidden="true" class="QueryBuilder-Sizer" data-target="query-builder.sizer"></div>
            <input id="query-builder-test" name="query-builder-test" value="" autocomplete="off" type="text" role="combobox" spellcheck="false" aria-expanded="false" aria-describedby="validation-4265d9b5-0ef2-4b56-9875-5a51db99673d" data-target="query-builder.input" data-action="
          input:query-builder#inputChange
          blur:query-builder#inputBlur
          keydown:query-builder#inputKeydown
          focus:query-builder#inputFocus
        " data-view-component="true" class="FormControl-input QueryBuilder-Input FormControl-medium" />
          </div>
        </div>
          <span class="sr-only" id="query-builder-test-clear">Clear</span>
          <button role="button" id="query-builder-test-clear-button" aria-labelledby="query-builder-test-clear query-builder-test-label" data-target="query-builder.clearButton" data-action="
                click:query-builder#clear
                focus:query-builder#clearButtonFocus
                blur:query-builder#clearButtonBlur
              " variant="small" hidden="hidden" type="button" data-view-component="true" class="Button Button--iconOnly Button--invisible Button--medium mr-1 px-2 py-0 d-flex flex-items-center rounded-1 color-fg-muted">  <svg aria-hidden="true" height="16" viewBox="0 0 16 16" version="1.1" width="16" data-view-component="true" class="octicon octicon-x-circle-fill Button-visual">
    <path d="M2.343 13.657A8 8 0 1 1 13.658 2.343 8 8 0 0 1 2.343 13.657ZM6.03 4.97a.751.751 0 0 0-1.042.018.751.751 0 0 0-.018 1.042L6.94 8 4.97 9.97a.749.749 0 0 0 .326 1.275.749.749 0 0 0 .734-.215L8 9.06l1.97 1.97a.749.749 0 0 0 1.275-.326.749.749 0 0 0-.215-.734L9.06 8l1.97-1.97a.749.749 0 0 0-.326-1.275.749.749 0 0 0-.734.215L8 6.94Z"></path>
</svg>
</button>

      </div>
      <template id="search-icon">
  <svg aria-hidden="true" height="16" viewBox="0 0 16 16" version="1.1" width="16" data-view-component="true" class="octicon octicon-search">
    <path d="M10.68 11.74a6 6 0 0 1-7.922-8.982 6 6 0 0 1 8.982 7.922l3.04 3.04a.749.749 0 0 1-.326 1.275.749.749 0 0 1-.734-.215ZM11.5 7a4.499 4.499 0 1 0-8.997 0A4.499 4.499 0 0 0 11.5 7Z"></path>
</svg>
</template>

<template id="code-icon">
  <svg aria-hidden="true" height="16" viewBox="0 0 16 16" version="1.1" width="16" data-view-component="true" class="octicon octicon-code">
    <path d="m11.28 3.22 4.25 4.25a.75.75 0 0 1 0 1.06l-4.25 4.25a.749.749 0 0 1-1.275-.326.749.749 0 0 1 .215-.734L13.94 8l-3.72-3.72a.749.749 0 0 1 .326-1.275.749.749 0 0 1 .734.215Zm-6.56 0a.751.751 0 0 1 1.042.018.751.751 0 0 1 .018 1.042L2.06 8l3.72 3.72a.749.749 0 0 1-.326 1.275.749.749 0 0 1-.734-.215L.47 8.53a.75.75 0 0 1 0-1.06Z"></path>
</svg>
</template>

<template id="file-code-icon">
  <svg aria-hidden="true" height="16" viewBox="0 0 16 16" version="1.1" width="16" data-view-component="true" class="octicon octicon-file-code">
    <path d="M4 1.75C4 .784 4.784 0 5.75 0h5.586c.464 0 .909.184 1.237.513l2.914 2.914c.329.328.513.773.513 1.237v8.586A1.75 1.75 0 0 1 14.25 15h-9a.75.75 0 0 1 0-1.5h9a.25.25 0 0 0 .25-.25V6h-2.75A1.75 1.75 0 0 1 10 4.25V1.5H5.75a.25.25 0 0 0-.25.25v2.5a.75.75 0 0 1-1.5 0Zm1.72 4.97a.75.75 0 0 1 1.06 0l2 2a.75.75 0 0 1 0 1.06l-2 2a.749.749 0 0 1-1.275-.326.749.749 0 0 1 .215-.734l1.47-1.47-1.47-1.47a.75.75 0 0 1 0-1.06ZM3.28 7.78 1.81 9.25l1.47 1.47a.751.751 0 0 1-.018 1.042.751.751 0 0 1-1.042.018l-2-2a.75.75 0 0 1 0-1.06l2-2a.751.751 0 0 1 1.042.018.751.751 0 0 1 .018 1.042Zm8.22-6.218V4.25c0 .138.112.25.25.25h2.688l-.011-.013-2.914-2.914-.013-.011Z"></path>
</svg>
</template>

<template id="history-icon">
  <svg aria-hidden="true" height="16" viewBox="0 0 16 16" version="1.1" width="16" data-view-component="true" class="octicon octicon-history">
    <path d="m.427 1.927 1.215 1.215a8.002 8.002 0 1 1-1.6 5.685.75.75 0 1 1 1.493-.154 6.5 6.5 0 1 0 1.18-4.458l1.358 1.358A.25.25 0 0 1 3.896 6H.25A.25.25 0 0 1 0 5.75V2.104a.25.25 0 0 1 .427-.177ZM7.75 4a.75.75 0 0 1 .75.75v2.992l2.028.812a.75.75 0 0 1-.557 1.392l-2.5-1A.751.751 0 0 1 7 8.25v-3.5A.75.75 0 0 1 7.75 4Z"></path>
</svg>
</template>

<template id="repo-icon">
  <svg aria-hidden="true" height="16" viewBox="0 0 16 16" version="1.1" width="16" data-view-component="true" class="octicon octicon-repo">
    <path d="M2 2.5A2.5 2.5 0 0 1 4.5 0h8.75a.75.75 0 0 1 .75.75v12.5a.75.75 0 0 1-.75.75h-2.5a.75.75 0 0 1 0-1.5h1.75v-2h-8a1 1 0 0 0-.714 1.7.75.75 0 1 1-1.072 1.05A2.495 2.495 0 0 1 2 11.5Zm10.5-1h-8a1 1 0 0 0-1 1v6.708A2.486 2.486 0 0 1 4.5 9h8ZM5 12.25a.25.25 0 0 1 .25-.25h3.5a.25.25 0 0 1 .25.25v3.25a.25.25 0 0 1-.4.2l-1.45-1.087a.249.249 0 0 0-.3 0L5.4 15.7a.25.25 0 0 1-.4-.2Z"></path>
</svg>
</template>

<template id="bookmark-icon">
  <svg aria-hidden="true" height="16" viewBox="0 0 16 16" version="1.1" width="16" data-view-component="true" class="octicon octicon-bookmark">
    <path d="M3 2.75C3 1.784 3.784 1 4.75 1h6.5c.966 0 1.75.784 1.75 1.75v11.5a.75.75 0 0 1-1.227.579L8 11.722l-3.773 3.107A.751.751 0 0 1 3 14.25Zm1.75-.25a.25.25 0 0 0-.25.25v9.91l3.023-2.489a.75.75 0 0 1 .954 0l3.023 2.49V2.75a.25.25 0 0 0-.25-.25Z"></path>
</svg>
</template>

<template id="plus-circle-icon">
  <svg aria-hidden="true" height="16" viewBox="0 0 16 16" version="1.1" width="16" data-view-component="true" class="octicon octicon-plus-circle">
    <path d="M8 0a8 8 0 1 1 0 16A8 8 0 0 1 8 0ZM1.5 8a6.5 6.5 0 1 0 13 0 6.5 6.5 0 0 0-13 0Zm7.25-3.25v2.5h2.5a.75.75 0 0 1 0 1.5h-2.5v2.5a.75.75 0 0 1-1.5 0v-2.5h-2.5a.75.75 0 0 1 0-1.5h2.5v-2.5a.75.75 0 0 1 1.5 0Z"></path>
</svg>
</template>

<template id="circle-icon">
  <svg aria-hidden="true" height="16" viewBox="0 0 16 16" version="1.1" width="16" data-view-component="true" class="octicon octicon-dot-fill">
    <path d="M8 4a4 4 0 1 1 0 8 4 4 0 0 1 0-8Z"></path>
</svg>
</template>

<template id="trash-icon">
  <svg aria-hidden="true" height="16" viewBox="0 0 16 16" version="1.1" width="16" data-view-component="true" class="octicon octicon-trash">
    <path d="M11 1.75V3h2.25a.75.75 0 0 1 0 1.5H2.75a.75.75 0 0 1 0-1.5H5V1.75C5 .784 5.784 0 6.75 0h2.5C10.216 0 11 .784 11 1.75ZM4.496 6.675l.66 6.6a.25.25 0 0 0 .249.225h5.19a.25.25 0 0 0 .249-.225l.66-6.6a.75.75 0 0 1 1.492.149l-.66 6.6A1.748 1.748 0 0 1 10.595 15h-5.19a1.75 1.75 0 0 1-1.741-1.575l-.66-6.6a.75.75 0 1 1 1.492-.15ZM6.5 1.75V3h3V1.75a.25.25 0 0 0-.25-.25h-2.5a.25.25 0 0 0-.25.25Z"></path>
</svg>
</template>

<template id="team-icon">
  <svg aria-hidden="true" height="16" viewBox="0 0 16 16" version="1.1" width="16" data-view-component="true" class="octicon octicon-people">
    <path d="M2 5.5a3.5 3.5 0 1 1 5.898 2.549 5.508 5.508 0 0 1 3.034 4.084.75.75 0 1 1-1.482.235 4 4 0 0 0-7.9 0 .75.75 0 0 1-1.482-.236A5.507 5.507 0 0 1 3.102 8.05 3.493 3.493 0 0 1 2 5.5ZM11 4a3.001 3.001 0 0 1 2.22 5.018 5.01 5.01 0 0 1 2.56 3.012.749.749 0 0 1-.885.954.752.752 0 0 1-.549-.514 3.507 3.507 0 0 0-2.522-2.372.75.75 0 0 1-.574-.73v-.352a.75.75 0 0 1 .416-.672A1.5 1.5 0 0 0 11 5.5.75.75 0 0 1 11 4Zm-5.5-.5a2 2 0 1 0-.001 3.999A2 2 0 0 0 5.5 3.5Z"></path>
</svg>
</template>

<template id="project-icon">
  <svg aria-hidden="true" height="16" viewBox="0 0 16 16" version="1.1" width="16" data-view-component="true" class="octicon octicon-project">
    <path d="M1.75 0h12.5C15.216 0 16 .784 16 1.75v12.5A1.75 1.75 0 0 1 14.25 16H1.75A1.75 1.75 0 0 1 0 14.25V1.75C0 .784.784 0 1.75 0ZM1.5 1.75v12.5c0 .138.112.25.25.25h12.5a.25.25 0 0 0 .25-.25V1.75a.25.25 0 0 0-.25-.25H1.75a.25.25 0 0 0-.25.25ZM11.75 3a.75.75 0 0 1 .75.75v7.5a.75.75 0 0 1-1.5 0v-7.5a.75.75 0 0 1 .75-.75Zm-8.25.75a.75.75 0 0 1 1.5 0v5.5a.75.75 0 0 1-1.5 0ZM8 3a.75.75 0 0 1 .75.75v3.5a.75.75 0 0 1-1.5 0v-3.5A.75.75 0 0 1 8 3Z"></path>
</svg>
</template>

<template id="pencil-icon">
  <svg aria-hidden="true" height="16" viewBox="0 0 16 16" version="1.1" width="16" data-view-component="true" class="octicon octicon-pencil">
    <path d="M11.013 1.427a1.75 1.75 0 0 1 2.474 0l1.086 1.086a1.75 1.75 0 0 1 0 2.474l-8.61 8.61c-.21.21-.47.364-.756.445l-3.251.93a.75.75 0 0 1-.927-.928l.929-3.25c.081-.286.235-.547.445-.758l8.61-8.61Zm.176 4.823L9.75 4.81l-6.286 6.287a.253.253 0 0 0-.064.108l-.558 1.953 1.953-.558a.253.253 0 0 0 .108-.064Zm1.238-3.763a.25.25 0 0 0-.354 0L10.811 3.75l1.439 1.44 1.263-1.263a.25.25 0 0 0 0-.354Z"></path>
</svg>
</template>

<template id="copilot-icon">
  <svg aria-hidden="true" height="16" viewBox="0 0 16 16" version="1.1" width="16" data-view-component="true" class="octicon octicon-copilot">
    <path d="M7.998 15.035c-4.562 0-7.873-2.914-7.998-3.749V9.338c.085-.628.677-1.686 1.588-2.065.013-.07.024-.143.036-.218.029-.183.06-.384.126-.612-.201-.508-.254-1.084-.254-1.656 0-.87.128-1.769.693-2.484.579-.733 1.494-1.124 2.724-1.261 1.206-.134 2.262.034 2.944.765.05.053.096.108.139.165.044-.057.094-.112.143-.165.682-.731 1.738-.899 2.944-.765 1.23.137 2.145.528 2.724 1.261.566.715.693 1.614.693 2.484 0 .572-.053 1.148-.254 1.656.066.228.098.429.126.612.012.076.024.148.037.218.924.385 1.522 1.471 1.591 2.095v1.872c0 .766-3.351 3.795-8.002 3.795Zm0-1.485c2.28 0 4.584-1.11 5.002-1.433V7.862l-.023-.116c-.49.21-1.075.291-1.727.291-1.146 0-2.059-.327-2.71-.991A3.222 3.222 0 0 1 8 6.303a3.24 3.24 0 0 1-.544.743c-.65.664-1.563.991-2.71.991-.652 0-1.236-.081-1.727-.291l-.023.116v4.255c.419.323 2.722 1.433 5.002 1.433ZM6.762 2.83c-.193-.206-.637-.413-1.682-.297-1.019.113-1.479.404-1.713.7-.247.312-.369.789-.369 1.554 0 .793.129 1.171.308 1.371.162.181.519.379 1.442.379.853 0 1.339-.235 1.638-.54.315-.322.527-.827.617-1.553.117-.935-.037-1.395-.241-1.614Zm4.155-.297c-1.044-.116-1.488.091-1.681.297-.204.219-.359.679-.242 1.614.091.726.303 1.231.618 1.553.299.305.784.54 1.638.54.922 0 1.28-.198 1.442-.379.179-.2.308-.578.308-1.371 0-.765-.123-1.242-.37-1.554-.233-.296-.693-.587-1.713-.7Z"></path><path d="M6.25 9.037a.75.75 0 0 1 .75.75v1.501a.75.75 0 0 1-1.5 0V9.787a.75.75 0 0 1 .75-.75Zm4.25.75v1.501a.75.75 0 0 1-1.5 0V9.787a.75.75 0 0 1 1.5 0Z"></path>
</svg>
</template>

<template id="workflow-icon">
  <svg aria-hidden="true" height="16" viewBox="0 0 16 16" version="1.1" width="16" data-view-component="true" class="octicon octicon-workflow">
    <path d="M0 1.75C0 .784.784 0 1.75 0h3.5C6.216 0 7 .784 7 1.75v3.5A1.75 1.75 0 0 1 5.25 7H4v4a1 1 0 0 0 1 1h4v-1.25C9 9.784 9.784 9 10.75 9h3.5c.966 0 1.75.784 1.75 1.75v3.5A1.75 1.75 0 0 1 14.25 16h-3.5A1.75 1.75 0 0 1 9 14.25v-.75H5A2.5 2.5 0 0 1 2.5 11V7h-.75A1.75 1.75 0 0 1 0 5.25Zm1.75-.25a.25.25 0 0 0-.25.25v3.5c0 .138.112.25.25.25h3.5a.25.25 0 0 0 .25-.25v-3.5a.25.25 0 0 0-.25-.25Zm9 9a.25.25 0 0 0-.25.25v3.5c0 .138.112.25.25.25h3.5a.25.25 0 0 0 .25-.25v-3.5a.25.25 0 0 0-.25-.25Z"></path>
</svg>
</template>

<template id="book-icon">
  <svg aria-hidden="true" height="16" viewBox="0 0 16 16" version="1.1" width="16" data-view-component="true" class="octicon octicon-book">
    <path d="M0 1.75A.75.75 0 0 1 .75 1h4.253c1.227 0 2.317.59 3 1.501A3.743 3.743 0 0 1 11.006 1h4.245a.75.75 0 0 1 .75.75v10.5a.75.75 0 0 1-.75.75h-4.507a2.25 2.25 0 0 0-1.591.659l-.622.621a.75.75 0 0 1-1.06 0l-.622-.621A2.25 2.25 0 0 0 5.258 13H.75a.75.75 0 0 1-.75-.75Zm7.251 10.324.004-5.073-.002-2.253A2.25 2.25 0 0 0 5.003 2.5H1.5v9h3.757a3.75 3.75 0 0 1 1.994.574ZM8.755 4.75l-.004 7.322a3.752 3.752 0 0 1 1.992-.572H14.5v-9h-3.495a2.25 2.25 0 0 0-2.25 2.25Z"></path>
</svg>
</template>

<template id="code-review-icon">
  <svg aria-hidden="true" height="16" viewBox="0 0 16 16" version="1.1" width="16" data-view-component="true" class="octicon octicon-code-review">
    <path d="M1.75 1h12.5c.966 0 1.75.784 1.75 1.75v8.5A1.75 1.75 0 0 1 14.25 13H8.061l-2.574 2.573A1.458 1.458 0 0 1 3 14.543V13H1.75A1.75 1.75 0 0 1 0 11.25v-8.5C0 1.784.784 1 1.75 1ZM1.5 2.75v8.5c0 .138.112.25.25.25h2a.75.75 0 0 1 .75.75v2.19l2.72-2.72a.749.749 0 0 1 .53-.22h6.5a.25.25 0 0 0 .25-.25v-8.5a.25.25 0 0 0-.25-.25H1.75a.25.25 0 0 0-.25.25Zm5.28 1.72a.75.75 0 0 1 0 1.06L5.31 7l1.47 1.47a.751.751 0 0 1-.018 1.042.751.751 0 0 1-1.042.018l-2-2a.75.75 0 0 1 0-1.06l2-2a.75.75 0 0 1 1.06 0Zm2.44 0a.75.75 0 0 1 1.06 0l2 2a.75.75 0 0 1 0 1.06l-2 2a.751.751 0 0 1-1.042-.018.751.751 0 0 1-.018-1.042L10.69 7 9.22 5.53a.75.75 0 0 1 0-1.06Z"></path>
</svg>
</template>

<template id="codespaces-icon">
  <svg aria-hidden="true" height="16" viewBox="0 0 16 16" version="1.1" width="16" data-view-component="true" class="octicon octicon-codespaces">
    <path d="M0 11.25c0-.966.784-1.75 1.75-1.75h12.5c.966 0 1.75.784 1.75 1.75v3A1.75 1.75 0 0 1 14.25 16H1.75A1.75 1.75 0 0 1 0 14.25Zm2-9.5C2 .784 2.784 0 3.75 0h8.5C13.216 0 14 .784 14 1.75v5a1.75 1.75 0 0 1-1.75 1.75h-8.5A1.75 1.75 0 0 1 2 6.75Zm1.75-.25a.25.25 0 0 0-.25.25v5c0 .138.112.25.25.25h8.5a.25.25 0 0 0 .25-.25v-5a.25.25 0 0 0-.25-.25Zm-2 9.5a.25.25 0 0 0-.25.25v3c0 .138.112.25.25.25h12.5a.25.25 0 0 0 .25-.25v-3a.25.25 0 0 0-.25-.25Z"></path><path d="M7 12.75a.75.75 0 0 1 .75-.75h4.5a.75.75 0 0 1 0 1.5h-4.5a.75.75 0 0 1-.75-.75Zm-4 0a.75.75 0 0 1 .75-.75h.5a.75.75 0 0 1 0 1.5h-.5a.75.75 0 0 1-.75-.75Z"></path>
</svg>
</template>

<template id="comment-icon">
  <svg aria-hidden="true" height="16" viewBox="0 0 16 16" version="1.1" width="16" data-view-component="true" class="octicon octicon-comment">
    <path d="M1 2.75C1 1.784 1.784 1 2.75 1h10.5c.966 0 1.75.784 1.75 1.75v7.5A1.75 1.75 0 0 1 13.25 12H9.06l-2.573 2.573A1.458 1.458 0 0 1 4 13.543V12H2.75A1.75 1.75 0 0 1 1 10.25Zm1.75-.25a.25.25 0 0 0-.25.25v7.5c0 .138.112.25.25.25h2a.75.75 0 0 1 .75.75v2.19l2.72-2.72a.749.749 0 0 1 .53-.22h4.5a.25.25 0 0 0 .25-.25v-7.5a.25.25 0 0 0-.25-.25Z"></path>
</svg>
</template>

<template id="comment-discussion-icon">
  <svg aria-hidden="true" height="16" viewBox="0 0 16 16" version="1.1" width="16" data-view-component="true" class="octicon octicon-comment-discussion">
    <path d="M1.75 1h8.5c.966 0 1.75.784 1.75 1.75v5.5A1.75 1.75 0 0 1 10.25 10H7.061l-2.574 2.573A1.458 1.458 0 0 1 2 11.543V10h-.25A1.75 1.75 0 0 1 0 8.25v-5.5C0 1.784.784 1 1.75 1ZM1.5 2.75v5.5c0 .138.112.25.25.25h1a.75.75 0 0 1 .75.75v2.19l2.72-2.72a.749.749 0 0 1 .53-.22h3.5a.25.25 0 0 0 .25-.25v-5.5a.25.25 0 0 0-.25-.25h-8.5a.25.25 0 0 0-.25.25Zm13 2a.25.25 0 0 0-.25-.25h-.5a.75.75 0 0 1 0-1.5h.5c.966 0 1.75.784 1.75 1.75v5.5A1.75 1.75 0 0 1 14.25 12H14v1.543a1.458 1.458 0 0 1-2.487 1.03L9.22 12.28a.749.749 0 0 1 .326-1.275.749.749 0 0 1 .734.215l2.22 2.22v-2.19a.75.75 0 0 1 .75-.75h1a.25.25 0 0 0 .25-.25Z"></path>
</svg>
</template>

<template id="organization-icon">
  <svg aria-hidden="true" height="16" viewBox="0 0 16 16" version="1.1" width="16" data-view-component="true" class="octicon octicon-organization">
    <path d="M1.75 16A1.75 1.75 0 0 1 0 14.25V1.75C0 .784.784 0 1.75 0h8.5C11.216 0 12 .784 12 1.75v12.5c0 .085-.006.168-.018.25h2.268a.25.25 0 0 0 .25-.25V8.285a.25.25 0 0 0-.111-.208l-1.055-.703a.749.749 0 1 1 .832-1.248l1.055.703c.487.325.779.871.779 1.456v5.965A1.75 1.75 0 0 1 14.25 16h-3.5a.766.766 0 0 1-.197-.026c-.099.017-.2.026-.303.026h-3a.75.75 0 0 1-.75-.75V14h-1v1.25a.75.75 0 0 1-.75.75Zm-.25-1.75c0 .138.112.25.25.25H4v-1.25a.75.75 0 0 1 .75-.75h2.5a.75.75 0 0 1 .75.75v1.25h2.25a.25.25 0 0 0 .25-.25V1.75a.25.25 0 0 0-.25-.25h-8.5a.25.25 0 0 0-.25.25ZM3.75 6h.5a.75.75 0 0 1 0 1.5h-.5a.75.75 0 0 1 0-1.5ZM3 3.75A.75.75 0 0 1 3.75 3h.5a.75.75 0 0 1 0 1.5h-.5A.75.75 0 0 1 3 3.75Zm4 3A.75.75 0 0 1 7.75 6h.5a.75.75 0 0 1 0 1.5h-.5A.75.75 0 0 1 7 6.75ZM7.75 3h.5a.75.75 0 0 1 0 1.5h-.5a.75.75 0 0 1 0-1.5ZM3 9.75A.75.75 0 0 1 3.75 9h.5a.75.75 0 0 1 0 1.5h-.5A.75.75 0 0 1 3 9.75ZM7.75 9h.5a.75.75 0 0 1 0 1.5h-.5a.75.75 0 0 1 0-1.5Z"></path>
</svg>
</template>

<template id="rocket-icon">
  <svg aria-hidden="true" height="16" viewBox="0 0 16 16" version="1.1" width="16" data-view-component="true" class="octicon octicon-rocket">
    <path d="M14.064 0h.186C15.216 0 16 .784 16 1.75v.186a8.752 8.752 0 0 1-2.564 6.186l-.458.459c-.314.314-.641.616-.979.904v3.207c0 .608-.315 1.172-.833 1.49l-2.774 1.707a.749.749 0 0 1-1.11-.418l-.954-3.102a1.214 1.214 0 0 1-.145-.125L3.754 9.816a1.218 1.218 0 0 1-.124-.145L.528 8.717a.749.749 0 0 1-.418-1.11l1.71-2.774A1.748 1.748 0 0 1 3.31 4h3.204c.288-.338.59-.665.904-.979l.459-.458A8.749 8.749 0 0 1 14.064 0ZM8.938 3.623h-.002l-.458.458c-.76.76-1.437 1.598-2.02 2.5l-1.5 2.317 2.143 2.143 2.317-1.5c.902-.583 1.74-1.26 2.499-2.02l.459-.458a7.25 7.25 0 0 0 2.123-5.127V1.75a.25.25 0 0 0-.25-.25h-.186a7.249 7.249 0 0 0-5.125 2.123ZM3.56 14.56c-.732.732-2.334 1.045-3.005 1.148a.234.234 0 0 1-.201-.064.234.234 0 0 1-.064-.201c.103-.671.416-2.273 1.15-3.003a1.502 1.502 0 1 1 2.12 2.12Zm6.94-3.935c-.088.06-.177.118-.266.175l-2.35 1.521.548 1.783 1.949-1.2a.25.25 0 0 0 .119-.213ZM3.678 8.116 5.2 5.766c.058-.09.117-.178.176-.266H3.309a.25.25 0 0 0-.213.119l-1.2 1.95ZM12 5a1 1 0 1 1-2 0 1 1 0 0 1 2 0Z"></path>
</svg>
</template>

<template id="shield-check-icon">
  <svg aria-hidden="true" height="16" viewBox="0 0 16 16" version="1.1" width="16" data-view-component="true" class="octicon octicon-shield-check">
    <path d="m8.533.133 5.25 1.68A1.75 1.75 0 0 1 15 3.48V7c0 1.566-.32 3.182-1.303 4.682-.983 1.498-2.585 2.813-5.032 3.855a1.697 1.697 0 0 1-1.33 0c-2.447-1.042-4.049-2.357-5.032-3.855C1.32 10.182 1 8.566 1 7V3.48a1.75 1.75 0 0 1 1.217-1.667l5.25-1.68a1.748 1.748 0 0 1 1.066 0Zm-.61 1.429.001.001-5.25 1.68a.251.251 0 0 0-.174.237V7c0 1.36.275 2.666 1.057 3.859.784 1.194 2.121 2.342 4.366 3.298a.196.196 0 0 0 .154 0c2.245-.957 3.582-2.103 4.366-3.297C13.225 9.666 13.5 8.358 13.5 7V3.48a.25.25 0 0 0-.174-.238l-5.25-1.68a.25.25 0 0 0-.153 0ZM11.28 6.28l-3.5 3.5a.75.75 0 0 1-1.06 0l-1.5-1.5a.749.749 0 0 1 .326-1.275.749.749 0 0 1 .734.215l.97.97 2.97-2.97a.751.751 0 0 1 1.042.018.751.751 0 0 1 .018 1.042Z"></path>
</svg>
</template>

<template id="heart-icon">
  <svg aria-hidden="true" height="16" viewBox="0 0 16 16" version="1.1" width="16" data-view-component="true" class="octicon octicon-heart">
    <path d="m8 14.25.345.666a.75.75 0 0 1-.69 0l-.008-.004-.018-.01a7.152 7.152 0 0 1-.31-.17 22.055 22.055 0 0 1-3.434-2.414C2.045 10.731 0 8.35 0 5.5 0 2.836 2.086 1 4.25 1 5.797 1 7.153 1.802 8 3.02 8.847 1.802 10.203 1 11.75 1 13.914 1 16 2.836 16 5.5c0 2.85-2.045 5.231-3.885 6.818a22.066 22.066 0 0 1-3.744 2.584l-.018.01-.006.003h-.002ZM4.25 2.5c-1.336 0-2.75 1.164-2.75 3 0 2.15 1.58 4.144 3.365 5.682A20.58 20.58 0 0 0 8 13.393a20.58 20.58 0 0 0 3.135-2.211C12.92 9.644 14.5 7.65 14.5 5.5c0-1.836-1.414-3-2.75-3-1.373 0-2.609.986-3.029 2.456a.749.749 0 0 1-1.442 0C6.859 3.486 5.623 2.5 4.25 2.5Z"></path>
</svg>
</template>

<template id="server-icon">
  <svg aria-hidden="true" height="16" viewBox="0 0 16 16" version="1.1" width="16" data-view-component="true" class="octicon octicon-server">
    <path d="M1.75 1h12.5c.966 0 1.75.784 1.75 1.75v4c0 .372-.116.717-.314 1 .198.283.314.628.314 1v4a1.75 1.75 0 0 1-1.75 1.75H1.75A1.75 1.75 0 0 1 0 12.75v-4c0-.358.109-.707.314-1a1.739 1.739 0 0 1-.314-1v-4C0 1.784.784 1 1.75 1ZM1.5 2.75v4c0 .138.112.25.25.25h12.5a.25.25 0 0 0 .25-.25v-4a.25.25 0 0 0-.25-.25H1.75a.25.25 0 0 0-.25.25Zm.25 5.75a.25.25 0 0 0-.25.25v4c0 .138.112.25.25.25h12.5a.25.25 0 0 0 .25-.25v-4a.25.25 0 0 0-.25-.25ZM7 4.75A.75.75 0 0 1 7.75 4h4.5a.75.75 0 0 1 0 1.5h-4.5A.75.75 0 0 1 7 4.75ZM7.75 10h4.5a.75.75 0 0 1 0 1.5h-4.5a.75.75 0 0 1 0-1.5ZM3 4.75A.75.75 0 0 1 3.75 4h.5a.75.75 0 0 1 0 1.5h-.5A.75.75 0 0 1 3 4.75ZM3.75 10h.5a.75.75 0 0 1 0 1.5h-.5a.75.75 0 0 1 0-1.5Z"></path>
</svg>
</template>

<template id="globe-icon">
  <svg aria-hidden="true" height="16" viewBox="0 0 16 16" version="1.1" width="16" data-view-component="true" class="octicon octicon-globe">
    <path d="M8 0a8 8 0 1 1 0 16A8 8 0 0 1 8 0ZM5.78 8.75a9.64 9.64 0 0 0 1.363 4.177c.255.426.542.832.857 1.215.245-.296.551-.705.857-1.215A9.64 9.64 0 0 0 10.22 8.75Zm4.44-1.5a9.64 9.64 0 0 0-1.363-4.177c-.307-.51-.612-.919-.857-1.215a9.927 9.927 0 0 0-.857 1.215A9.64 9.64 0 0 0 5.78 7.25Zm-5.944 1.5H1.543a6.507 6.507 0 0 0 4.666 5.5c-.123-.181-.24-.365-.352-.552-.715-1.192-1.437-2.874-1.581-4.948Zm-2.733-1.5h2.733c.144-2.074.866-3.756 1.58-4.948.12-.197.237-.381.353-.552a6.507 6.507 0 0 0-4.666 5.5Zm10.181 1.5c-.144 2.074-.866 3.756-1.58 4.948-.12.197-.237.381-.353.552a6.507 6.507 0 0 0 4.666-5.5Zm2.733-1.5a6.507 6.507 0 0 0-4.666-5.5c.123.181.24.365.353.552.714 1.192 1.436 2.874 1.58 4.948Z"></path>
</svg>
</template>

<template id="issue-opened-icon">
  <svg aria-hidden="true" height="16" viewBox="0 0 16 16" version="1.1" width="16" data-view-component="true" class="octicon octicon-issue-opened">
    <path d="M8 9.5a1.5 1.5 0 1 0 0-3 1.5 1.5 0 0 0 0 3Z"></path><path d="M8 0a8 8 0 1 1 0 16A8 8 0 0 1 8 0ZM1.5 8a6.5 6.5 0 1 0 13 0 6.5 6.5 0 0 0-13 0Z"></path>
</svg>
</template>

<template id="device-mobile-icon">
  <svg aria-hidden="true" height="16" viewBox="0 0 16 16" version="1.1" width="16" data-view-component="true" class="octicon octicon-device-mobile">
    <path d="M3.75 0h8.5C13.216 0 14 .784 14 1.75v12.5A1.75 1.75 0 0 1 12.25 16h-8.5A1.75 1.75 0 0 1 2 14.25V1.75C2 .784 2.784 0 3.75 0ZM3.5 1.75v12.5c0 .138.112.25.25.25h8.5a.25.25 0 0 0 .25-.25V1.75a.25.25 0 0 0-.25-.25h-8.5a.25.25 0 0 0-.25.25ZM8 13a1 1 0 1 1 0-2 1 1 0 0 1 0 2Z"></path>
</svg>
</template>

<template id="package-icon">
  <svg aria-hidden="true" height="16" viewBox="0 0 16 16" version="1.1" width="16" data-view-component="true" class="octicon octicon-package">
    <path d="m8.878.392 5.25 3.045c.54.314.872.89.872 1.514v6.098a1.75 1.75 0 0 1-.872 1.514l-5.25 3.045a1.75 1.75 0 0 1-1.756 0l-5.25-3.045A1.75 1.75 0 0 1 1 11.049V4.951c0-.624.332-1.201.872-1.514L7.122.392a1.75 1.75 0 0 1 1.756 0ZM7.875 1.69l-4.63 2.685L8 7.133l4.755-2.758-4.63-2.685a.248.248 0 0 0-.25 0ZM2.5 5.677v5.372c0 .09.047.171.125.216l4.625 2.683V8.432Zm6.25 8.271 4.625-2.683a.25.25 0 0 0 .125-.216V5.677L8.75 8.432Z"></path>
</svg>
</template>

<template id="credit-card-icon">
  <svg aria-hidden="true" height="16" viewBox="0 0 16 16" version="1.1" width="16" data-view-component="true" class="octicon octicon-credit-card">
    <path d="M10.75 9a.75.75 0 0 0 0 1.5h1.5a.75.75 0 0 0 0-1.5h-1.5Z"></path><path d="M0 3.75C0 2.784.784 2 1.75 2h12.5c.966 0 1.75.784 1.75 1.75v8.5A1.75 1.75 0 0 1 14.25 14H1.75A1.75 1.75 0 0 1 0 12.25ZM14.5 6.5h-13v5.75c0 .138.112.25.25.25h12.5a.25.25 0 0 0 .25-.25Zm0-2.75a.25.25 0 0 0-.25-.25H1.75a.25.25 0 0 0-.25.25V5h13Z"></path>
</svg>
</template>

<template id="play-icon">
  <svg aria-hidden="true" height="16" viewBox="0 0 16 16" version="1.1" width="16" data-view-component="true" class="octicon octicon-play">
    <path d="M8 0a8 8 0 1 1 0 16A8 8 0 0 1 8 0ZM1.5 8a6.5 6.5 0 1 0 13 0 6.5 6.5 0 0 0-13 0Zm4.879-2.773 4.264 2.559a.25.25 0 0 1 0 .428l-4.264 2.559A.25.25 0 0 1 6 10.559V5.442a.25.25 0 0 1 .379-.215Z"></path>
</svg>
</template>

<template id="gift-icon">
  <svg aria-hidden="true" height="16" viewBox="0 0 16 16" version="1.1" width="16" data-view-component="true" class="octicon octicon-gift">
    <path d="M2 2.75A2.75 2.75 0 0 1 4.75 0c.983 0 1.873.42 2.57 1.232.268.318.497.668.68 1.042.183-.375.411-.725.68-1.044C9.376.42 10.266 0 11.25 0a2.75 2.75 0 0 1 2.45 4h.55c.966 0 1.75.784 1.75 1.75v2c0 .698-.409 1.301-1 1.582v4.918A1.75 1.75 0 0 1 13.25 16H2.75A1.75 1.75 0 0 1 1 14.25V9.332C.409 9.05 0 8.448 0 7.75v-2C0 4.784.784 4 1.75 4h.55c-.192-.375-.3-.8-.3-1.25ZM7.25 9.5H2.5v4.75c0 .138.112.25.25.25h4.5Zm1.5 0v5h4.5a.25.25 0 0 0 .25-.25V9.5Zm0-4V8h5.5a.25.25 0 0 0 .25-.25v-2a.25.25 0 0 0-.25-.25Zm-7 0a.25.25 0 0 0-.25.25v2c0 .138.112.25.25.25h5.5V5.5h-5.5Zm3-4a1.25 1.25 0 0 0 0 2.5h2.309c-.233-.818-.542-1.401-.878-1.793-.43-.502-.915-.707-1.431-.707ZM8.941 4h2.309a1.25 1.25 0 0 0 0-2.5c-.516 0-1 .205-1.43.707-.337.392-.646.975-.879 1.793Z"></path>
</svg>
</template>

<template id="code-square-icon">
  <svg aria-hidden="true" height="16" viewBox="0 0 16 16" version="1.1" width="16" data-view-component="true" class="octicon octicon-code-square">
    <path d="M0 1.75C0 .784.784 0 1.75 0h12.5C15.216 0 16 .784 16 1.75v12.5A1.75 1.75 0 0 1 14.25 16H1.75A1.75 1.75 0 0 1 0 14.25Zm1.75-.25a.25.25 0 0 0-.25.25v12.5c0 .138.112.25.25.25h12.5a.25.25 0 0 0 .25-.25V1.75a.25.25 0 0 0-.25-.25Zm7.47 3.97a.75.75 0 0 1 1.06 0l2 2a.75.75 0 0 1 0 1.06l-2 2a.749.749 0 0 1-1.275-.326.749.749 0 0 1 .215-.734L10.69 8 9.22 6.53a.75.75 0 0 1 0-1.06ZM6.78 6.53 5.31 8l1.47 1.47a.749.749 0 0 1-.326 1.275.749.749 0 0 1-.734-.215l-2-2a.75.75 0 0 1 0-1.06l2-2a.751.751 0 0 1 1.042.018.751.751 0 0 1 .018 1.042Z"></path>
</svg>
</template>

<template id="device-desktop-icon">
  <svg aria-hidden="true" height="16" viewBox="0 0 16 16" version="1.1" width="16" data-view-component="true" class="octicon octicon-device-desktop">
    <path d="M14.25 1c.966 0 1.75.784 1.75 1.75v7.5A1.75 1.75 0 0 1 14.25 12h-3.727c.099 1.041.52 1.872 1.292 2.757A.752.752 0 0 1 11.25 16h-6.5a.75.75 0 0 1-.565-1.243c.772-.885 1.192-1.716 1.292-2.757H1.75A1.75 1.75 0 0 1 0 10.25v-7.5C0 1.784.784 1 1.75 1ZM1.75 2.5a.25.25 0 0 0-.25.25v7.5c0 .138.112.25.25.25h12.5a.25.25 0 0 0 .25-.25v-7.5a.25.25 0 0 0-.25-.25ZM9.018 12H6.982a5.72 5.72 0 0 1-.765 2.5h3.566a5.72 5.72 0 0 1-.765-2.5Z"></path>
</svg>
</template>

        <div class="position-relative">
                <ul
                  role="listbox"
                  class="ActionListWrap QueryBuilder-ListWrap"
                  aria-label="Suggestions"
                  data-action="
                    combobox-commit:query-builder#comboboxCommit
                    mousedown:query-builder#resultsMousedown
                  "
                  data-target="query-builder.resultsList"
                  data-persist-list=false
                  id="query-builder-test-results"
                ></ul>
        </div>
      <div class="FormControl-inlineValidation" id="validation-4265d9b5-0ef2-4b56-9875-5a51db99673d" hidden="hidden">
        <span class="FormControl-inlineValidation--visual">
          <svg aria-hidden="true" height="12" viewBox="0 0 12 12" version="1.1" width="12" data-view-component="true" class="octicon octicon-alert-fill">
    <path d="M4.855.708c.5-.896 1.79-.896 2.29 0l4.675 8.351a1.312 1.312 0 0 1-1.146 1.954H1.33A1.313 1.313 0 0 1 .183 9.058ZM7 7V3H5v4Zm-1 3a1 1 0 1 0 0-2 1 1 0 0 0 0 2Z"></path>
</svg>
        </span>
        <span></span>
</div>    </div>
    <div data-target="query-builder.screenReaderFeedback" aria-live="polite" aria-atomic="true" class="sr-only"></div>
</query-builder></form>
          <div class="d-flex flex-row color-fg-muted px-3 text-small color-bg-default search-feedback-prompt">
            <a target="_blank" href="https://docs.github.com/search-github/github-code-search/understanding-github-code-search-syntax" data-view-component="true" class="Link color-fg-accent text-normal ml-2">
              Search syntax tips
</a>            <div class="d-flex flex-1"></div>
          </div>
        </div>
</div>

    </div>
</modal-dialog></div>
  </div>
  <div data-action="click:qbsearch-input#retract" class="dark-backdrop position-fixed" hidden data-target="qbsearch-input.darkBackdrop"></div>
  <div class="color-fg-default">
    
<dialog-helper>
  <dialog data-target="qbsearch-input.feedbackDialog" data-action="close:qbsearch-input#handleDialogClose cancel:qbsearch-input#handleDialogClose" id="feedback-dialog" aria-modal="true" aria-labelledby="feedback-dialog-title" aria-describedby="feedback-dialog-description" data-view-component="true" class="Overlay Overlay-whenNarrow Overlay--size-medium Overlay--motion-scaleFade">
    <div data-view-component="true" class="Overlay-header">
  <div class="Overlay-headerContentWrap">
    <div class="Overlay-titleWrap">
      <h1 class="Overlay-title " id="feedback-dialog-title">
        Provide feedback
      </h1>
    </div>
    <div class="Overlay-actionWrap">
      <button data-close-dialog-id="feedback-dialog" aria-label="Close" type="button" data-view-component="true" class="close-button Overlay-closeButton"><svg aria-hidden="true" height="16" viewBox="0 0 16 16" version="1.1" width="16" data-view-component="true" class="octicon octicon-x">
    <path d="M3.72 3.72a.75.75 0 0 1 1.06 0L8 6.94l3.22-3.22a.749.749 0 0 1 1.275.326.749.749 0 0 1-.215.734L9.06 8l3.22 3.22a.749.749 0 0 1-.326 1.275.749.749 0 0 1-.734-.215L8 9.06l-3.22 3.22a.751.751 0 0 1-1.042-.018.751.751 0 0 1-.018-1.042L6.94 8 3.72 4.78a.75.75 0 0 1 0-1.06Z"></path>
</svg></button>
    </div>
  </div>
</div>
      <scrollable-region data-labelled-by="feedback-dialog-title">
        <div data-view-component="true" class="Overlay-body">        <!-- '"` --><!-- </textarea></xmp> --></option></form><form id="code-search-feedback-form" data-turbo="false" action="/search/feedback" accept-charset="UTF-8" method="post"><input type="hidden" data-csrf="true" name="authenticity_token" value="6vdldycczTF8JX5knPn8zdteBLS4dH4omdJPxtuU3fix/+CyJtMpcm7wXzYgaeMKAstVL4Do3huV1c/2zN4Yew==" />
          <p>We read every piece of feedback, and take your input very seriously.</p>
          <textarea name="feedback" class="form-control width-full mb-2" style="height: 120px" id="feedback"></textarea>
          <input name="include_email" id="include_email" aria-label="Include my email address so I can be contacted" class="form-control mr-2" type="checkbox">
          <label for="include_email" style="font-weight: normal">Include my email address so I can be contacted</label>
</form></div>
      </scrollable-region>
      <div data-view-component="true" class="Overlay-footer Overlay-footer--alignEnd">          <button data-close-dialog-id="feedback-dialog" type="button" data-view-component="true" class="btn">    Cancel
</button>
          <button form="code-search-feedback-form" data-action="click:qbsearch-input#submitFeedback" type="submit" data-view-component="true" class="btn-primary btn">    Submit feedback
</button>
</div>
</dialog></dialog-helper>

    <custom-scopes data-target="qbsearch-input.customScopesManager">
    
<dialog-helper>
  <dialog data-target="custom-scopes.customScopesModalDialog" data-action="close:qbsearch-input#handleDialogClose cancel:qbsearch-input#handleDialogClose" id="custom-scopes-dialog" aria-modal="true" aria-labelledby="custom-scopes-dialog-title" aria-describedby="custom-scopes-dialog-description" data-view-component="true" class="Overlay Overlay-whenNarrow Overlay--size-medium Overlay--motion-scaleFade">
    <div data-view-component="true" class="Overlay-header Overlay-header--divided">
  <div class="Overlay-headerContentWrap">
    <div class="Overlay-titleWrap">
      <h1 class="Overlay-title " id="custom-scopes-dialog-title">
        Saved searches
      </h1>
        <h2 id="custom-scopes-dialog-description" class="Overlay-description">Use saved searches to filter your results more quickly</h2>
    </div>
    <div class="Overlay-actionWrap">
      <button data-close-dialog-id="custom-scopes-dialog" aria-label="Close" type="button" data-view-component="true" class="close-button Overlay-closeButton"><svg aria-hidden="true" height="16" viewBox="0 0 16 16" version="1.1" width="16" data-view-component="true" class="octicon octicon-x">
    <path d="M3.72 3.72a.75.75 0 0 1 1.06 0L8 6.94l3.22-3.22a.749.749 0 0 1 1.275.326.749.749 0 0 1-.215.734L9.06 8l3.22 3.22a.749.749 0 0 1-.326 1.275.749.749 0 0 1-.734-.215L8 9.06l-3.22 3.22a.751.751 0 0 1-1.042-.018.751.751 0 0 1-.018-1.042L6.94 8 3.72 4.78a.75.75 0 0 1 0-1.06Z"></path>
</svg></button>
    </div>
  </div>
</div>
      <scrollable-region data-labelled-by="custom-scopes-dialog-title">
        <div data-view-component="true" class="Overlay-body">        <div data-target="custom-scopes.customScopesModalDialogFlash"></div>

        <div hidden class="create-custom-scope-form" data-target="custom-scopes.createCustomScopeForm">
        <!-- '"` --><!-- </textarea></xmp> --></option></form><form id="custom-scopes-dialog-form" data-turbo="false" action="/search/custom_scopes" accept-charset="UTF-8" method="post"><input type="hidden" data-csrf="true" name="authenticity_token" value="q/ZB26p3cuzTocT1cm+gbQMy3isF4AmKB+OXf3NYdkHb/FCRTLuU9J56pvJVLxpfdWdH0woHf9nDsYKe5jXsNw==" />
          <div data-target="custom-scopes.customScopesModalDialogFlash"></div>

          <input type="hidden" id="custom_scope_id" name="custom_scope_id" data-target="custom-scopes.customScopesIdField">

          <div class="form-group">
            <label for="custom_scope_name">Name</label>
            <auto-check src="/search/custom_scopes/check_name" required>
              <input
                type="text"
                name="custom_scope_name"
                id="custom_scope_name"
                data-target="custom-scopes.customScopesNameField"
                class="form-control"
                autocomplete="off"
                placeholder="github-ruby"
                required
                maxlength="50">
              <input type="hidden" data-csrf="true" value="6uT5hELU+gdecHOUVhOzsr8YLFuSr2MLNmR+/gdM0a/LfzeGJ6qeh79ioLIuHf6BaGrlesodegnryN7shVyROA==" />
            </auto-check>
          </div>

          <div class="form-group">
            <label for="custom_scope_query">Query</label>
            <input
              type="text"
              name="custom_scope_query"
              id="custom_scope_query"
              data-target="custom-scopes.customScopesQueryField"
              class="form-control"
              autocomplete="off"
              placeholder="(repo:mona/a OR repo:mona/b) AND lang:python"
              required
              maxlength="500">
          </div>

          <p class="text-small color-fg-muted">
            To see all available qualifiers, see our <a class="Link--inTextBlock" href="https://docs.github.com/search-github/github-code-search/understanding-github-code-search-syntax">documentation</a>.
          </p>
</form>        </div>

        <div data-target="custom-scopes.manageCustomScopesForm">
          <div data-target="custom-scopes.list"></div>
        </div>

</div>
      </scrollable-region>
      <div data-view-component="true" class="Overlay-footer Overlay-footer--alignEnd Overlay-footer--divided">          <button data-action="click:custom-scopes#customScopesCancel" type="button" data-view-component="true" class="btn">    Cancel
</button>
          <button form="custom-scopes-dialog-form" data-action="click:custom-scopes#customScopesSubmit" data-target="custom-scopes.customScopesSubmitButton" type="submit" data-view-component="true" class="btn-primary btn">    Create saved search
</button>
</div>
</dialog></dialog-helper>
    </custom-scopes>
  </div>
</qbsearch-input><input type="hidden" data-csrf="true" class="js-data-jump-to-suggestions-path-csrf" value="dGzK2Xz6wG02Ebq6ETnvrtl4h55/II/qUGHZNfSmMfoz5HUJOamjgI0LpsMHq7EKJciuaq/frJCUIFgoirL2xg==" />


          <div class="position-relative mr-lg-3 d-lg-inline-block">
            <a href="/login?return_to=https%3A%2F%2Fgithub.com%2FSrinandanMoram%2Fedxcourse%2Fblob%2Fmain%2F10-IBM-DS%2520capstone-lab7-ML%2520prediction.ipynb"
              class="HeaderMenu-link HeaderMenu-link--sign-in flex-shrink-0 no-underline d-block d-lg-inline-block border border-lg-0 rounded rounded-lg-0 p-2 p-lg-0"
              data-hydro-click="{&quot;event_type&quot;:&quot;authentication.click&quot;,&quot;payload&quot;:{&quot;location_in_page&quot;:&quot;site header menu&quot;,&quot;repository_id&quot;:null,&quot;auth_type&quot;:&quot;SIGN_UP&quot;,&quot;originating_url&quot;:&quot;https://github.com/SrinandanMoram/edxcourse/blob/main/10-IBM-DS%20capstone-lab7-ML%20prediction.ipynb&quot;,&quot;user_id&quot;:null}}" data-hydro-click-hmac="5e9c7c5e9fe8505ca677c67e96fbba28fe4052aab9de6afc57946b0954c88378"
              data-ga-click="(Logged out) Header, clicked Sign in, text:sign-in">
              Sign in
            </a>
          </div>

            <a href="/signup?ref_cta=Sign+up&amp;ref_loc=header+logged+out&amp;ref_page=%2F%3Cuser-name%3E%2F%3Crepo-name%3E%2Fblob%2Fshow&amp;source=header-repo&amp;source_repo=SrinandanMoram%2Fedxcourse"
              class="HeaderMenu-link HeaderMenu-link--sign-up flex-shrink-0 d-none d-lg-inline-block no-underline border color-border-default rounded px-2 py-1"
              data-hydro-click="{&quot;event_type&quot;:&quot;authentication.click&quot;,&quot;payload&quot;:{&quot;location_in_page&quot;:&quot;site header menu&quot;,&quot;repository_id&quot;:null,&quot;auth_type&quot;:&quot;SIGN_UP&quot;,&quot;originating_url&quot;:&quot;https://github.com/SrinandanMoram/edxcourse/blob/main/10-IBM-DS%20capstone-lab7-ML%20prediction.ipynb&quot;,&quot;user_id&quot;:null}}" data-hydro-click-hmac="5e9c7c5e9fe8505ca677c67e96fbba28fe4052aab9de6afc57946b0954c88378"
              data-analytics-event="{&quot;category&quot;:&quot;Sign up&quot;,&quot;action&quot;:&quot;click to sign up for account&quot;,&quot;label&quot;:&quot;ref_page:/&lt;user-name&gt;/&lt;repo-name&gt;/blob/show;ref_cta:Sign up;ref_loc:header logged out&quot;}"
            >
              Sign up
            </a>
        </div>
      </div>
    </div>
  </div>
</header>

      <div hidden="hidden" data-view-component="true" class="js-stale-session-flash stale-session-flash flash flash-warn flash-full mb-3">
  
        <svg aria-hidden="true" height="16" viewBox="0 0 16 16" version="1.1" width="16" data-view-component="true" class="octicon octicon-alert">
    <path d="M6.457 1.047c.659-1.234 2.427-1.234 3.086 0l6.082 11.378A1.75 1.75 0 0 1 14.082 15H1.918a1.75 1.75 0 0 1-1.543-2.575Zm1.763.707a.25.25 0 0 0-.44 0L1.698 13.132a.25.25 0 0 0 .22.368h12.164a.25.25 0 0 0 .22-.368Zm.53 3.996v2.5a.75.75 0 0 1-1.5 0v-2.5a.75.75 0 0 1 1.5 0ZM9 11a1 1 0 1 1-2 0 1 1 0 0 1 2 0Z"></path>
</svg>
        <span class="js-stale-session-flash-signed-in" hidden>You signed in with another tab or window. <a class="Link--inTextBlock" href="">Reload</a> to refresh your session.</span>
        <span class="js-stale-session-flash-signed-out" hidden>You signed out in another tab or window. <a class="Link--inTextBlock" href="">Reload</a> to refresh your session.</span>
        <span class="js-stale-session-flash-switched" hidden>You switched accounts on another tab or window. <a class="Link--inTextBlock" href="">Reload</a> to refresh your session.</span>

    <button id="icon-button-ea7ae0a6-737f-4c84-afaa-e07ca9737251" aria-labelledby="tooltip-c28f5c5a-0a65-481a-97ed-2fef73f71e2a" type="button" data-view-component="true" class="Button Button--iconOnly Button--invisible Button--medium flash-close js-flash-close">  <svg aria-hidden="true" height="16" viewBox="0 0 16 16" version="1.1" width="16" data-view-component="true" class="octicon octicon-x Button-visual">
    <path d="M3.72 3.72a.75.75 0 0 1 1.06 0L8 6.94l3.22-3.22a.749.749 0 0 1 1.275.326.749.749 0 0 1-.215.734L9.06 8l3.22 3.22a.749.749 0 0 1-.326 1.275.749.749 0 0 1-.734-.215L8 9.06l-3.22 3.22a.751.751 0 0 1-1.042-.018.751.751 0 0 1-.018-1.042L6.94 8 3.72 4.78a.75.75 0 0 1 0-1.06Z"></path>
</svg>
</button><tool-tip id="tooltip-c28f5c5a-0a65-481a-97ed-2fef73f71e2a" for="icon-button-ea7ae0a6-737f-4c84-afaa-e07ca9737251" popover="manual" data-direction="s" data-type="label" data-view-component="true" class="sr-only position-absolute">Dismiss alert</tool-tip>


  
</div>
    </div>

  <div id="start-of-content" class="show-on-focus"></div>








    <div id="js-flash-container" class="flash-container" data-turbo-replace>





  <template class="js-flash-template">
    
<div class="flash flash-full   {{ className }}">
  <div >
    <button autofocus class="flash-close js-flash-close" type="button" aria-label="Dismiss this message">
      <svg aria-hidden="true" height="16" viewBox="0 0 16 16" version="1.1" width="16" data-view-component="true" class="octicon octicon-x">
    <path d="M3.72 3.72a.75.75 0 0 1 1.06 0L8 6.94l3.22-3.22a.749.749 0 0 1 1.275.326.749.749 0 0 1-.215.734L9.06 8l3.22 3.22a.749.749 0 0 1-.326 1.275.749.749 0 0 1-.734-.215L8 9.06l-3.22 3.22a.751.751 0 0 1-1.042-.018.751.751 0 0 1-.018-1.042L6.94 8 3.72 4.78a.75.75 0 0 1 0-1.06Z"></path>
</svg>
    </button>
    <div aria-atomic="true" role="alert" class="js-flash-alert">
      
      <div>{{ message }}</div>

    </div>
  </div>
</div>
  </template>
</div>


    
    <include-fragment class="js-notification-shelf-include-fragment" data-base-src="https://github.com/notifications/beta/shelf"></include-fragment>





  <div
    class="application-main "
    data-commit-hovercards-enabled
    data-discussion-hovercards-enabled
    data-issue-and-pr-hovercards-enabled
  >
        <div itemscope itemtype="http://schema.org/SoftwareSourceCode" class="">
    <main id="js-repo-pjax-container" >
      
      






  
  <div id="repository-container-header"  class="pt-3 hide-full-screen" style="background-color: var(--page-header-bgColor, var(--color-page-header-bg));" data-turbo-replace>

      <div class="d-flex flex-wrap flex-justify-end mb-3  px-3 px-md-4 px-lg-5" style="gap: 1rem;">

        <div class="flex-auto min-width-0 width-fit mr-3">
            
  <div class=" d-flex flex-wrap flex-items-center wb-break-word f3 text-normal">
      <svg aria-hidden="true" height="16" viewBox="0 0 16 16" version="1.1" width="16" data-view-component="true" class="octicon octicon-repo color-fg-muted mr-2">
    <path d="M2 2.5A2.5 2.5 0 0 1 4.5 0h8.75a.75.75 0 0 1 .75.75v12.5a.75.75 0 0 1-.75.75h-2.5a.75.75 0 0 1 0-1.5h1.75v-2h-8a1 1 0 0 0-.714 1.7.75.75 0 1 1-1.072 1.05A2.495 2.495 0 0 1 2 11.5Zm10.5-1h-8a1 1 0 0 0-1 1v6.708A2.486 2.486 0 0 1 4.5 9h8ZM5 12.25a.25.25 0 0 1 .25-.25h3.5a.25.25 0 0 1 .25.25v3.25a.25.25 0 0 1-.4.2l-1.45-1.087a.249.249 0 0 0-.3 0L5.4 15.7a.25.25 0 0 1-.4-.2Z"></path>
</svg>
    
    <span class="author flex-self-stretch" itemprop="author">
      <a class="url fn" rel="author" data-hovercard-type="user" data-hovercard-url="/users/SrinandanMoram/hovercard" data-octo-click="hovercard-link-click" data-octo-dimensions="link_type:self" href="/SrinandanMoram">
        SrinandanMoram
</a>    </span>
    <span class="mx-1 flex-self-stretch color-fg-muted">/</span>
    <strong itemprop="name" class="mr-2 flex-self-stretch">
      <a data-pjax="#repo-content-pjax-container" data-turbo-frame="repo-content-turbo-frame" href="/SrinandanMoram/edxcourse">edxcourse</a>
    </strong>

    <span></span><span class="Label Label--secondary v-align-middle mr-1">Public</span>
  </div>


        </div>

        <div id="repository-details-container" data-turbo-replace>
            <ul class="pagehead-actions flex-shrink-0 d-none d-md-inline" style="padding: 2px 0;">
    
      

  <li>
            <a href="/login?return_to=%2FSrinandanMoram%2Fedxcourse" rel="nofollow" data-hydro-click="{&quot;event_type&quot;:&quot;authentication.click&quot;,&quot;payload&quot;:{&quot;location_in_page&quot;:&quot;notification subscription menu watch&quot;,&quot;repository_id&quot;:null,&quot;auth_type&quot;:&quot;LOG_IN&quot;,&quot;originating_url&quot;:&quot;https://github.com/SrinandanMoram/edxcourse/blob/main/10-IBM-DS%20capstone-lab7-ML%20prediction.ipynb&quot;,&quot;user_id&quot;:null}}" data-hydro-click-hmac="a96f8f1405c8ae3dceb3ad26ddb98b550fe130fbc256b370c4d7b4a1a0fd1f09" aria-label="You must be signed in to change notification settings" data-view-component="true" class="tooltipped tooltipped-s btn-sm btn">    <svg aria-hidden="true" height="16" viewBox="0 0 16 16" version="1.1" width="16" data-view-component="true" class="octicon octicon-bell mr-2">
    <path d="M8 16a2 2 0 0 0 1.985-1.75c.017-.137-.097-.25-.235-.25h-3.5c-.138 0-.252.113-.235.25A2 2 0 0 0 8 16ZM3 5a5 5 0 0 1 10 0v2.947c0 .05.015.098.042.139l1.703 2.555A1.519 1.519 0 0 1 13.482 13H2.518a1.516 1.516 0 0 1-1.263-2.36l1.703-2.554A.255.255 0 0 0 3 7.947Zm5-3.5A3.5 3.5 0 0 0 4.5 5v2.947c0 .346-.102.683-.294.97l-1.703 2.556a.017.017 0 0 0-.003.01l.001.006c0 .002.002.004.004.006l.006.004.007.001h10.964l.007-.001.006-.004.004-.006.001-.007a.017.017 0 0 0-.003-.01l-1.703-2.554a1.745 1.745 0 0 1-.294-.97V5A3.5 3.5 0 0 0 8 1.5Z"></path>
</svg>Notifications
</a>
  </li>

  <li>
          <a icon="repo-forked" id="fork-button" href="/login?return_to=%2FSrinandanMoram%2Fedxcourse" rel="nofollow" data-hydro-click="{&quot;event_type&quot;:&quot;authentication.click&quot;,&quot;payload&quot;:{&quot;location_in_page&quot;:&quot;repo details fork button&quot;,&quot;repository_id&quot;:779673552,&quot;auth_type&quot;:&quot;LOG_IN&quot;,&quot;originating_url&quot;:&quot;https://github.com/SrinandanMoram/edxcourse/blob/main/10-IBM-DS%20capstone-lab7-ML%20prediction.ipynb&quot;,&quot;user_id&quot;:null}}" data-hydro-click-hmac="bd76a72b75669d591cacb0fb39313b9d6b3609017a2cbd8d72087e2eaee4f866" data-view-component="true" class="btn-sm btn">    <svg aria-hidden="true" height="16" viewBox="0 0 16 16" version="1.1" width="16" data-view-component="true" class="octicon octicon-repo-forked mr-2">
    <path d="M5 5.372v.878c0 .414.336.75.75.75h4.5a.75.75 0 0 0 .75-.75v-.878a2.25 2.25 0 1 1 1.5 0v.878a2.25 2.25 0 0 1-2.25 2.25h-1.5v2.128a2.251 2.251 0 1 1-1.5 0V8.5h-1.5A2.25 2.25 0 0 1 3.5 6.25v-.878a2.25 2.25 0 1 1 1.5 0ZM5 3.25a.75.75 0 1 0-1.5 0 .75.75 0 0 0 1.5 0Zm6.75.75a.75.75 0 1 0 0-1.5.75.75 0 0 0 0 1.5Zm-3 8.75a.75.75 0 1 0-1.5 0 .75.75 0 0 0 1.5 0Z"></path>
</svg>Fork
    <span id="repo-network-counter" data-pjax-replace="true" data-turbo-replace="true" title="0" data-view-component="true" class="Counter">0</span>
</a>
  </li>

  <li>
        <div data-view-component="true" class="BtnGroup d-flex">
        <a href="/login?return_to=%2FSrinandanMoram%2Fedxcourse" rel="nofollow" data-hydro-click="{&quot;event_type&quot;:&quot;authentication.click&quot;,&quot;payload&quot;:{&quot;location_in_page&quot;:&quot;star button&quot;,&quot;repository_id&quot;:779673552,&quot;auth_type&quot;:&quot;LOG_IN&quot;,&quot;originating_url&quot;:&quot;https://github.com/SrinandanMoram/edxcourse/blob/main/10-IBM-DS%20capstone-lab7-ML%20prediction.ipynb&quot;,&quot;user_id&quot;:null}}" data-hydro-click-hmac="747888a309ddff3dcdad5fa512cb3d64ad761ff7746ec6312a1a9283fc61775a" aria-label="You must be signed in to star a repository" data-view-component="true" class="tooltipped tooltipped-s btn-sm btn BtnGroup-item">    <svg aria-hidden="true" height="16" viewBox="0 0 16 16" version="1.1" width="16" data-view-component="true" class="octicon octicon-star v-align-text-bottom d-inline-block mr-2">
    <path d="M8 .25a.75.75 0 0 1 .673.418l1.882 3.815 4.21.612a.75.75 0 0 1 .416 1.279l-3.046 2.97.719 4.192a.751.751 0 0 1-1.088.791L8 12.347l-3.766 1.98a.75.75 0 0 1-1.088-.79l.72-4.194L.818 6.374a.75.75 0 0 1 .416-1.28l4.21-.611L7.327.668A.75.75 0 0 1 8 .25Zm0 2.445L6.615 5.5a.75.75 0 0 1-.564.41l-3.097.45 2.24 2.184a.75.75 0 0 1 .216.664l-.528 3.084 2.769-1.456a.75.75 0 0 1 .698 0l2.77 1.456-.53-3.084a.75.75 0 0 1 .216-.664l2.24-2.183-3.096-.45a.75.75 0 0 1-.564-.41L8 2.694Z"></path>
</svg><span data-view-component="true" class="d-inline">
          Star
</span>          <span id="repo-stars-counter-star" aria-label="0 users starred this repository" data-singular-suffix="user starred this repository" data-plural-suffix="users starred this repository" data-turbo-replace="true" title="0" data-view-component="true" class="Counter js-social-count">0</span>
</a>        <button aria-label="You must be signed in to add this repository to a list" type="button" disabled="disabled" data-view-component="true" class="btn-sm btn BtnGroup-item px-2">    <svg aria-hidden="true" height="16" viewBox="0 0 16 16" version="1.1" width="16" data-view-component="true" class="octicon octicon-triangle-down">
    <path d="m4.427 7.427 3.396 3.396a.25.25 0 0 0 .354 0l3.396-3.396A.25.25 0 0 0 11.396 7H4.604a.25.25 0 0 0-.177.427Z"></path>
</svg>
</button></div>
  </li>

    <li>
        

    </li>
</ul>

        </div>
      </div>

        <div id="responsive-meta-container" data-turbo-replace>
</div>


          <nav data-pjax="#js-repo-pjax-container" aria-label="Repository" data-view-component="true" class="js-repo-nav js-sidenav-container-pjax js-responsive-underlinenav overflow-hidden UnderlineNav px-3 px-md-4 px-lg-5">

  <ul data-view-component="true" class="UnderlineNav-body list-style-none">
      <li data-view-component="true" class="d-inline-flex">
  <a id="code-tab" href="/SrinandanMoram/edxcourse" data-tab-item="i0code-tab" data-selected-links="repo_source repo_downloads repo_commits repo_releases repo_tags repo_branches repo_packages repo_deployments repo_attestations /SrinandanMoram/edxcourse" data-pjax="#repo-content-pjax-container" data-turbo-frame="repo-content-turbo-frame" data-hotkey="g c" data-analytics-event="{&quot;category&quot;:&quot;Underline navbar&quot;,&quot;action&quot;:&quot;Click tab&quot;,&quot;label&quot;:&quot;Code&quot;,&quot;target&quot;:&quot;UNDERLINE_NAV.TAB&quot;}" aria-current="page" data-view-component="true" class="UnderlineNav-item no-wrap js-responsive-underlinenav-item js-selected-navigation-item selected">
    
              <svg aria-hidden="true" height="16" viewBox="0 0 16 16" version="1.1" width="16" data-view-component="true" class="octicon octicon-code UnderlineNav-octicon d-none d-sm-inline">
    <path d="m11.28 3.22 4.25 4.25a.75.75 0 0 1 0 1.06l-4.25 4.25a.749.749 0 0 1-1.275-.326.749.749 0 0 1 .215-.734L13.94 8l-3.72-3.72a.749.749 0 0 1 .326-1.275.749.749 0 0 1 .734.215Zm-6.56 0a.751.751 0 0 1 1.042.018.751.751 0 0 1 .018 1.042L2.06 8l3.72 3.72a.749.749 0 0 1-.326 1.275.749.749 0 0 1-.734-.215L.47 8.53a.75.75 0 0 1 0-1.06Z"></path>
</svg>
        <span data-content="Code">Code</span>
          <span id="code-repo-tab-count" data-pjax-replace="" data-turbo-replace="" title="Not available" data-view-component="true" class="Counter"></span>


    
</a></li>
      <li data-view-component="true" class="d-inline-flex">
  <a id="issues-tab" href="/SrinandanMoram/edxcourse/issues" data-tab-item="i1issues-tab" data-selected-links="repo_issues repo_labels repo_milestones /SrinandanMoram/edxcourse/issues" data-pjax="#repo-content-pjax-container" data-turbo-frame="repo-content-turbo-frame" data-hotkey="g i" data-analytics-event="{&quot;category&quot;:&quot;Underline navbar&quot;,&quot;action&quot;:&quot;Click tab&quot;,&quot;label&quot;:&quot;Issues&quot;,&quot;target&quot;:&quot;UNDERLINE_NAV.TAB&quot;}" data-view-component="true" class="UnderlineNav-item no-wrap js-responsive-underlinenav-item js-selected-navigation-item">
    
              <svg aria-hidden="true" height="16" viewBox="0 0 16 16" version="1.1" width="16" data-view-component="true" class="octicon octicon-issue-opened UnderlineNav-octicon d-none d-sm-inline">
    <path d="M8 9.5a1.5 1.5 0 1 0 0-3 1.5 1.5 0 0 0 0 3Z"></path><path d="M8 0a8 8 0 1 1 0 16A8 8 0 0 1 8 0ZM1.5 8a6.5 6.5 0 1 0 13 0 6.5 6.5 0 0 0-13 0Z"></path>
</svg>
        <span data-content="Issues">Issues</span>
          <span id="issues-repo-tab-count" data-pjax-replace="" data-turbo-replace="" title="0" hidden="hidden" data-view-component="true" class="Counter">0</span>


    
</a></li>
      <li data-view-component="true" class="d-inline-flex">
  <a id="pull-requests-tab" href="/SrinandanMoram/edxcourse/pulls" data-tab-item="i2pull-requests-tab" data-selected-links="repo_pulls checks /SrinandanMoram/edxcourse/pulls" data-pjax="#repo-content-pjax-container" data-turbo-frame="repo-content-turbo-frame" data-hotkey="g p" data-analytics-event="{&quot;category&quot;:&quot;Underline navbar&quot;,&quot;action&quot;:&quot;Click tab&quot;,&quot;label&quot;:&quot;Pull requests&quot;,&quot;target&quot;:&quot;UNDERLINE_NAV.TAB&quot;}" data-view-component="true" class="UnderlineNav-item no-wrap js-responsive-underlinenav-item js-selected-navigation-item">
    
              <svg aria-hidden="true" height="16" viewBox="0 0 16 16" version="1.1" width="16" data-view-component="true" class="octicon octicon-git-pull-request UnderlineNav-octicon d-none d-sm-inline">
    <path d="M1.5 3.25a2.25 2.25 0 1 1 3 2.122v5.256a2.251 2.251 0 1 1-1.5 0V5.372A2.25 2.25 0 0 1 1.5 3.25Zm5.677-.177L9.573.677A.25.25 0 0 1 10 .854V2.5h1A2.5 2.5 0 0 1 13.5 5v5.628a2.251 2.251 0 1 1-1.5 0V5a1 1 0 0 0-1-1h-1v1.646a.25.25 0 0 1-.427.177L7.177 3.427a.25.25 0 0 1 0-.354ZM3.75 2.5a.75.75 0 1 0 0 1.5.75.75 0 0 0 0-1.5Zm0 9.5a.75.75 0 1 0 0 1.5.75.75 0 0 0 0-1.5Zm8.25.75a.75.75 0 1 0 1.5 0 .75.75 0 0 0-1.5 0Z"></path>
</svg>
        <span data-content="Pull requests">Pull requests</span>
          <span id="pull-requests-repo-tab-count" data-pjax-replace="" data-turbo-replace="" title="0" hidden="hidden" data-view-component="true" class="Counter">0</span>


    
</a></li>
      <li data-view-component="true" class="d-inline-flex">
  <a id="actions-tab" href="/SrinandanMoram/edxcourse/actions" data-tab-item="i3actions-tab" data-selected-links="repo_actions /SrinandanMoram/edxcourse/actions" data-pjax="#repo-content-pjax-container" data-turbo-frame="repo-content-turbo-frame" data-hotkey="g a" data-analytics-event="{&quot;category&quot;:&quot;Underline navbar&quot;,&quot;action&quot;:&quot;Click tab&quot;,&quot;label&quot;:&quot;Actions&quot;,&quot;target&quot;:&quot;UNDERLINE_NAV.TAB&quot;}" data-view-component="true" class="UnderlineNav-item no-wrap js-responsive-underlinenav-item js-selected-navigation-item">
    
              <svg aria-hidden="true" height="16" viewBox="0 0 16 16" version="1.1" width="16" data-view-component="true" class="octicon octicon-play UnderlineNav-octicon d-none d-sm-inline">
    <path d="M8 0a8 8 0 1 1 0 16A8 8 0 0 1 8 0ZM1.5 8a6.5 6.5 0 1 0 13 0 6.5 6.5 0 0 0-13 0Zm4.879-2.773 4.264 2.559a.25.25 0 0 1 0 .428l-4.264 2.559A.25.25 0 0 1 6 10.559V5.442a.25.25 0 0 1 .379-.215Z"></path>
</svg>
        <span data-content="Actions">Actions</span>
          <span id="actions-repo-tab-count" data-pjax-replace="" data-turbo-replace="" title="Not available" data-view-component="true" class="Counter"></span>


    
</a></li>
      <li data-view-component="true" class="d-inline-flex">
  <a id="projects-tab" href="/SrinandanMoram/edxcourse/projects" data-tab-item="i4projects-tab" data-selected-links="repo_projects new_repo_project repo_project /SrinandanMoram/edxcourse/projects" data-pjax="#repo-content-pjax-container" data-turbo-frame="repo-content-turbo-frame" data-hotkey="g b" data-analytics-event="{&quot;category&quot;:&quot;Underline navbar&quot;,&quot;action&quot;:&quot;Click tab&quot;,&quot;label&quot;:&quot;Projects&quot;,&quot;target&quot;:&quot;UNDERLINE_NAV.TAB&quot;}" data-view-component="true" class="UnderlineNav-item no-wrap js-responsive-underlinenav-item js-selected-navigation-item">
    
              <svg aria-hidden="true" height="16" viewBox="0 0 16 16" version="1.1" width="16" data-view-component="true" class="octicon octicon-table UnderlineNav-octicon d-none d-sm-inline">
    <path d="M0 1.75C0 .784.784 0 1.75 0h12.5C15.216 0 16 .784 16 1.75v12.5A1.75 1.75 0 0 1 14.25 16H1.75A1.75 1.75 0 0 1 0 14.25ZM6.5 6.5v8h7.75a.25.25 0 0 0 .25-.25V6.5Zm8-1.5V1.75a.25.25 0 0 0-.25-.25H6.5V5Zm-13 1.5v7.75c0 .138.112.25.25.25H5v-8ZM5 5V1.5H1.75a.25.25 0 0 0-.25.25V5Z"></path>
</svg>
        <span data-content="Projects">Projects</span>
          <span id="projects-repo-tab-count" data-pjax-replace="" data-turbo-replace="" title="0" hidden="hidden" data-view-component="true" class="Counter">0</span>


    
</a></li>
      <li data-view-component="true" class="d-inline-flex">
  <a id="security-tab" href="/SrinandanMoram/edxcourse/security" data-tab-item="i5security-tab" data-selected-links="security overview alerts policy token_scanning code_scanning /SrinandanMoram/edxcourse/security" data-pjax="#repo-content-pjax-container" data-turbo-frame="repo-content-turbo-frame" data-hotkey="g s" data-analytics-event="{&quot;category&quot;:&quot;Underline navbar&quot;,&quot;action&quot;:&quot;Click tab&quot;,&quot;label&quot;:&quot;Security&quot;,&quot;target&quot;:&quot;UNDERLINE_NAV.TAB&quot;}" data-view-component="true" class="UnderlineNav-item no-wrap js-responsive-underlinenav-item js-selected-navigation-item">
    
              <svg aria-hidden="true" height="16" viewBox="0 0 16 16" version="1.1" width="16" data-view-component="true" class="octicon octicon-shield UnderlineNav-octicon d-none d-sm-inline">
    <path d="M7.467.133a1.748 1.748 0 0 1 1.066 0l5.25 1.68A1.75 1.75 0 0 1 15 3.48V7c0 1.566-.32 3.182-1.303 4.682-.983 1.498-2.585 2.813-5.032 3.855a1.697 1.697 0 0 1-1.33 0c-2.447-1.042-4.049-2.357-5.032-3.855C1.32 10.182 1 8.566 1 7V3.48a1.75 1.75 0 0 1 1.217-1.667Zm.61 1.429a.25.25 0 0 0-.153 0l-5.25 1.68a.25.25 0 0 0-.174.238V7c0 1.358.275 2.666 1.057 3.86.784 1.194 2.121 2.34 4.366 3.297a.196.196 0 0 0 .154 0c2.245-.956 3.582-2.104 4.366-3.298C13.225 9.666 13.5 8.36 13.5 7V3.48a.251.251 0 0 0-.174-.237l-5.25-1.68ZM8.75 4.75v3a.75.75 0 0 1-1.5 0v-3a.75.75 0 0 1 1.5 0ZM9 10.5a1 1 0 1 1-2 0 1 1 0 0 1 2 0Z"></path>
</svg>
        <span data-content="Security">Security</span>
          <include-fragment src="/SrinandanMoram/edxcourse/security/overall-count" accept="text/fragment+html"></include-fragment>

    
</a></li>
      <li data-view-component="true" class="d-inline-flex">
  <a id="insights-tab" href="/SrinandanMoram/edxcourse/pulse" data-tab-item="i6insights-tab" data-selected-links="repo_graphs repo_contributors dependency_graph dependabot_updates pulse people community /SrinandanMoram/edxcourse/pulse" data-pjax="#repo-content-pjax-container" data-turbo-frame="repo-content-turbo-frame" data-analytics-event="{&quot;category&quot;:&quot;Underline navbar&quot;,&quot;action&quot;:&quot;Click tab&quot;,&quot;label&quot;:&quot;Insights&quot;,&quot;target&quot;:&quot;UNDERLINE_NAV.TAB&quot;}" data-view-component="true" class="UnderlineNav-item no-wrap js-responsive-underlinenav-item js-selected-navigation-item">
    
              <svg aria-hidden="true" height="16" viewBox="0 0 16 16" version="1.1" width="16" data-view-component="true" class="octicon octicon-graph UnderlineNav-octicon d-none d-sm-inline">
    <path d="M1.5 1.75V13.5h13.75a.75.75 0 0 1 0 1.5H.75a.75.75 0 0 1-.75-.75V1.75a.75.75 0 0 1 1.5 0Zm14.28 2.53-5.25 5.25a.75.75 0 0 1-1.06 0L7 7.06 4.28 9.78a.751.751 0 0 1-1.042-.018.751.751 0 0 1-.018-1.042l3.25-3.25a.75.75 0 0 1 1.06 0L10 7.94l4.72-4.72a.751.751 0 0 1 1.042.018.751.751 0 0 1 .018 1.042Z"></path>
</svg>
        <span data-content="Insights">Insights</span>
          <span id="insights-repo-tab-count" data-pjax-replace="" data-turbo-replace="" title="Not available" data-view-component="true" class="Counter"></span>


    
</a></li>
</ul>
    <div style="visibility:hidden;" data-view-component="true" class="UnderlineNav-actions js-responsive-underlinenav-overflow position-absolute pr-3 pr-md-4 pr-lg-5 right-0">      <action-menu data-select-variant="none" data-view-component="true">
  <focus-group direction="vertical" mnemonics retain>
    <button id="action-menu-d56344cf-cb9c-4411-b115-4fb145fc3b8e-button" popovertarget="action-menu-d56344cf-cb9c-4411-b115-4fb145fc3b8e-overlay" aria-controls="action-menu-d56344cf-cb9c-4411-b115-4fb145fc3b8e-list" aria-haspopup="true" aria-labelledby="tooltip-9cb92a03-fb5c-465e-9331-7eaf49b7fa80" type="button" data-view-component="true" class="Button Button--iconOnly Button--secondary Button--medium UnderlineNav-item">  <svg aria-hidden="true" height="16" viewBox="0 0 16 16" version="1.1" width="16" data-view-component="true" class="octicon octicon-kebab-horizontal Button-visual">
    <path d="M8 9a1.5 1.5 0 1 0 0-3 1.5 1.5 0 0 0 0 3ZM1.5 9a1.5 1.5 0 1 0 0-3 1.5 1.5 0 0 0 0 3Zm13 0a1.5 1.5 0 1 0 0-3 1.5 1.5 0 0 0 0 3Z"></path>
</svg>
</button><tool-tip id="tooltip-9cb92a03-fb5c-465e-9331-7eaf49b7fa80" for="action-menu-d56344cf-cb9c-4411-b115-4fb145fc3b8e-button" popover="manual" data-direction="s" data-type="label" data-view-component="true" class="sr-only position-absolute">Additional navigation options</tool-tip>


<anchored-position id="action-menu-d56344cf-cb9c-4411-b115-4fb145fc3b8e-overlay" anchor="action-menu-d56344cf-cb9c-4411-b115-4fb145fc3b8e-button" align="start" side="outside-bottom" anchor-offset="normal" popover="auto" data-view-component="true">
  <div data-view-component="true" class="Overlay Overlay--size-auto">
    
      <div data-view-component="true" class="Overlay-body Overlay-body--paddingNone">          <action-list>
  <div data-view-component="true">
    <ul aria-labelledby="action-menu-d56344cf-cb9c-4411-b115-4fb145fc3b8e-button" id="action-menu-d56344cf-cb9c-4411-b115-4fb145fc3b8e-list" role="menu" data-view-component="true" class="ActionListWrap--inset ActionListWrap">
        <li hidden="hidden" data-menu-item="i0code-tab" data-targets="action-list.items" role="none" data-view-component="true" class="ActionListItem">
    
    
    <a tabindex="-1" id="item-dd62392d-617d-4067-98c3-a2d860b76223" href="/SrinandanMoram/edxcourse" role="menuitem" data-view-component="true" class="ActionListContent ActionListContent--visual16">
        <span class="ActionListItem-visual ActionListItem-visual--leading">
          <svg aria-hidden="true" height="16" viewBox="0 0 16 16" version="1.1" width="16" data-view-component="true" class="octicon octicon-code">
    <path d="m11.28 3.22 4.25 4.25a.75.75 0 0 1 0 1.06l-4.25 4.25a.749.749 0 0 1-1.275-.326.749.749 0 0 1 .215-.734L13.94 8l-3.72-3.72a.749.749 0 0 1 .326-1.275.749.749 0 0 1 .734.215Zm-6.56 0a.751.751 0 0 1 1.042.018.751.751 0 0 1 .018 1.042L2.06 8l3.72 3.72a.749.749 0 0 1-.326 1.275.749.749 0 0 1-.734-.215L.47 8.53a.75.75 0 0 1 0-1.06Z"></path>
</svg>
        </span>
      
        <span data-view-component="true" class="ActionListItem-label">
          Code
</span></a>
  
</li>
        <li hidden="hidden" data-menu-item="i1issues-tab" data-targets="action-list.items" role="none" data-view-component="true" class="ActionListItem">
    
    
    <a tabindex="-1" id="item-01ae1daa-12d5-4a70-bce9-cbfff1e39f50" href="/SrinandanMoram/edxcourse/issues" role="menuitem" data-view-component="true" class="ActionListContent ActionListContent--visual16">
        <span class="ActionListItem-visual ActionListItem-visual--leading">
          <svg aria-hidden="true" height="16" viewBox="0 0 16 16" version="1.1" width="16" data-view-component="true" class="octicon octicon-issue-opened">
    <path d="M8 9.5a1.5 1.5 0 1 0 0-3 1.5 1.5 0 0 0 0 3Z"></path><path d="M8 0a8 8 0 1 1 0 16A8 8 0 0 1 8 0ZM1.5 8a6.5 6.5 0 1 0 13 0 6.5 6.5 0 0 0-13 0Z"></path>
</svg>
        </span>
      
        <span data-view-component="true" class="ActionListItem-label">
          Issues
</span></a>
  
</li>
        <li hidden="hidden" data-menu-item="i2pull-requests-tab" data-targets="action-list.items" role="none" data-view-component="true" class="ActionListItem">
    
    
    <a tabindex="-1" id="item-670524a0-9120-417b-b2f0-bd35391498a1" href="/SrinandanMoram/edxcourse/pulls" role="menuitem" data-view-component="true" class="ActionListContent ActionListContent--visual16">
        <span class="ActionListItem-visual ActionListItem-visual--leading">
          <svg aria-hidden="true" height="16" viewBox="0 0 16 16" version="1.1" width="16" data-view-component="true" class="octicon octicon-git-pull-request">
    <path d="M1.5 3.25a2.25 2.25 0 1 1 3 2.122v5.256a2.251 2.251 0 1 1-1.5 0V5.372A2.25 2.25 0 0 1 1.5 3.25Zm5.677-.177L9.573.677A.25.25 0 0 1 10 .854V2.5h1A2.5 2.5 0 0 1 13.5 5v5.628a2.251 2.251 0 1 1-1.5 0V5a1 1 0 0 0-1-1h-1v1.646a.25.25 0 0 1-.427.177L7.177 3.427a.25.25 0 0 1 0-.354ZM3.75 2.5a.75.75 0 1 0 0 1.5.75.75 0 0 0 0-1.5Zm0 9.5a.75.75 0 1 0 0 1.5.75.75 0 0 0 0-1.5Zm8.25.75a.75.75 0 1 0 1.5 0 .75.75 0 0 0-1.5 0Z"></path>
</svg>
        </span>
      
        <span data-view-component="true" class="ActionListItem-label">
          Pull requests
</span></a>
  
</li>
        <li hidden="hidden" data-menu-item="i3actions-tab" data-targets="action-list.items" role="none" data-view-component="true" class="ActionListItem">
    
    
    <a tabindex="-1" id="item-7750e4e7-54e7-4e33-ad3a-34f91d4b3d53" href="/SrinandanMoram/edxcourse/actions" role="menuitem" data-view-component="true" class="ActionListContent ActionListContent--visual16">
        <span class="ActionListItem-visual ActionListItem-visual--leading">
          <svg aria-hidden="true" height="16" viewBox="0 0 16 16" version="1.1" width="16" data-view-component="true" class="octicon octicon-play">
    <path d="M8 0a8 8 0 1 1 0 16A8 8 0 0 1 8 0ZM1.5 8a6.5 6.5 0 1 0 13 0 6.5 6.5 0 0 0-13 0Zm4.879-2.773 4.264 2.559a.25.25 0 0 1 0 .428l-4.264 2.559A.25.25 0 0 1 6 10.559V5.442a.25.25 0 0 1 .379-.215Z"></path>
</svg>
        </span>
      
        <span data-view-component="true" class="ActionListItem-label">
          Actions
</span></a>
  
</li>
        <li hidden="hidden" data-menu-item="i4projects-tab" data-targets="action-list.items" role="none" data-view-component="true" class="ActionListItem">
    
    
    <a tabindex="-1" id="item-a83f023d-8bce-46c9-a549-c1884d904676" href="/SrinandanMoram/edxcourse/projects" role="menuitem" data-view-component="true" class="ActionListContent ActionListContent--visual16">
        <span class="ActionListItem-visual ActionListItem-visual--leading">
          <svg aria-hidden="true" height="16" viewBox="0 0 16 16" version="1.1" width="16" data-view-component="true" class="octicon octicon-table">
    <path d="M0 1.75C0 .784.784 0 1.75 0h12.5C15.216 0 16 .784 16 1.75v12.5A1.75 1.75 0 0 1 14.25 16H1.75A1.75 1.75 0 0 1 0 14.25ZM6.5 6.5v8h7.75a.25.25 0 0 0 .25-.25V6.5Zm8-1.5V1.75a.25.25 0 0 0-.25-.25H6.5V5Zm-13 1.5v7.75c0 .138.112.25.25.25H5v-8ZM5 5V1.5H1.75a.25.25 0 0 0-.25.25V5Z"></path>
</svg>
        </span>
      
        <span data-view-component="true" class="ActionListItem-label">
          Projects
</span></a>
  
</li>
        <li hidden="hidden" data-menu-item="i5security-tab" data-targets="action-list.items" role="none" data-view-component="true" class="ActionListItem">
    
    
    <a tabindex="-1" id="item-24dde2e7-5dba-4428-b554-b331f8a6bca7" href="/SrinandanMoram/edxcourse/security" role="menuitem" data-view-component="true" class="ActionListContent ActionListContent--visual16">
        <span class="ActionListItem-visual ActionListItem-visual--leading">
          <svg aria-hidden="true" height="16" viewBox="0 0 16 16" version="1.1" width="16" data-view-component="true" class="octicon octicon-shield">
    <path d="M7.467.133a1.748 1.748 0 0 1 1.066 0l5.25 1.68A1.75 1.75 0 0 1 15 3.48V7c0 1.566-.32 3.182-1.303 4.682-.983 1.498-2.585 2.813-5.032 3.855a1.697 1.697 0 0 1-1.33 0c-2.447-1.042-4.049-2.357-5.032-3.855C1.32 10.182 1 8.566 1 7V3.48a1.75 1.75 0 0 1 1.217-1.667Zm.61 1.429a.25.25 0 0 0-.153 0l-5.25 1.68a.25.25 0 0 0-.174.238V7c0 1.358.275 2.666 1.057 3.86.784 1.194 2.121 2.34 4.366 3.297a.196.196 0 0 0 .154 0c2.245-.956 3.582-2.104 4.366-3.298C13.225 9.666 13.5 8.36 13.5 7V3.48a.251.251 0 0 0-.174-.237l-5.25-1.68ZM8.75 4.75v3a.75.75 0 0 1-1.5 0v-3a.75.75 0 0 1 1.5 0ZM9 10.5a1 1 0 1 1-2 0 1 1 0 0 1 2 0Z"></path>
</svg>
        </span>
      
        <span data-view-component="true" class="ActionListItem-label">
          Security
</span></a>
  
</li>
        <li hidden="hidden" data-menu-item="i6insights-tab" data-targets="action-list.items" role="none" data-view-component="true" class="ActionListItem">
    
    
    <a tabindex="-1" id="item-634498dd-3992-4160-a9df-1e81b4981d55" href="/SrinandanMoram/edxcourse/pulse" role="menuitem" data-view-component="true" class="ActionListContent ActionListContent--visual16">
        <span class="ActionListItem-visual ActionListItem-visual--leading">
          <svg aria-hidden="true" height="16" viewBox="0 0 16 16" version="1.1" width="16" data-view-component="true" class="octicon octicon-graph">
    <path d="M1.5 1.75V13.5h13.75a.75.75 0 0 1 0 1.5H.75a.75.75 0 0 1-.75-.75V1.75a.75.75 0 0 1 1.5 0Zm14.28 2.53-5.25 5.25a.75.75 0 0 1-1.06 0L7 7.06 4.28 9.78a.751.751 0 0 1-1.042-.018.751.751 0 0 1-.018-1.042l3.25-3.25a.75.75 0 0 1 1.06 0L10 7.94l4.72-4.72a.751.751 0 0 1 1.042.018.751.751 0 0 1 .018 1.042Z"></path>
</svg>
        </span>
      
        <span data-view-component="true" class="ActionListItem-label">
          Insights
</span></a>
  
</li>
</ul>    
</div></action-list>


</div>
      
</div></anchored-position>  </focus-group>
</action-menu></div>
</nav>

  </div>

  



<turbo-frame id="repo-content-turbo-frame" target="_top" data-turbo-action="advance" class="">
    <div id="repo-content-pjax-container" class="repository-content " >
    



    
      
    





<react-app
  app-name="react-code-view"
  initial-path="/SrinandanMoram/edxcourse/blob/main/10-IBM-DS%20capstone-lab7-ML%20prediction.ipynb"
  style="display: block; min-height: calc(100vh - 64px)" 
  data-ssr="true"
  data-lazy="false"
  data-alternate="false"
>
  
  <script type="application/json" data-target="react-app.embeddedData">{"payload":{"allShortcutsEnabled":false,"fileTree":{"":{"items":[{"name":"10-IBM DS Capstone project-lab2-web scraping.ipynb","path":"10-IBM DS Capstone project-lab2-web scraping.ipynb","contentType":"file"},{"name":"10-IBM DS Capstone project-lab3-EDA.ipynb","path":"10-IBM DS Capstone project-lab3-EDA.ipynb","contentType":"file"},{"name":"10-IBM DS Capstone-lab4-EDA viz.ipynb","path":"10-IBM DS Capstone-lab4-EDA viz.ipynb","contentType":"file"},{"name":"10-IBM DS Capstone-lab5-Folium.ipynb","path":"10-IBM DS Capstone-lab5-Folium.ipynb","contentType":"file"},{"name":"10-IBM Data Science Capstone project.ipynb","path":"10-IBM Data Science Capstone project.ipynb","contentType":"file"},{"name":"10-IBM-DS Capstone project-SQL.ipynb","path":"10-IBM-DS Capstone project-SQL.ipynb","contentType":"file"},{"name":"10-IBM-DS capstone-lab7-ML prediction.ipynb","path":"10-IBM-DS capstone-lab7-ML prediction.ipynb","contentType":"file"},{"name":"9-IBM Data Science Machine Learning final project.ipynb","path":"9-IBM Data Science Machine Learning final project.ipynb","contentType":"file"},{"name":"README.md","path":"README.md","contentType":"file"},{"name":"dash_interact2_HY.py","path":"dash_interact2_HY.py","contentType":"file"}],"totalCount":10}},"fileTreeProcessingTime":2.610574,"foldersToFetch":[],"repo":{"id":779673552,"defaultBranch":"main","name":"edxcourse","ownerLogin":"SrinandanMoram","currentUserCanPush":false,"isFork":false,"isEmpty":false,"createdAt":"2024-03-30T13:37:17.000Z","ownerAvatar":"https://avatars.githubusercontent.com/u/143417526?v=4","public":true,"private":false,"isOrgOwned":false},"codeLineWrapEnabled":false,"symbolsExpanded":false,"treeExpanded":true,"refInfo":{"name":"main","listCacheKey":"v0:1711806452.0","canEdit":false,"refType":"branch","currentOid":"2f5d0082691f62813cca259565b71578948c720d"},"path":"10-IBM-DS capstone-lab7-ML prediction.ipynb","currentUser":null,"blob":{"rawLines":["{","    \"cells\": [","        {","            \"cell_type\": \"markdown\",","            \"metadata\": {},","            \"source\": \"\u003ccenter\u003e\\n    \u003cimg src=\\\"https://gitlab.com/ibm/skills-network/courses/placeholder101/-/raw/master/labs/module%201/images/IDSNlogo.png\\\" width=\\\"300\\\" alt=\\\"cognitiveclass.ai logo\\\"  /\u003e\\n\u003c/center\u003e\\n\"","        },","        {","            \"cell_type\": \"markdown\",","            \"metadata\": {},","            \"source\": \"# **Space X  Falcon 9 First Stage Landing Prediction**\\n\"","        },","        {","            \"cell_type\": \"markdown\",","            \"metadata\": {},","            \"source\": \"## Assignment:  Machine Learning Prediction\\n\"","        },","        {","            \"cell_type\": \"markdown\",","            \"metadata\": {},","            \"source\": \"Estimated time needed: **60** minutes\\n\"","        },","        {","            \"cell_type\": \"markdown\",","            \"metadata\": {},","            \"source\": \"Space X advertises Falcon 9 rocket launches on its website with a cost of 62 million dollars; other providers cost upward of 165 million dollars each, much of the savings is because Space X can reuse the first stage. Therefore if we can determine if the first stage will land, we can determine the cost of a launch. This information can be used if an alternate company wants to bid against space X for a rocket launch.   In this lab, you will create a machine learning pipeline  to predict if the first stage will land given the data from the preceding labs.\\n\"","        },","        {","            \"cell_type\": \"markdown\",","            \"metadata\": {},","            \"source\": \"![](https://cf-courses-data.s3.us.cloud-object-storage.appdomain.cloud/IBMDeveloperSkillsNetwork-DS0701EN-SkillsNetwork/api/Images/landing\\\\_1.gif)\\n\"","        },","        {","            \"cell_type\": \"markdown\",","            \"metadata\": {},","            \"source\": \"Several examples of an unsuccessful landing are shown here:\\n\"","        },","        {","            \"cell_type\": \"markdown\",","            \"metadata\": {},","            \"source\": \"![](https://cf-courses-data.s3.us.cloud-object-storage.appdomain.cloud/IBMDeveloperSkillsNetwork-DS0701EN-SkillsNetwork/api/Images/crash.gif)\\n\"","        },","        {","            \"cell_type\": \"markdown\",","            \"metadata\": {},","            \"source\": \"Most unsuccessful landings are planed. Space X; performs a controlled landing in the oceans.\\n\"","        },","        {","            \"cell_type\": \"markdown\",","            \"metadata\": {},","            \"source\": \"## Objectives\\n\"","        },","        {","            \"cell_type\": \"markdown\",","            \"metadata\": {},","            \"source\": \"Perform exploratory  Data Analysis and determine Training Labels\\n\\n*   create a column for the class\\n*   Standardize the data\\n*   Split into training data and test data\\n\\n\\\\-Find best Hyperparameter for SVM, Classification Trees and Logistic Regression\\n\\n*   Find the method performs best using test data\\n\"","        },","        {","            \"cell_type\": \"markdown\",","            \"metadata\": {},","            \"source\": \"\"","        },","        {","            \"cell_type\": \"markdown\",","            \"metadata\": {},","            \"source\": \"***\\n\"","        },","        {","            \"cell_type\": \"markdown\",","            \"metadata\": {},","            \"source\": \"## Import Libraries and Define Auxiliary Functions\\n\"","        },","        {","            \"cell_type\": \"markdown\",","            \"metadata\": {},","            \"source\": \"We will import the following libraries for the lab\\n\"","        },","        {","            \"cell_type\": \"code\",","            \"execution_count\": 41,","            \"metadata\": {},","            \"outputs\": [],","            \"source\": \"# Pandas is a software library written for the Python programming language for data manipulation and analysis.\\nimport pandas as pd\\n# NumPy is a library for the Python programming language, adding support for large, multi-dimensional arrays and matrices, along with a large collection of high-level mathematical functions to operate on these arrays\\nimport numpy as np\\n# Matplotlib is a plotting library for python and pyplot gives us a MatLab like plotting framework. We will use this in our plotter function to plot data.\\nimport matplotlib.pyplot as plt\\n#Seaborn is a Python data visualization library based on matplotlib. It provides a high-level interface for drawing attractive and informative statistical graphics\\nimport seaborn as sns\\n# Preprocessing allows us to standarsize our data\\nfrom sklearn import preprocessing\\n# Allows us to split our data into training and testing data\\nfrom sklearn.model_selection import train_test_split\\n# Allows us to test parameters of classification algorithms and find the best one\\nfrom sklearn.model_selection import GridSearchCV\\n# Logistic Regression classification algorithm\\nfrom sklearn.linear_model import LogisticRegression\\n# Support Vector Machine classification algorithm\\nfrom sklearn.svm import SVC\\n# Decision Tree classification algorithm\\nfrom sklearn.tree import DecisionTreeClassifier\\n# K Nearest Neighbors classification algorithm\\nfrom sklearn.neighbors import KNeighborsClassifier\\nfrom sklearn.metrics import classification_report, confusion_matrix, f1_score, precision_score, recall_score, roc_auc_score\"","        },","        {","            \"cell_type\": \"markdown\",","            \"metadata\": {},","            \"source\": \"This function is to plot the confusion matrix.\\n\"","        },","        {","            \"cell_type\": \"code\",","            \"execution_count\": 2,","            \"metadata\": {},","            \"outputs\": [],","            \"source\": \"def plot_confusion_matrix(y,y_predict):\\n    \\\"this function plots the confusion matrix\\\"\\n    from sklearn.metrics import confusion_matrix\\n\\n    cm = confusion_matrix(y, y_predict)\\n    ax= plt.subplot()\\n    sns.heatmap(cm, annot=True, ax = ax); #annot=True to annotate cells\\n    ax.set_xlabel('Predicted labels')\\n    ax.set_ylabel('True labels')\\n    ax.set_title('Confusion Matrix'); \\n    ax.xaxis.set_ticklabels(['did not land', 'land']); ax.yaxis.set_ticklabels(['did not land', 'landed'])\"","        },","        {","            \"cell_type\": \"markdown\",","            \"metadata\": {},","            \"source\": \"## Load the dataframe\\n\"","        },","        {","            \"cell_type\": \"markdown\",","            \"metadata\": {},","            \"source\": \"Load the data\\n\"","        },","        {","            \"cell_type\": \"code\",","            \"execution_count\": 3,","            \"metadata\": {},","            \"outputs\": [","                {","                    \"data\": {","                        \"text/html\": \"\u003cdiv\u003e\\n\u003cstyle scoped\u003e\\n    .dataframe tbody tr th:only-of-type {\\n        vertical-align: middle;\\n    }\\n\\n    .dataframe tbody tr th {\\n        vertical-align: top;\\n    }\\n\\n    .dataframe thead th {\\n        text-align: right;\\n    }\\n\u003c/style\u003e\\n\u003ctable border=\\\"1\\\" class=\\\"dataframe\\\"\u003e\\n  \u003cthead\u003e\\n    \u003ctr style=\\\"text-align: right;\\\"\u003e\\n      \u003cth\u003e\u003c/th\u003e\\n      \u003cth\u003eFlightNumber\u003c/th\u003e\\n      \u003cth\u003eDate\u003c/th\u003e\\n      \u003cth\u003eBoosterVersion\u003c/th\u003e\\n      \u003cth\u003ePayloadMass\u003c/th\u003e\\n      \u003cth\u003eOrbit\u003c/th\u003e\\n      \u003cth\u003eLaunchSite\u003c/th\u003e\\n      \u003cth\u003eOutcome\u003c/th\u003e\\n      \u003cth\u003eFlights\u003c/th\u003e\\n      \u003cth\u003eGridFins\u003c/th\u003e\\n      \u003cth\u003eReused\u003c/th\u003e\\n      \u003cth\u003eLegs\u003c/th\u003e\\n      \u003cth\u003eLandingPad\u003c/th\u003e\\n      \u003cth\u003eBlock\u003c/th\u003e\\n      \u003cth\u003eReusedCount\u003c/th\u003e\\n      \u003cth\u003eSerial\u003c/th\u003e\\n      \u003cth\u003eLongitude\u003c/th\u003e\\n      \u003cth\u003eLatitude\u003c/th\u003e\\n      \u003cth\u003eClass\u003c/th\u003e\\n    \u003c/tr\u003e\\n  \u003c/thead\u003e\\n  \u003ctbody\u003e\\n    \u003ctr\u003e\\n      \u003cth\u003e0\u003c/th\u003e\\n      \u003ctd\u003e1\u003c/td\u003e\\n      \u003ctd\u003e2010-06-04\u003c/td\u003e\\n      \u003ctd\u003eFalcon 9\u003c/td\u003e\\n      \u003ctd\u003e6104.959412\u003c/td\u003e\\n      \u003ctd\u003eLEO\u003c/td\u003e\\n      \u003ctd\u003eCCAFS SLC 40\u003c/td\u003e\\n      \u003ctd\u003eNone None\u003c/td\u003e\\n      \u003ctd\u003e1\u003c/td\u003e\\n      \u003ctd\u003eFalse\u003c/td\u003e\\n      \u003ctd\u003eFalse\u003c/td\u003e\\n      \u003ctd\u003eFalse\u003c/td\u003e\\n      \u003ctd\u003eNaN\u003c/td\u003e\\n      \u003ctd\u003e1.0\u003c/td\u003e\\n      \u003ctd\u003e0\u003c/td\u003e\\n      \u003ctd\u003eB0003\u003c/td\u003e\\n      \u003ctd\u003e-80.577366\u003c/td\u003e\\n      \u003ctd\u003e28.561857\u003c/td\u003e\\n      \u003ctd\u003e0\u003c/td\u003e\\n    \u003c/tr\u003e\\n    \u003ctr\u003e\\n      \u003cth\u003e1\u003c/th\u003e\\n      \u003ctd\u003e2\u003c/td\u003e\\n      \u003ctd\u003e2012-05-22\u003c/td\u003e\\n      \u003ctd\u003eFalcon 9\u003c/td\u003e\\n      \u003ctd\u003e525.000000\u003c/td\u003e\\n      \u003ctd\u003eLEO\u003c/td\u003e\\n      \u003ctd\u003eCCAFS SLC 40\u003c/td\u003e\\n      \u003ctd\u003eNone None\u003c/td\u003e\\n      \u003ctd\u003e1\u003c/td\u003e\\n      \u003ctd\u003eFalse\u003c/td\u003e\\n      \u003ctd\u003eFalse\u003c/td\u003e\\n      \u003ctd\u003eFalse\u003c/td\u003e\\n      \u003ctd\u003eNaN\u003c/td\u003e\\n      \u003ctd\u003e1.0\u003c/td\u003e\\n      \u003ctd\u003e0\u003c/td\u003e\\n      \u003ctd\u003eB0005\u003c/td\u003e\\n      \u003ctd\u003e-80.577366\u003c/td\u003e\\n      \u003ctd\u003e28.561857\u003c/td\u003e\\n      \u003ctd\u003e0\u003c/td\u003e\\n    \u003c/tr\u003e\\n    \u003ctr\u003e\\n      \u003cth\u003e2\u003c/th\u003e\\n      \u003ctd\u003e3\u003c/td\u003e\\n      \u003ctd\u003e2013-03-01\u003c/td\u003e\\n      \u003ctd\u003eFalcon 9\u003c/td\u003e\\n      \u003ctd\u003e677.000000\u003c/td\u003e\\n      \u003ctd\u003eISS\u003c/td\u003e\\n      \u003ctd\u003eCCAFS SLC 40\u003c/td\u003e\\n      \u003ctd\u003eNone None\u003c/td\u003e\\n      \u003ctd\u003e1\u003c/td\u003e\\n      \u003ctd\u003eFalse\u003c/td\u003e\\n      \u003ctd\u003eFalse\u003c/td\u003e\\n      \u003ctd\u003eFalse\u003c/td\u003e\\n      \u003ctd\u003eNaN\u003c/td\u003e\\n      \u003ctd\u003e1.0\u003c/td\u003e\\n      \u003ctd\u003e0\u003c/td\u003e\\n      \u003ctd\u003eB0007\u003c/td\u003e\\n      \u003ctd\u003e-80.577366\u003c/td\u003e\\n      \u003ctd\u003e28.561857\u003c/td\u003e\\n      \u003ctd\u003e0\u003c/td\u003e\\n    \u003c/tr\u003e\\n    \u003ctr\u003e\\n      \u003cth\u003e3\u003c/th\u003e\\n      \u003ctd\u003e4\u003c/td\u003e\\n      \u003ctd\u003e2013-09-29\u003c/td\u003e\\n      \u003ctd\u003eFalcon 9\u003c/td\u003e\\n      \u003ctd\u003e500.000000\u003c/td\u003e\\n      \u003ctd\u003ePO\u003c/td\u003e\\n      \u003ctd\u003eVAFB SLC 4E\u003c/td\u003e\\n      \u003ctd\u003eFalse Ocean\u003c/td\u003e\\n      \u003ctd\u003e1\u003c/td\u003e\\n      \u003ctd\u003eFalse\u003c/td\u003e\\n      \u003ctd\u003eFalse\u003c/td\u003e\\n      \u003ctd\u003eFalse\u003c/td\u003e\\n      \u003ctd\u003eNaN\u003c/td\u003e\\n      \u003ctd\u003e1.0\u003c/td\u003e\\n      \u003ctd\u003e0\u003c/td\u003e\\n      \u003ctd\u003eB1003\u003c/td\u003e\\n      \u003ctd\u003e-120.610829\u003c/td\u003e\\n      \u003ctd\u003e34.632093\u003c/td\u003e\\n      \u003ctd\u003e0\u003c/td\u003e\\n    \u003c/tr\u003e\\n    \u003ctr\u003e\\n      \u003cth\u003e4\u003c/th\u003e\\n      \u003ctd\u003e5\u003c/td\u003e\\n      \u003ctd\u003e2013-12-03\u003c/td\u003e\\n      \u003ctd\u003eFalcon 9\u003c/td\u003e\\n      \u003ctd\u003e3170.000000\u003c/td\u003e\\n      \u003ctd\u003eGTO\u003c/td\u003e\\n      \u003ctd\u003eCCAFS SLC 40\u003c/td\u003e\\n      \u003ctd\u003eNone None\u003c/td\u003e\\n      \u003ctd\u003e1\u003c/td\u003e\\n      \u003ctd\u003eFalse\u003c/td\u003e\\n      \u003ctd\u003eFalse\u003c/td\u003e\\n      \u003ctd\u003eFalse\u003c/td\u003e\\n      \u003ctd\u003eNaN\u003c/td\u003e\\n      \u003ctd\u003e1.0\u003c/td\u003e\\n      \u003ctd\u003e0\u003c/td\u003e\\n      \u003ctd\u003eB1004\u003c/td\u003e\\n      \u003ctd\u003e-80.577366\u003c/td\u003e\\n      \u003ctd\u003e28.561857\u003c/td\u003e\\n      \u003ctd\u003e0\u003c/td\u003e\\n    \u003c/tr\u003e\\n  \u003c/tbody\u003e\\n\u003c/table\u003e\\n\u003c/div\u003e\",","                        \"text/plain\": \"   FlightNumber        Date BoosterVersion  PayloadMass Orbit    LaunchSite  \\\\\\n0             1  2010-06-04       Falcon 9  6104.959412   LEO  CCAFS SLC 40   \\n1             2  2012-05-22       Falcon 9   525.000000   LEO  CCAFS SLC 40   \\n2             3  2013-03-01       Falcon 9   677.000000   ISS  CCAFS SLC 40   \\n3             4  2013-09-29       Falcon 9   500.000000    PO   VAFB SLC 4E   \\n4             5  2013-12-03       Falcon 9  3170.000000   GTO  CCAFS SLC 40   \\n\\n       Outcome  Flights  GridFins  Reused   Legs LandingPad  Block  \\\\\\n0    None None        1     False   False  False        NaN    1.0   \\n1    None None        1     False   False  False        NaN    1.0   \\n2    None None        1     False   False  False        NaN    1.0   \\n3  False Ocean        1     False   False  False        NaN    1.0   \\n4    None None        1     False   False  False        NaN    1.0   \\n\\n   ReusedCount Serial   Longitude   Latitude  Class  \\n0            0  B0003  -80.577366  28.561857      0  \\n1            0  B0005  -80.577366  28.561857      0  \\n2            0  B0007  -80.577366  28.561857      0  \\n3            0  B1003 -120.610829  34.632093      0  \\n4            0  B1004  -80.577366  28.561857      0  \"","                    },","                    \"execution_count\": 3,","                    \"metadata\": {},","                    \"output_type\": \"execute_result\"","                }","            ],","            \"source\": \"data = pd.read_csv(\\\"https://cf-courses-data.s3.us.cloud-object-storage.appdomain.cloud/IBM-DS0321EN-SkillsNetwork/datasets/dataset_part_2.csv\\\")\\n\\n# If you were unable to complete the previous lab correctly you can uncomment and load this csv\\n\\n# data = pd.read_csv('https://cf-courses-data.s3.us.cloud-object-storage.appdomain.cloud/IBMDeveloperSkillsNetwork-DS0701EN-SkillsNetwork/api/dataset_part_2.csv')\\n\\ndata.head()\"","        },","        {","            \"cell_type\": \"code\",","            \"execution_count\": 4,","            \"metadata\": {},","            \"outputs\": [","                {","                    \"data\": {","                        \"text/html\": \"\u003cdiv\u003e\\n\u003cstyle scoped\u003e\\n    .dataframe tbody tr th:only-of-type {\\n        vertical-align: middle;\\n    }\\n\\n    .dataframe tbody tr th {\\n        vertical-align: top;\\n    }\\n\\n    .dataframe thead th {\\n        text-align: right;\\n    }\\n\u003c/style\u003e\\n\u003ctable border=\\\"1\\\" class=\\\"dataframe\\\"\u003e\\n  \u003cthead\u003e\\n    \u003ctr style=\\\"text-align: right;\\\"\u003e\\n      \u003cth\u003e\u003c/th\u003e\\n      \u003cth\u003eFlightNumber\u003c/th\u003e\\n      \u003cth\u003ePayloadMass\u003c/th\u003e\\n      \u003cth\u003eFlights\u003c/th\u003e\\n      \u003cth\u003eBlock\u003c/th\u003e\\n      \u003cth\u003eReusedCount\u003c/th\u003e\\n      \u003cth\u003eOrbit_ES-L1\u003c/th\u003e\\n      \u003cth\u003eOrbit_GEO\u003c/th\u003e\\n      \u003cth\u003eOrbit_GTO\u003c/th\u003e\\n      \u003cth\u003eOrbit_HEO\u003c/th\u003e\\n      \u003cth\u003eOrbit_ISS\u003c/th\u003e\\n      \u003cth\u003e...\u003c/th\u003e\\n      \u003cth\u003eSerial_B1058\u003c/th\u003e\\n      \u003cth\u003eSerial_B1059\u003c/th\u003e\\n      \u003cth\u003eSerial_B1060\u003c/th\u003e\\n      \u003cth\u003eSerial_B1062\u003c/th\u003e\\n      \u003cth\u003eGridFins_False\u003c/th\u003e\\n      \u003cth\u003eGridFins_True\u003c/th\u003e\\n      \u003cth\u003eReused_False\u003c/th\u003e\\n      \u003cth\u003eReused_True\u003c/th\u003e\\n      \u003cth\u003eLegs_False\u003c/th\u003e\\n      \u003cth\u003eLegs_True\u003c/th\u003e\\n    \u003c/tr\u003e\\n  \u003c/thead\u003e\\n  \u003ctbody\u003e\\n    \u003ctr\u003e\\n      \u003cth\u003e0\u003c/th\u003e\\n      \u003ctd\u003e1.0\u003c/td\u003e\\n      \u003ctd\u003e6104.959412\u003c/td\u003e\\n      \u003ctd\u003e1.0\u003c/td\u003e\\n      \u003ctd\u003e1.0\u003c/td\u003e\\n      \u003ctd\u003e0.0\u003c/td\u003e\\n      \u003ctd\u003e0.0\u003c/td\u003e\\n      \u003ctd\u003e0.0\u003c/td\u003e\\n      \u003ctd\u003e0.0\u003c/td\u003e\\n      \u003ctd\u003e0.0\u003c/td\u003e\\n      \u003ctd\u003e0.0\u003c/td\u003e\\n      \u003ctd\u003e...\u003c/td\u003e\\n      \u003ctd\u003e0.0\u003c/td\u003e\\n      \u003ctd\u003e0.0\u003c/td\u003e\\n      \u003ctd\u003e0.0\u003c/td\u003e\\n      \u003ctd\u003e0.0\u003c/td\u003e\\n      \u003ctd\u003e1.0\u003c/td\u003e\\n      \u003ctd\u003e0.0\u003c/td\u003e\\n      \u003ctd\u003e1.0\u003c/td\u003e\\n      \u003ctd\u003e0.0\u003c/td\u003e\\n      \u003ctd\u003e1.0\u003c/td\u003e\\n      \u003ctd\u003e0.0\u003c/td\u003e\\n    \u003c/tr\u003e\\n    \u003ctr\u003e\\n      \u003cth\u003e1\u003c/th\u003e\\n      \u003ctd\u003e2.0\u003c/td\u003e\\n      \u003ctd\u003e525.000000\u003c/td\u003e\\n      \u003ctd\u003e1.0\u003c/td\u003e\\n      \u003ctd\u003e1.0\u003c/td\u003e\\n      \u003ctd\u003e0.0\u003c/td\u003e\\n      \u003ctd\u003e0.0\u003c/td\u003e\\n      \u003ctd\u003e0.0\u003c/td\u003e\\n      \u003ctd\u003e0.0\u003c/td\u003e\\n      \u003ctd\u003e0.0\u003c/td\u003e\\n      \u003ctd\u003e0.0\u003c/td\u003e\\n      \u003ctd\u003e...\u003c/td\u003e\\n      \u003ctd\u003e0.0\u003c/td\u003e\\n      \u003ctd\u003e0.0\u003c/td\u003e\\n      \u003ctd\u003e0.0\u003c/td\u003e\\n      \u003ctd\u003e0.0\u003c/td\u003e\\n      \u003ctd\u003e1.0\u003c/td\u003e\\n      \u003ctd\u003e0.0\u003c/td\u003e\\n      \u003ctd\u003e1.0\u003c/td\u003e\\n      \u003ctd\u003e0.0\u003c/td\u003e\\n      \u003ctd\u003e1.0\u003c/td\u003e\\n      \u003ctd\u003e0.0\u003c/td\u003e\\n    \u003c/tr\u003e\\n    \u003ctr\u003e\\n      \u003cth\u003e2\u003c/th\u003e\\n      \u003ctd\u003e3.0\u003c/td\u003e\\n      \u003ctd\u003e677.000000\u003c/td\u003e\\n      \u003ctd\u003e1.0\u003c/td\u003e\\n      \u003ctd\u003e1.0\u003c/td\u003e\\n      \u003ctd\u003e0.0\u003c/td\u003e\\n      \u003ctd\u003e0.0\u003c/td\u003e\\n      \u003ctd\u003e0.0\u003c/td\u003e\\n      \u003ctd\u003e0.0\u003c/td\u003e\\n      \u003ctd\u003e0.0\u003c/td\u003e\\n      \u003ctd\u003e1.0\u003c/td\u003e\\n      \u003ctd\u003e...\u003c/td\u003e\\n      \u003ctd\u003e0.0\u003c/td\u003e\\n      \u003ctd\u003e0.0\u003c/td\u003e\\n      \u003ctd\u003e0.0\u003c/td\u003e\\n      \u003ctd\u003e0.0\u003c/td\u003e\\n      \u003ctd\u003e1.0\u003c/td\u003e\\n      \u003ctd\u003e0.0\u003c/td\u003e\\n      \u003ctd\u003e1.0\u003c/td\u003e\\n      \u003ctd\u003e0.0\u003c/td\u003e\\n      \u003ctd\u003e1.0\u003c/td\u003e\\n      \u003ctd\u003e0.0\u003c/td\u003e\\n    \u003c/tr\u003e\\n    \u003ctr\u003e\\n      \u003cth\u003e3\u003c/th\u003e\\n      \u003ctd\u003e4.0\u003c/td\u003e\\n      \u003ctd\u003e500.000000\u003c/td\u003e\\n      \u003ctd\u003e1.0\u003c/td\u003e\\n      \u003ctd\u003e1.0\u003c/td\u003e\\n      \u003ctd\u003e0.0\u003c/td\u003e\\n      \u003ctd\u003e0.0\u003c/td\u003e\\n      \u003ctd\u003e0.0\u003c/td\u003e\\n      \u003ctd\u003e0.0\u003c/td\u003e\\n      \u003ctd\u003e0.0\u003c/td\u003e\\n      \u003ctd\u003e0.0\u003c/td\u003e\\n      \u003ctd\u003e...\u003c/td\u003e\\n      \u003ctd\u003e0.0\u003c/td\u003e\\n      \u003ctd\u003e0.0\u003c/td\u003e\\n      \u003ctd\u003e0.0\u003c/td\u003e\\n      \u003ctd\u003e0.0\u003c/td\u003e\\n      \u003ctd\u003e1.0\u003c/td\u003e\\n      \u003ctd\u003e0.0\u003c/td\u003e\\n      \u003ctd\u003e1.0\u003c/td\u003e\\n      \u003ctd\u003e0.0\u003c/td\u003e\\n      \u003ctd\u003e1.0\u003c/td\u003e\\n      \u003ctd\u003e0.0\u003c/td\u003e\\n    \u003c/tr\u003e\\n    \u003ctr\u003e\\n      \u003cth\u003e4\u003c/th\u003e\\n      \u003ctd\u003e5.0\u003c/td\u003e\\n      \u003ctd\u003e3170.000000\u003c/td\u003e\\n      \u003ctd\u003e1.0\u003c/td\u003e\\n      \u003ctd\u003e1.0\u003c/td\u003e\\n      \u003ctd\u003e0.0\u003c/td\u003e\\n      \u003ctd\u003e0.0\u003c/td\u003e\\n      \u003ctd\u003e0.0\u003c/td\u003e\\n      \u003ctd\u003e1.0\u003c/td\u003e\\n      \u003ctd\u003e0.0\u003c/td\u003e\\n      \u003ctd\u003e0.0\u003c/td\u003e\\n      \u003ctd\u003e...\u003c/td\u003e\\n      \u003ctd\u003e0.0\u003c/td\u003e\\n      \u003ctd\u003e0.0\u003c/td\u003e\\n      \u003ctd\u003e0.0\u003c/td\u003e\\n      \u003ctd\u003e0.0\u003c/td\u003e\\n      \u003ctd\u003e1.0\u003c/td\u003e\\n      \u003ctd\u003e0.0\u003c/td\u003e\\n      \u003ctd\u003e1.0\u003c/td\u003e\\n      \u003ctd\u003e0.0\u003c/td\u003e\\n      \u003ctd\u003e1.0\u003c/td\u003e\\n      \u003ctd\u003e0.0\u003c/td\u003e\\n    \u003c/tr\u003e\\n    \u003ctr\u003e\\n      \u003cth\u003e...\u003c/th\u003e\\n      \u003ctd\u003e...\u003c/td\u003e\\n      \u003ctd\u003e...\u003c/td\u003e\\n      \u003ctd\u003e...\u003c/td\u003e\\n      \u003ctd\u003e...\u003c/td\u003e\\n      \u003ctd\u003e...\u003c/td\u003e\\n      \u003ctd\u003e...\u003c/td\u003e\\n      \u003ctd\u003e...\u003c/td\u003e\\n      \u003ctd\u003e...\u003c/td\u003e\\n      \u003ctd\u003e...\u003c/td\u003e\\n      \u003ctd\u003e...\u003c/td\u003e\\n      \u003ctd\u003e...\u003c/td\u003e\\n      \u003ctd\u003e...\u003c/td\u003e\\n      \u003ctd\u003e...\u003c/td\u003e\\n      \u003ctd\u003e...\u003c/td\u003e\\n      \u003ctd\u003e...\u003c/td\u003e\\n      \u003ctd\u003e...\u003c/td\u003e\\n      \u003ctd\u003e...\u003c/td\u003e\\n      \u003ctd\u003e...\u003c/td\u003e\\n      \u003ctd\u003e...\u003c/td\u003e\\n      \u003ctd\u003e...\u003c/td\u003e\\n      \u003ctd\u003e...\u003c/td\u003e\\n    \u003c/tr\u003e\\n    \u003ctr\u003e\\n      \u003cth\u003e85\u003c/th\u003e\\n      \u003ctd\u003e86.0\u003c/td\u003e\\n      \u003ctd\u003e15400.000000\u003c/td\u003e\\n      \u003ctd\u003e2.0\u003c/td\u003e\\n      \u003ctd\u003e5.0\u003c/td\u003e\\n      \u003ctd\u003e2.0\u003c/td\u003e\\n      \u003ctd\u003e0.0\u003c/td\u003e\\n      \u003ctd\u003e0.0\u003c/td\u003e\\n      \u003ctd\u003e0.0\u003c/td\u003e\\n      \u003ctd\u003e0.0\u003c/td\u003e\\n      \u003ctd\u003e0.0\u003c/td\u003e\\n      \u003ctd\u003e...\u003c/td\u003e\\n      \u003ctd\u003e0.0\u003c/td\u003e\\n      \u003ctd\u003e0.0\u003c/td\u003e\\n      \u003ctd\u003e1.0\u003c/td\u003e\\n      \u003ctd\u003e0.0\u003c/td\u003e\\n      \u003ctd\u003e0.0\u003c/td\u003e\\n      \u003ctd\u003e1.0\u003c/td\u003e\\n      \u003ctd\u003e0.0\u003c/td\u003e\\n      \u003ctd\u003e1.0\u003c/td\u003e\\n      \u003ctd\u003e0.0\u003c/td\u003e\\n      \u003ctd\u003e1.0\u003c/td\u003e\\n    \u003c/tr\u003e\\n    \u003ctr\u003e\\n      \u003cth\u003e86\u003c/th\u003e\\n      \u003ctd\u003e87.0\u003c/td\u003e\\n      \u003ctd\u003e15400.000000\u003c/td\u003e\\n      \u003ctd\u003e3.0\u003c/td\u003e\\n      \u003ctd\u003e5.0\u003c/td\u003e\\n      \u003ctd\u003e2.0\u003c/td\u003e\\n      \u003ctd\u003e0.0\u003c/td\u003e\\n      \u003ctd\u003e0.0\u003c/td\u003e\\n      \u003ctd\u003e0.0\u003c/td\u003e\\n      \u003ctd\u003e0.0\u003c/td\u003e\\n      \u003ctd\u003e0.0\u003c/td\u003e\\n      \u003ctd\u003e...\u003c/td\u003e\\n      \u003ctd\u003e1.0\u003c/td\u003e\\n      \u003ctd\u003e0.0\u003c/td\u003e\\n      \u003ctd\u003e0.0\u003c/td\u003e\\n      \u003ctd\u003e0.0\u003c/td\u003e\\n      \u003ctd\u003e0.0\u003c/td\u003e\\n      \u003ctd\u003e1.0\u003c/td\u003e\\n      \u003ctd\u003e0.0\u003c/td\u003e\\n      \u003ctd\u003e1.0\u003c/td\u003e\\n      \u003ctd\u003e0.0\u003c/td\u003e\\n      \u003ctd\u003e1.0\u003c/td\u003e\\n    \u003c/tr\u003e\\n    \u003ctr\u003e\\n      \u003cth\u003e87\u003c/th\u003e\\n      \u003ctd\u003e88.0\u003c/td\u003e\\n      \u003ctd\u003e15400.000000\u003c/td\u003e\\n      \u003ctd\u003e6.0\u003c/td\u003e\\n      \u003ctd\u003e5.0\u003c/td\u003e\\n      \u003ctd\u003e5.0\u003c/td\u003e\\n      \u003ctd\u003e0.0\u003c/td\u003e\\n      \u003ctd\u003e0.0\u003c/td\u003e\\n      \u003ctd\u003e0.0\u003c/td\u003e\\n      \u003ctd\u003e0.0\u003c/td\u003e\\n      \u003ctd\u003e0.0\u003c/td\u003e\\n      \u003ctd\u003e...\u003c/td\u003e\\n      \u003ctd\u003e0.0\u003c/td\u003e\\n      \u003ctd\u003e0.0\u003c/td\u003e\\n      \u003ctd\u003e0.0\u003c/td\u003e\\n      \u003ctd\u003e0.0\u003c/td\u003e\\n      \u003ctd\u003e0.0\u003c/td\u003e\\n      \u003ctd\u003e1.0\u003c/td\u003e\\n      \u003ctd\u003e0.0\u003c/td\u003e\\n      \u003ctd\u003e1.0\u003c/td\u003e\\n      \u003ctd\u003e0.0\u003c/td\u003e\\n      \u003ctd\u003e1.0\u003c/td\u003e\\n    \u003c/tr\u003e\\n    \u003ctr\u003e\\n      \u003cth\u003e88\u003c/th\u003e\\n      \u003ctd\u003e89.0\u003c/td\u003e\\n      \u003ctd\u003e15400.000000\u003c/td\u003e\\n      \u003ctd\u003e3.0\u003c/td\u003e\\n      \u003ctd\u003e5.0\u003c/td\u003e\\n      \u003ctd\u003e2.0\u003c/td\u003e\\n      \u003ctd\u003e0.0\u003c/td\u003e\\n      \u003ctd\u003e0.0\u003c/td\u003e\\n      \u003ctd\u003e0.0\u003c/td\u003e\\n      \u003ctd\u003e0.0\u003c/td\u003e\\n      \u003ctd\u003e0.0\u003c/td\u003e\\n      \u003ctd\u003e...\u003c/td\u003e\\n      \u003ctd\u003e0.0\u003c/td\u003e\\n      \u003ctd\u003e0.0\u003c/td\u003e\\n      \u003ctd\u003e1.0\u003c/td\u003e\\n      \u003ctd\u003e0.0\u003c/td\u003e\\n      \u003ctd\u003e0.0\u003c/td\u003e\\n      \u003ctd\u003e1.0\u003c/td\u003e\\n      \u003ctd\u003e0.0\u003c/td\u003e\\n      \u003ctd\u003e1.0\u003c/td\u003e\\n      \u003ctd\u003e0.0\u003c/td\u003e\\n      \u003ctd\u003e1.0\u003c/td\u003e\\n    \u003c/tr\u003e\\n    \u003ctr\u003e\\n      \u003cth\u003e89\u003c/th\u003e\\n      \u003ctd\u003e90.0\u003c/td\u003e\\n      \u003ctd\u003e3681.000000\u003c/td\u003e\\n      \u003ctd\u003e1.0\u003c/td\u003e\\n      \u003ctd\u003e5.0\u003c/td\u003e\\n      \u003ctd\u003e0.0\u003c/td\u003e\\n      \u003ctd\u003e0.0\u003c/td\u003e\\n      \u003ctd\u003e0.0\u003c/td\u003e\\n      \u003ctd\u003e0.0\u003c/td\u003e\\n      \u003ctd\u003e0.0\u003c/td\u003e\\n      \u003ctd\u003e0.0\u003c/td\u003e\\n      \u003ctd\u003e...\u003c/td\u003e\\n      \u003ctd\u003e0.0\u003c/td\u003e\\n      \u003ctd\u003e0.0\u003c/td\u003e\\n      \u003ctd\u003e0.0\u003c/td\u003e\\n      \u003ctd\u003e1.0\u003c/td\u003e\\n      \u003ctd\u003e0.0\u003c/td\u003e\\n      \u003ctd\u003e1.0\u003c/td\u003e\\n      \u003ctd\u003e1.0\u003c/td\u003e\\n      \u003ctd\u003e0.0\u003c/td\u003e\\n      \u003ctd\u003e0.0\u003c/td\u003e\\n      \u003ctd\u003e1.0\u003c/td\u003e\\n    \u003c/tr\u003e\\n  \u003c/tbody\u003e\\n\u003c/table\u003e\\n\u003cp\u003e90 rows \\u00d7 83 columns\u003c/p\u003e\\n\u003c/div\u003e\",","                        \"text/plain\": \"    FlightNumber   PayloadMass  Flights  Block  ReusedCount  Orbit_ES-L1  \\\\\\n0            1.0   6104.959412      1.0    1.0          0.0          0.0   \\n1            2.0    525.000000      1.0    1.0          0.0          0.0   \\n2            3.0    677.000000      1.0    1.0          0.0          0.0   \\n3            4.0    500.000000      1.0    1.0          0.0          0.0   \\n4            5.0   3170.000000      1.0    1.0          0.0          0.0   \\n..           ...           ...      ...    ...          ...          ...   \\n85          86.0  15400.000000      2.0    5.0          2.0          0.0   \\n86          87.0  15400.000000      3.0    5.0          2.0          0.0   \\n87          88.0  15400.000000      6.0    5.0          5.0          0.0   \\n88          89.0  15400.000000      3.0    5.0          2.0          0.0   \\n89          90.0   3681.000000      1.0    5.0          0.0          0.0   \\n\\n    Orbit_GEO  Orbit_GTO  Orbit_HEO  Orbit_ISS  ...  Serial_B1058  \\\\\\n0         0.0        0.0        0.0        0.0  ...           0.0   \\n1         0.0        0.0        0.0        0.0  ...           0.0   \\n2         0.0        0.0        0.0        1.0  ...           0.0   \\n3         0.0        0.0        0.0        0.0  ...           0.0   \\n4         0.0        1.0        0.0        0.0  ...           0.0   \\n..        ...        ...        ...        ...  ...           ...   \\n85        0.0        0.0        0.0        0.0  ...           0.0   \\n86        0.0        0.0        0.0        0.0  ...           1.0   \\n87        0.0        0.0        0.0        0.0  ...           0.0   \\n88        0.0        0.0        0.0        0.0  ...           0.0   \\n89        0.0        0.0        0.0        0.0  ...           0.0   \\n\\n    Serial_B1059  Serial_B1060  Serial_B1062  GridFins_False  GridFins_True  \\\\\\n0            0.0           0.0           0.0             1.0            0.0   \\n1            0.0           0.0           0.0             1.0            0.0   \\n2            0.0           0.0           0.0             1.0            0.0   \\n3            0.0           0.0           0.0             1.0            0.0   \\n4            0.0           0.0           0.0             1.0            0.0   \\n..           ...           ...           ...             ...            ...   \\n85           0.0           1.0           0.0             0.0            1.0   \\n86           0.0           0.0           0.0             0.0            1.0   \\n87           0.0           0.0           0.0             0.0            1.0   \\n88           0.0           1.0           0.0             0.0            1.0   \\n89           0.0           0.0           1.0             0.0            1.0   \\n\\n    Reused_False  Reused_True  Legs_False  Legs_True  \\n0            1.0          0.0         1.0        0.0  \\n1            1.0          0.0         1.0        0.0  \\n2            1.0          0.0         1.0        0.0  \\n3            1.0          0.0         1.0        0.0  \\n4            1.0          0.0         1.0        0.0  \\n..           ...          ...         ...        ...  \\n85           0.0          1.0         0.0        1.0  \\n86           0.0          1.0         0.0        1.0  \\n87           0.0          1.0         0.0        1.0  \\n88           0.0          1.0         0.0        1.0  \\n89           1.0          0.0         0.0        1.0  \\n\\n[90 rows x 83 columns]\"","                    },","                    \"execution_count\": 4,","                    \"metadata\": {},","                    \"output_type\": \"execute_result\"","                }","            ],","            \"source\": \"X = pd.read_csv('https://cf-courses-data.s3.us.cloud-object-storage.appdomain.cloud/IBM-DS0321EN-SkillsNetwork/datasets/dataset_part_3.csv')\\n\\n# If you were unable to complete the previous lab correctly you can uncomment and load this csv\\n\\n# X = pd.read_csv('https://cf-courses-data.s3.us.cloud-object-storage.appdomain.cloud/IBMDeveloperSkillsNetwork-DS0701EN-SkillsNetwork/api/dataset_part_3.csv')\\n\\nX.head(100)\"","        },","        {","            \"cell_type\": \"markdown\",","            \"metadata\": {},","            \"source\": \"## TASK  1\\n\"","        },","        {","            \"cell_type\": \"markdown\",","            \"metadata\": {},","            \"source\": \"Create a NumPy array from the column \u003ccode\u003eClass\u003c/code\u003e in \u003ccode\u003edata\u003c/code\u003e, by applying the method \u003ccode\u003eto_numpy()\u003c/code\u003e  then\\nassign it  to the variable \u003ccode\u003eY\u003c/code\u003e,make sure the output is a  Pandas series (only one bracket df\\\\['name of  column']).\\n\"","        },","        {","            \"cell_type\": \"code\",","            \"execution_count\": 5,","            \"metadata\": {},","            \"outputs\": [","                {","                    \"data\": {","                        \"text/plain\": \"array([0, 0, 0, 0, 0, 0, 1, 1, 0, 0, 0, 0, 1, 0, 0, 0, 1, 0, 0, 1, 1, 1,\\n       1, 1, 0, 1, 1, 0, 1, 1, 0, 1, 1, 1, 0, 1, 1, 1, 1, 1, 1, 1, 1, 1,\\n       1, 0, 0, 0, 1, 1, 0, 0, 1, 1, 1, 1, 1, 1, 1, 0, 0, 1, 1, 1, 1, 1,\\n       1, 0, 1, 1, 1, 1, 0, 1, 0, 1, 0, 1, 1, 1, 1, 1, 1, 1, 1, 1, 1, 1,\\n       1, 1])\"","                    },","                    \"execution_count\": 5,","                    \"metadata\": {},","                    \"output_type\": \"execute_result\"","                }","            ],","            \"source\": \"Y = data[\\\"Class\\\"].to_numpy()\\nY\"","        },","        {","            \"cell_type\": \"markdown\",","            \"metadata\": {},","            \"source\": \"## TASK  2\\n\"","        },","        {","            \"cell_type\": \"markdown\",","            \"metadata\": {},","            \"source\": \"Standardize the data in \u003ccode\u003eX\u003c/code\u003e then reassign it to the variable  \u003ccode\u003eX\u003c/code\u003e using the transform provided below.\\n\"","        },","        {","            \"cell_type\": \"code\",","            \"execution_count\": 6,","            \"metadata\": {},","            \"outputs\": [],","            \"source\": \"# students get this \\ntransform = preprocessing.StandardScaler()\"","        },","        {","            \"cell_type\": \"code\",","            \"execution_count\": 9,","            \"metadata\": {},","            \"outputs\": [","                {","                    \"data\": {","                        \"text/plain\": \"array([[-1.71291154e+00, -1.94814463e-16, -6.53912840e-01, ...,\\n        -8.35531692e-01,  1.93309133e+00, -1.93309133e+00],\\n       [-1.67441914e+00, -1.19523159e+00, -6.53912840e-01, ...,\\n        -8.35531692e-01,  1.93309133e+00, -1.93309133e+00],\\n       [-1.63592675e+00, -1.16267307e+00, -6.53912840e-01, ...,\\n        -8.35531692e-01,  1.93309133e+00, -1.93309133e+00],\\n       ...,\\n       [ 1.63592675e+00,  1.99100483e+00,  3.49060516e+00, ...,\\n         1.19684269e+00, -5.17306132e-01,  5.17306132e-01],\\n       [ 1.67441914e+00,  1.99100483e+00,  1.00389436e+00, ...,\\n         1.19684269e+00, -5.17306132e-01,  5.17306132e-01],\\n       [ 1.71291154e+00, -5.19213966e-01, -6.53912840e-01, ...,\\n        -8.35531692e-01, -5.17306132e-01,  5.17306132e-01]])\"","                    },","                    \"execution_count\": 9,","                    \"metadata\": {},","                    \"output_type\": \"execute_result\"","                }","            ],","            \"source\": \"X = transform.fit_transform(X) \\nX\"","        },","        {","            \"cell_type\": \"markdown\",","            \"metadata\": {},","            \"source\": \"We split the data into training and testing data using the  function  \u003ccode\u003etrain_test_split\u003c/code\u003e.   The training data is divided into validation data, a second set used for training  data; then the models are trained and hyperparameters are selected using the function \u003ccode\u003eGridSearchCV\u003c/code\u003e.\\n\"","        },","        {","            \"cell_type\": \"markdown\",","            \"metadata\": {},","            \"source\": \"## TASK  3\\n\"","        },","        {","            \"cell_type\": \"markdown\",","            \"metadata\": {},","            \"source\": \"Use the function train_test_split to split the data X and Y into training and test data. Set the parameter test_size to  0.2 and random_state to 2. The training data and test data should be assigned to the following labels.\\n\"","        },","        {","            \"cell_type\": \"markdown\",","            \"metadata\": {},","            \"source\": \"\u003ccode\u003eX_train, X_test, Y_train, Y_test\u003c/code\u003e\\n\"","        },","        {","            \"cell_type\": \"code\",","            \"execution_count\": 10,","            \"metadata\": {},","            \"outputs\": [],","            \"source\": \"X_train, X_test, Y_train, Y_test = train_test_split(X, Y, test_size=0.2, random_state=2)\"","        },","        {","            \"cell_type\": \"markdown\",","            \"metadata\": {},","            \"source\": \"we can see we only have 18 test samples.\\n\"","        },","        {","            \"cell_type\": \"code\",","            \"execution_count\": 11,","            \"metadata\": {},","            \"outputs\": [","                {","                    \"data\": {","                        \"text/plain\": \"(18,)\"","                    },","                    \"execution_count\": 11,","                    \"metadata\": {},","                    \"output_type\": \"execute_result\"","                }","            ],","            \"source\": \"Y_test.shape\"","        },","        {","            \"cell_type\": \"markdown\",","            \"metadata\": {},","            \"source\": \"## TASK  4\\n\"","        },","        {","            \"cell_type\": \"markdown\",","            \"metadata\": {},","            \"source\": \"Create a logistic regression object  then create a  GridSearchCV object  \u003ccode\u003elogreg_cv\u003c/code\u003e with cv = 10.  Fit the object to find the best parameters from the dictionary \u003ccode\u003eparameters\u003c/code\u003e.\\n\"","        },","        {","            \"cell_type\": \"code\",","            \"execution_count\": 12,","            \"metadata\": {},","            \"outputs\": [],","            \"source\": \"parameters ={'C':[0.01,0.1,1],\\n             'penalty':['l2'],\\n             'solver':['lbfgs']}\"","        },","        {","            \"cell_type\": \"code\",","            \"execution_count\": 16,","            \"metadata\": {},","            \"outputs\": [","                {","                    \"data\": {","                        \"text/plain\": \"GridSearchCV(cv=10, estimator=LogisticRegression(),\\n             param_grid={'C': [0.01, 0.1, 1], 'penalty': ['l2'],\\n                         'solver': ['lbfgs']})\"","                    },","                    \"execution_count\": 16,","                    \"metadata\": {},","                    \"output_type\": \"execute_result\"","                }","            ],","            \"source\": \"parameters ={\\\"C\\\":[0.01,0.1,1],'penalty':['l2'], 'solver':['lbfgs']}# l1 lasso l2 ridge\\nlr=LogisticRegression()\\n\\n# Instantiate the GridSearchCV object: logreg_cv\\nlogreg_cv = GridSearchCV(lr, parameters, cv=10)\\n\\n# Fit it to the data\\nlogreg_cv.fit(X_train, Y_train)\\n\"","        },","        {","            \"cell_type\": \"markdown\",","            \"metadata\": {},","            \"source\": \"We output the \u003ccode\u003eGridSearchCV\u003c/code\u003e object for logistic regression. We display the best parameters using the data attribute \u003ccode\u003ebest_params\\\\_\u003c/code\u003e and the accuracy on the validation data using the data attribute \u003ccode\u003ebest_score\\\\_\u003c/code\u003e.\\n\"","        },","        {","            \"cell_type\": \"code\",","            \"execution_count\": 17,","            \"metadata\": {},","            \"outputs\": [","                {","                    \"name\": \"stdout\",","                    \"output_type\": \"stream\",","                    \"text\": \"tuned hpyerparameters :(best parameters)  {'C': 0.01, 'penalty': 'l2', 'solver': 'lbfgs'}\\naccuracy : 0.8464285714285713\\n\"","                }","            ],","            \"source\": \"print(\\\"tuned hpyerparameters :(best parameters) \\\",logreg_cv.best_params_)\\nprint(\\\"accuracy :\\\",logreg_cv.best_score_)\"","        },","        {","            \"cell_type\": \"markdown\",","            \"metadata\": {},","            \"source\": \"## TASK  5\\n\"","        },","        {","            \"cell_type\": \"markdown\",","            \"metadata\": {},","            \"source\": \"Calculate the accuracy on the test data using the method \u003ccode\u003escore\u003c/code\u003e:\\n\"","        },","        {","            \"cell_type\": \"code\",","            \"execution_count\": 18,","            \"metadata\": {},","            \"outputs\": [","                {","                    \"data\": {","                        \"text/plain\": \"0.8333333333333334\"","                    },","                    \"execution_count\": 18,","                    \"metadata\": {},","                    \"output_type\": \"execute_result\"","                }","            ],","            \"source\": \"logreg_cv.score(X_test, Y_test)\"","        },","        {","            \"cell_type\": \"markdown\",","            \"metadata\": {},","            \"source\": \"Lets look at the confusion matrix:\\n\"","        },","        {","            \"cell_type\": \"code\",","            \"execution_count\": 19,","            \"metadata\": {},","            \"outputs\": [","                {","                    \"data\": {","                        \"image/png\": \"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\\n\",","                        \"text/plain\": \"\u003cFigure size 432x288 with 2 Axes\u003e\"","                    },","                    \"metadata\": {","                        \"needs_background\": \"light\"","                    },","                    \"output_type\": \"display_data\"","                }","            ],","            \"source\": \"yhat=logreg_cv.predict(X_test)\\nplot_confusion_matrix(Y_test,yhat)\"","        },","        {","            \"cell_type\": \"code\",","            \"execution_count\": 46,","            \"metadata\": {},","            \"outputs\": [],","            \"source\": \"#lr_probs = logreg_cv.predict_proba(X_test)[:,1]\\nlr_yhat=logreg_cv.predict(X_test)\\n#lr_auc=roc_auc_score(Y_test, lr_probs) \\nlr_f1 = f1_score(Y_test, lr_yhat) \\nlr_prec = precision_score(Y_test, lr_yhat)\\nlr_rec = recall_score(Y_test, lr_yhat) \\nlr_acc=logreg_cv.score(X_test, Y_test)\"","        },","        {","            \"cell_type\": \"markdown\",","            \"metadata\": {},","            \"source\": \"Examining the confusion matrix, we see that logistic regression can distinguish between the different classes.  We see that the major problem is false positives.\\n\"","        },","        {","            \"cell_type\": \"markdown\",","            \"metadata\": {},","            \"source\": \"## TASK  6\\n\"","        },","        {","            \"cell_type\": \"markdown\",","            \"metadata\": {},","            \"source\": \"Create a support vector machine object then  create a  \u003ccode\u003eGridSearchCV\u003c/code\u003e object  \u003ccode\u003esvm_cv\u003c/code\u003e with cv - 10.  Fit the object to find the best parameters from the dictionary \u003ccode\u003eparameters\u003c/code\u003e.\\n\"","        },","        {","            \"cell_type\": \"code\",","            \"execution_count\": 47,","            \"metadata\": {},","            \"outputs\": [],","            \"source\": \"parameters = {'kernel':('linear', 'rbf','poly','rbf', 'sigmoid'),\\n              'C': np.logspace(-3, 3, 5),\\n              'gamma':np.logspace(-3, 3, 5)}\\nsvm = SVC()\"","        },","        {","            \"cell_type\": \"code\",","            \"execution_count\": 48,","            \"metadata\": {},","            \"outputs\": [","                {","                    \"data\": {","                        \"text/plain\": \"GridSearchCV(cv=10, estimator=SVC(),\\n             param_grid={'C': array([1.00000000e-03, 3.16227766e-02, 1.00000000e+00, 3.16227766e+01,\\n       1.00000000e+03]),\\n                         'gamma': array([1.00000000e-03, 3.16227766e-02, 1.00000000e+00, 3.16227766e+01,\\n       1.00000000e+03]),\\n                         'kernel': ('linear', 'rbf', 'poly', 'rbf', 'sigmoid')})\"","                    },","                    \"execution_count\": 48,","                    \"metadata\": {},","                    \"output_type\": \"execute_result\"","                }","            ],","            \"source\": \"# Instantiate the GridSearchCV object: svm_cv\\nsvm_cv = GridSearchCV(svm, parameters, cv=10)\\n\\n# Fit it to the data\\nsvm_cv.fit(X_train, Y_train)\"","        },","        {","            \"cell_type\": \"code\",","            \"execution_count\": 49,","            \"metadata\": {},","            \"outputs\": [","                {","                    \"name\": \"stdout\",","                    \"output_type\": \"stream\",","                    \"text\": \"tuned hpyerparameters :(best parameters)  {'C': 1.0, 'gamma': 0.03162277660168379, 'kernel': 'sigmoid'}\\naccuracy : 0.8482142857142856\\n\"","                }","            ],","            \"source\": \"print(\\\"tuned hpyerparameters :(best parameters) \\\",svm_cv.best_params_)\\nprint(\\\"accuracy :\\\",svm_cv.best_score_)\"","        },","        {","            \"cell_type\": \"markdown\",","            \"metadata\": {},","            \"source\": \"## TASK  7\\n\"","        },","        {","            \"cell_type\": \"markdown\",","            \"metadata\": {},","            \"source\": \"Calculate the accuracy on the test data using the method \u003ccode\u003escore\u003c/code\u003e:\\n\"","        },","        {","            \"cell_type\": \"code\",","            \"execution_count\": 50,","            \"metadata\": {},","            \"outputs\": [","                {","                    \"data\": {","                        \"text/plain\": \"0.8333333333333334\"","                    },","                    \"execution_count\": 50,","                    \"metadata\": {},","                    \"output_type\": \"execute_result\"","                }","            ],","            \"source\": \"svm_cv.score(X_test, Y_test)\"","        },","        {","            \"cell_type\": \"markdown\",","            \"metadata\": {},","            \"source\": \"We can plot the confusion matrix\\n\"","        },","        {","            \"cell_type\": \"code\",","            \"execution_count\": 51,","            \"metadata\": {},","            \"outputs\": [","                {","                    \"data\": {","                        \"image/png\": \"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\\n\",","                        \"text/plain\": \"\u003cFigure size 432x288 with 2 Axes\u003e\"","                    },","                    \"metadata\": {","                        \"needs_background\": \"light\"","                    },","                    \"output_type\": \"display_data\"","                }","            ],","            \"source\": \"yhat=svm_cv.predict(X_test)\\nplot_confusion_matrix(Y_test,yhat)\"","        },","        {","            \"cell_type\": \"code\",","            \"execution_count\": 55,","            \"metadata\": {},","            \"outputs\": [],","            \"source\": \"svm_yhat = svm_cv.predict(X_test)\\n#svm_probs = svm_cv.predict_proba(X_test)[:,1]\\n#svm_auc=roc_auc_score(Y_test, svm_probs) \\nsvm_f1 = f1_score(Y_test, svm_yhat) \\nsvm_prec = precision_score(Y_test, svm_yhat)\\nsvm_rec = recall_score(Y_test, svm_yhat) \\nsvm_acc=svm_cv.score(X_test, Y_test)\"","        },","        {","            \"cell_type\": \"markdown\",","            \"metadata\": {},","            \"source\": \"## TASK  8\\n\"","        },","        {","            \"cell_type\": \"markdown\",","            \"metadata\": {},","            \"source\": \"Create a decision tree classifier object then  create a  \u003ccode\u003eGridSearchCV\u003c/code\u003e object  \u003ccode\u003etree_cv\u003c/code\u003e with cv = 10.  Fit the object to find the best parameters from the dictionary \u003ccode\u003eparameters\u003c/code\u003e.\\n\"","        },","        {","            \"cell_type\": \"code\",","            \"execution_count\": 26,","            \"metadata\": {},","            \"outputs\": [],","            \"source\": \"parameters = {'criterion': ['gini', 'entropy'],\\n     'splitter': ['best', 'random'],\\n     'max_depth': [2*n for n in range(1,10)],\\n     'max_features': ['auto', 'sqrt'],\\n     'min_samples_leaf': [1, 2, 4],\\n     'min_samples_split': [2, 5, 10]}\\n\\ntree = DecisionTreeClassifier()\"","        },","        {","            \"cell_type\": \"code\",","            \"execution_count\": 27,","            \"metadata\": {},","            \"outputs\": [","                {","                    \"data\": {","                        \"text/plain\": \"GridSearchCV(cv=10, estimator=DecisionTreeClassifier(),\\n             param_grid={'criterion': ['gini', 'entropy'],\\n                         'max_depth': [2, 4, 6, 8, 10, 12, 14, 16, 18],\\n                         'max_features': ['auto', 'sqrt'],\\n                         'min_samples_leaf': [1, 2, 4],\\n                         'min_samples_split': [2, 5, 10],\\n                         'splitter': ['best', 'random']})\"","                    },","                    \"execution_count\": 27,","                    \"metadata\": {},","                    \"output_type\": \"execute_result\"","                }","            ],","            \"source\": \"# Instantiate the GridSearchCV object: tree_cv\\ntree_cv = GridSearchCV(tree, parameters, cv=10)\\n\\n# Fit it to the data\\ntree_cv.fit(X_train, Y_train)\"","        },","        {","            \"cell_type\": \"code\",","            \"execution_count\": 28,","            \"metadata\": {},","            \"outputs\": [","                {","                    \"name\": \"stdout\",","                    \"output_type\": \"stream\",","                    \"text\": \"tuned hpyerparameters :(best parameters)  {'criterion': 'gini', 'max_depth': 6, 'max_features': 'auto', 'min_samples_leaf': 1, 'min_samples_split': 10, 'splitter': 'random'}\\naccuracy : 0.8767857142857143\\n\"","                }","            ],","            \"source\": \"print(\\\"tuned hpyerparameters :(best parameters) \\\",tree_cv.best_params_)\\nprint(\\\"accuracy :\\\",tree_cv.best_score_)\"","        },","        {","            \"cell_type\": \"markdown\",","            \"metadata\": {},","            \"source\": \"## TASK  9\\n\"","        },","        {","            \"cell_type\": \"markdown\",","            \"metadata\": {},","            \"source\": \"Calculate the accuracy of tree_cv on the test data using the method \u003ccode\u003escore\u003c/code\u003e:\\n\"","        },","        {","            \"cell_type\": \"code\",","            \"execution_count\": 29,","            \"metadata\": {},","            \"outputs\": [","                {","                    \"data\": {","                        \"text/plain\": \"0.7777777777777778\"","                    },","                    \"execution_count\": 29,","                    \"metadata\": {},","                    \"output_type\": \"execute_result\"","                }","            ],","            \"source\": \"tree_cv.score(X_test, Y_test)\"","        },","        {","            \"cell_type\": \"markdown\",","            \"metadata\": {},","            \"source\": \"We can plot the confusion matrix\\n\"","        },","        {","            \"cell_type\": \"code\",","            \"execution_count\": 56,","            \"metadata\": {},","            \"outputs\": [","                {","                    \"data\": {","                        \"image/png\": \"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\\n\",","                        \"text/plain\": \"\u003cFigure size 432x288 with 2 Axes\u003e\"","                    },","                    \"metadata\": {","                        \"needs_background\": \"light\"","                    },","                    \"output_type\": \"display_data\"","                }","            ],","            \"source\": \"yhat = tree_cv.predict(X_test)\\nplot_confusion_matrix(Y_test,yhat)\"","        },","        {","            \"cell_type\": \"code\",","            \"execution_count\": 57,","            \"metadata\": {},","            \"outputs\": [],","            \"source\": \"tree_yhat = tree_cv.predict(X_test)\\ntree_f1 = f1_score(Y_test, tree_yhat) \\ntree_prec = precision_score(Y_test, tree_yhat)\\ntree_rec = recall_score(Y_test, tree_yhat) \\ntree_acc=tree_cv.score(X_test, Y_test)\"","        },","        {","            \"cell_type\": \"markdown\",","            \"metadata\": {},","            \"source\": \"## TASK  10\\n\"","        },","        {","            \"cell_type\": \"markdown\",","            \"metadata\": {},","            \"source\": \"Create a k nearest neighbors object then  create a  \u003ccode\u003eGridSearchCV\u003c/code\u003e object  \u003ccode\u003eknn_cv\u003c/code\u003e with cv = 10.  Fit the object to find the best parameters from the dictionary \u003ccode\u003eparameters\u003c/code\u003e.\\n\"","        },","        {","            \"cell_type\": \"code\",","            \"execution_count\": 31,","            \"metadata\": {},","            \"outputs\": [],","            \"source\": \"parameters = {'n_neighbors': [1, 2, 3, 4, 5, 6, 7, 8, 9, 10],\\n              'algorithm': ['auto', 'ball_tree', 'kd_tree', 'brute'],\\n              'p': [1,2]}\\n\\nKNN = KNeighborsClassifier()\"","        },","        {","            \"cell_type\": \"code\",","            \"execution_count\": 32,","            \"metadata\": {},","            \"outputs\": [","                {","                    \"data\": {","                        \"text/plain\": \"GridSearchCV(cv=10, estimator=KNeighborsClassifier(),\\n             param_grid={'algorithm': ['auto', 'ball_tree', 'kd_tree', 'brute'],\\n                         'n_neighbors': [1, 2, 3, 4, 5, 6, 7, 8, 9, 10],\\n                         'p': [1, 2]})\"","                    },","                    \"execution_count\": 32,","                    \"metadata\": {},","                    \"output_type\": \"execute_result\"","                }","            ],","            \"source\": \"# Instantiate the GridSearchCV object: knn_cv\\nknn_cv = GridSearchCV(KNN, parameters, cv=10)\\n\\n# Fit it to the data\\nknn_cv.fit(X_train, Y_train)\\n\"","        },","        {","            \"cell_type\": \"code\",","            \"execution_count\": 33,","            \"metadata\": {},","            \"outputs\": [","                {","                    \"name\": \"stdout\",","                    \"output_type\": \"stream\",","                    \"text\": \"tuned hpyerparameters :(best parameters)  {'algorithm': 'auto', 'n_neighbors': 10, 'p': 1}\\naccuracy : 0.8482142857142858\\n\"","                }","            ],","            \"source\": \"print(\\\"tuned hpyerparameters :(best parameters) \\\",knn_cv.best_params_)\\nprint(\\\"accuracy :\\\",knn_cv.best_score_)\"","        },","        {","            \"cell_type\": \"markdown\",","            \"metadata\": {},","            \"source\": \"## TASK  11\\n\"","        },","        {","            \"cell_type\": \"markdown\",","            \"metadata\": {},","            \"source\": \"Calculate the accuracy of tree_cv on the test data using the method \u003ccode\u003escore\u003c/code\u003e:\\n\"","        },","        {","            \"cell_type\": \"code\",","            \"execution_count\": 34,","            \"metadata\": {},","            \"outputs\": [","                {","                    \"data\": {","                        \"text/plain\": \"0.8333333333333334\"","                    },","                    \"execution_count\": 34,","                    \"metadata\": {},","                    \"output_type\": \"execute_result\"","                }","            ],","            \"source\": \"knn_cv.score(X_test, Y_test)\"","        },","        {","            \"cell_type\": \"markdown\",","            \"metadata\": {},","            \"source\": \"We can plot the confusion matrix\\n\"","        },","        {","            \"cell_type\": \"code\",","            \"execution_count\": 38,","            \"metadata\": {},","            \"outputs\": [","                {","                    \"data\": {","                        \"image/png\": \"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\\n\",","                        \"text/plain\": \"\u003cFigure size 432x288 with 2 Axes\u003e\"","                    },","                    \"metadata\": {","                        \"needs_background\": \"light\"","                    },","                    \"output_type\": \"display_data\"","                }","            ],","            \"source\": \"yhat = knn_cv.predict(X_test)\\nplot_confusion_matrix(Y_test,yhat)\"","        },","        {","            \"cell_type\": \"code\",","            \"execution_count\": 58,","            \"metadata\": {},","            \"outputs\": [],","            \"source\": \"knn_yhat = knn_cv.predict(X_test)\\nknn_f1 = f1_score(Y_test, knn_yhat) \\nknn_prec = precision_score(Y_test, knn_yhat)\\nknn_rec = recall_score(Y_test, knn_yhat) \\nknn_acc = knn_cv.score(X_test, Y_test)\"","        },","        {","            \"cell_type\": \"markdown\",","            \"metadata\": {},","            \"source\": \"## TASK  12\\n\"","        },","        {","            \"cell_type\": \"markdown\",","            \"metadata\": {},","            \"source\": \"Find the method performs best:\\n\"","        },","        {","            \"cell_type\": \"code\",","            \"execution_count\": 59,","            \"metadata\": {},","            \"outputs\": [","                {","                    \"data\": {","                        \"text/html\": \"\u003cdiv\u003e\\n\u003cstyle scoped\u003e\\n    .dataframe tbody tr th:only-of-type {\\n        vertical-align: middle;\\n    }\\n\\n    .dataframe tbody tr th {\\n        vertical-align: top;\\n    }\\n\\n    .dataframe thead th {\\n        text-align: right;\\n    }\\n\u003c/style\u003e\\n\u003ctable border=\\\"1\\\" class=\\\"dataframe\\\"\u003e\\n  \u003cthead\u003e\\n    \u003ctr style=\\\"text-align: right;\\\"\u003e\\n      \u003cth\u003e\u003c/th\u003e\\n      \u003cth\u003eF1-Score\u003c/th\u003e\\n      \u003cth\u003ePrecision\u003c/th\u003e\\n      \u003cth\u003eRecall\u003c/th\u003e\\n      \u003cth\u003eAccuracy\u003c/th\u003e\\n    \u003c/tr\u003e\\n  \u003c/thead\u003e\\n  \u003ctbody\u003e\\n    \u003ctr\u003e\\n      \u003cth\u003eLogistic Regression\u003c/th\u003e\\n      \u003ctd\u003e0.889\u003c/td\u003e\\n      \u003ctd\u003e0.80\u003c/td\u003e\\n      \u003ctd\u003e1.0\u003c/td\u003e\\n      \u003ctd\u003e0.833\u003c/td\u003e\\n    \u003c/tr\u003e\\n    \u003ctr\u003e\\n      \u003cth\u003eSVM\u003c/th\u003e\\n      \u003ctd\u003e0.889\u003c/td\u003e\\n      \u003ctd\u003e0.80\u003c/td\u003e\\n      \u003ctd\u003e1.0\u003c/td\u003e\\n      \u003ctd\u003e0.833\u003c/td\u003e\\n    \u003c/tr\u003e\\n    \u003ctr\u003e\\n      \u003cth\u003eKNN\u003c/th\u003e\\n      \u003ctd\u003e0.889\u003c/td\u003e\\n      \u003ctd\u003e0.80\u003c/td\u003e\\n      \u003ctd\u003e1.0\u003c/td\u003e\\n      \u003ctd\u003e0.833\u003c/td\u003e\\n    \u003c/tr\u003e\\n    \u003ctr\u003e\\n      \u003cth\u003eDecision Tree\u003c/th\u003e\\n      \u003ctd\u003e0.857\u003c/td\u003e\\n      \u003ctd\u003e0.75\u003c/td\u003e\\n      \u003ctd\u003e1.0\u003c/td\u003e\\n      \u003ctd\u003e0.778\u003c/td\u003e\\n    \u003c/tr\u003e\\n  \u003c/tbody\u003e\\n\u003c/table\u003e\\n\u003c/div\u003e\",","                        \"text/plain\": \"                     F1-Score  Precision  Recall  Accuracy\\nLogistic Regression     0.889       0.80     1.0     0.833\\nSVM                     0.889       0.80     1.0     0.833\\nKNN                     0.889       0.80     1.0     0.833\\nDecision Tree           0.857       0.75     1.0     0.778\"","                    },","                    \"execution_count\": 59,","                    \"metadata\": {},","                    \"output_type\": \"execute_result\"","                }","            ],","            \"source\": \"data = {'F1-Score': [lr_f1, svm_f1, tree_f1, knn_f1], \\n        'Precision': [lr_prec, svm_prec, tree_prec, knn_prec], 'Recall': [lr_rec, svm_rec, tree_rec, knn_rec],\\n        'Accuracy': [lr_acc, svm_acc, tree_acc, knn_acc]}\\nres = pd.DataFrame(data, index=['Logistic Regression', 'SVM', 'Decision Tree', 'KNN']).sort_values(by=['F1-Score'], ascending=False)\\nres.round(3)\"","        },","        {","            \"cell_type\": \"code\",","            \"execution_count\": 60,","            \"metadata\": {},","            \"outputs\": [","                {","                    \"data\": {","                        \"image/png\": \"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\\n\",","                        \"text/plain\": \"\u003cFigure size 864x576 with 1 Axes\u003e\"","                    },","                    \"metadata\": {","                        \"needs_background\": \"light\"","                    },","                    \"output_type\": \"display_data\"","                }","            ],","            \"source\": \"plt.figure(figsize=(12,8))\\nax=sns.barplot(x=res.index, y='Accuracy', data=res, palette='Blues_d')\\nsns.despine(top=True, right=True, left=False, bottom=False)\\nplt.xlabel('Model', fontsize=20)\\nplt.ylabel('Accuracy', fontsize=20)\\nax.yaxis.set_major_formatter(plt.FuncFormatter(lambda x, _: '{:.0f}%'.format(x*100)))\\nfor p in ax.patches:\\n    ax.annotate('{:.1f}%'.format(p.get_height()*100), (p.get_x()+0.4, p.get_height()), \\n                ha='center', va='bottom',color= 'black')\\nplt.title('Model Accuracy on the Test Set', fontsize=20)\\nplt.show()\"","        },","        {","            \"cell_type\": \"code\",","            \"execution_count\": 61,","            \"metadata\": {},","            \"outputs\": [","                {","                    \"data\": {","                        \"image/png\": \"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\\n\",","                        \"text/plain\": \"\u003cFigure size 864x576 with 1 Axes\u003e\"","                    },","                    \"metadata\": {","                        \"needs_background\": \"light\"","                    },","                    \"output_type\": \"display_data\"","                }","            ],","            \"source\": \"plt.figure(figsize=(12,8))\\nax=sns.barplot(x=res.index, y='F1-Score', data=res, palette='Blues_d')\\nsns.despine(top=True, right=True, left=False, bottom=False)\\nplt.xlabel('Model', fontsize=20)\\nplt.ylabel('Area Under the Curve', fontsize=20)\\nfor p in ax.patches:\\n    ax.annotate('{:.3f}'.format(p.get_height()), (p.get_x()+0.4, p.get_height()), \\n                ha='center', va='bottom',color='black')\\nplt.title('Test Set Area Under the Curve', fontsize=20)\\nplt.show()\"","        },","        {","            \"cell_type\": \"markdown\",","            \"metadata\": {},","            \"source\": \"The SVM, KNN, and Logistic Regression model achieved the highest accuracy at 83.3%, while the SVM performs the best in terms of Area Under the Curve at 0.958.\"","        },","        {","            \"cell_type\": \"markdown\",","            \"metadata\": {},","            \"source\": \"## Authors\\n\"","        },","        {","            \"cell_type\": \"markdown\",","            \"metadata\": {},","            \"source\": \"\u003ca href=\\\"https://www.linkedin.com/in/joseph-s-50398b136/?utm_medium=Exinfluencer\u0026utm_source=Exinfluencer\u0026utm_content=000026UJ\u0026utm_term=10006555\u0026utm_id=NA-SkillsNetwork-Channel-SkillsNetworkCoursesIBMDS0321ENSkillsNetwork26802033-2021-01-01\\\"\u003eJoseph Santarcangelo\u003c/a\u003e has a PhD in Electrical Engineering, his research focused on using machine learning, signal processing, and computer vision to determine how videos impact human cognition. Joseph has been working for IBM since he completed his PhD.\\n\"","        },","        {","            \"cell_type\": \"markdown\",","            \"metadata\": {},","            \"source\": \"## Change Log\\n\"","        },","        {","            \"cell_type\": \"markdown\",","            \"metadata\": {},","            \"source\": \"| Date (YYYY-MM-DD) | Version | Changed By    | Change Description      |\\n| ----------------- | ------- | ------------- | ----------------------- |\\n| 2021-08-31        | 1.1     | Lakshmi Holla | Modified markdown       |\\n| 2020-09-20        | 1.0     | Joseph        | Modified Multiple Areas |\\n\"","        },","        {","            \"cell_type\": \"markdown\",","            \"metadata\": {},","            \"source\": \"Copyright \\u00a9 2020 IBM Corporation. All rights reserved.\\n\"","        }","    ],","    \"metadata\": {","        \"kernelspec\": {","            \"display_name\": \"Python 3.8\",","            \"language\": \"python\",","            \"name\": \"python3\"","        },","        \"language_info\": {","            \"codemirror_mode\": {","                \"name\": \"ipython\",","                \"version\": 3","            },","            \"file_extension\": \".py\",","            \"mimetype\": \"text/x-python\",","            \"name\": \"python\",","            \"nbconvert_exporter\": \"python\",","            \"pygments_lexer\": \"ipython3\",","            \"version\": \"3.8.12\"","        }","    },","    \"nbformat\": 4,","    \"nbformat_minor\": 4","}"],"stylingDirectives":null,"colorizedLines":null,"csv":null,"csvError":null,"dependabotInfo":{"showConfigurationBanner":false,"configFilePath":null,"networkDependabotPath":"/SrinandanMoram/edxcourse/network/updates","dismissConfigurationNoticePath":"/settings/dismiss-notice/dependabot_configuration_notice","configurationNoticeDismissed":null},"displayName":"10-IBM-DS capstone-lab7-ML prediction.ipynb","displayUrl":"https://notebooks.githubusercontent.com/view/ipynb?browser=edge\u0026bypass_fastly=true\u0026color_mode=auto\u0026commit=2f5d0082691f62813cca259565b71578948c720d\u0026device=unknown_device\u0026docs_host=https%3A%2F%2Fdocs.github.com\u0026enc_url=68747470733a2f2f7261772e67697468756275736572636f6e74656e742e636f6d2f5372696e616e64616e4d6f72616d2f656478636f757273652f326635643030383236393166363238313363636132353935363562373135373839343863373230642f31302d49424d2d445325323063617073746f6e652d6c6162372d4d4c25323070726564696374696f6e2e6970796e62\u0026logged_in=false\u0026nwo=SrinandanMoram%2Fedxcourse\u0026path=10-IBM-DS+capstone-lab7-ML+prediction.ipynb\u0026platform=windows\u0026repository_id=779673552\u0026repository_type=Repository\u0026version=124","headerInfo":{"blobSize":"136 KB","deleteTooltip":"You must be signed in to make or propose changes","editTooltip":"You must be signed in to make or propose changes","ghDesktopPath":"https://desktop.github.com","isGitLfs":false,"onBranch":true,"shortPath":"c056591","siteNavLoginPath":"/login?return_to=https%3A%2F%2Fgithub.com%2FSrinandanMoram%2Fedxcourse%2Fblob%2Fmain%2F10-IBM-DS%2520capstone-lab7-ML%2520prediction.ipynb","isCSV":false,"isRichtext":false,"toc":null,"lineInfo":{"truncatedLoc":"781","truncatedSloc":"781"},"mode":"file"},"image":false,"isCodeownersFile":null,"isPlain":false,"isValidLegacyIssueTemplate":false,"issueTemplate":null,"discussionTemplate":null,"language":"Jupyter Notebook","languageID":185,"large":false,"planSupportInfo":{"repoIsFork":null,"repoOwnedByCurrentUser":null,"requestFullPath":"/SrinandanMoram/edxcourse/blob/main/10-IBM-DS%20capstone-lab7-ML%20prediction.ipynb","showFreeOrgGatedFeatureMessage":null,"showPlanSupportBanner":null,"upgradeDataAttributes":null,"upgradePath":null},"publishBannersInfo":{"dismissActionNoticePath":"/settings/dismiss-notice/publish_action_from_dockerfile","releasePath":"/SrinandanMoram/edxcourse/releases/new?marketplace=true","showPublishActionBanner":false},"rawBlobUrl":"https://github.com/SrinandanMoram/edxcourse/raw/main/10-IBM-DS%20capstone-lab7-ML%20prediction.ipynb","renderImageOrRaw":false,"richText":null,"renderedFileInfo":{"identityUUID":"e03c343a-a22b-41d1-b8fd-eaf980964d87","renderFileType":"ipynb","size":139757},"shortPath":null,"symbolsEnabled":true,"tabSize":8,"topBannersInfo":{"overridingGlobalFundingFile":false,"globalPreferredFundingPath":null,"showInvalidCitationWarning":false,"citationHelpUrl":"https://docs.github.com/github/creating-cloning-and-archiving-repositories/creating-a-repository-on-github/about-citation-files","actionsOnboardingTip":null},"truncated":false,"viewable":true,"workflowRedirectUrl":null,"symbols":{"timed_out":false,"not_analyzed":true,"symbols":[]}},"copilotInfo":null,"copilotAccessAllowed":false,"csrf_tokens":{"/SrinandanMoram/edxcourse/branches":{"post":"8NHFReF2UYXdCbm4TlMr-pebmKoqw8ajnAY9XGPZJGGQkQVGBWUzFqImFc08gMaN6fStkRF6Zu5iL0ytU0913Q"},"/repos/preferences":{"post":"mUgJEHL6Z0LgZWmbaqM2HEVuXYqsT0iHuzmpu9ztV3NTNO2ZQ8hFAHIyntNYyFGJLOLV8ihJ1B1cufLRi5aRQw"}}},"title":"edxcourse/10-IBM-DS capstone-lab7-ML prediction.ipynb at main · SrinandanMoram/edxcourse","appPayload":{"helpUrl":"https://docs.github.com","findFileWorkerPath":"/assets-cdn/worker/find-file-worker-a007d7f370d6.js","findInFileWorkerPath":"/assets-cdn/worker/find-in-file-worker-d0f0ff069004.js","githubDevUrl":null,"enabled_features":{"code_nav_ui_events":false,"react_blob_overlay":false,"copilot_conversational_ux_embedding_update":false,"copilot_smell_icebreaker_ux":true,"copilot_workspace":false}}}</script>
  <div data-target="react-app.reactRoot"><style data-styled="true" data-styled-version="5.3.6">.jUriTl{font-weight:600;font-size:32px;margin:0;display:-webkit-box;display:-webkit-flex;display:-ms-flexbox;display:flex;font-size:14px;}/*!sc*/
.cgQnMS{font-weight:600;font-size:32px;margin:0;}/*!sc*/
.diwsLq{font-weight:600;font-size:32px;margin:0;font-weight:600;display:inline-block;max-width:100%;font-size:16px;}/*!sc*/
.jAEDJk{font-weight:600;font-size:32px;margin:0;font-weight:600;display:inline-block;max-width:100%;font-size:14px;}/*!sc*/
data-styled.g1[id="Heading__StyledHeading-sc-1c1dgg0-0"]{content:"jUriTl,cgQnMS,diwsLq,jAEDJk,"}/*!sc*/
.fSWWem{padding:0;}/*!sc*/
.kPPmzM{max-width:100%;margin-left:auto;margin-right:auto;display:-webkit-box;display:-webkit-flex;display:-ms-flexbox;display:flex;-webkit-flex-wrap:wrap;-ms-flex-wrap:wrap;flex-wrap:wrap;}/*!sc*/
.cIAPDV{display:-webkit-box;display:-webkit-flex;display:-ms-flexbox;display:flex;-webkit-flex:1 1 100%;-ms-flex:1 1 100%;flex:1 1 100%;-webkit-flex-wrap:wrap;-ms-flex-wrap:wrap;flex-wrap:wrap;max-width:100%;}/*!sc*/
.gvCnwW{width:100%;}/*!sc*/
@media screen and (min-width:544px){.gvCnwW{width:100%;}}/*!sc*/
@media screen and (min-width:768px){.gvCnwW{width:auto;}}/*!sc*/
.esrURn{display:none;-webkit-order:1;-ms-flex-order:1;order:1;width:100%;margin-left:0;margin-right:0;-webkit-flex-direction:column;-ms-flex-direction:column;flex-direction:column;margin-bottom:0;min-width:0;}/*!sc*/
@media screen and (min-width:544px){.esrURn{-webkit-flex-direction:column;-ms-flex-direction:column;flex-direction:column;}}/*!sc*/
@media screen and (min-width:768px){.esrURn{width:auto;margin-top:0 !important;margin-bottom:0 !important;position:-webkit-sticky;position:sticky;top:0px;max-height:var(--sticky-pane-height);-webkit-flex-direction:row;-ms-flex-direction:row;flex-direction:row;margin-right:0;}}/*!sc*/
@media screen and (min-width:769px){.esrURn{height:100vh;max-height:100vh !important;}}/*!sc*/
@media print,screen and (max-width:1011px) and (min-width:768px){.esrURn{display:none;}}/*!sc*/
.eUyHuk{margin-left:0;margin-right:0;display:none;margin-top:0;}/*!sc*/
@media screen and (min-width:768px){.eUyHuk{margin-left:0 !important;margin-right:0 !important;}}/*!sc*/
.gNdDUH{--pane-min-width:256px;--pane-max-width-diff:511px;--pane-max-width:calc(100vw - var(--pane-max-width-diff));width:100%;padding:0;}/*!sc*/
@media screen and (min-width:544px){}/*!sc*/
@media screen and (min-width:768px){.gNdDUH{width:clamp(var(--pane-min-width),var(--pane-width),var(--pane-max-width));overflow:auto;}}/*!sc*/
@media screen and (min-width:1280px){.gNdDUH{--pane-max-width-diff:959px;}}/*!sc*/
.hAeDYA{height:100%;position:relative;display:none;margin-left:0;}/*!sc*/
.fjdBNx{position:absolute;inset:0 -2px;cursor:col-resize;background-color:transparent;-webkit-transition-delay:0.1s;transition-delay:0.1s;}/*!sc*/
.fjdBNx:hover{background-color:var(--bgColor-neutral-muted,var(--color-neutral-muted,rgba(175,184,193,0.2)));}/*!sc*/
.emFMJu{display:-webkit-box;display:-webkit-flex;display:-ms-flexbox;display:flex;-webkit-flex-direction:column;-ms-flex-direction:column;flex-direction:column;-webkit-order:2;-ms-flex-order:2;order:2;-webkit-flex-basis:0;-ms-flex-preferred-size:0;flex-basis:0;-webkit-box-flex:1;-webkit-flex-grow:1;-ms-flex-positive:1;flex-grow:1;-webkit-flex-shrink:1;-ms-flex-negative:1;flex-shrink:1;min-width:1px;margin-right:auto;}/*!sc*/
@media print{.emFMJu{display:-webkit-box !important;display:-webkit-flex !important;display:-ms-flexbox !important;display:flex !important;}}/*!sc*/
.hlUAHL{width:100%;max-width:100%;margin-left:auto;margin-right:auto;-webkit-box-flex:1;-webkit-flex-grow:1;-ms-flex-positive:1;flex-grow:1;padding:0;}/*!sc*/
.iStsmI{margin-left:auto;margin-right:auto;-webkit-flex-direction:column;-ms-flex-direction:column;flex-direction:column;padding-bottom:40px;max-width:100%;margin-top:0;}/*!sc*/
.eIgvIk{display:inherit;}/*!sc*/
.eVFfWF{width:100%;}/*!sc*/
.fywjmm{display:-webkit-box;display:-webkit-flex;display:-ms-flexbox;display:flex;gap:8px;-webkit-flex-direction:column;-ms-flex-direction:column;flex-direction:column;width:100%;}/*!sc*/
.dyczTK{display:-webkit-box;display:-webkit-flex;display:-ms-flexbox;display:flex;-webkit-align-items:start;-webkit-box-align:start;-ms-flex-align:start;align-items:start;-webkit-box-pack:justify;-webkit-justify-content:space-between;-ms-flex-pack:justify;justify-content:space-between;gap:8px;}/*!sc*/
.cpXcux{display:-webkit-box;display:-webkit-flex;display:-ms-flexbox;display:flex;-webkit-align-items:start;-webkit-box-align:start;-ms-flex-align:start;align-items:start;min-width:0;}/*!sc*/
.iPEkxH{display:block;margin-right:8px;}/*!sc*/
@media screen and (min-width:1360px){.iPEkxH{display:block;}}/*!sc*/
.kkrdEu{-webkit-box-pack:center;-webkit-justify-content:center;-ms-flex-pack:center;justify-content:center;}/*!sc*/
.trpoQ{display:-webkit-box;display:-webkit-flex;display:-ms-flexbox;display:flex;pointer-events:none;}/*!sc*/
.bKgizp{display:-webkit-box;display:-webkit-flex;display:-ms-flexbox;display:flex;width:100%;}/*!sc*/
.iPGYsi{margin-right:4px;color:var(--fgColor-muted,var(--color-fg-muted,#656d76));}/*!sc*/
.dKmYfk{font-size:14px;min-width:0;max-width:125px;overflow:hidden;text-overflow:ellipsis;white-space:nowrap;}/*!sc*/
.ehCeGn{-webkit-align-self:center;-ms-flex-item-align:center;align-self:center;display:-webkit-box;display:-webkit-flex;display:-ms-flexbox;display:flex;padding-left:8px;padding-right:8px;min-width:0;}/*!sc*/
.eTvGbF{display:-webkit-box;display:-webkit-flex;display:-ms-flexbox;display:flex;-webkit-flex-direction:row;-ms-flex-direction:row;flex-direction:row;font-size:16px;min-width:0;-webkit-flex-shrink:1;-ms-flex-negative:1;flex-shrink:1;-webkit-flex-wrap:wrap;-ms-flex-wrap:wrap;flex-wrap:wrap;max-width:100%;-webkit-align-items:center;-webkit-box-align:center;-ms-flex-align:center;align-items:center;}/*!sc*/
.kzRgrI{max-width:100%;}/*!sc*/
.cmAPIB{max-width:100%;list-style:none;display:inline-block;}/*!sc*/
.jwXCBK{display:inline-block;max-width:100%;}/*!sc*/
.gtBUEp{min-height:32px;display:-webkit-box;display:-webkit-flex;display:-ms-flexbox;display:flex;-webkit-align-items:start;-webkit-box-align:start;-ms-flex-align:start;align-items:start;}/*!sc*/
.kfYOBR{margin-left:4px;margin-right:4px;}/*!sc*/
.hVZtwF{margin-left:16px;margin-right:16px;}/*!sc*/
.cMYnca{display:-webkit-box;display:-webkit-flex;display:-ms-flexbox;display:flex;-webkit-flex-direction:column;-ms-flex-direction:column;flex-direction:column;}/*!sc*/
.jQCQnS{display:-webkit-box;display:-webkit-flex;display:-ms-flexbox;display:flex;-webkit-flex-direction:column;-ms-flex-direction:column;flex-direction:column;border:1px solid;border-color:var(--borderColor-default,var(--color-border-default,#d0d7de));border-radius:6px;margin-bottom:16px;}/*!sc*/
.dhUVTM{display:-webkit-box;display:-webkit-flex;display:-ms-flexbox;display:flex;-webkit-flex-direction:row;-ms-flex-direction:row;flex-direction:row;-webkit-flex-wrap:wrap;-ms-flex-wrap:wrap;flex-wrap:wrap;-webkit-box-pack:justify;-webkit-justify-content:space-between;-ms-flex-pack:justify;justify-content:space-between;-webkit-align-items:center;-webkit-box-align:center;-ms-flex-align:center;align-items:center;gap:8px;min-width:273px;padding-right:8px;padding-left:16px;padding-top:8px;padding-bottom:8px;}/*!sc*/
@media screen and (min-width:544px){.dhUVTM{-webkit-flex-wrap:nowrap;-ms-flex-wrap:nowrap;flex-wrap:nowrap;}}/*!sc*/
.fleZSW{-webkit-align-items:center;-webkit-box-align:center;-ms-flex-align:center;align-items:center;}/*!sc*/
.jGfYmh{display:-webkit-box;display:-webkit-flex;display:-ms-flexbox;display:flex;gap:8px;}/*!sc*/
.bqgLjk{display:inherit;}/*!sc*/
@media screen and (min-width:544px){.bqgLjk{display:none;}}/*!sc*/
@media screen and (min-width:768px){.bqgLjk{display:none;}}/*!sc*/
.iJmJly{display:-webkit-box;display:-webkit-flex;display:-ms-flexbox;display:flex;-webkit-flex-direction:row;-ms-flex-direction:row;flex-direction:row;}/*!sc*/
.jACbi{width:100%;height:-webkit-fit-content;height:-moz-fit-content;height:fit-content;min-width:0;margin-right:0;}/*!sc*/
.gIJuDf{height:40px;padding-left:4px;padding-bottom:16px;}/*!sc*/
.BnySK{font-size:12px;-webkit-flex:auto;-ms-flex:auto;flex:auto;padding-right:16px;color:var(--fgColor-muted,var(--color-fg-muted,#656d76));min-width:0;}/*!sc*/
.VHzRk{top:0px;z-index:4;background:var(--bgColor-default,var(--color-canvas-default));position:-webkit-sticky;position:sticky;}/*!sc*/
.ePiodO{display:-webkit-box;display:-webkit-flex;display:-ms-flexbox;display:flex;-webkit-flex-direction:column;-ms-flex-direction:column;flex-direction:column;width:100%;position:absolute;}/*!sc*/
.kQJlnf{display:none;min-width:0;padding-top:8px;padding-bottom:8px;}/*!sc*/
.nSWSp{display:-webkit-box;display:-webkit-flex;display:-ms-flexbox;display:flex;-webkit-align-items:center;-webkit-box-align:center;-ms-flex-align:center;align-items:center;overflow:hidden;margin-left:8px;margin-right:8px;-webkit-flex-direction:row;-ms-flex-direction:row;flex-direction:row;-webkit-box-pack:justify;-webkit-justify-content:space-between;-ms-flex-pack:justify;justify-content:space-between;width:100%;}/*!sc*/
.lhFvfi{display:-webkit-box;display:-webkit-flex;display:-ms-flexbox;display:flex;-webkit-align-items:center;-webkit-box-align:center;-ms-flex-align:center;align-items:center;}/*!sc*/
.doiYd{margin-left:4px;margin-right:8px;}/*!sc*/
.jKPiSV{text-overflow:ellipsis;overflow:hidden;display:-webkit-box;display:-webkit-flex;display:-ms-flexbox;display:flex;}/*!sc*/
.iZJewz{display:-webkit-box;display:-webkit-flex;display:-ms-flexbox;display:flex;-webkit-flex-direction:row;-ms-flex-direction:row;flex-direction:row;font-size:14px;min-width:0;-webkit-flex-shrink:1;-ms-flex-negative:1;flex-shrink:1;-webkit-flex-wrap:wrap;-ms-flex-wrap:wrap;flex-wrap:wrap;max-width:100%;-webkit-align-items:center;-webkit-box-align:center;-ms-flex-align:center;align-items:center;}/*!sc*/
.jfjHXm{padding-left:8px;padding-top:8px;padding-bottom:8px;display:-webkit-box;display:-webkit-flex;display:-ms-flexbox;display:flex;-webkit-flex:1;-ms-flex:1;flex:1;-webkit-align-items:center;-webkit-box-align:center;-ms-flex-align:center;align-items:center;-webkit-box-pack:justify;-webkit-justify-content:space-between;-ms-flex-pack:justify;justify-content:space-between;background-color:var(--bgColor-muted,var(--color-canvas-subtle,#f6f8fa));border:1px solid var(--borderColor-default,var(--color-border-default));border-radius:6px 6px 0px 0px;}/*!sc*/
.bfkNRF{display:-webkit-box;display:-webkit-flex;display:-ms-flexbox;display:flex;-webkit-align-items:center;-webkit-box-align:center;-ms-flex-align:center;align-items:center;gap:8px;min-width:0;}/*!sc*/
.fXBLEV{display:block;position:relative;-webkit-box-flex:1;-webkit-flex-grow:1;-ms-flex-positive:1;flex-grow:1;margin-top:-1px;margin-bottom:-1px;--separator-color:transparent;}/*!sc*/
.fXBLEV:not(:last-child){margin-right:1px;}/*!sc*/
.fXBLEV:not(:last-child):after{background-color:var(--separator-color);content:"";position:absolute;right:-2px;top:8px;bottom:8px;width:1px;}/*!sc*/
.fXBLEV:focus-within:has(:focus-visible){--separator-color:transparent;}/*!sc*/
.fXBLEV:first-child{margin-left:-1px;}/*!sc*/
.fXBLEV:last-child{margin-right:-1px;}/*!sc*/
.gMPsNT{display:block;position:relative;-webkit-box-flex:1;-webkit-flex-grow:1;-ms-flex-positive:1;flex-grow:1;margin-top:-1px;margin-bottom:-1px;--separator-color:var(--borderColor-default,var(--color-border-default,#d0d7de));}/*!sc*/
.gMPsNT:not(:last-child){margin-right:1px;}/*!sc*/
.gMPsNT:not(:last-child):after{background-color:var(--separator-color);content:"";position:absolute;right:-2px;top:8px;bottom:8px;width:1px;}/*!sc*/
.gMPsNT:focus-within:has(:focus-visible){--separator-color:transparent;}/*!sc*/
.gMPsNT:first-child{margin-left:-1px;}/*!sc*/
.gMPsNT:last-child{margin-right:-1px;}/*!sc*/
.iBylDf{display:-webkit-box;display:-webkit-flex;display:-ms-flexbox;display:flex;-webkit-align-items:center;-webkit-box-align:center;-ms-flex-align:center;align-items:center;gap:8px;margin-right:8px;}/*!sc*/
.kSGBPx{gap:8px;}/*!sc*/
.ytOJl{border:1px solid;border-top:none;border-color:var(--borderColor-default,var(--color-border-default,#d0d7de));border-radius:0px 0px 6px 6px;min-width:273px;}/*!sc*/
.eJsjkT{background-color:var(--bgColor-default,var(--color-canvas-default));border:0px;border-width:0;border-radius:0px 0px 6px 6px;padding:0;min-width:0;margin-top:46px;overflow:auto;}/*!sc*/
.aZrVR{position:fixed;top:0;right:0;height:100%;width:15px;-webkit-transition:-webkit-transform 0.3s;-webkit-transition:transform 0.3s;transition:transform 0.3s;z-index:1;}/*!sc*/
.aZrVR:hover{-webkit-transform:scaleX(1.5);-ms-transform:scaleX(1.5);transform:scaleX(1.5);}/*!sc*/
.bAzdCq{display:-webkit-box;display:-webkit-flex;display:-ms-flexbox;display:flex;-webkit-flex-direction:column;-ms-flex-direction:column;flex-direction:column;-webkit-align-items:center;-webkit-box-align:center;-ms-flex-align:center;align-items:center;padding-top:16px;padding-bottom:16px;}/*!sc*/
data-styled.g2[id="Box-sc-g0xbh4-0"]{content:"fSWWem,kPPmzM,cIAPDV,gvCnwW,esrURn,eUyHuk,gNdDUH,hAeDYA,fjdBNx,emFMJu,hlUAHL,iStsmI,eIgvIk,eVFfWF,fywjmm,dyczTK,cpXcux,iPEkxH,kkrdEu,trpoQ,bKgizp,iPGYsi,dKmYfk,ehCeGn,eTvGbF,kzRgrI,cmAPIB,jwXCBK,gtBUEp,kfYOBR,hVZtwF,cMYnca,jQCQnS,dhUVTM,fleZSW,jGfYmh,bqgLjk,iJmJly,jACbi,gIJuDf,BnySK,VHzRk,ePiodO,kQJlnf,nSWSp,lhFvfi,doiYd,jKPiSV,iZJewz,jfjHXm,bfkNRF,fXBLEV,gMPsNT,iBylDf,kSGBPx,ytOJl,eJsjkT,aZrVR,bAzdCq,"}/*!sc*/
body[data-page-layout-dragging="true"]{cursor:col-resize;}/*!sc*/
body[data-page-layout-dragging="true"] *{-webkit-user-select:none;-moz-user-select:none;-ms-user-select:none;user-select:none;}/*!sc*/
data-styled.g3[id="sc-global-gbKrvU1"]{content:"sc-global-gbKrvU1,"}/*!sc*/
.bOMzPg{min-width:0;}/*!sc*/
.fIsVJr{padding-left:4px;padding-right:4px;font-weight:400;color:var(--fgColor-muted,var(--color-fg-muted,#656d76));font-size:16px;}/*!sc*/
.dALsKK{color:var(--fgColor-default,var(--color-fg-default,#1F2328));}/*!sc*/
.cYjMDB{padding-left:4px;padding-right:4px;font-weight:400;color:var(--fgColor-muted,var(--color-fg-muted,#656d76));font-size:14px;}/*!sc*/
data-styled.g6[id="Text-sc-17v1xeu-0"]{content:"bOMzPg,fIsVJr,dALsKK,gPDEWA,cYjMDB,"}/*!sc*/
.ipyMWB{color:var(--fgColor-accent,var(--color-accent-fg,#0969da));-webkit-text-decoration:none;text-decoration:none;font-weight:600;}/*!sc*/
[data-a11y-link-underlines='true'] .Link__StyledLink-sc-14289xe-0[data-inline='true']{-webkit-text-decoration:underline;text-decoration:underline;}/*!sc*/
.ipyMWB:hover{-webkit-text-decoration:underline;text-decoration:underline;}/*!sc*/
.ipyMWB:is(button){display:inline-block;padding:0;font-size:inherit;white-space:nowrap;cursor:pointer;-webkit-user-select:none;-moz-user-select:none;-ms-user-select:none;user-select:none;background-color:transparent;border:0;-webkit-appearance:none;-moz-appearance:none;appearance:none;}/*!sc*/
data-styled.g8[id="Link__StyledLink-sc-14289xe-0"]{content:"ipyMWB,"}/*!sc*/
.blmaBs{border-radius:6px;border:1px solid;border-color:transparent;font-family:inherit;font-weight:500;font-size:14px;cursor:pointer;-webkit-appearance:none;-moz-appearance:none;appearance:none;-webkit-user-select:none;-moz-user-select:none;-ms-user-select:none;user-select:none;-webkit-text-decoration:none;text-decoration:none;text-align:center;display:-webkit-box;display:-webkit-flex;display:-ms-flexbox;display:flex;-webkit-align-items:center;-webkit-box-align:center;-ms-flex-align:center;align-items:center;-webkit-box-pack:justify;-webkit-justify-content:space-between;-ms-flex-pack:justify;justify-content:space-between;height:32px;padding:0 12px;gap:8px;min-width:-webkit-max-content;min-width:-moz-max-content;min-width:max-content;-webkit-transition:80ms cubic-bezier(0.65,0,0.35,1);transition:80ms cubic-bezier(0.65,0,0.35,1);-webkit-transition-property:color,fill,background-color,border-color;transition-property:color,fill,background-color,border-color;color:var(--button-default-fgColor-rest,var(--color-btn-text,#24292f));background-color:transparent;box-shadow:none;}/*!sc*/
.blmaBs:focus:not(:disabled){box-shadow:none;outline:2px solid var(--fgColor-accent,var(--color-accent-fg,#0969da));outline-offset:-2px;}/*!sc*/
.blmaBs:focus:not(:disabled):not(:focus-visible){outline:solid 1px transparent;}/*!sc*/
.blmaBs:focus-visible:not(:disabled){box-shadow:none;outline:2px solid var(--fgColor-accent,var(--color-accent-fg,#0969da));outline-offset:-2px;}/*!sc*/
.blmaBs[href]{display:-webkit-inline-box;display:-webkit-inline-flex;display:-ms-inline-flexbox;display:inline-flex;}/*!sc*/
.blmaBs[href]:hover{-webkit-text-decoration:none;text-decoration:none;}/*!sc*/
.blmaBs:hover{-webkit-transition-duration:80ms;transition-duration:80ms;}/*!sc*/
.blmaBs:active{-webkit-transition:none;transition:none;}/*!sc*/
.blmaBs[data-inactive]{cursor:auto;}/*!sc*/
.blmaBs:disabled{cursor:not-allowed;box-shadow:none;color:var(--fgColor-disabled,var(--color-primer-fg-disabled,#8c959f));}/*!sc*/
.blmaBs:disabled [data-component=ButtonCounter],.blmaBs:disabled [data-component="leadingVisual"],.blmaBs:disabled [data-component="trailingAction"]{color:inherit;}/*!sc*/
@media (forced-colors:active){.blmaBs:focus{outline:solid 1px transparent;}}/*!sc*/
.blmaBs [data-component=ButtonCounter]{font-size:12px;}/*!sc*/
.blmaBs[data-component=IconButton]{display:inline-grid;padding:unset;place-content:center;width:32px;min-width:unset;}/*!sc*/
.blmaBs[data-size="small"]{padding:0 8px;height:28px;gap:4px;font-size:12px;}/*!sc*/
.blmaBs[data-size="small"] [data-component="text"]{line-height:calc(20 / 12);}/*!sc*/
.blmaBs[data-size="small"] [data-component=ButtonCounter]{font-size:12px;}/*!sc*/
.blmaBs[data-size="small"] [data-component="buttonContent"] > :not(:last-child){margin-right:4px;}/*!sc*/
.blmaBs[data-size="small"][data-component=IconButton]{width:28px;padding:unset;}/*!sc*/
.blmaBs[data-size="large"]{padding:0 16px;height:40px;gap:8px;}/*!sc*/
.blmaBs[data-size="large"] [data-component="buttonContent"] > :not(:last-child){margin-right:8px;}/*!sc*/
.blmaBs[data-size="large"][data-component=IconButton]{width:40px;padding:unset;}/*!sc*/
.blmaBs[data-block="block"]{width:100%;}/*!sc*/
.blmaBs[data-inactive]:not([disabled]){background-color:var(--button-inactive-bgColor,var(--button-inactive-bgColor-rest,var(--color-btn-inactive-bg,#eaeef2)));border-color:var(--button-inactive-bgColor,var(--button-inactive-bgColor-rest,var(--color-btn-inactive-bg,#eaeef2)));color:var(--button-inactive-fgColor,var(--button-inactive-fgColor-rest,var(--color-btn-inactive-text,#57606a)));}/*!sc*/
.blmaBs[data-inactive]:not([disabled]):focus-visible{box-shadow:none;}/*!sc*/
.blmaBs [data-component="leadingVisual"]{grid-area:leadingVisual;color:var(--fgColor-muted,var(--color-fg-muted,#656d76));}/*!sc*/
.blmaBs [data-component="text"]{grid-area:text;line-height:calc(20/14);white-space:nowrap;}/*!sc*/
.blmaBs [data-component="trailingVisual"]{grid-area:trailingVisual;}/*!sc*/
.blmaBs [data-component="trailingAction"]{margin-right:-4px;color:var(--fgColor-muted,var(--color-fg-muted,#656d76));}/*!sc*/
.blmaBs [data-component="buttonContent"]{-webkit-flex:1 0 auto;-ms-flex:1 0 auto;flex:1 0 auto;display:grid;grid-template-areas:"leadingVisual text trailingVisual";grid-template-columns:min-content minmax(0,auto) min-content;-webkit-align-items:center;-webkit-box-align:center;-ms-flex-align:center;align-items:center;-webkit-align-content:center;-ms-flex-line-pack:center;align-content:center;}/*!sc*/
.blmaBs [data-component="buttonContent"] > :not(:last-child){margin-right:8px;}/*!sc*/
.blmaBs:hover:not([disabled]){background-color:var(--control-transparent-bgColor-hover,var(--color-action-list-item-default-hover-bg,rgba(208,215,222,0.32)));}/*!sc*/
.blmaBs:active:not([disabled]){background-color:var(--control-transparent-bgColor-active,var(--color-action-list-item-default-active-bg,rgba(208,215,222,0.48)));}/*!sc*/
.blmaBs[aria-expanded=true]{background-color:var(--control-transparent-bgColor-selected,var(--color-action-list-item-default-selected-bg,rgba(208,215,222,0.24)));}/*!sc*/
.blmaBs[data-component="IconButton"][data-no-visuals]{color:var(--fgColor-muted,var(--color-fg-muted,#656d76));}/*!sc*/
.blmaBs[data-no-visuals]{color:var(--fgColor-accent,var(--color-accent-fg,#0969da));}/*!sc*/
.blmaBs:has([data-component="ButtonCounter"]){color:var(--button-default-fgColor-rest,var(--color-btn-text,#24292f));}/*!sc*/
.blmaBs:disabled[data-no-visuals]{color:var(--fgColor-disabled,var(--color-primer-fg-disabled,#8c959f));}/*!sc*/
.blmaBs:disabled[data-no-visuals] [data-component=ButtonCounter]{color:inherit;}/*!sc*/
.blmaBs{color:var(--fgColor-muted,var(--color-fg-muted,#656d76));padding-left:8px;padding-right:8px;display:none;}/*!sc*/
@media screen and (max-width:768px){.blmaBs{display:block;}}/*!sc*/
.hkJzmn{border-radius:6px;border:1px solid;border-color:transparent;font-family:inherit;font-weight:500;font-size:14px;cursor:pointer;-webkit-appearance:none;-moz-appearance:none;appearance:none;-webkit-user-select:none;-moz-user-select:none;-ms-user-select:none;user-select:none;-webkit-text-decoration:none;text-decoration:none;text-align:center;display:-webkit-box;display:-webkit-flex;display:-ms-flexbox;display:flex;-webkit-align-items:center;-webkit-box-align:center;-ms-flex-align:center;align-items:center;-webkit-box-pack:justify;-webkit-justify-content:space-between;-ms-flex-pack:justify;justify-content:space-between;height:32px;padding:0 12px;gap:8px;min-width:-webkit-max-content;min-width:-moz-max-content;min-width:max-content;-webkit-transition:80ms cubic-bezier(0.65,0,0.35,1);transition:80ms cubic-bezier(0.65,0,0.35,1);-webkit-transition-property:color,fill,background-color,border-color;transition-property:color,fill,background-color,border-color;color:var(--button-default-fgColor-rest,var(--color-btn-text,#24292f));background-color:transparent;box-shadow:none;}/*!sc*/
.hkJzmn:focus:not(:disabled){box-shadow:none;outline:2px solid var(--fgColor-accent,var(--color-accent-fg,#0969da));outline-offset:-2px;}/*!sc*/
.hkJzmn:focus:not(:disabled):not(:focus-visible){outline:solid 1px transparent;}/*!sc*/
.hkJzmn:focus-visible:not(:disabled){box-shadow:none;outline:2px solid var(--fgColor-accent,var(--color-accent-fg,#0969da));outline-offset:-2px;}/*!sc*/
.hkJzmn[href]{display:-webkit-inline-box;display:-webkit-inline-flex;display:-ms-inline-flexbox;display:inline-flex;}/*!sc*/
.hkJzmn[href]:hover{-webkit-text-decoration:none;text-decoration:none;}/*!sc*/
.hkJzmn:hover{-webkit-transition-duration:80ms;transition-duration:80ms;}/*!sc*/
.hkJzmn:active{-webkit-transition:none;transition:none;}/*!sc*/
.hkJzmn[data-inactive]{cursor:auto;}/*!sc*/
.hkJzmn:disabled{cursor:not-allowed;box-shadow:none;color:var(--fgColor-disabled,var(--color-primer-fg-disabled,#8c959f));}/*!sc*/
.hkJzmn:disabled [data-component=ButtonCounter],.hkJzmn:disabled [data-component="leadingVisual"],.hkJzmn:disabled [data-component="trailingAction"]{color:inherit;}/*!sc*/
@media (forced-colors:active){.hkJzmn:focus{outline:solid 1px transparent;}}/*!sc*/
.hkJzmn [data-component=ButtonCounter]{font-size:12px;}/*!sc*/
.hkJzmn[data-component=IconButton]{display:inline-grid;padding:unset;place-content:center;width:32px;min-width:unset;}/*!sc*/
.hkJzmn[data-size="small"]{padding:0 8px;height:28px;gap:4px;font-size:12px;}/*!sc*/
.hkJzmn[data-size="small"] [data-component="text"]{line-height:calc(20 / 12);}/*!sc*/
.hkJzmn[data-size="small"] [data-component=ButtonCounter]{font-size:12px;}/*!sc*/
.hkJzmn[data-size="small"] [data-component="buttonContent"] > :not(:last-child){margin-right:4px;}/*!sc*/
.hkJzmn[data-size="small"][data-component=IconButton]{width:28px;padding:unset;}/*!sc*/
.hkJzmn[data-size="large"]{padding:0 16px;height:40px;gap:8px;}/*!sc*/
.hkJzmn[data-size="large"] [data-component="buttonContent"] > :not(:last-child){margin-right:8px;}/*!sc*/
.hkJzmn[data-size="large"][data-component=IconButton]{width:40px;padding:unset;}/*!sc*/
.hkJzmn[data-block="block"]{width:100%;}/*!sc*/
.hkJzmn[data-inactive]:not([disabled]){background-color:var(--button-inactive-bgColor,var(--button-inactive-bgColor-rest,var(--color-btn-inactive-bg,#eaeef2)));border-color:var(--button-inactive-bgColor,var(--button-inactive-bgColor-rest,var(--color-btn-inactive-bg,#eaeef2)));color:var(--button-inactive-fgColor,var(--button-inactive-fgColor-rest,var(--color-btn-inactive-text,#57606a)));}/*!sc*/
.hkJzmn[data-inactive]:not([disabled]):focus-visible{box-shadow:none;}/*!sc*/
.hkJzmn [data-component="leadingVisual"]{grid-area:leadingVisual;color:var(--fgColor-muted,var(--color-fg-muted,#656d76));}/*!sc*/
.hkJzmn [data-component="text"]{grid-area:text;line-height:calc(20/14);white-space:nowrap;}/*!sc*/
.hkJzmn [data-component="trailingVisual"]{grid-area:trailingVisual;}/*!sc*/
.hkJzmn [data-component="trailingAction"]{margin-right:-4px;color:var(--fgColor-muted,var(--color-fg-muted,#656d76));}/*!sc*/
.hkJzmn [data-component="buttonContent"]{-webkit-flex:1 0 auto;-ms-flex:1 0 auto;flex:1 0 auto;display:grid;grid-template-areas:"leadingVisual text trailingVisual";grid-template-columns:min-content minmax(0,auto) min-content;-webkit-align-items:center;-webkit-box-align:center;-ms-flex-align:center;align-items:center;-webkit-align-content:center;-ms-flex-line-pack:center;align-content:center;}/*!sc*/
.hkJzmn [data-component="buttonContent"] > :not(:last-child){margin-right:8px;}/*!sc*/
.hkJzmn:hover:not([disabled]){background-color:var(--control-transparent-bgColor-hover,var(--color-action-list-item-default-hover-bg,rgba(208,215,222,0.32)));}/*!sc*/
.hkJzmn:active:not([disabled]){background-color:var(--control-transparent-bgColor-active,var(--color-action-list-item-default-active-bg,rgba(208,215,222,0.48)));}/*!sc*/
.hkJzmn[aria-expanded=true]{background-color:var(--control-transparent-bgColor-selected,var(--color-action-list-item-default-selected-bg,rgba(208,215,222,0.24)));}/*!sc*/
.hkJzmn[data-component="IconButton"][data-no-visuals]{color:var(--fgColor-muted,var(--color-fg-muted,#656d76));}/*!sc*/
.hkJzmn[data-no-visuals]{color:var(--fgColor-muted,var(--color-fg-muted,#656d76));height:32px;position:relative;}/*!sc*/
@media screen and (max-width:768px){.hkJzmn[data-no-visuals]{display:none;}}/*!sc*/
.hkJzmn:has([data-component="ButtonCounter"]){color:var(--button-default-fgColor-rest,var(--color-btn-text,#24292f));}/*!sc*/
.hkJzmn:disabled[data-no-visuals]{color:var(--fgColor-disabled,var(--color-primer-fg-disabled,#8c959f));}/*!sc*/
.hkJzmn:disabled[data-no-visuals] [data-component=ButtonCounter]{color:inherit;}/*!sc*/
.hILMMl{border-radius:6px;border:1px solid;border-color:var(--button-default-borderColor-rest,var(--button-default-borderColor-rest,var(--color-btn-border,rgba(31,35,40,0.15))));font-family:inherit;font-weight:500;font-size:14px;cursor:pointer;-webkit-appearance:none;-moz-appearance:none;appearance:none;-webkit-user-select:none;-moz-user-select:none;-ms-user-select:none;user-select:none;-webkit-text-decoration:none;text-decoration:none;text-align:center;display:-webkit-box;display:-webkit-flex;display:-ms-flexbox;display:flex;-webkit-align-items:center;-webkit-box-align:center;-ms-flex-align:center;align-items:center;-webkit-box-pack:justify;-webkit-justify-content:space-between;-ms-flex-pack:justify;justify-content:space-between;height:32px;padding:0 12px;gap:8px;min-width:-webkit-max-content;min-width:-moz-max-content;min-width:max-content;-webkit-transition:80ms cubic-bezier(0.65,0,0.35,1);transition:80ms cubic-bezier(0.65,0,0.35,1);-webkit-transition-property:color,fill,background-color,border-color;transition-property:color,fill,background-color,border-color;color:var(--button-default-fgColor-rest,var(--color-btn-text,#24292f));background-color:var(--button-default-bgColor-rest,var(--color-btn-bg,#f6f8fa));box-shadow:var(--button-default-shadow-resting,var(--color-btn-shadow,0 1px 0 rgba(31,35,40,0.04))),var(--button-default-shadow-inset,var(--color-btn-inset-shadow,inset 0 1px 0 rgba(255,255,255,0.25)));}/*!sc*/
.hILMMl:focus:not(:disabled){box-shadow:none;outline:2px solid var(--fgColor-accent,var(--color-accent-fg,#0969da));outline-offset:-2px;}/*!sc*/
.hILMMl:focus:not(:disabled):not(:focus-visible){outline:solid 1px transparent;}/*!sc*/
.hILMMl:focus-visible:not(:disabled){box-shadow:none;outline:2px solid var(--fgColor-accent,var(--color-accent-fg,#0969da));outline-offset:-2px;}/*!sc*/
.hILMMl[href]{display:-webkit-inline-box;display:-webkit-inline-flex;display:-ms-inline-flexbox;display:inline-flex;}/*!sc*/
.hILMMl[href]:hover{-webkit-text-decoration:none;text-decoration:none;}/*!sc*/
.hILMMl:hover{-webkit-transition-duration:80ms;transition-duration:80ms;}/*!sc*/
.hILMMl:active{-webkit-transition:none;transition:none;}/*!sc*/
.hILMMl[data-inactive]{cursor:auto;}/*!sc*/
.hILMMl:disabled{cursor:not-allowed;box-shadow:none;color:var(--fgColor-disabled,var(--color-primer-fg-disabled,#8c959f));border-color:var(--button-default-borderColor-disabled,var(--button-default-borderColor-rest,var(--color-btn-border,rgba(31,35,40,0.15))));background-color:var(--button-default-bgColor-disabled,var(--control-bgColor-disabled,var(--color-input-disabled-bg,rgba(175,184,193,0.2))));}/*!sc*/
.hILMMl:disabled [data-component=ButtonCounter]{color:inherit;}/*!sc*/
@media (forced-colors:active){.hILMMl:focus{outline:solid 1px transparent;}}/*!sc*/
.hILMMl [data-component=ButtonCounter]{font-size:12px;background-color:var(--buttonCounter-default-bgColor-rest,var(--color-btn-counter-bg,rgba(31,35,40,0.08)));}/*!sc*/
.hILMMl[data-component=IconButton]{display:inline-grid;padding:unset;place-content:center;width:32px;min-width:unset;}/*!sc*/
.hILMMl[data-size="small"]{padding:0 8px;height:28px;gap:4px;font-size:12px;}/*!sc*/
.hILMMl[data-size="small"] [data-component="text"]{line-height:calc(20 / 12);}/*!sc*/
.hILMMl[data-size="small"] [data-component=ButtonCounter]{font-size:12px;}/*!sc*/
.hILMMl[data-size="small"] [data-component="buttonContent"] > :not(:last-child){margin-right:4px;}/*!sc*/
.hILMMl[data-size="small"][data-component=IconButton]{width:28px;padding:unset;}/*!sc*/
.hILMMl[data-size="large"]{padding:0 16px;height:40px;gap:8px;}/*!sc*/
.hILMMl[data-size="large"] [data-component="buttonContent"] > :not(:last-child){margin-right:8px;}/*!sc*/
.hILMMl[data-size="large"][data-component=IconButton]{width:40px;padding:unset;}/*!sc*/
.hILMMl[data-block="block"]{width:100%;}/*!sc*/
.hILMMl[data-inactive]:not([disabled]){background-color:var(--button-inactive-bgColor,var(--button-inactive-bgColor-rest,var(--color-btn-inactive-bg,#eaeef2)));border-color:var(--button-inactive-bgColor,var(--button-inactive-bgColor-rest,var(--color-btn-inactive-bg,#eaeef2)));color:var(--button-inactive-fgColor,var(--button-inactive-fgColor-rest,var(--color-btn-inactive-text,#57606a)));}/*!sc*/
.hILMMl[data-inactive]:not([disabled]):focus-visible{box-shadow:none;}/*!sc*/
.hILMMl [data-component="leadingVisual"]{grid-area:leadingVisual;}/*!sc*/
.hILMMl [data-component="text"]{grid-area:text;line-height:calc(20/14);white-space:nowrap;}/*!sc*/
.hILMMl [data-component="trailingVisual"]{grid-area:trailingVisual;}/*!sc*/
.hILMMl [data-component="trailingAction"]{margin-right:-4px;}/*!sc*/
.hILMMl [data-component="buttonContent"]{-webkit-flex:1 0 auto;-ms-flex:1 0 auto;flex:1 0 auto;display:grid;grid-template-areas:"leadingVisual text trailingVisual";grid-template-columns:min-content minmax(0,auto) min-content;-webkit-align-items:center;-webkit-box-align:center;-ms-flex-align:center;align-items:center;-webkit-align-content:center;-ms-flex-line-pack:center;align-content:center;}/*!sc*/
.hILMMl [data-component="buttonContent"] > :not(:last-child){margin-right:8px;}/*!sc*/
.hILMMl:hover:not([disabled]):not([data-inactive]){background-color:var(--button-default-bgColor-hover,var(--color-btn-hover-bg,#f3f4f6));border-color:var(--button-default-borderColor-hover,var(--button-default-borderColor-hover,var(--color-btn-hover-border,rgba(31,35,40,0.15))));}/*!sc*/
.hILMMl:active:not([disabled]):not([data-inactive]){background-color:var(--button-default-bgColor-active,var(--color-btn-active-bg,hsla(220,14%,93%,1)));border-color:var(--button-default-borderColor-active,var(--button-default-borderColor-active,var(--color-btn-active-border,rgba(31,35,40,0.15))));}/*!sc*/
.hILMMl[aria-expanded=true]{background-color:var(--button-default-bgColor-active,var(--color-btn-active-bg,hsla(220,14%,93%,1)));border-color:var(--button-default-borderColor-active,var(--button-default-borderColor-active,var(--color-btn-active-border,rgba(31,35,40,0.15))));}/*!sc*/
.hILMMl [data-component="leadingVisual"],.hILMMl [data-component="trailingVisual"],.hILMMl [data-component="trailingAction"]{color:var(--button-color,var(--fgColor-muted,var(--color-fg-muted,#656d76)));}/*!sc*/
.hILMMl[data-component="IconButton"][data-no-visuals]{color:var(--fgColor-muted,var(--color-fg-muted,#656d76));}/*!sc*/
.hILMMl{display:-webkit-box;display:-webkit-flex;display:-ms-flexbox;display:flex;}/*!sc*/
.hILMMl svg{color:var(--fgColor-muted,var(--color-fg-muted,#656d76));}/*!sc*/
.hILMMl > span{width:inherit;}/*!sc*/
.ivbpoP{border-radius:6px;border:1px solid;border-color:transparent;font-family:inherit;font-weight:500;font-size:14px;cursor:pointer;-webkit-appearance:none;-moz-appearance:none;appearance:none;-webkit-user-select:none;-moz-user-select:none;-ms-user-select:none;user-select:none;-webkit-text-decoration:none;text-decoration:none;text-align:center;display:-webkit-box;display:-webkit-flex;display:-ms-flexbox;display:flex;-webkit-align-items:center;-webkit-box-align:center;-ms-flex-align:center;align-items:center;-webkit-box-pack:justify;-webkit-justify-content:space-between;-ms-flex-pack:justify;justify-content:space-between;height:32px;padding:0 12px;gap:8px;min-width:-webkit-max-content;min-width:-moz-max-content;min-width:max-content;-webkit-transition:80ms cubic-bezier(0.65,0,0.35,1);transition:80ms cubic-bezier(0.65,0,0.35,1);-webkit-transition-property:color,fill,background-color,border-color;transition-property:color,fill,background-color,border-color;color:var(--button-default-fgColor-rest,var(--color-btn-text,#24292f));background-color:transparent;box-shadow:none;}/*!sc*/
.ivbpoP:focus:not(:disabled){box-shadow:none;outline:2px solid var(--fgColor-accent,var(--color-accent-fg,#0969da));outline-offset:-2px;}/*!sc*/
.ivbpoP:focus:not(:disabled):not(:focus-visible){outline:solid 1px transparent;}/*!sc*/
.ivbpoP:focus-visible:not(:disabled){box-shadow:none;outline:2px solid var(--fgColor-accent,var(--color-accent-fg,#0969da));outline-offset:-2px;}/*!sc*/
.ivbpoP[href]{display:-webkit-inline-box;display:-webkit-inline-flex;display:-ms-inline-flexbox;display:inline-flex;}/*!sc*/
.ivbpoP[href]:hover{-webkit-text-decoration:none;text-decoration:none;}/*!sc*/
.ivbpoP:hover{-webkit-transition-duration:80ms;transition-duration:80ms;}/*!sc*/
.ivbpoP:active{-webkit-transition:none;transition:none;}/*!sc*/
.ivbpoP[data-inactive]{cursor:auto;}/*!sc*/
.ivbpoP:disabled{cursor:not-allowed;box-shadow:none;color:var(--fgColor-disabled,var(--color-primer-fg-disabled,#8c959f));}/*!sc*/
.ivbpoP:disabled [data-component=ButtonCounter],.ivbpoP:disabled [data-component="leadingVisual"],.ivbpoP:disabled [data-component="trailingAction"]{color:inherit;}/*!sc*/
@media (forced-colors:active){.ivbpoP:focus{outline:solid 1px transparent;}}/*!sc*/
.ivbpoP [data-component=ButtonCounter]{font-size:12px;}/*!sc*/
.ivbpoP[data-component=IconButton]{display:inline-grid;padding:unset;place-content:center;width:32px;min-width:unset;}/*!sc*/
.ivbpoP[data-size="small"]{padding:0 8px;height:28px;gap:4px;font-size:12px;}/*!sc*/
.ivbpoP[data-size="small"] [data-component="text"]{line-height:calc(20 / 12);}/*!sc*/
.ivbpoP[data-size="small"] [data-component=ButtonCounter]{font-size:12px;}/*!sc*/
.ivbpoP[data-size="small"] [data-component="buttonContent"] > :not(:last-child){margin-right:4px;}/*!sc*/
.ivbpoP[data-size="small"][data-component=IconButton]{width:28px;padding:unset;}/*!sc*/
.ivbpoP[data-size="large"]{padding:0 16px;height:40px;gap:8px;}/*!sc*/
.ivbpoP[data-size="large"] [data-component="buttonContent"] > :not(:last-child){margin-right:8px;}/*!sc*/
.ivbpoP[data-size="large"][data-component=IconButton]{width:40px;padding:unset;}/*!sc*/
.ivbpoP[data-block="block"]{width:100%;}/*!sc*/
.ivbpoP[data-inactive]:not([disabled]){background-color:var(--button-inactive-bgColor,var(--button-inactive-bgColor-rest,var(--color-btn-inactive-bg,#eaeef2)));border-color:var(--button-inactive-bgColor,var(--button-inactive-bgColor-rest,var(--color-btn-inactive-bg,#eaeef2)));color:var(--button-inactive-fgColor,var(--button-inactive-fgColor-rest,var(--color-btn-inactive-text,#57606a)));}/*!sc*/
.ivbpoP[data-inactive]:not([disabled]):focus-visible{box-shadow:none;}/*!sc*/
.ivbpoP [data-component="leadingVisual"]{grid-area:leadingVisual;color:var(--fgColor-muted,var(--color-fg-muted,#656d76));}/*!sc*/
.ivbpoP [data-component="text"]{grid-area:text;line-height:calc(20/14);white-space:nowrap;}/*!sc*/
.ivbpoP [data-component="trailingVisual"]{grid-area:trailingVisual;}/*!sc*/
.ivbpoP [data-component="trailingAction"]{margin-right:-4px;color:var(--fgColor-muted,var(--color-fg-muted,#656d76));}/*!sc*/
.ivbpoP [data-component="buttonContent"]{-webkit-flex:1 0 auto;-ms-flex:1 0 auto;flex:1 0 auto;display:grid;grid-template-areas:"leadingVisual text trailingVisual";grid-template-columns:min-content minmax(0,auto) min-content;-webkit-align-items:center;-webkit-box-align:center;-ms-flex-align:center;align-items:center;-webkit-align-content:center;-ms-flex-line-pack:center;align-content:center;}/*!sc*/
.ivbpoP [data-component="buttonContent"] > :not(:last-child){margin-right:8px;}/*!sc*/
.ivbpoP:hover:not([disabled]){background-color:var(--control-transparent-bgColor-hover,var(--color-action-list-item-default-hover-bg,rgba(208,215,222,0.32)));}/*!sc*/
.ivbpoP:active:not([disabled]){background-color:var(--control-transparent-bgColor-active,var(--color-action-list-item-default-active-bg,rgba(208,215,222,0.48)));}/*!sc*/
.ivbpoP[aria-expanded=true]{background-color:var(--control-transparent-bgColor-selected,var(--color-action-list-item-default-selected-bg,rgba(208,215,222,0.24)));}/*!sc*/
.ivbpoP[data-component="IconButton"][data-no-visuals]{color:var(--fgColor-muted,var(--color-fg-muted,#656d76));}/*!sc*/
.ivbpoP[data-no-visuals]{color:var(--fgColor-accent,var(--color-accent-fg,#0969da));}/*!sc*/
.ivbpoP:has([data-component="ButtonCounter"]){color:var(--button-default-fgColor-rest,var(--color-btn-text,#24292f));}/*!sc*/
.ivbpoP:disabled[data-no-visuals]{color:var(--fgColor-disabled,var(--color-primer-fg-disabled,#8c959f));}/*!sc*/
.ivbpoP:disabled[data-no-visuals] [data-component=ButtonCounter]{color:inherit;}/*!sc*/
.ivbpoP[data-size="small"][data-no-visuals]{margin-left:8px;}/*!sc*/
.hviaoI{border-radius:6px;border:1px solid;border-color:var(--button-default-borderColor-rest,var(--button-default-borderColor-rest,var(--color-btn-border,rgba(31,35,40,0.15))));font-family:inherit;font-weight:500;font-size:14px;cursor:pointer;-webkit-appearance:none;-moz-appearance:none;appearance:none;-webkit-user-select:none;-moz-user-select:none;-ms-user-select:none;user-select:none;-webkit-text-decoration:none;text-decoration:none;text-align:center;display:-webkit-box;display:-webkit-flex;display:-ms-flexbox;display:flex;-webkit-align-items:center;-webkit-box-align:center;-ms-flex-align:center;align-items:center;-webkit-box-pack:justify;-webkit-justify-content:space-between;-ms-flex-pack:justify;justify-content:space-between;height:32px;padding:0 12px;gap:8px;min-width:-webkit-max-content;min-width:-moz-max-content;min-width:max-content;-webkit-transition:80ms cubic-bezier(0.65,0,0.35,1);transition:80ms cubic-bezier(0.65,0,0.35,1);-webkit-transition-property:color,fill,background-color,border-color;transition-property:color,fill,background-color,border-color;color:var(--button-default-fgColor-rest,var(--color-btn-text,#24292f));background-color:var(--button-default-bgColor-rest,var(--color-btn-bg,#f6f8fa));box-shadow:var(--button-default-shadow-resting,var(--color-btn-shadow,0 1px 0 rgba(31,35,40,0.04))),var(--button-default-shadow-inset,var(--color-btn-inset-shadow,inset 0 1px 0 rgba(255,255,255,0.25)));}/*!sc*/
.hviaoI:focus:not(:disabled){box-shadow:none;outline:2px solid var(--fgColor-accent,var(--color-accent-fg,#0969da));outline-offset:-2px;}/*!sc*/
.hviaoI:focus:not(:disabled):not(:focus-visible){outline:solid 1px transparent;}/*!sc*/
.hviaoI:focus-visible:not(:disabled){box-shadow:none;outline:2px solid var(--fgColor-accent,var(--color-accent-fg,#0969da));outline-offset:-2px;}/*!sc*/
.hviaoI[href]{display:-webkit-inline-box;display:-webkit-inline-flex;display:-ms-inline-flexbox;display:inline-flex;}/*!sc*/
.hviaoI[href]:hover{-webkit-text-decoration:none;text-decoration:none;}/*!sc*/
.hviaoI:hover{-webkit-transition-duration:80ms;transition-duration:80ms;}/*!sc*/
.hviaoI:active{-webkit-transition:none;transition:none;}/*!sc*/
.hviaoI[data-inactive]{cursor:auto;}/*!sc*/
.hviaoI:disabled{cursor:not-allowed;box-shadow:none;color:var(--fgColor-disabled,var(--color-primer-fg-disabled,#8c959f));border-color:var(--button-default-borderColor-disabled,var(--button-default-borderColor-rest,var(--color-btn-border,rgba(31,35,40,0.15))));background-color:var(--button-default-bgColor-disabled,var(--control-bgColor-disabled,var(--color-input-disabled-bg,rgba(175,184,193,0.2))));}/*!sc*/
.hviaoI:disabled [data-component=ButtonCounter]{color:inherit;}/*!sc*/
@media (forced-colors:active){.hviaoI:focus{outline:solid 1px transparent;}}/*!sc*/
.hviaoI [data-component=ButtonCounter]{font-size:12px;background-color:var(--buttonCounter-default-bgColor-rest,var(--color-btn-counter-bg,rgba(31,35,40,0.08)));}/*!sc*/
.hviaoI[data-component=IconButton]{display:inline-grid;padding:unset;place-content:center;width:32px;min-width:unset;}/*!sc*/
.hviaoI[data-size="small"]{padding:0 8px;height:28px;gap:4px;font-size:12px;}/*!sc*/
.hviaoI[data-size="small"] [data-component="text"]{line-height:calc(20 / 12);}/*!sc*/
.hviaoI[data-size="small"] [data-component=ButtonCounter]{font-size:12px;}/*!sc*/
.hviaoI[data-size="small"] [data-component="buttonContent"] > :not(:last-child){margin-right:4px;}/*!sc*/
.hviaoI[data-size="small"][data-component=IconButton]{width:28px;padding:unset;}/*!sc*/
.hviaoI[data-size="large"]{padding:0 16px;height:40px;gap:8px;}/*!sc*/
.hviaoI[data-size="large"] [data-component="buttonContent"] > :not(:last-child){margin-right:8px;}/*!sc*/
.hviaoI[data-size="large"][data-component=IconButton]{width:40px;padding:unset;}/*!sc*/
.hviaoI[data-block="block"]{width:100%;}/*!sc*/
.hviaoI[data-inactive]:not([disabled]){background-color:var(--button-inactive-bgColor,var(--button-inactive-bgColor-rest,var(--color-btn-inactive-bg,#eaeef2)));border-color:var(--button-inactive-bgColor,var(--button-inactive-bgColor-rest,var(--color-btn-inactive-bg,#eaeef2)));color:var(--button-inactive-fgColor,var(--button-inactive-fgColor-rest,var(--color-btn-inactive-text,#57606a)));}/*!sc*/
.hviaoI[data-inactive]:not([disabled]):focus-visible{box-shadow:none;}/*!sc*/
.hviaoI [data-component="leadingVisual"]{grid-area:leadingVisual;}/*!sc*/
.hviaoI [data-component="text"]{grid-area:text;line-height:calc(20/14);white-space:nowrap;}/*!sc*/
.hviaoI [data-component="trailingVisual"]{grid-area:trailingVisual;}/*!sc*/
.hviaoI [data-component="trailingAction"]{margin-right:-4px;}/*!sc*/
.hviaoI [data-component="buttonContent"]{-webkit-flex:1 0 auto;-ms-flex:1 0 auto;flex:1 0 auto;display:grid;grid-template-areas:"leadingVisual text trailingVisual";grid-template-columns:min-content minmax(0,auto) min-content;-webkit-align-items:center;-webkit-box-align:center;-ms-flex-align:center;align-items:center;-webkit-align-content:center;-ms-flex-line-pack:center;align-content:center;}/*!sc*/
.hviaoI [data-component="buttonContent"] > :not(:last-child){margin-right:8px;}/*!sc*/
.hviaoI:hover:not([disabled]):not([data-inactive]){background-color:var(--button-default-bgColor-hover,var(--color-btn-hover-bg,#f3f4f6));border-color:var(--button-default-borderColor-hover,var(--button-default-borderColor-hover,var(--color-btn-hover-border,rgba(31,35,40,0.15))));}/*!sc*/
.hviaoI:active:not([disabled]):not([data-inactive]){background-color:var(--button-default-bgColor-active,var(--color-btn-active-bg,hsla(220,14%,93%,1)));border-color:var(--button-default-borderColor-active,var(--button-default-borderColor-active,var(--color-btn-active-border,rgba(31,35,40,0.15))));}/*!sc*/
.hviaoI[aria-expanded=true]{background-color:var(--button-default-bgColor-active,var(--color-btn-active-bg,hsla(220,14%,93%,1)));border-color:var(--button-default-borderColor-active,var(--button-default-borderColor-active,var(--color-btn-active-border,rgba(31,35,40,0.15))));}/*!sc*/
.hviaoI [data-component="leadingVisual"],.hviaoI [data-component="trailingVisual"],.hviaoI [data-component="trailingAction"]{color:var(--button-color,var(--fgColor-muted,var(--color-fg-muted,#656d76)));}/*!sc*/
.hviaoI[data-component="IconButton"][data-no-visuals]{color:var(--fgColor-muted,var(--color-fg-muted,#656d76));}/*!sc*/
.hviaoI[data-no-visuals]{border-top-left-radius:0;border-bottom-left-radius:0;display:none;}/*!sc*/
.jXTShb{border-radius:6px;border:1px solid;border-color:var(--button-default-borderColor-rest,var(--button-default-borderColor-rest,var(--color-btn-border,rgba(31,35,40,0.15))));font-family:inherit;font-weight:500;font-size:14px;cursor:pointer;-webkit-appearance:none;-moz-appearance:none;appearance:none;-webkit-user-select:none;-moz-user-select:none;-ms-user-select:none;user-select:none;-webkit-text-decoration:none;text-decoration:none;text-align:center;display:-webkit-box;display:-webkit-flex;display:-ms-flexbox;display:flex;-webkit-align-items:center;-webkit-box-align:center;-ms-flex-align:center;align-items:center;-webkit-box-pack:justify;-webkit-justify-content:space-between;-ms-flex-pack:justify;justify-content:space-between;height:32px;padding:0 12px;gap:8px;min-width:-webkit-max-content;min-width:-moz-max-content;min-width:max-content;-webkit-transition:80ms cubic-bezier(0.65,0,0.35,1);transition:80ms cubic-bezier(0.65,0,0.35,1);-webkit-transition-property:color,fill,background-color,border-color;transition-property:color,fill,background-color,border-color;color:var(--button-default-fgColor-rest,var(--color-btn-text,#24292f));background-color:var(--button-default-bgColor-rest,var(--color-btn-bg,#f6f8fa));box-shadow:var(--button-default-shadow-resting,var(--color-btn-shadow,0 1px 0 rgba(31,35,40,0.04))),var(--button-default-shadow-inset,var(--color-btn-inset-shadow,inset 0 1px 0 rgba(255,255,255,0.25)));}/*!sc*/
.jXTShb:focus:not(:disabled){box-shadow:none;outline:2px solid var(--fgColor-accent,var(--color-accent-fg,#0969da));outline-offset:-2px;}/*!sc*/
.jXTShb:focus:not(:disabled):not(:focus-visible){outline:solid 1px transparent;}/*!sc*/
.jXTShb:focus-visible:not(:disabled){box-shadow:none;outline:2px solid var(--fgColor-accent,var(--color-accent-fg,#0969da));outline-offset:-2px;}/*!sc*/
.jXTShb[href]{display:-webkit-inline-box;display:-webkit-inline-flex;display:-ms-inline-flexbox;display:inline-flex;}/*!sc*/
.jXTShb[href]:hover{-webkit-text-decoration:none;text-decoration:none;}/*!sc*/
.jXTShb:hover{-webkit-transition-duration:80ms;transition-duration:80ms;}/*!sc*/
.jXTShb:active{-webkit-transition:none;transition:none;}/*!sc*/
.jXTShb[data-inactive]{cursor:auto;}/*!sc*/
.jXTShb:disabled{cursor:not-allowed;box-shadow:none;color:var(--fgColor-disabled,var(--color-primer-fg-disabled,#8c959f));border-color:var(--button-default-borderColor-disabled,var(--button-default-borderColor-rest,var(--color-btn-border,rgba(31,35,40,0.15))));background-color:var(--button-default-bgColor-disabled,var(--control-bgColor-disabled,var(--color-input-disabled-bg,rgba(175,184,193,0.2))));}/*!sc*/
.jXTShb:disabled [data-component=ButtonCounter]{color:inherit;}/*!sc*/
@media (forced-colors:active){.jXTShb:focus{outline:solid 1px transparent;}}/*!sc*/
.jXTShb [data-component=ButtonCounter]{font-size:12px;background-color:var(--buttonCounter-default-bgColor-rest,var(--color-btn-counter-bg,rgba(31,35,40,0.08)));}/*!sc*/
.jXTShb[data-component=IconButton]{display:inline-grid;padding:unset;place-content:center;width:32px;min-width:unset;}/*!sc*/
.jXTShb[data-size="small"]{padding:0 8px;height:28px;gap:4px;font-size:12px;}/*!sc*/
.jXTShb[data-size="small"] [data-component="text"]{line-height:calc(20 / 12);}/*!sc*/
.jXTShb[data-size="small"] [data-component=ButtonCounter]{font-size:12px;}/*!sc*/
.jXTShb[data-size="small"] [data-component="buttonContent"] > :not(:last-child){margin-right:4px;}/*!sc*/
.jXTShb[data-size="small"][data-component=IconButton]{width:28px;padding:unset;}/*!sc*/
.jXTShb[data-size="large"]{padding:0 16px;height:40px;gap:8px;}/*!sc*/
.jXTShb[data-size="large"] [data-component="buttonContent"] > :not(:last-child){margin-right:8px;}/*!sc*/
.jXTShb[data-size="large"][data-component=IconButton]{width:40px;padding:unset;}/*!sc*/
.jXTShb[data-block="block"]{width:100%;}/*!sc*/
.jXTShb[data-inactive]:not([disabled]){background-color:var(--button-inactive-bgColor,var(--button-inactive-bgColor-rest,var(--color-btn-inactive-bg,#eaeef2)));border-color:var(--button-inactive-bgColor,var(--button-inactive-bgColor-rest,var(--color-btn-inactive-bg,#eaeef2)));color:var(--button-inactive-fgColor,var(--button-inactive-fgColor-rest,var(--color-btn-inactive-text,#57606a)));}/*!sc*/
.jXTShb[data-inactive]:not([disabled]):focus-visible{box-shadow:none;}/*!sc*/
.jXTShb [data-component="leadingVisual"]{grid-area:leadingVisual;}/*!sc*/
.jXTShb [data-component="text"]{grid-area:text;line-height:calc(20/14);white-space:nowrap;}/*!sc*/
.jXTShb [data-component="trailingVisual"]{grid-area:trailingVisual;}/*!sc*/
.jXTShb [data-component="trailingAction"]{margin-right:-4px;}/*!sc*/
.jXTShb [data-component="buttonContent"]{-webkit-flex:1 0 auto;-ms-flex:1 0 auto;flex:1 0 auto;display:grid;grid-template-areas:"leadingVisual text trailingVisual";grid-template-columns:min-content minmax(0,auto) min-content;-webkit-align-items:center;-webkit-box-align:center;-ms-flex-align:center;align-items:center;-webkit-align-content:center;-ms-flex-line-pack:center;align-content:center;}/*!sc*/
.jXTShb [data-component="buttonContent"] > :not(:last-child){margin-right:8px;}/*!sc*/
.jXTShb:hover:not([disabled]):not([data-inactive]){background-color:var(--button-default-bgColor-hover,var(--color-btn-hover-bg,#f3f4f6));border-color:var(--button-default-borderColor-hover,var(--button-default-borderColor-hover,var(--color-btn-hover-border,rgba(31,35,40,0.15))));}/*!sc*/
.jXTShb:active:not([disabled]):not([data-inactive]){background-color:var(--button-default-bgColor-active,var(--color-btn-active-bg,hsla(220,14%,93%,1)));border-color:var(--button-default-borderColor-active,var(--button-default-borderColor-active,var(--color-btn-active-border,rgba(31,35,40,0.15))));}/*!sc*/
.jXTShb[aria-expanded=true]{background-color:var(--button-default-bgColor-active,var(--color-btn-active-bg,hsla(220,14%,93%,1)));border-color:var(--button-default-borderColor-active,var(--button-default-borderColor-active,var(--color-btn-active-border,rgba(31,35,40,0.15))));}/*!sc*/
.jXTShb [data-component="leadingVisual"],.jXTShb [data-component="trailingVisual"],.jXTShb [data-component="trailingAction"]{color:var(--button-color,var(--fgColor-muted,var(--color-fg-muted,#656d76)));}/*!sc*/
.jXTShb[data-component="IconButton"][data-no-visuals]{color:var(--fgColor-muted,var(--color-fg-muted,#656d76));}/*!sc*/
.jXTShb[data-no-visuals]{color:var(--fgColor-muted,var(--color-fg-muted,#656d76));}/*!sc*/
.fAkXQN{border-radius:6px;border:1px solid;border-color:transparent;font-family:inherit;font-weight:500;font-size:14px;cursor:pointer;-webkit-appearance:none;-moz-appearance:none;appearance:none;-webkit-user-select:none;-moz-user-select:none;-ms-user-select:none;user-select:none;-webkit-text-decoration:none;text-decoration:none;text-align:center;display:-webkit-box;display:-webkit-flex;display:-ms-flexbox;display:flex;-webkit-align-items:center;-webkit-box-align:center;-ms-flex-align:center;align-items:center;-webkit-box-pack:justify;-webkit-justify-content:space-between;-ms-flex-pack:justify;justify-content:space-between;height:32px;padding:0 12px;gap:8px;min-width:-webkit-max-content;min-width:-moz-max-content;min-width:max-content;-webkit-transition:80ms cubic-bezier(0.65,0,0.35,1);transition:80ms cubic-bezier(0.65,0,0.35,1);-webkit-transition-property:color,fill,background-color,border-color;transition-property:color,fill,background-color,border-color;color:var(--fgColor-default,var(--color-fg-default,#1F2328));background-color:transparent;box-shadow:none;}/*!sc*/
.fAkXQN:focus:not(:disabled){box-shadow:none;outline:2px solid var(--fgColor-accent,var(--color-accent-fg,#0969da));outline-offset:-2px;}/*!sc*/
.fAkXQN:focus:not(:disabled):not(:focus-visible){outline:solid 1px transparent;}/*!sc*/
.fAkXQN:focus-visible:not(:disabled){box-shadow:none;outline:2px solid var(--fgColor-accent,var(--color-accent-fg,#0969da));outline-offset:-2px;}/*!sc*/
.fAkXQN[href]{display:-webkit-inline-box;display:-webkit-inline-flex;display:-ms-inline-flexbox;display:inline-flex;}/*!sc*/
.fAkXQN[href]:hover{-webkit-text-decoration:none;text-decoration:none;}/*!sc*/
.fAkXQN:hover{-webkit-transition-duration:80ms;transition-duration:80ms;}/*!sc*/
.fAkXQN:active{-webkit-transition:none;transition:none;}/*!sc*/
.fAkXQN[data-inactive]{cursor:auto;}/*!sc*/
.fAkXQN:disabled{cursor:not-allowed;box-shadow:none;color:var(--fgColor-disabled,var(--color-primer-fg-disabled,#8c959f));}/*!sc*/
.fAkXQN:disabled [data-component=ButtonCounter],.fAkXQN:disabled [data-component="leadingVisual"],.fAkXQN:disabled [data-component="trailingAction"]{color:inherit;}/*!sc*/
@media (forced-colors:active){.fAkXQN:focus{outline:solid 1px transparent;}}/*!sc*/
.fAkXQN [data-component=ButtonCounter]{font-size:12px;}/*!sc*/
.fAkXQN[data-component=IconButton]{display:inline-grid;padding:unset;place-content:center;width:32px;min-width:unset;}/*!sc*/
.fAkXQN[data-size="small"]{padding:0 8px;height:28px;gap:4px;font-size:12px;}/*!sc*/
.fAkXQN[data-size="small"] [data-component="text"]{line-height:calc(20 / 12);}/*!sc*/
.fAkXQN[data-size="small"] [data-component=ButtonCounter]{font-size:12px;}/*!sc*/
.fAkXQN[data-size="small"] [data-component="buttonContent"] > :not(:last-child){margin-right:4px;}/*!sc*/
.fAkXQN[data-size="small"][data-component=IconButton]{width:28px;padding:unset;}/*!sc*/
.fAkXQN[data-size="large"]{padding:0 16px;height:40px;gap:8px;}/*!sc*/
.fAkXQN[data-size="large"] [data-component="buttonContent"] > :not(:last-child){margin-right:8px;}/*!sc*/
.fAkXQN[data-size="large"][data-component=IconButton]{width:40px;padding:unset;}/*!sc*/
.fAkXQN[data-block="block"]{width:100%;}/*!sc*/
.fAkXQN[data-inactive]:not([disabled]){background-color:var(--button-inactive-bgColor,var(--button-inactive-bgColor-rest,var(--color-btn-inactive-bg,#eaeef2)));border-color:var(--button-inactive-bgColor,var(--button-inactive-bgColor-rest,var(--color-btn-inactive-bg,#eaeef2)));color:var(--button-inactive-fgColor,var(--button-inactive-fgColor-rest,var(--color-btn-inactive-text,#57606a)));}/*!sc*/
.fAkXQN[data-inactive]:not([disabled]):focus-visible{box-shadow:none;}/*!sc*/
.fAkXQN [data-component="leadingVisual"]{grid-area:leadingVisual;color:var(--fgColor-muted,var(--color-fg-muted,#656d76));}/*!sc*/
.fAkXQN [data-component="text"]{grid-area:text;line-height:calc(20/14);white-space:nowrap;}/*!sc*/
.fAkXQN [data-component="trailingVisual"]{grid-area:trailingVisual;}/*!sc*/
.fAkXQN [data-component="trailingAction"]{margin-right:-4px;color:var(--fgColor-muted,var(--color-fg-muted,#656d76));}/*!sc*/
.fAkXQN [data-component="buttonContent"]{-webkit-flex:1 0 auto;-ms-flex:1 0 auto;flex:1 0 auto;display:grid;grid-template-areas:"leadingVisual text trailingVisual";grid-template-columns:min-content minmax(0,auto) min-content;-webkit-align-items:center;-webkit-box-align:center;-ms-flex-align:center;align-items:center;-webkit-align-content:center;-ms-flex-line-pack:center;align-content:center;}/*!sc*/
.fAkXQN [data-component="buttonContent"] > :not(:last-child){margin-right:8px;}/*!sc*/
.fAkXQN:hover:not([disabled]){background-color:var(--control-transparent-bgColor-hover,var(--color-action-list-item-default-hover-bg,rgba(208,215,222,0.32)));-webkit-text-decoration:none;text-decoration:none;}/*!sc*/
.fAkXQN:active:not([disabled]){background-color:var(--control-transparent-bgColor-active,var(--color-action-list-item-default-active-bg,rgba(208,215,222,0.48)));-webkit-text-decoration:none;text-decoration:none;}/*!sc*/
.fAkXQN[aria-expanded=true]{background-color:var(--control-transparent-bgColor-selected,var(--color-action-list-item-default-selected-bg,rgba(208,215,222,0.24)));}/*!sc*/
.fAkXQN[data-component="IconButton"][data-no-visuals]{color:var(--fgColor-muted,var(--color-fg-muted,#656d76));}/*!sc*/
.fAkXQN[data-no-visuals]{color:var(--fgColor-accent,var(--color-accent-fg,#0969da));}/*!sc*/
.fAkXQN:has([data-component="ButtonCounter"]){color:var(--button-default-fgColor-rest,var(--color-btn-text,#24292f));}/*!sc*/
.fAkXQN:disabled[data-no-visuals]{color:var(--fgColor-disabled,var(--color-primer-fg-disabled,#8c959f));}/*!sc*/
.fAkXQN:disabled[data-no-visuals] [data-component=ButtonCounter]{color:inherit;}/*!sc*/
.fAkXQN:focus:not([disabled]){-webkit-text-decoration:none;text-decoration:none;}/*!sc*/
.gfKkfV{border-radius:6px;border:1px solid;border-color:transparent;font-family:inherit;font-weight:500;font-size:14px;cursor:pointer;-webkit-appearance:none;-moz-appearance:none;appearance:none;-webkit-user-select:none;-moz-user-select:none;-ms-user-select:none;user-select:none;-webkit-text-decoration:none;text-decoration:none;text-align:center;display:-webkit-box;display:-webkit-flex;display:-ms-flexbox;display:flex;-webkit-align-items:center;-webkit-box-align:center;-ms-flex-align:center;align-items:center;-webkit-box-pack:justify;-webkit-justify-content:space-between;-ms-flex-pack:justify;justify-content:space-between;height:32px;padding:0 12px;gap:8px;min-width:-webkit-max-content;min-width:-moz-max-content;min-width:max-content;-webkit-transition:80ms cubic-bezier(0.65,0,0.35,1);transition:80ms cubic-bezier(0.65,0,0.35,1);-webkit-transition-property:color,fill,background-color,border-color;transition-property:color,fill,background-color,border-color;color:var(--button-default-fgColor-rest,var(--color-btn-text,#24292f));background-color:transparent;box-shadow:none;}/*!sc*/
.gfKkfV:focus:not(:disabled){box-shadow:none;outline:2px solid var(--fgColor-accent,var(--color-accent-fg,#0969da));outline-offset:-2px;}/*!sc*/
.gfKkfV:focus:not(:disabled):not(:focus-visible){outline:solid 1px transparent;}/*!sc*/
.gfKkfV:focus-visible:not(:disabled){box-shadow:none;outline:2px solid var(--fgColor-accent,var(--color-accent-fg,#0969da));outline-offset:-2px;}/*!sc*/
.gfKkfV[href]{display:-webkit-inline-box;display:-webkit-inline-flex;display:-ms-inline-flexbox;display:inline-flex;}/*!sc*/
.gfKkfV[href]:hover{-webkit-text-decoration:none;text-decoration:none;}/*!sc*/
.gfKkfV:hover{-webkit-transition-duration:80ms;transition-duration:80ms;}/*!sc*/
.gfKkfV:active{-webkit-transition:none;transition:none;}/*!sc*/
.gfKkfV[data-inactive]{cursor:auto;}/*!sc*/
.gfKkfV:disabled{cursor:not-allowed;box-shadow:none;color:var(--fgColor-disabled,var(--color-primer-fg-disabled,#8c959f));}/*!sc*/
.gfKkfV:disabled [data-component=ButtonCounter],.gfKkfV:disabled [data-component="leadingVisual"],.gfKkfV:disabled [data-component="trailingAction"]{color:inherit;}/*!sc*/
@media (forced-colors:active){.gfKkfV:focus{outline:solid 1px transparent;}}/*!sc*/
.gfKkfV [data-component=ButtonCounter]{font-size:12px;}/*!sc*/
.gfKkfV[data-component=IconButton]{display:inline-grid;padding:unset;place-content:center;width:32px;min-width:unset;}/*!sc*/
.gfKkfV[data-size="small"]{padding:0 8px;height:28px;gap:4px;font-size:12px;color:var(--fgColor-default,var(--color-fg-default,#1F2328));margin-left:8px;}/*!sc*/
.gfKkfV[data-size="small"] [data-component="text"]{line-height:calc(20 / 12);}/*!sc*/
.gfKkfV[data-size="small"] [data-component=ButtonCounter]{font-size:12px;}/*!sc*/
.gfKkfV[data-size="small"] [data-component="buttonContent"] > :not(:last-child){margin-right:4px;}/*!sc*/
.gfKkfV[data-size="small"][data-component=IconButton]{width:28px;padding:unset;}/*!sc*/
.gfKkfV[data-size="large"]{padding:0 16px;height:40px;gap:8px;}/*!sc*/
.gfKkfV[data-size="large"] [data-component="buttonContent"] > :not(:last-child){margin-right:8px;}/*!sc*/
.gfKkfV[data-size="large"][data-component=IconButton]{width:40px;padding:unset;}/*!sc*/
.gfKkfV[data-block="block"]{width:100%;}/*!sc*/
.gfKkfV[data-inactive]:not([disabled]){background-color:var(--button-inactive-bgColor,var(--button-inactive-bgColor-rest,var(--color-btn-inactive-bg,#eaeef2)));border-color:var(--button-inactive-bgColor,var(--button-inactive-bgColor-rest,var(--color-btn-inactive-bg,#eaeef2)));color:var(--button-inactive-fgColor,var(--button-inactive-fgColor-rest,var(--color-btn-inactive-text,#57606a)));}/*!sc*/
.gfKkfV[data-inactive]:not([disabled]):focus-visible{box-shadow:none;}/*!sc*/
.gfKkfV [data-component="leadingVisual"]{grid-area:leadingVisual;color:var(--fgColor-muted,var(--color-fg-muted,#656d76));}/*!sc*/
.gfKkfV [data-component="text"]{grid-area:text;line-height:calc(20/14);white-space:nowrap;}/*!sc*/
.gfKkfV [data-component="trailingVisual"]{grid-area:trailingVisual;}/*!sc*/
.gfKkfV [data-component="trailingAction"]{margin-right:-4px;color:var(--fgColor-muted,var(--color-fg-muted,#656d76));}/*!sc*/
.gfKkfV [data-component="buttonContent"]{-webkit-flex:1 0 auto;-ms-flex:1 0 auto;flex:1 0 auto;display:grid;grid-template-areas:"leadingVisual text trailingVisual";grid-template-columns:min-content minmax(0,auto) min-content;-webkit-align-items:center;-webkit-box-align:center;-ms-flex-align:center;align-items:center;-webkit-align-content:center;-ms-flex-line-pack:center;align-content:center;}/*!sc*/
.gfKkfV [data-component="buttonContent"] > :not(:last-child){margin-right:8px;}/*!sc*/
.gfKkfV:hover:not([disabled]){background-color:var(--control-transparent-bgColor-hover,var(--color-action-list-item-default-hover-bg,rgba(208,215,222,0.32)));}/*!sc*/
.gfKkfV:active:not([disabled]){background-color:var(--control-transparent-bgColor-active,var(--color-action-list-item-default-active-bg,rgba(208,215,222,0.48)));}/*!sc*/
.gfKkfV[aria-expanded=true]{background-color:var(--control-transparent-bgColor-selected,var(--color-action-list-item-default-selected-bg,rgba(208,215,222,0.24)));}/*!sc*/
.gfKkfV[data-component="IconButton"][data-no-visuals]{color:var(--fgColor-muted,var(--color-fg-muted,#656d76));}/*!sc*/
.gfKkfV[data-no-visuals]{color:var(--fgColor-accent,var(--color-accent-fg,#0969da));}/*!sc*/
.gfKkfV:has([data-component="ButtonCounter"]){color:var(--button-default-fgColor-rest,var(--color-btn-text,#24292f));}/*!sc*/
.gfKkfV:disabled[data-no-visuals]{color:var(--fgColor-disabled,var(--color-primer-fg-disabled,#8c959f));}/*!sc*/
.gfKkfV:disabled[data-no-visuals] [data-component=ButtonCounter]{color:inherit;}/*!sc*/
.dTgfec{border-radius:6px;border:1px solid;border-color:var(--button-default-borderColor-rest,var(--button-default-borderColor-rest,var(--color-btn-border,rgba(31,35,40,0.15))));font-family:inherit;font-weight:500;font-size:14px;cursor:pointer;-webkit-appearance:none;-moz-appearance:none;appearance:none;-webkit-user-select:none;-moz-user-select:none;-ms-user-select:none;user-select:none;-webkit-text-decoration:none;text-decoration:none;text-align:center;display:-webkit-box;display:-webkit-flex;display:-ms-flexbox;display:flex;-webkit-align-items:center;-webkit-box-align:center;-ms-flex-align:center;align-items:center;-webkit-box-pack:justify;-webkit-justify-content:space-between;-ms-flex-pack:justify;justify-content:space-between;height:32px;padding:0 12px;gap:8px;min-width:-webkit-max-content;min-width:-moz-max-content;min-width:max-content;-webkit-transition:80ms cubic-bezier(0.65,0,0.35,1);transition:80ms cubic-bezier(0.65,0,0.35,1);-webkit-transition-property:color,fill,background-color,border-color;transition-property:color,fill,background-color,border-color;color:var(--button-default-fgColor-rest,var(--color-btn-text,#24292f));background-color:var(--button-default-bgColor-rest,var(--color-btn-bg,#f6f8fa));box-shadow:var(--button-default-shadow-resting,var(--color-btn-shadow,0 1px 0 rgba(31,35,40,0.04))),var(--button-default-shadow-inset,var(--color-btn-inset-shadow,inset 0 1px 0 rgba(255,255,255,0.25)));padding-left:8px;padding-right:8px;}/*!sc*/
.dTgfec:focus:not(:disabled){box-shadow:none;outline:2px solid var(--fgColor-accent,var(--color-accent-fg,#0969da));outline-offset:-2px;}/*!sc*/
.dTgfec:focus:not(:disabled):not(:focus-visible){outline:solid 1px transparent;}/*!sc*/
.dTgfec:focus-visible:not(:disabled){box-shadow:none;outline:2px solid var(--fgColor-accent,var(--color-accent-fg,#0969da));outline-offset:-2px;}/*!sc*/
.dTgfec[href]{display:-webkit-inline-box;display:-webkit-inline-flex;display:-ms-inline-flexbox;display:inline-flex;}/*!sc*/
.dTgfec[href]:hover{-webkit-text-decoration:none;text-decoration:none;}/*!sc*/
.dTgfec:hover{-webkit-transition-duration:80ms;transition-duration:80ms;}/*!sc*/
.dTgfec:active{-webkit-transition:none;transition:none;}/*!sc*/
.dTgfec[data-inactive]{cursor:auto;}/*!sc*/
.dTgfec:disabled{cursor:not-allowed;box-shadow:none;color:var(--fgColor-disabled,var(--color-primer-fg-disabled,#8c959f));border-color:var(--button-default-borderColor-disabled,var(--button-default-borderColor-rest,var(--color-btn-border,rgba(31,35,40,0.15))));background-color:var(--button-default-bgColor-disabled,var(--control-bgColor-disabled,var(--color-input-disabled-bg,rgba(175,184,193,0.2))));}/*!sc*/
.dTgfec:disabled [data-component=ButtonCounter]{color:inherit;}/*!sc*/
@media (forced-colors:active){.dTgfec:focus{outline:solid 1px transparent;}}/*!sc*/
.dTgfec [data-component=ButtonCounter]{font-size:12px;background-color:var(--buttonCounter-default-bgColor-rest,var(--color-btn-counter-bg,rgba(31,35,40,0.08)));}/*!sc*/
.dTgfec[data-component=IconButton]{display:inline-grid;padding:unset;place-content:center;width:32px;min-width:unset;}/*!sc*/
.dTgfec[data-size="small"]{padding:0 8px;height:28px;gap:4px;font-size:12px;}/*!sc*/
.dTgfec[data-size="small"] [data-component="text"]{line-height:calc(20 / 12);}/*!sc*/
.dTgfec[data-size="small"] [data-component=ButtonCounter]{font-size:12px;}/*!sc*/
.dTgfec[data-size="small"] [data-component="buttonContent"] > :not(:last-child){margin-right:4px;}/*!sc*/
.dTgfec[data-size="small"][data-component=IconButton]{width:28px;padding:unset;}/*!sc*/
.dTgfec[data-size="large"]{padding:0 16px;height:40px;gap:8px;}/*!sc*/
.dTgfec[data-size="large"] [data-component="buttonContent"] > :not(:last-child){margin-right:8px;}/*!sc*/
.dTgfec[data-size="large"][data-component=IconButton]{width:40px;padding:unset;}/*!sc*/
.dTgfec[data-block="block"]{width:100%;}/*!sc*/
.dTgfec[data-inactive]:not([disabled]){background-color:var(--button-inactive-bgColor,var(--button-inactive-bgColor-rest,var(--color-btn-inactive-bg,#eaeef2)));border-color:var(--button-inactive-bgColor,var(--button-inactive-bgColor-rest,var(--color-btn-inactive-bg,#eaeef2)));color:var(--button-inactive-fgColor,var(--button-inactive-fgColor-rest,var(--color-btn-inactive-text,#57606a)));}/*!sc*/
.dTgfec[data-inactive]:not([disabled]):focus-visible{box-shadow:none;}/*!sc*/
.dTgfec [data-component="leadingVisual"]{grid-area:leadingVisual;}/*!sc*/
.dTgfec [data-component="text"]{grid-area:text;line-height:calc(20/14);white-space:nowrap;}/*!sc*/
.dTgfec [data-component="trailingVisual"]{grid-area:trailingVisual;}/*!sc*/
.dTgfec [data-component="trailingAction"]{margin-right:-4px;}/*!sc*/
.dTgfec [data-component="buttonContent"]{-webkit-flex:1 0 auto;-ms-flex:1 0 auto;flex:1 0 auto;display:grid;grid-template-areas:"leadingVisual text trailingVisual";grid-template-columns:min-content minmax(0,auto) min-content;-webkit-align-items:center;-webkit-box-align:center;-ms-flex-align:center;align-items:center;-webkit-align-content:center;-ms-flex-line-pack:center;align-content:center;}/*!sc*/
.dTgfec [data-component="buttonContent"] > :not(:last-child){margin-right:8px;}/*!sc*/
.dTgfec:hover:not([disabled]):not([data-inactive]){background-color:var(--button-default-bgColor-hover,var(--color-btn-hover-bg,#f3f4f6));border-color:var(--button-default-borderColor-hover,var(--button-default-borderColor-hover,var(--color-btn-hover-border,rgba(31,35,40,0.15))));}/*!sc*/
.dTgfec:active:not([disabled]):not([data-inactive]){background-color:var(--button-default-bgColor-active,var(--color-btn-active-bg,hsla(220,14%,93%,1)));border-color:var(--button-default-borderColor-active,var(--button-default-borderColor-active,var(--color-btn-active-border,rgba(31,35,40,0.15))));}/*!sc*/
.dTgfec[aria-expanded=true]{background-color:var(--button-default-bgColor-active,var(--color-btn-active-bg,hsla(220,14%,93%,1)));border-color:var(--button-default-borderColor-active,var(--button-default-borderColor-active,var(--color-btn-active-border,rgba(31,35,40,0.15))));}/*!sc*/
.dTgfec [data-component="leadingVisual"],.dTgfec [data-component="trailingVisual"],.dTgfec [data-component="trailingAction"]{color:var(--button-color,var(--fgColor-muted,var(--color-fg-muted,#656d76)));}/*!sc*/
.dTgfec[data-component="IconButton"][data-no-visuals]{color:var(--fgColor-muted,var(--color-fg-muted,#656d76));}/*!sc*/
.dTgfec linkButtonSx:hover:not([disabled]){-webkit-text-decoration:none;text-decoration:none;}/*!sc*/
.dTgfec linkButtonSx:focus:not([disabled]){-webkit-text-decoration:none;text-decoration:none;}/*!sc*/
.dTgfec linkButtonSx:active:not([disabled]){-webkit-text-decoration:none;text-decoration:none;}/*!sc*/
.pyyxt{border-radius:6px;border:1px solid;border-color:var(--button-default-borderColor-rest,var(--button-default-borderColor-rest,var(--color-btn-border,rgba(31,35,40,0.15))));font-family:inherit;font-weight:500;font-size:14px;cursor:pointer;-webkit-appearance:none;-moz-appearance:none;appearance:none;-webkit-user-select:none;-moz-user-select:none;-ms-user-select:none;user-select:none;-webkit-text-decoration:none;text-decoration:none;text-align:center;display:-webkit-box;display:-webkit-flex;display:-ms-flexbox;display:flex;-webkit-align-items:center;-webkit-box-align:center;-ms-flex-align:center;align-items:center;-webkit-box-pack:justify;-webkit-justify-content:space-between;-ms-flex-pack:justify;justify-content:space-between;height:32px;padding:0 12px;gap:8px;min-width:-webkit-max-content;min-width:-moz-max-content;min-width:max-content;-webkit-transition:80ms cubic-bezier(0.65,0,0.35,1);transition:80ms cubic-bezier(0.65,0,0.35,1);-webkit-transition-property:color,fill,background-color,border-color;transition-property:color,fill,background-color,border-color;color:var(--button-default-fgColor-rest,var(--color-btn-text,#24292f));background-color:var(--button-default-bgColor-rest,var(--color-btn-bg,#f6f8fa));box-shadow:var(--button-default-shadow-resting,var(--color-btn-shadow,0 1px 0 rgba(31,35,40,0.04))),var(--button-default-shadow-inset,var(--color-btn-inset-shadow,inset 0 1px 0 rgba(255,255,255,0.25)));}/*!sc*/
.pyyxt:focus:not(:disabled){box-shadow:none;outline:2px solid var(--fgColor-accent,var(--color-accent-fg,#0969da));outline-offset:-2px;}/*!sc*/
.pyyxt:focus:not(:disabled):not(:focus-visible){outline:solid 1px transparent;}/*!sc*/
.pyyxt:focus-visible:not(:disabled){box-shadow:none;outline:2px solid var(--fgColor-accent,var(--color-accent-fg,#0969da));outline-offset:-2px;}/*!sc*/
.pyyxt[href]{display:-webkit-inline-box;display:-webkit-inline-flex;display:-ms-inline-flexbox;display:inline-flex;}/*!sc*/
.pyyxt[href]:hover{-webkit-text-decoration:none;text-decoration:none;}/*!sc*/
.pyyxt:hover{-webkit-transition-duration:80ms;transition-duration:80ms;}/*!sc*/
.pyyxt:active{-webkit-transition:none;transition:none;}/*!sc*/
.pyyxt[data-inactive]{cursor:auto;}/*!sc*/
.pyyxt:disabled{cursor:not-allowed;box-shadow:none;color:var(--fgColor-disabled,var(--color-primer-fg-disabled,#8c959f));border-color:var(--button-default-borderColor-disabled,var(--button-default-borderColor-rest,var(--color-btn-border,rgba(31,35,40,0.15))));background-color:var(--button-default-bgColor-disabled,var(--control-bgColor-disabled,var(--color-input-disabled-bg,rgba(175,184,193,0.2))));}/*!sc*/
.pyyxt:disabled [data-component=ButtonCounter]{color:inherit;}/*!sc*/
@media (forced-colors:active){.pyyxt:focus{outline:solid 1px transparent;}}/*!sc*/
.pyyxt [data-component=ButtonCounter]{font-size:12px;background-color:var(--buttonCounter-default-bgColor-rest,var(--color-btn-counter-bg,rgba(31,35,40,0.08)));}/*!sc*/
.pyyxt[data-component=IconButton]{display:inline-grid;padding:unset;place-content:center;width:32px;min-width:unset;}/*!sc*/
.pyyxt[data-size="small"]{padding:0 8px;height:28px;gap:4px;font-size:12px;}/*!sc*/
.pyyxt[data-size="small"] [data-component="text"]{line-height:calc(20 / 12);}/*!sc*/
.pyyxt[data-size="small"] [data-component=ButtonCounter]{font-size:12px;}/*!sc*/
.pyyxt[data-size="small"] [data-component="buttonContent"] > :not(:last-child){margin-right:4px;}/*!sc*/
.pyyxt[data-size="small"][data-component=IconButton]{width:28px;padding:unset;}/*!sc*/
.pyyxt[data-size="large"]{padding:0 16px;height:40px;gap:8px;}/*!sc*/
.pyyxt[data-size="large"] [data-component="buttonContent"] > :not(:last-child){margin-right:8px;}/*!sc*/
.pyyxt[data-size="large"][data-component=IconButton]{width:40px;padding:unset;}/*!sc*/
.pyyxt[data-block="block"]{width:100%;}/*!sc*/
.pyyxt[data-inactive]:not([disabled]){background-color:var(--button-inactive-bgColor,var(--button-inactive-bgColor-rest,var(--color-btn-inactive-bg,#eaeef2)));border-color:var(--button-inactive-bgColor,var(--button-inactive-bgColor-rest,var(--color-btn-inactive-bg,#eaeef2)));color:var(--button-inactive-fgColor,var(--button-inactive-fgColor-rest,var(--color-btn-inactive-text,#57606a)));}/*!sc*/
.pyyxt[data-inactive]:not([disabled]):focus-visible{box-shadow:none;}/*!sc*/
.pyyxt [data-component="leadingVisual"]{grid-area:leadingVisual;}/*!sc*/
.pyyxt [data-component="text"]{grid-area:text;line-height:calc(20/14);white-space:nowrap;}/*!sc*/
.pyyxt [data-component="trailingVisual"]{grid-area:trailingVisual;}/*!sc*/
.pyyxt [data-component="trailingAction"]{margin-right:-4px;}/*!sc*/
.pyyxt [data-component="buttonContent"]{-webkit-flex:1 0 auto;-ms-flex:1 0 auto;flex:1 0 auto;display:grid;grid-template-areas:"leadingVisual text trailingVisual";grid-template-columns:min-content minmax(0,auto) min-content;-webkit-align-items:center;-webkit-box-align:center;-ms-flex-align:center;align-items:center;-webkit-align-content:center;-ms-flex-line-pack:center;align-content:center;}/*!sc*/
.pyyxt [data-component="buttonContent"] > :not(:last-child){margin-right:8px;}/*!sc*/
.pyyxt:hover:not([disabled]):not([data-inactive]){background-color:var(--button-default-bgColor-hover,var(--color-btn-hover-bg,#f3f4f6));border-color:var(--button-default-borderColor-hover,var(--button-default-borderColor-hover,var(--color-btn-hover-border,rgba(31,35,40,0.15))));}/*!sc*/
.pyyxt:active:not([disabled]):not([data-inactive]){background-color:var(--button-default-bgColor-active,var(--color-btn-active-bg,hsla(220,14%,93%,1)));border-color:var(--button-default-borderColor-active,var(--button-default-borderColor-active,var(--color-btn-active-border,rgba(31,35,40,0.15))));}/*!sc*/
.pyyxt[aria-expanded=true]{background-color:var(--button-default-bgColor-active,var(--color-btn-active-bg,hsla(220,14%,93%,1)));border-color:var(--button-default-borderColor-active,var(--button-default-borderColor-active,var(--color-btn-active-border,rgba(31,35,40,0.15))));}/*!sc*/
.pyyxt [data-component="leadingVisual"],.pyyxt [data-component="trailingVisual"],.pyyxt [data-component="trailingAction"]{color:var(--button-color,var(--fgColor-muted,var(--color-fg-muted,#656d76)));}/*!sc*/
.pyyxt[data-component="IconButton"][data-no-visuals]{color:var(--fgColor-muted,var(--color-fg-muted,#656d76));}/*!sc*/
.fmvlPZ{border-radius:6px;border:1px solid;border-color:var(--button-default-borderColor-rest,var(--button-default-borderColor-rest,var(--color-btn-border,rgba(31,35,40,0.15))));font-family:inherit;font-weight:500;font-size:14px;cursor:pointer;-webkit-appearance:none;-moz-appearance:none;appearance:none;-webkit-user-select:none;-moz-user-select:none;-ms-user-select:none;user-select:none;-webkit-text-decoration:none;text-decoration:none;text-align:center;display:-webkit-box;display:-webkit-flex;display:-ms-flexbox;display:flex;-webkit-align-items:center;-webkit-box-align:center;-ms-flex-align:center;align-items:center;-webkit-box-pack:justify;-webkit-justify-content:space-between;-ms-flex-pack:justify;justify-content:space-between;height:32px;padding:0 12px;gap:8px;min-width:-webkit-max-content;min-width:-moz-max-content;min-width:max-content;-webkit-transition:80ms cubic-bezier(0.65,0,0.35,1);transition:80ms cubic-bezier(0.65,0,0.35,1);-webkit-transition-property:color,fill,background-color,border-color;transition-property:color,fill,background-color,border-color;color:var(--button-default-fgColor-rest,var(--color-btn-text,#24292f));background-color:var(--button-default-bgColor-rest,var(--color-btn-bg,#f6f8fa));box-shadow:var(--button-default-shadow-resting,var(--color-btn-shadow,0 1px 0 rgba(31,35,40,0.04))),var(--button-default-shadow-inset,var(--color-btn-inset-shadow,inset 0 1px 0 rgba(255,255,255,0.25)));}/*!sc*/
.fmvlPZ:focus:not(:disabled){box-shadow:none;outline:2px solid var(--fgColor-accent,var(--color-accent-fg,#0969da));outline-offset:-2px;}/*!sc*/
.fmvlPZ:focus:not(:disabled):not(:focus-visible){outline:solid 1px transparent;}/*!sc*/
.fmvlPZ:focus-visible:not(:disabled){box-shadow:none;outline:2px solid var(--fgColor-accent,var(--color-accent-fg,#0969da));outline-offset:-2px;}/*!sc*/
.fmvlPZ[href]{display:-webkit-inline-box;display:-webkit-inline-flex;display:-ms-inline-flexbox;display:inline-flex;}/*!sc*/
.fmvlPZ[href]:hover{-webkit-text-decoration:none;text-decoration:none;}/*!sc*/
.fmvlPZ:hover{-webkit-transition-duration:80ms;transition-duration:80ms;}/*!sc*/
.fmvlPZ:active{-webkit-transition:none;transition:none;}/*!sc*/
.fmvlPZ[data-inactive]{cursor:auto;}/*!sc*/
.fmvlPZ:disabled{cursor:not-allowed;box-shadow:none;color:var(--fgColor-disabled,var(--color-primer-fg-disabled,#8c959f));border-color:var(--button-default-borderColor-disabled,var(--button-default-borderColor-rest,var(--color-btn-border,rgba(31,35,40,0.15))));background-color:var(--button-default-bgColor-disabled,var(--control-bgColor-disabled,var(--color-input-disabled-bg,rgba(175,184,193,0.2))));}/*!sc*/
.fmvlPZ:disabled [data-component=ButtonCounter]{color:inherit;}/*!sc*/
@media (forced-colors:active){.fmvlPZ:focus{outline:solid 1px transparent;}}/*!sc*/
.fmvlPZ [data-component=ButtonCounter]{font-size:12px;background-color:var(--buttonCounter-default-bgColor-rest,var(--color-btn-counter-bg,rgba(31,35,40,0.08)));}/*!sc*/
.fmvlPZ[data-component=IconButton]{display:inline-grid;padding:unset;place-content:center;width:32px;min-width:unset;}/*!sc*/
.fmvlPZ[data-size="small"]{padding:0 8px;height:28px;gap:4px;font-size:12px;}/*!sc*/
.fmvlPZ[data-size="small"] [data-component="text"]{line-height:calc(20 / 12);}/*!sc*/
.fmvlPZ[data-size="small"] [data-component=ButtonCounter]{font-size:12px;}/*!sc*/
.fmvlPZ[data-size="small"] [data-component="buttonContent"] > :not(:last-child){margin-right:4px;}/*!sc*/
.fmvlPZ[data-size="small"][data-component=IconButton]{width:28px;padding:unset;}/*!sc*/
.fmvlPZ[data-size="large"]{padding:0 16px;height:40px;gap:8px;}/*!sc*/
.fmvlPZ[data-size="large"] [data-component="buttonContent"] > :not(:last-child){margin-right:8px;}/*!sc*/
.fmvlPZ[data-size="large"][data-component=IconButton]{width:40px;padding:unset;}/*!sc*/
.fmvlPZ[data-block="block"]{width:100%;}/*!sc*/
.fmvlPZ[data-inactive]:not([disabled]){background-color:var(--button-inactive-bgColor,var(--button-inactive-bgColor-rest,var(--color-btn-inactive-bg,#eaeef2)));border-color:var(--button-inactive-bgColor,var(--button-inactive-bgColor-rest,var(--color-btn-inactive-bg,#eaeef2)));color:var(--button-inactive-fgColor,var(--button-inactive-fgColor-rest,var(--color-btn-inactive-text,#57606a)));}/*!sc*/
.fmvlPZ[data-inactive]:not([disabled]):focus-visible{box-shadow:none;}/*!sc*/
.fmvlPZ [data-component="leadingVisual"]{grid-area:leadingVisual;}/*!sc*/
.fmvlPZ [data-component="text"]{grid-area:text;line-height:calc(20/14);white-space:nowrap;}/*!sc*/
.fmvlPZ [data-component="trailingVisual"]{grid-area:trailingVisual;}/*!sc*/
.fmvlPZ [data-component="trailingAction"]{margin-right:-4px;}/*!sc*/
.fmvlPZ [data-component="buttonContent"]{-webkit-flex:1 0 auto;-ms-flex:1 0 auto;flex:1 0 auto;display:grid;grid-template-areas:"leadingVisual text trailingVisual";grid-template-columns:min-content minmax(0,auto) min-content;-webkit-align-items:center;-webkit-box-align:center;-ms-flex-align:center;align-items:center;-webkit-align-content:center;-ms-flex-line-pack:center;align-content:center;}/*!sc*/
.fmvlPZ [data-component="buttonContent"] > :not(:last-child){margin-right:8px;}/*!sc*/
.fmvlPZ:hover:not([disabled]):not([data-inactive]){background-color:var(--button-default-bgColor-hover,var(--color-btn-hover-bg,#f3f4f6));border-color:var(--button-default-borderColor-hover,var(--button-default-borderColor-hover,var(--color-btn-hover-border,rgba(31,35,40,0.15))));}/*!sc*/
.fmvlPZ:active:not([disabled]):not([data-inactive]){background-color:var(--button-default-bgColor-active,var(--color-btn-active-bg,hsla(220,14%,93%,1)));border-color:var(--button-default-borderColor-active,var(--button-default-borderColor-active,var(--color-btn-active-border,rgba(31,35,40,0.15))));}/*!sc*/
.fmvlPZ[aria-expanded=true]{background-color:var(--button-default-bgColor-active,var(--color-btn-active-bg,hsla(220,14%,93%,1)));border-color:var(--button-default-borderColor-active,var(--button-default-borderColor-active,var(--color-btn-active-border,rgba(31,35,40,0.15))));}/*!sc*/
.fmvlPZ [data-component="leadingVisual"],.fmvlPZ [data-component="trailingVisual"],.fmvlPZ [data-component="trailingAction"]{color:var(--button-color,var(--fgColor-muted,var(--color-fg-muted,#656d76)));}/*!sc*/
.fmvlPZ[data-component="IconButton"][data-no-visuals]{color:var(--fgColor-muted,var(--color-fg-muted,#656d76));}/*!sc*/
.fmvlPZ[data-size="small"][data-no-visuals]{border-top-left-radius:0;border-bottom-left-radius:0;}/*!sc*/
.dGDIQc{border-radius:6px;border:1px solid;border-color:transparent;font-family:inherit;font-weight:500;font-size:14px;cursor:pointer;-webkit-appearance:none;-moz-appearance:none;appearance:none;-webkit-user-select:none;-moz-user-select:none;-ms-user-select:none;user-select:none;-webkit-text-decoration:none;text-decoration:none;text-align:center;display:-webkit-box;display:-webkit-flex;display:-ms-flexbox;display:flex;-webkit-align-items:center;-webkit-box-align:center;-ms-flex-align:center;align-items:center;-webkit-box-pack:justify;-webkit-justify-content:space-between;-ms-flex-pack:justify;justify-content:space-between;height:32px;padding:0 12px;gap:8px;min-width:-webkit-max-content;min-width:-moz-max-content;min-width:max-content;-webkit-transition:80ms cubic-bezier(0.65,0,0.35,1);transition:80ms cubic-bezier(0.65,0,0.35,1);-webkit-transition-property:color,fill,background-color,border-color;transition-property:color,fill,background-color,border-color;color:var(--button-default-fgColor-rest,var(--color-btn-text,#24292f));background-color:transparent;box-shadow:none;}/*!sc*/
.dGDIQc:focus:not(:disabled){box-shadow:none;outline:2px solid var(--fgColor-accent,var(--color-accent-fg,#0969da));outline-offset:-2px;}/*!sc*/
.dGDIQc:focus:not(:disabled):not(:focus-visible){outline:solid 1px transparent;}/*!sc*/
.dGDIQc:focus-visible:not(:disabled){box-shadow:none;outline:2px solid var(--fgColor-accent,var(--color-accent-fg,#0969da));outline-offset:-2px;}/*!sc*/
.dGDIQc[href]{display:-webkit-inline-box;display:-webkit-inline-flex;display:-ms-inline-flexbox;display:inline-flex;}/*!sc*/
.dGDIQc[href]:hover{-webkit-text-decoration:none;text-decoration:none;}/*!sc*/
.dGDIQc:hover{-webkit-transition-duration:80ms;transition-duration:80ms;}/*!sc*/
.dGDIQc:active{-webkit-transition:none;transition:none;}/*!sc*/
.dGDIQc[data-inactive]{cursor:auto;}/*!sc*/
.dGDIQc:disabled{cursor:not-allowed;box-shadow:none;color:var(--fgColor-disabled,var(--color-primer-fg-disabled,#8c959f));}/*!sc*/
.dGDIQc:disabled [data-component=ButtonCounter],.dGDIQc:disabled [data-component="leadingVisual"],.dGDIQc:disabled [data-component="trailingAction"]{color:inherit;}/*!sc*/
@media (forced-colors:active){.dGDIQc:focus{outline:solid 1px transparent;}}/*!sc*/
.dGDIQc [data-component=ButtonCounter]{font-size:12px;}/*!sc*/
.dGDIQc[data-component=IconButton]{display:inline-grid;padding:unset;place-content:center;width:32px;min-width:unset;}/*!sc*/
.dGDIQc[data-size="small"]{padding:0 8px;height:28px;gap:4px;font-size:12px;}/*!sc*/
.dGDIQc[data-size="small"] [data-component="text"]{line-height:calc(20 / 12);}/*!sc*/
.dGDIQc[data-size="small"] [data-component=ButtonCounter]{font-size:12px;}/*!sc*/
.dGDIQc[data-size="small"] [data-component="buttonContent"] > :not(:last-child){margin-right:4px;}/*!sc*/
.dGDIQc[data-size="small"][data-component=IconButton]{width:28px;padding:unset;}/*!sc*/
.dGDIQc[data-size="large"]{padding:0 16px;height:40px;gap:8px;}/*!sc*/
.dGDIQc[data-size="large"] [data-component="buttonContent"] > :not(:last-child){margin-right:8px;}/*!sc*/
.dGDIQc[data-size="large"][data-component=IconButton]{width:40px;padding:unset;}/*!sc*/
.dGDIQc[data-block="block"]{width:100%;}/*!sc*/
.dGDIQc[data-inactive]:not([disabled]){background-color:var(--button-inactive-bgColor,var(--button-inactive-bgColor-rest,var(--color-btn-inactive-bg,#eaeef2)));border-color:var(--button-inactive-bgColor,var(--button-inactive-bgColor-rest,var(--color-btn-inactive-bg,#eaeef2)));color:var(--button-inactive-fgColor,var(--button-inactive-fgColor-rest,var(--color-btn-inactive-text,#57606a)));}/*!sc*/
.dGDIQc[data-inactive]:not([disabled]):focus-visible{box-shadow:none;}/*!sc*/
.dGDIQc [data-component="leadingVisual"]{grid-area:leadingVisual;color:var(--fgColor-muted,var(--color-fg-muted,#656d76));}/*!sc*/
.dGDIQc [data-component="text"]{grid-area:text;line-height:calc(20/14);white-space:nowrap;}/*!sc*/
.dGDIQc [data-component="trailingVisual"]{grid-area:trailingVisual;}/*!sc*/
.dGDIQc [data-component="trailingAction"]{margin-right:-4px;color:var(--fgColor-muted,var(--color-fg-muted,#656d76));}/*!sc*/
.dGDIQc [data-component="buttonContent"]{-webkit-flex:1 0 auto;-ms-flex:1 0 auto;flex:1 0 auto;display:grid;grid-template-areas:"leadingVisual text trailingVisual";grid-template-columns:min-content minmax(0,auto) min-content;-webkit-align-items:center;-webkit-box-align:center;-ms-flex-align:center;align-items:center;-webkit-align-content:center;-ms-flex-line-pack:center;align-content:center;}/*!sc*/
.dGDIQc [data-component="buttonContent"] > :not(:last-child){margin-right:8px;}/*!sc*/
.dGDIQc:hover:not([disabled]){background-color:var(--control-transparent-bgColor-hover,var(--color-action-list-item-default-hover-bg,rgba(208,215,222,0.32)));}/*!sc*/
.dGDIQc:active:not([disabled]){background-color:var(--control-transparent-bgColor-active,var(--color-action-list-item-default-active-bg,rgba(208,215,222,0.48)));}/*!sc*/
.dGDIQc[aria-expanded=true]{background-color:var(--control-transparent-bgColor-selected,var(--color-action-list-item-default-selected-bg,rgba(208,215,222,0.24)));}/*!sc*/
.dGDIQc[data-component="IconButton"][data-no-visuals]{color:var(--fgColor-muted,var(--color-fg-muted,#656d76));}/*!sc*/
.dGDIQc[data-no-visuals]{color:var(--fgColor-accent,var(--color-accent-fg,#0969da));}/*!sc*/
.dGDIQc:has([data-component="ButtonCounter"]){color:var(--button-default-fgColor-rest,var(--color-btn-text,#24292f));}/*!sc*/
.dGDIQc:disabled[data-no-visuals]{color:var(--fgColor-disabled,var(--color-primer-fg-disabled,#8c959f));}/*!sc*/
.dGDIQc:disabled[data-no-visuals] [data-component=ButtonCounter]{color:inherit;}/*!sc*/
.dGDIQc[data-size="small"][data-no-visuals]{color:var(--fgColor-muted,var(--color-fg-muted,#656d76));}/*!sc*/
data-styled.g9[id="types__StyledButton-sc-ws60qy-0"]{content:"blmaBs,hkJzmn,hILMMl,ivbpoP,hviaoI,jXTShb,fAkXQN,gfKkfV,dTgfec,pyyxt,fmvlPZ,dGDIQc,"}/*!sc*/
.gNgnVl{position:relative;display:inline-block;}/*!sc*/
.gNgnVl::after{position:absolute;z-index:1000000;display:none;padding:0.5em 0.75em;font:normal normal 11px/1.5 -apple-system,BlinkMacSystemFont,"Segoe UI","Noto Sans",Helvetica,Arial,sans-serif,"Apple Color Emoji","Segoe UI Emoji";-webkit-font-smoothing:subpixel-antialiased;color:var(--fgColor-onEmphasis,var(--color-fg-on-emphasis,#ffffff));text-align:center;-webkit-text-decoration:none;text-decoration:none;text-shadow:none;text-transform:none;-webkit-letter-spacing:normal;-moz-letter-spacing:normal;-ms-letter-spacing:normal;letter-spacing:normal;word-wrap:break-word;white-space:pre;pointer-events:none;content:attr(aria-label);background:var(--bgColor-emphasis,var(--color-neutral-emphasis-plus,#24292f));border-radius:6px;opacity:0;}/*!sc*/
@-webkit-keyframes tooltip-appear{from{opacity:0;}to{opacity:1;}}/*!sc*/
@keyframes tooltip-appear{from{opacity:0;}to{opacity:1;}}/*!sc*/
.gNgnVl:hover::after,.gNgnVl:active::after,.gNgnVl:focus::after,.gNgnVl:focus-within::after{display:inline-block;-webkit-text-decoration:none;text-decoration:none;-webkit-animation-name:tooltip-appear;animation-name:tooltip-appear;-webkit-animation-duration:0.1s;animation-duration:0.1s;-webkit-animation-fill-mode:forwards;animation-fill-mode:forwards;-webkit-animation-timing-function:ease-in;animation-timing-function:ease-in;-webkit-animation-delay:0s;animation-delay:0s;}/*!sc*/
.gNgnVl.tooltipped-no-delay:hover::after,.gNgnVl.tooltipped-no-delay:active::after,.gNgnVl.tooltipped-no-delay:focus::after,.gNgnVl.tooltipped-no-delay:focus-within::after{-webkit-animation-delay:0s;animation-delay:0s;}/*!sc*/
.gNgnVl.tooltipped-multiline:hover::after,.gNgnVl.tooltipped-multiline:active::after,.gNgnVl.tooltipped-multiline:focus::after,.gNgnVl.tooltipped-multiline:focus-within::after{display:table-cell;}/*!sc*/
.gNgnVl.tooltipped-s::after,.gNgnVl.tooltipped-se::after,.gNgnVl.tooltipped-sw::after{top:100%;right:50%;margin-top:6px;}/*!sc*/
.gNgnVl.tooltipped-se::after{right:auto;left:50%;margin-left:-16px;}/*!sc*/
.gNgnVl.tooltipped-sw::after{margin-right:-16px;}/*!sc*/
.gNgnVl.tooltipped-n::after,.gNgnVl.tooltipped-ne::after,.gNgnVl.tooltipped-nw::after{right:50%;bottom:100%;margin-bottom:6px;}/*!sc*/
.gNgnVl.tooltipped-ne::after{right:auto;left:50%;margin-left:-16px;}/*!sc*/
.gNgnVl.tooltipped-nw::after{margin-right:-16px;}/*!sc*/
.gNgnVl.tooltipped-s::after,.gNgnVl.tooltipped-n::after{-webkit-transform:translateX(50%);-ms-transform:translateX(50%);transform:translateX(50%);}/*!sc*/
.gNgnVl.tooltipped-w::after{right:100%;bottom:50%;margin-right:6px;-webkit-transform:translateY(50%);-ms-transform:translateY(50%);transform:translateY(50%);}/*!sc*/
.gNgnVl.tooltipped-e::after{bottom:50%;left:100%;margin-left:6px;-webkit-transform:translateY(50%);-ms-transform:translateY(50%);transform:translateY(50%);}/*!sc*/
.gNgnVl.tooltipped-multiline::after{width:-webkit-max-content;width:-moz-max-content;width:max-content;max-width:250px;word-wrap:break-word;white-space:pre-line;border-collapse:separate;}/*!sc*/
.gNgnVl.tooltipped-multiline.tooltipped-s::after,.gNgnVl.tooltipped-multiline.tooltipped-n::after{right:auto;left:50%;-webkit-transform:translateX(-50%);-ms-transform:translateX(-50%);transform:translateX(-50%);}/*!sc*/
.gNgnVl.tooltipped-multiline.tooltipped-w::after,.gNgnVl.tooltipped-multiline.tooltipped-e::after{right:100%;}/*!sc*/
.gNgnVl.tooltipped-align-right-2::after{right:0;margin-right:0;}/*!sc*/
.gNgnVl.tooltipped-align-left-2::after{left:0;margin-left:0;}/*!sc*/
data-styled.g14[id="Tooltip__TooltipBase-sc-17tf59c-0"]{content:"gNgnVl,"}/*!sc*/
.fUpWeN{display:inline-block;overflow:hidden;text-overflow:ellipsis;vertical-align:top;white-space:nowrap;max-width:125px;max-width:100%;}/*!sc*/
data-styled.g16[id="Truncate__StyledTruncate-sc-23o1d2-0"]{content:"fUpWeN,"}/*!sc*/
.hPEVNM{-webkit-animation:rotate-keyframes 1s linear infinite;animation:rotate-keyframes 1s linear infinite;}/*!sc*/
@-webkit-keyframes rotate-keyframes{100%{-webkit-transform:rotate(360deg);-ms-transform:rotate(360deg);transform:rotate(360deg);}}/*!sc*/
@keyframes rotate-keyframes{100%{-webkit-transform:rotate(360deg);-ms-transform:rotate(360deg);transform:rotate(360deg);}}/*!sc*/
data-styled.g28[id="Spinner__StyledSpinner-sc-1knt686-0"]{content:"hPEVNM,"}/*!sc*/
.cXNreu{font-size:14px;line-height:20px;color:var(--fgColor-default,var(--color-fg-default,#1F2328));vertical-align:middle;background-color:var(--bgColor-default,var(--color-canvas-default,#ffffff));border:1px solid var(--control-borderColor-rest,var(--borderColor-default,var(--color-border-default,#d0d7de)));border-radius:6px;outline:none;box-shadow:var(--shadow-inset,var(--color-primer-shadow-inset,inset 0 1px 0 rgba(208,215,222,0.2)));display:-webkit-inline-box;display:-webkit-inline-flex;display:-ms-inline-flexbox;display:inline-flex;-webkit-align-items:stretch;-webkit-box-align:stretch;-ms-flex-align:stretch;align-items:stretch;min-height:32px;overflow:hidden;display:-webkit-box;display:-webkit-flex;display:-ms-flexbox;display:flex;min-width:160px;}/*!sc*/
.cXNreu input,.cXNreu textarea{cursor:text;}/*!sc*/
.cXNreu select{cursor:pointer;}/*!sc*/
.cXNreu input::-webkit-input-placeholder,.cXNreu textarea::-webkit-input-placeholder,.cXNreu select::-webkit-input-placeholder{color:var(---control-fgColor-placeholder,var(--fgColor-muted,var(--color-fg-muted,#656d76)));}/*!sc*/
.cXNreu input::-moz-placeholder,.cXNreu textarea::-moz-placeholder,.cXNreu select::-moz-placeholder{color:var(---control-fgColor-placeholder,var(--fgColor-muted,var(--color-fg-muted,#656d76)));}/*!sc*/
.cXNreu input:-ms-input-placeholder,.cXNreu textarea:-ms-input-placeholder,.cXNreu select:-ms-input-placeholder{color:var(---control-fgColor-placeholder,var(--fgColor-muted,var(--color-fg-muted,#656d76)));}/*!sc*/
.cXNreu input::placeholder,.cXNreu textarea::placeholder,.cXNreu select::placeholder{color:var(---control-fgColor-placeholder,var(--fgColor-muted,var(--color-fg-muted,#656d76)));}/*!sc*/
.cXNreu:focus-within{border-color:var(--fgColor-accent,var(--color-accent-fg,#0969da));outline:2px solid var(--fgColor-accent,var(--color-accent-fg,#0969da));outline-offset:-1px;}/*!sc*/
.cXNreu > textarea{padding:12px;}/*!sc*/
@media (min-width:768px){.cXNreu{font-size:14px;}}/*!sc*/
data-styled.g37[id="TextInputWrapper__TextInputBaseWrapper-sc-1mqhpbi-0"]{content:"cXNreu,"}/*!sc*/
.jbzqwE{background-repeat:no-repeat;background-position:right 8px center;padding-left:12px;padding-right:12px;display:-webkit-box;display:-webkit-flex;display:-ms-flexbox;display:flex;min-width:160px;}/*!sc*/
.jbzqwE > :not(:last-child){margin-right:8px;}/*!sc*/
.jbzqwE .TextInput-icon,.jbzqwE .TextInput-action{-webkit-align-self:center;-ms-flex-item-align:center;align-self:center;color:var(--fgColor-muted,var(--color-fg-muted,#656d76));-webkit-flex-shrink:0;-ms-flex-negative:0;flex-shrink:0;}/*!sc*/
.jbzqwE > input,.jbzqwE > select{padding-left:0;padding-right:0;}/*!sc*/
data-styled.g38[id="TextInputWrapper-sc-1mqhpbi-1"]{content:"jbzqwE,"}/*!sc*/
.cDLBls{border:0;font-size:inherit;font-family:inherit;background-color:transparent;-webkit-appearance:none;color:inherit;width:100%;}/*!sc*/
.cDLBls:focus{outline:0;}/*!sc*/
data-styled.g39[id="UnstyledTextInput-sc-14ypya-0"]{content:"cDLBls,"}/*!sc*/
.jEdVkE{--segmented-control-button-inner-padding:12px;--segmented-control-button-bg-inset:4px;--segmented-control-outer-radius:6px;background-color:transparent;border-color:transparent;border-radius:var(--segmented-control-outer-radius);border-width:0;color:currentColor;cursor:pointer;font-family:inherit;font-size:inherit;font-weight:600;padding:0;height:100%;width:100%;}/*!sc*/
.jEdVkE .segmentedControl-content{-webkit-align-items:center;-webkit-box-align:center;-ms-flex-align:center;align-items:center;background-color:var(--controlKnob-bgColor-rest,var(--color-segmented-control-button-bg,#ffffff));border-color:var(--controlKnob-borderColor-rest,var(--color-segmented-control-button-hover-active-selected-border,#8c959f));border-style:solid;border-width:1px;border-radius:var(--segmented-control-outer-radius);display:-webkit-box;display:-webkit-flex;display:-ms-flexbox;display:flex;height:100%;-webkit-box-pack:center;-webkit-justify-content:center;-ms-flex-pack:center;justify-content:center;padding-left:var(--segmented-control-button-inner-padding);padding-right:var(--segmented-control-button-inner-padding);}/*!sc*/
.jEdVkE svg{fill:var(--fgColor-muted,var(--color-fg-muted,#656d76));}/*!sc*/
.jEdVkE:focus:focus-visible:not(:last-child):after{width:0;}/*!sc*/
.jEdVkE .segmentedControl-text:after{content:"Preview";display:block;font-weight:600;height:0;overflow:hidden;pointer-events:none;-webkit-user-select:none;-moz-user-select:none;-ms-user-select:none;user-select:none;visibility:hidden;}/*!sc*/
@media (pointer:coarse){.jEdVkE:before{content:"";position:absolute;left:0;right:0;-webkit-transform:translateY(-50%);-ms-transform:translateY(-50%);transform:translateY(-50%);top:50%;min-height:44px;}}/*!sc*/
.TvbfG{--segmented-control-button-inner-padding:12px;--segmented-control-button-bg-inset:4px;--segmented-control-outer-radius:6px;background-color:transparent;border-color:transparent;border-radius:var(--segmented-control-outer-radius);border-width:0;color:currentColor;cursor:pointer;font-family:inherit;font-size:inherit;font-weight:400;padding:var(--segmented-control-button-bg-inset);height:100%;width:100%;}/*!sc*/
.TvbfG .segmentedControl-content{-webkit-align-items:center;-webkit-box-align:center;-ms-flex-align:center;align-items:center;background-color:transparent;border-color:transparent;border-style:solid;border-width:1px;border-radius:calc(var(--segmented-control-outer-radius) - var(--segmented-control-button-bg-inset) / 2);display:-webkit-box;display:-webkit-flex;display:-ms-flexbox;display:flex;height:100%;-webkit-box-pack:center;-webkit-justify-content:center;-ms-flex-pack:center;justify-content:center;padding-left:calc(var(--segmented-control-button-inner-padding) - var(--segmented-control-button-bg-inset));padding-right:calc(var(--segmented-control-button-inner-padding) - var(--segmented-control-button-bg-inset));}/*!sc*/
.TvbfG svg{fill:var(--fgColor-muted,var(--color-fg-muted,#656d76));}/*!sc*/
.TvbfG:hover .segmentedControl-content{background-color:var(--controlTrack-bgColor-hover,var(--color-segmented-control-button-hover-bg,rgba(175,184,193,0.2)));}/*!sc*/
.TvbfG:active .segmentedControl-content{background-color:var(--controlTrack-bgColor-active,var(--color-segmented-control-button-hover-active-bg,rgba(175,184,193,0.4)));}/*!sc*/
.TvbfG:focus:focus-visible:not(:last-child):after{width:0;}/*!sc*/
.TvbfG .segmentedControl-text:after{content:"Code";display:block;font-weight:600;height:0;overflow:hidden;pointer-events:none;-webkit-user-select:none;-moz-user-select:none;-ms-user-select:none;user-select:none;visibility:hidden;}/*!sc*/
@media (pointer:coarse){.TvbfG:before{content:"";position:absolute;left:0;right:0;-webkit-transform:translateY(-50%);-ms-transform:translateY(-50%);transform:translateY(-50%);top:50%;min-height:44px;}}/*!sc*/
.fIktcg{--segmented-control-button-inner-padding:12px;--segmented-control-button-bg-inset:4px;--segmented-control-outer-radius:6px;background-color:transparent;border-color:transparent;border-radius:var(--segmented-control-outer-radius);border-width:0;color:currentColor;cursor:pointer;font-family:inherit;font-size:inherit;font-weight:400;padding:var(--segmented-control-button-bg-inset);height:100%;width:100%;}/*!sc*/
.fIktcg .segmentedControl-content{-webkit-align-items:center;-webkit-box-align:center;-ms-flex-align:center;align-items:center;background-color:transparent;border-color:transparent;border-style:solid;border-width:1px;border-radius:calc(var(--segmented-control-outer-radius) - var(--segmented-control-button-bg-inset) / 2);display:-webkit-box;display:-webkit-flex;display:-ms-flexbox;display:flex;height:100%;-webkit-box-pack:center;-webkit-justify-content:center;-ms-flex-pack:center;justify-content:center;padding-left:calc(var(--segmented-control-button-inner-padding) - var(--segmented-control-button-bg-inset));padding-right:calc(var(--segmented-control-button-inner-padding) - var(--segmented-control-button-bg-inset));}/*!sc*/
.fIktcg svg{fill:var(--fgColor-muted,var(--color-fg-muted,#656d76));}/*!sc*/
.fIktcg:hover .segmentedControl-content{background-color:var(--controlTrack-bgColor-hover,var(--color-segmented-control-button-hover-bg,rgba(175,184,193,0.2)));}/*!sc*/
.fIktcg:active .segmentedControl-content{background-color:var(--controlTrack-bgColor-active,var(--color-segmented-control-button-hover-active-bg,rgba(175,184,193,0.4)));}/*!sc*/
.fIktcg:focus:focus-visible:not(:last-child):after{width:0;}/*!sc*/
.fIktcg .segmentedControl-text:after{content:"Blame";display:block;font-weight:600;height:0;overflow:hidden;pointer-events:none;-webkit-user-select:none;-moz-user-select:none;-ms-user-select:none;user-select:none;visibility:hidden;}/*!sc*/
@media (pointer:coarse){.fIktcg:before{content:"";position:absolute;left:0;right:0;-webkit-transform:translateY(-50%);-ms-transform:translateY(-50%);transform:translateY(-50%);top:50%;min-height:44px;}}/*!sc*/
data-styled.g69[id="SegmentedControlButton__SegmentedControlButtonStyled-sc-8lkgxl-0"]{content:"jEdVkE,TvbfG,fIktcg,"}/*!sc*/
.huxtnT{background-color:var(--controlTrack-bgColor-rest,var(--color-segmented-control-bg,#eaeef2));border-radius:6px;display:-webkit-inline-box;display:-webkit-inline-flex;display:-ms-inline-flexbox;display:inline-flex;font-size:14px;height:28px;margin:0;padding:0;}/*!sc*/
data-styled.g71[id="SegmentedControl__SegmentedControlList-sc-1rzig82-0"]{content:"huxtnT,"}/*!sc*/
.cjbBGq{display:-webkit-inline-box;display:-webkit-inline-flex;display:-ms-inline-flexbox;display:inline-flex;vertical-align:middle;isolation:isolate;}/*!sc*/
.cjbBGq.cjbBGq > *{margin-inline-end:-1px;position:relative;border-radius:0;}/*!sc*/
.cjbBGq.cjbBGq > *:first-child{border-top-left-radius:6px;border-bottom-left-radius:6px;}/*!sc*/
.cjbBGq.cjbBGq > *:last-child{border-top-right-radius:6px;border-bottom-right-radius:6px;}/*!sc*/
.cjbBGq.cjbBGq > *:focus,.cjbBGq.cjbBGq > *:active,.cjbBGq.cjbBGq > *:hover{z-index:1;}/*!sc*/
data-styled.g87[id="ButtonGroup-sc-1gxhls1-0"]{content:"cjbBGq,"}/*!sc*/
</style><meta data-hydrostats="publish"/> <!-- --> <!-- --> <!-- --> <button hidden="" data-testid="header-permalink-button" data-hotkey-scope="read-only-cursor-text-area"></button><button hidden=""></button><div><div style="--sticky-pane-height:100vh" class="Box-sc-g0xbh4-0 fSWWem"><div class="Box-sc-g0xbh4-0 kPPmzM"><div class="Box-sc-g0xbh4-0 cIAPDV"><div tabindex="0" class="Box-sc-g0xbh4-0 gvCnwW"><div class="Box-sc-g0xbh4-0 esrURn"><div class="Box-sc-g0xbh4-0 eUyHuk"></div><div style="--pane-width:320px" class="Box-sc-g0xbh4-0 gNdDUH"></div><div class="Box-sc-g0xbh4-0 hAeDYA"><div role="slider" aria-label="Draggable pane splitter" aria-valuemin="0" aria-valuemax="0" aria-valuenow="0" aria-valuetext="Pane width 0 pixels" tabindex="0" class="Box-sc-g0xbh4-0 fjdBNx"></div></div></div></div><div class="Box-sc-g0xbh4-0 emFMJu"><div class="Box-sc-g0xbh4-0"></div><div class="Box-sc-g0xbh4-0 hlUAHL"><div data-selector="repos-split-pane-content" tabindex="0" class="Box-sc-g0xbh4-0 iStsmI"><div class="Box-sc-g0xbh4-0 eIgvIk"><div class="Box-sc-g0xbh4-0 eVFfWF container"><div class="px-3 pt-3 pb-0" id="StickyHeader"><div class="Box-sc-g0xbh4-0 fywjmm"><div class="Box-sc-g0xbh4-0 dyczTK"><div class="Box-sc-g0xbh4-0 cpXcux react-code-view-header-wrap--narrow"><div class="Box-sc-g0xbh4-0 iPEkxH"><h2 class="Heading__StyledHeading-sc-1c1dgg0-0 jUriTl"><button style="--button-color:fg.muted" type="button" aria-label="Expand file tree" data-testid="expand-file-tree-button-mobile" class="types__StyledButton-sc-ws60qy-0 blmaBs"><span data-component="buttonContent" class="Box-sc-g0xbh4-0 kkrdEu"><span data-component="leadingVisual" class="Box-sc-g0xbh4-0 trpoQ"><svg aria-hidden="true" focusable="false" role="img" class="octicon octicon-arrow-left" viewBox="0 0 16 16" width="16" height="16" fill="currentColor" style="display:inline-block;user-select:none;vertical-align:text-bottom;overflow:visible"><path d="M7.78 12.53a.75.75 0 0 1-1.06 0L2.47 8.28a.75.75 0 0 1 0-1.06l4.25-4.25a.751.751 0 0 1 1.042.018.751.751 0 0 1 .018 1.042L4.81 7h7.44a.75.75 0 0 1 0 1.5H4.81l2.97 2.97a.75.75 0 0 1 0 1.06Z"></path></svg></span><span data-component="text">Files</span></span></button><span role="tooltip" aria-label="Expand file tree" id="expand-button-file-tree-button" class="Tooltip__TooltipBase-sc-17tf59c-0 gNgnVl tooltipped-se"><button data-component="IconButton" type="button" data-testid="expand-file-tree-button" aria-labelledby="expand-button-file-tree-button" aria-controls="repos-file-tree" class="types__StyledButton-sc-ws60qy-0 hkJzmn" data-no-visuals="true"><svg aria-hidden="true" focusable="false" role="img" class="octicon octicon-sidebar-collapse" viewBox="0 0 16 16" width="16" height="16" fill="currentColor" style="display:inline-block;user-select:none;vertical-align:text-bottom;overflow:visible"><path d="M6.823 7.823a.25.25 0 0 1 0 .354l-2.396 2.396A.25.25 0 0 1 4 10.396V5.604a.25.25 0 0 1 .427-.177Z"></path><path d="M1.75 0h12.5C15.216 0 16 .784 16 1.75v12.5A1.75 1.75 0 0 1 14.25 16H1.75A1.75 1.75 0 0 1 0 14.25V1.75C0 .784.784 0 1.75 0ZM1.5 1.75v12.5c0 .138.112.25.25.25H9.5v-13H1.75a.25.25 0 0 0-.25.25ZM11 14.5h3.25a.25.25 0 0 0 .25-.25V1.75a.25.25 0 0 0-.25-.25H11Z"></path></svg></button></span><button hidden="" data-testid="" data-hotkey-scope="read-only-cursor-text-area"></button></h2></div><div class="react-code-view-header-mb--narrow mr-2"><button type="button" id="branch-picker-repos-header-ref-selector-wide" aria-haspopup="true" tabindex="0" aria-label="main branch" data-testid="anchor-button" class="types__StyledButton-sc-ws60qy-0 hILMMl ref-selector-class"><span data-component="buttonContent" class="Box-sc-g0xbh4-0 kkrdEu"><span data-component="text"><div class="Box-sc-g0xbh4-0 bKgizp"><div class="Box-sc-g0xbh4-0 iPGYsi"><svg aria-hidden="true" focusable="false" role="img" class="octicon octicon-git-branch" viewBox="0 0 16 16" width="16" height="16" fill="currentColor" style="display:inline-block;user-select:none;vertical-align:text-bottom;overflow:visible"><path d="M9.5 3.25a2.25 2.25 0 1 1 3 2.122V6A2.5 2.5 0 0 1 10 8.5H6a1 1 0 0 0-1 1v1.128a2.251 2.251 0 1 1-1.5 0V5.372a2.25 2.25 0 1 1 1.5 0v1.836A2.493 2.493 0 0 1 6 7h4a1 1 0 0 0 1-1v-.628A2.25 2.25 0 0 1 9.5 3.25Zm-6 0a.75.75 0 1 0 1.5 0 .75.75 0 0 0-1.5 0Zm8.25-.75a.75.75 0 1 0 0 1.5.75.75 0 0 0 0-1.5ZM4.25 12a.75.75 0 1 0 0 1.5.75.75 0 0 0 0-1.5Z"></path></svg></div><div class="Box-sc-g0xbh4-0 dKmYfk ref-selector-button-text-container"><span class="Text-sc-17v1xeu-0 bOMzPg"> <!-- -->main</span></div></div></span><span data-component="trailingVisual" class="Box-sc-g0xbh4-0 trpoQ"><svg aria-hidden="true" focusable="false" role="img" class="octicon octicon-triangle-down" viewBox="0 0 16 16" width="16" height="16" fill="currentColor" style="display:inline-block;user-select:none;vertical-align:text-bottom;overflow:visible"><path d="m4.427 7.427 3.396 3.396a.25.25 0 0 0 .354 0l3.396-3.396A.25.25 0 0 0 11.396 7H4.604a.25.25 0 0 0-.177.427Z"></path></svg></span></span></button><button hidden="" data-hotkey-scope="read-only-cursor-text-area"></button></div><div class="Box-sc-g0xbh4-0 ehCeGn react-code-view-header-mb--narrow"><div class="Box-sc-g0xbh4-0 eTvGbF"><nav data-testid="breadcrumbs" aria-labelledby="repos-header-breadcrumb-heading" id="repos-header-breadcrumb" class="Box-sc-g0xbh4-0 kzRgrI"><h2 class="Heading__StyledHeading-sc-1c1dgg0-0 cgQnMS sr-only" data-testid="screen-reader-heading" id="repos-header-breadcrumb-heading">Breadcrumbs</h2><ol class="Box-sc-g0xbh4-0 cmAPIB"><li class="Box-sc-g0xbh4-0 jwXCBK"><a sx="[object Object]" data-testid="breadcrumbs-repo-link" class="Link__StyledLink-sc-14289xe-0 ipyMWB" href="/SrinandanMoram/edxcourse/tree/main">edxcourse</a></li></ol></nav><div data-testid="breadcrumbs-filename" class="Box-sc-g0xbh4-0 jwXCBK"><span aria-hidden="true" class="Text-sc-17v1xeu-0 fIsVJr">/</span><h1 tabindex="-1" id="file-name-id" class="Heading__StyledHeading-sc-1c1dgg0-0 diwsLq">10-IBM-DS capstone-lab7-ML prediction.ipynb</h1></div><button data-component="IconButton" type="button" aria-label="Copy path" data-testid="breadcrumb-copy-path-button" data-size="small" data-no-visuals="true" class="types__StyledButton-sc-ws60qy-0 ivbpoP"><svg aria-hidden="true" focusable="false" role="img" class="octicon octicon-copy" viewBox="0 0 16 16" width="16" height="16" fill="currentColor" style="display:inline-block;user-select:none;vertical-align:text-bottom;overflow:visible"><path d="M0 6.75C0 5.784.784 5 1.75 5h1.5a.75.75 0 0 1 0 1.5h-1.5a.25.25 0 0 0-.25.25v7.5c0 .138.112.25.25.25h7.5a.25.25 0 0 0 .25-.25v-1.5a.75.75 0 0 1 1.5 0v1.5A1.75 1.75 0 0 1 9.25 16h-7.5A1.75 1.75 0 0 1 0 14.25Z"></path><path d="M5 1.75C5 .784 5.784 0 6.75 0h7.5C15.216 0 16 .784 16 1.75v7.5A1.75 1.75 0 0 1 14.25 11h-7.5A1.75 1.75 0 0 1 5 9.25Zm1.75-.25a.25.25 0 0 0-.25.25v7.5c0 .138.112.25.25.25h7.5a.25.25 0 0 0 .25-.25v-7.5a.25.25 0 0 0-.25-.25Z"></path></svg></button></div></div></div><div class="react-code-view-header-element--wide"><div class="Box-sc-g0xbh4-0 gtBUEp"><div class="d-flex gap-2"> <div><div class="Box-sc-g0xbh4-0 kfYOBR"><span class="TextInputWrapper__TextInputBaseWrapper-sc-1mqhpbi-0 TextInputWrapper-sc-1mqhpbi-1 cXNreu jbzqwE TextInput-wrapper" aria-busy="false"><span class="TextInput-icon"><svg aria-hidden="true" focusable="false" role="img" class="octicon octicon-search" viewBox="0 0 16 16" width="16" height="16" fill="currentColor" style="display:inline-block;user-select:none;vertical-align:text-bottom;overflow:visible"><path d="M10.68 11.74a6 6 0 0 1-7.922-8.982 6 6 0 0 1 8.982 7.922l3.04 3.04a.749.749 0 0 1-.326 1.275.749.749 0 0 1-.734-.215ZM11.5 7a4.499 4.499 0 1 0-8.997 0A4.499 4.499 0 0 0 11.5 7Z"></path></svg></span><input type="text" aria-label="Go to file" role="combobox" aria-controls="file-results-list" aria-expanded="false" aria-haspopup="dialog" autoCorrect="off" spellcheck="false" placeholder="Go to file" data-component="input" class="UnstyledTextInput-sc-14ypya-0 cDLBls" value=""/><span class="TextInput-icon"></span></span></div><button hidden="" data-testid="" data-hotkey-scope="read-only-cursor-text-area"></button><button hidden=""></button></div><button type="button" data-no-visuals="true" class="types__StyledButton-sc-ws60qy-0 hviaoI"><span data-component="buttonContent" class="Box-sc-g0xbh4-0 kkrdEu"><span data-component="text">Blame</span></span></button><button hidden="" data-testid="" data-hotkey-scope="read-only-cursor-text-area"></button><button data-component="IconButton" type="button" aria-label="More file actions" class="types__StyledButton-sc-ws60qy-0 jXTShb js-blob-dropdown-click" title="More file actions" data-testid="more-file-actions-button-nav-menu-wide" id=":R156d9laeb:" aria-haspopup="true" tabindex="0" data-no-visuals="true"><svg aria-hidden="true" focusable="false" role="img" class="octicon octicon-kebab-horizontal" viewBox="0 0 16 16" width="16" height="16" fill="currentColor" style="display:inline-block;user-select:none;vertical-align:text-bottom;overflow:visible"><path d="M8 9a1.5 1.5 0 1 0 0-3 1.5 1.5 0 0 0 0 3ZM1.5 9a1.5 1.5 0 1 0 0-3 1.5 1.5 0 0 0 0 3Zm13 0a1.5 1.5 0 1 0 0-3 1.5 1.5 0 0 0 0 3Z"></path></svg></button> </div></div></div><div class="react-code-view-header-element--narrow"><div class="Box-sc-g0xbh4-0 gtBUEp"><div class="d-flex gap-2"> <button type="button" data-no-visuals="true" class="types__StyledButton-sc-ws60qy-0 hviaoI"><span data-component="buttonContent" class="Box-sc-g0xbh4-0 kkrdEu"><span data-component="text">Blame</span></span></button><button hidden="" data-testid="" data-hotkey-scope="read-only-cursor-text-area"></button><button data-component="IconButton" type="button" aria-label="More file actions" class="types__StyledButton-sc-ws60qy-0 jXTShb js-blob-dropdown-click" title="More file actions" data-testid="more-file-actions-button-nav-menu-narrow" id=":R157d9laeb:" aria-haspopup="true" tabindex="0" data-no-visuals="true"><svg aria-hidden="true" focusable="false" role="img" class="octicon octicon-kebab-horizontal" viewBox="0 0 16 16" width="16" height="16" fill="currentColor" style="display:inline-block;user-select:none;vertical-align:text-bottom;overflow:visible"><path d="M8 9a1.5 1.5 0 1 0 0-3 1.5 1.5 0 0 0 0 3ZM1.5 9a1.5 1.5 0 1 0 0-3 1.5 1.5 0 0 0 0 3Zm13 0a1.5 1.5 0 1 0 0-3 1.5 1.5 0 0 0 0 3Z"></path></svg></button> </div></div></div></div></div></div></div></div><div class="Box-sc-g0xbh4-0 hVZtwF react-code-view-bottom-padding"> <div class="Box-sc-g0xbh4-0 cMYnca"></div> <!-- --> <!-- --> </div><div class="Box-sc-g0xbh4-0 hVZtwF"> <!-- --> <!-- --> <div class="Box-sc-g0xbh4-0 jQCQnS"><div class="Box-sc-g0xbh4-0 dhUVTM"><h2 class="Heading__StyledHeading-sc-1c1dgg0-0 cgQnMS sr-only" data-testid="screen-reader-heading">Latest commit</h2><div style="width:120px" class="Skeleton Skeleton--text" data-testid="loading"> </div><div class="d-flex gap-2"><div data-testid="latest-commit-details" class="Box-sc-g0xbh4-0 fleZSW latest-commit-timestamp-container"></div><div class="Box-sc-g0xbh4-0 jGfYmh"><h2 class="Heading__StyledHeading-sc-1c1dgg0-0 cgQnMS sr-only" data-testid="screen-reader-heading">History</h2><a class="types__StyledButton-sc-ws60qy-0 fAkXQN react-last-commit-history-group" href="/SrinandanMoram/edxcourse/commits/main/10-IBM-DS%20capstone-lab7-ML%20prediction.ipynb" data-size="small"><span data-component="buttonContent" class="Box-sc-g0xbh4-0 kkrdEu"><span data-component="leadingVisual" class="Box-sc-g0xbh4-0 trpoQ"><svg aria-hidden="true" focusable="false" role="img" class="octicon octicon-history" viewBox="0 0 16 16" width="16" height="16" fill="currentColor" style="display:inline-block;user-select:none;vertical-align:text-bottom;overflow:visible"><path d="m.427 1.927 1.215 1.215a8.002 8.002 0 1 1-1.6 5.685.75.75 0 1 1 1.493-.154 6.5 6.5 0 1 0 1.18-4.458l1.358 1.358A.25.25 0 0 1 3.896 6H.25A.25.25 0 0 1 0 5.75V2.104a.25.25 0 0 1 .427-.177ZM7.75 4a.75.75 0 0 1 .75.75v2.992l2.028.812a.75.75 0 0 1-.557 1.392l-2.5-1A.751.751 0 0 1 7 8.25v-3.5A.75.75 0 0 1 7.75 4Z"></path></svg></span><span data-component="text"><span class="Text-sc-17v1xeu-0 dALsKK">History</span></span></span></a><div class="Box-sc-g0xbh4-0 bqgLjk"></div><span role="tooltip" aria-label="Commit history" id=":R9dlal9laeb:" class="Tooltip__TooltipBase-sc-17tf59c-0 gNgnVl tooltipped-n"><a class="types__StyledButton-sc-ws60qy-0 fAkXQN react-last-commit-history-icon" href="/SrinandanMoram/edxcourse/commits/main/10-IBM-DS%20capstone-lab7-ML%20prediction.ipynb"><span data-component="buttonContent" class="Box-sc-g0xbh4-0 kkrdEu"><span data-component="leadingVisual" class="Box-sc-g0xbh4-0 trpoQ"><svg aria-hidden="true" focusable="false" role="img" class="octicon octicon-history" viewBox="0 0 16 16" width="16" height="16" fill="currentColor" style="display:inline-block;user-select:none;vertical-align:text-bottom;overflow:visible"><path d="m.427 1.927 1.215 1.215a8.002 8.002 0 1 1-1.6 5.685.75.75 0 1 1 1.493-.154 6.5 6.5 0 1 0 1.18-4.458l1.358 1.358A.25.25 0 0 1 3.896 6H.25A.25.25 0 0 1 0 5.75V2.104a.25.25 0 0 1 .427-.177ZM7.75 4a.75.75 0 0 1 .75.75v2.992l2.028.812a.75.75 0 0 1-.557 1.392l-2.5-1A.751.751 0 0 1 7 8.25v-3.5A.75.75 0 0 1 7.75 4Z"></path></svg></span></span></a></span></div></div></div></div><div class="Box-sc-g0xbh4-0 iJmJly"><div class="Box-sc-g0xbh4-0 jACbi container"><div class="Box-sc-g0xbh4-0 gIJuDf react-code-size-details-banner"><div class="Box-sc-g0xbh4-0 fleZSW react-code-size-details-banner"><div class="Box-sc-g0xbh4-0 BnySK text-mono"><div title="136 KB" data-testid="blob-size" class="Truncate__StyledTruncate-sc-23o1d2-0 fUpWeN"><span class="Text-sc-17v1xeu-0 gPDEWA">781 lines (781 loc) · 136 KB</span></div></div></div></div><div class="Box-sc-g0xbh4-0 VHzRk react-blob-view-header-sticky" id="repos-sticky-header"><div class="Box-sc-g0xbh4-0 ePiodO"><div class="Box-sc-g0xbh4-0 react-blob-sticky-header"><div class="Box-sc-g0xbh4-0 kQJlnf"><div class="Box-sc-g0xbh4-0 nSWSp"><div class="Box-sc-g0xbh4-0 lhFvfi"><div class="Box-sc-g0xbh4-0 doiYd"><button type="button" id="branch-picker-repos-header-ref-selector" aria-haspopup="true" tabindex="0" aria-label="main branch" data-testid="anchor-button" class="types__StyledButton-sc-ws60qy-0 hILMMl ref-selector-class"><span data-component="buttonContent" class="Box-sc-g0xbh4-0 kkrdEu"><span data-component="text"><div class="Box-sc-g0xbh4-0 bKgizp"><div class="Box-sc-g0xbh4-0 iPGYsi"><svg aria-hidden="true" focusable="false" role="img" class="octicon octicon-git-branch" viewBox="0 0 16 16" width="16" height="16" fill="currentColor" style="display:inline-block;user-select:none;vertical-align:text-bottom;overflow:visible"><path d="M9.5 3.25a2.25 2.25 0 1 1 3 2.122V6A2.5 2.5 0 0 1 10 8.5H6a1 1 0 0 0-1 1v1.128a2.251 2.251 0 1 1-1.5 0V5.372a2.25 2.25 0 1 1 1.5 0v1.836A2.493 2.493 0 0 1 6 7h4a1 1 0 0 0 1-1v-.628A2.25 2.25 0 0 1 9.5 3.25Zm-6 0a.75.75 0 1 0 1.5 0 .75.75 0 0 0-1.5 0Zm8.25-.75a.75.75 0 1 0 0 1.5.75.75 0 0 0 0-1.5ZM4.25 12a.75.75 0 1 0 0 1.5.75.75 0 0 0 0-1.5Z"></path></svg></div><div class="Box-sc-g0xbh4-0 dKmYfk ref-selector-button-text-container"><span class="Text-sc-17v1xeu-0 bOMzPg"> <!-- -->main</span></div></div></span><span data-component="trailingVisual" class="Box-sc-g0xbh4-0 trpoQ"><svg aria-hidden="true" focusable="false" role="img" class="octicon octicon-triangle-down" viewBox="0 0 16 16" width="16" height="16" fill="currentColor" style="display:inline-block;user-select:none;vertical-align:text-bottom;overflow:visible"><path d="m4.427 7.427 3.396 3.396a.25.25 0 0 0 .354 0l3.396-3.396A.25.25 0 0 0 11.396 7H4.604a.25.25 0 0 0-.177.427Z"></path></svg></span></span></button><button hidden="" data-hotkey-scope="read-only-cursor-text-area"></button></div><div class="Box-sc-g0xbh4-0 jKPiSV"><div class="Box-sc-g0xbh4-0 iZJewz"><nav data-testid="breadcrumbs" aria-labelledby="sticky-breadcrumb-heading" id="sticky-breadcrumb" class="Box-sc-g0xbh4-0 kzRgrI"><h2 class="Heading__StyledHeading-sc-1c1dgg0-0 cgQnMS sr-only" data-testid="screen-reader-heading" id="sticky-breadcrumb-heading">Breadcrumbs</h2><ol class="Box-sc-g0xbh4-0 cmAPIB"><li class="Box-sc-g0xbh4-0 jwXCBK"><a sx="[object Object]" data-testid="breadcrumbs-repo-link" class="Link__StyledLink-sc-14289xe-0 ipyMWB" href="/SrinandanMoram/edxcourse/tree/main">edxcourse</a></li></ol></nav><div data-testid="breadcrumbs-filename" class="Box-sc-g0xbh4-0 jwXCBK"><span aria-hidden="true" class="Text-sc-17v1xeu-0 cYjMDB">/</span><h1 tabindex="-1" id="sticky-file-name-id" class="Heading__StyledHeading-sc-1c1dgg0-0 jAEDJk">10-IBM-DS capstone-lab7-ML prediction.ipynb</h1></div></div></div></div><button style="--button-color:fg.default" type="button" data-size="small" class="types__StyledButton-sc-ws60qy-0 gfKkfV"><span data-component="buttonContent" class="Box-sc-g0xbh4-0 kkrdEu"><span data-component="leadingVisual" class="Box-sc-g0xbh4-0 trpoQ"><svg aria-hidden="true" focusable="false" role="img" class="octicon octicon-arrow-up" viewBox="0 0 16 16" width="16" height="16" fill="currentColor" style="display:inline-block;user-select:none;vertical-align:text-bottom;overflow:visible"><path d="M3.47 7.78a.75.75 0 0 1 0-1.06l4.25-4.25a.75.75 0 0 1 1.06 0l4.25 4.25a.751.751 0 0 1-.018 1.042.751.751 0 0 1-1.042.018L9 4.81v7.44a.75.75 0 0 1-1.5 0V4.81L4.53 7.78a.75.75 0 0 1-1.06 0Z"></path></svg></span><span data-component="text">Top</span></span></button></div></div></div><div class="Box-sc-g0xbh4-0 jfjHXm"><h2 class="Heading__StyledHeading-sc-1c1dgg0-0 cgQnMS sr-only" data-testid="screen-reader-heading">File metadata and controls</h2><div class="Box-sc-g0xbh4-0 bfkNRF"><ul aria-label="File view" class="SegmentedControl__SegmentedControlList-sc-1rzig82-0 huxtnT"><li class="Box-sc-g0xbh4-0 fXBLEV"><button aria-current="true" class="SegmentedControlButton__SegmentedControlButtonStyled-sc-8lkgxl-0 jEdVkE"><span class="segmentedControl-content"><div class="Box-sc-g0xbh4-0 segmentedControl-text">Preview</div></span></button></li><li class="Box-sc-g0xbh4-0 gMPsNT"><button aria-current="false" class="SegmentedControlButton__SegmentedControlButtonStyled-sc-8lkgxl-0 TvbfG"><span class="segmentedControl-content"><div class="Box-sc-g0xbh4-0 segmentedControl-text">Code</div></span></button></li><li class="Box-sc-g0xbh4-0 gMPsNT"><button aria-current="false" class="SegmentedControlButton__SegmentedControlButtonStyled-sc-8lkgxl-0 fIktcg"><span class="segmentedControl-content"><div class="Box-sc-g0xbh4-0 segmentedControl-text">Blame</div></span></button></li></ul><button hidden="" data-testid="" data-hotkey-scope="read-only-cursor-text-area"></button><button hidden="" data-testid="" data-hotkey-scope="read-only-cursor-text-area"></button><button hidden="" data-testid="" data-hotkey-scope="read-only-cursor-text-area"></button><div class="Box-sc-g0xbh4-0 fleZSW react-code-size-details-in-header"><div class="Box-sc-g0xbh4-0 BnySK text-mono"><div title="136 KB" data-testid="blob-size" class="Truncate__StyledTruncate-sc-23o1d2-0 fUpWeN"><span class="Text-sc-17v1xeu-0 gPDEWA">781 lines (781 loc) · 136 KB</span></div></div></div></div><div class="Box-sc-g0xbh4-0 iBylDf"><div class="Box-sc-g0xbh4-0 kSGBPx react-blob-header-edit-and-raw-actions"><div class="ButtonGroup-sc-1gxhls1-0 cjbBGq"><a href="https://github.com/SrinandanMoram/edxcourse/raw/main/10-IBM-DS%20capstone-lab7-ML%20prediction.ipynb" data-testid="raw-button" data-size="small" data-no-visuals="true" class="types__StyledButton-sc-ws60qy-0 dTgfec"><span data-component="buttonContent" class="Box-sc-g0xbh4-0 kkrdEu"><span data-component="text">Raw</span></span></a><button data-component="IconButton" type="button" aria-label="Copy raw content" data-testid="copy-raw-button" data-size="small" data-no-visuals="true" class="types__StyledButton-sc-ws60qy-0 pyyxt"><svg aria-hidden="true" focusable="false" role="img" class="octicon octicon-copy" viewBox="0 0 16 16" width="16" height="16" fill="currentColor" style="display:inline-block;user-select:none;vertical-align:text-bottom;overflow:visible"><path d="M0 6.75C0 5.784.784 5 1.75 5h1.5a.75.75 0 0 1 0 1.5h-1.5a.25.25 0 0 0-.25.25v7.5c0 .138.112.25.25.25h7.5a.25.25 0 0 0 .25-.25v-1.5a.75.75 0 0 1 1.5 0v1.5A1.75 1.75 0 0 1 9.25 16h-7.5A1.75 1.75 0 0 1 0 14.25Z"></path><path d="M5 1.75C5 .784 5.784 0 6.75 0h7.5C15.216 0 16 .784 16 1.75v7.5A1.75 1.75 0 0 1 14.25 11h-7.5A1.75 1.75 0 0 1 5 9.25Zm1.75-.25a.25.25 0 0 0-.25.25v7.5c0 .138.112.25.25.25h7.5a.25.25 0 0 0 .25-.25v-7.5a.25.25 0 0 0-.25-.25Z"></path></svg></button><span role="tooltip" aria-label="Download raw file" id=":Rdcsptal9laeb:" class="Tooltip__TooltipBase-sc-17tf59c-0 gNgnVl tooltipped-n"><button data-component="IconButton" type="button" aria-label="Download raw content" data-testid="download-raw-button" data-size="small" data-no-visuals="true" class="types__StyledButton-sc-ws60qy-0 fmvlPZ"><svg aria-hidden="true" focusable="false" role="img" class="octicon octicon-download" viewBox="0 0 16 16" width="16" height="16" fill="currentColor" style="display:inline-block;user-select:none;vertical-align:text-bottom;overflow:visible"><path d="M2.75 14A1.75 1.75 0 0 1 1 12.25v-2.5a.75.75 0 0 1 1.5 0v2.5c0 .138.112.25.25.25h10.5a.25.25 0 0 0 .25-.25v-2.5a.75.75 0 0 1 1.5 0v2.5A1.75 1.75 0 0 1 13.25 14Z"></path><path d="M7.25 7.689V2a.75.75 0 0 1 1.5 0v5.689l1.97-1.969a.749.749 0 1 1 1.06 1.06l-3.25 3.25a.749.749 0 0 1-1.06 0L4.22 6.78a.749.749 0 1 1 1.06-1.06l1.97 1.969Z"></path></svg></button></span></div><button hidden="" data-testid="raw-button-shortcut" data-hotkey-scope="read-only-cursor-text-area"></button><button hidden="" data-testid="copy-raw-button-shortcut" data-hotkey-scope="read-only-cursor-text-area"></button><button hidden="" data-testid="download-raw-button-shortcut" data-hotkey-scope="read-only-cursor-text-area"></button></div><div class="Box-sc-g0xbh4-0 react-blob-header-edit-and-raw-actions-combined"><button data-component="IconButton" type="button" aria-label="Edit and raw actions" class="types__StyledButton-sc-ws60qy-0 dGDIQc js-blob-dropdown-click" title="More file actions" data-testid="more-file-actions-button" id=":Rnsptal9laeb:" aria-haspopup="true" tabindex="0" data-size="small" data-no-visuals="true"><svg aria-hidden="true" focusable="false" role="img" class="octicon octicon-kebab-horizontal" viewBox="0 0 16 16" width="16" height="16" fill="currentColor" style="display:inline-block;user-select:none;vertical-align:text-bottom;overflow:visible"><path d="M8 9a1.5 1.5 0 1 0 0-3 1.5 1.5 0 0 0 0 3ZM1.5 9a1.5 1.5 0 1 0 0-3 1.5 1.5 0 0 0 0 3Zm13 0a1.5 1.5 0 1 0 0-3 1.5 1.5 0 0 0 0 3Z"></path></svg></button></div></div></div></div><div></div></div><div class="Box-sc-g0xbh4-0 ytOJl"><section aria-labelledby="file-name-id-wide file-name-id-mobile" class="Box-sc-g0xbh4-0 eJsjkT"><!--$!--><template></template><div data-testid="suspense-spinner" class="Box-sc-g0xbh4-0 bAzdCq"><svg height="32px" width="32px" viewBox="0 0 16 16" fill="none" aria-label="Loading" class="Spinner__StyledSpinner-sc-1knt686-0 hPEVNM"><circle cx="8" cy="8" r="7" stroke="currentColor" stroke-opacity="0.25" stroke-width="2" vector-effect="non-scaling-stroke"></circle><path d="M15 8a7.002 7.002 0 00-7-7" stroke="currentColor" stroke-width="2" stroke-linecap="round" vector-effect="non-scaling-stroke"></path></svg></div><!--/$--></section></div></div></div> <!-- --> <!-- --> </div></div></div><div class="Box-sc-g0xbh4-0"></div></div></div></div></div><div id="find-result-marks-container" class="Box-sc-g0xbh4-0 aZrVR"></div><button hidden="" data-testid="" data-hotkey-scope="read-only-cursor-text-area"></button><button hidden=""></button></div> <!-- --> <!-- --> <!-- --> <script type="application/json" id="__PRIMER_DATA_:R0:__">{"resolvedServerColorMode":"day"}</script></div>
</react-app>
</turbo-frame>



  </div>

</turbo-frame>

    </main>
  </div>

  </div>

          <footer class="footer pt-8 pb-6 f6 color-fg-muted p-responsive" role="contentinfo" >
  <h2 class='sr-only'>Footer</h2>

  


  <div class="d-flex flex-justify-center flex-items-center flex-column-reverse flex-lg-row flex-wrap flex-lg-nowrap">
    <div class="d-flex flex-items-center flex-shrink-0 mx-2">
      <a aria-label="Homepage" title="GitHub" class="footer-octicon mr-2" href="https://github.com">
        <svg aria-hidden="true" height="24" viewBox="0 0 16 16" version="1.1" width="24" data-view-component="true" class="octicon octicon-mark-github">
    <path d="M8 0c4.42 0 8 3.58 8 8a8.013 8.013 0 0 1-5.45 7.59c-.4.08-.55-.17-.55-.38 0-.27.01-1.13.01-2.2 0-.75-.25-1.23-.54-1.48 1.78-.2 3.65-.88 3.65-3.95 0-.88-.31-1.59-.82-2.15.08-.2.36-1.02-.08-2.12 0 0-.67-.22-2.2.82-.64-.18-1.32-.27-2-.27-.68 0-1.36.09-2 .27-1.53-1.03-2.2-.82-2.2-.82-.44 1.1-.16 1.92-.08 2.12-.51.56-.82 1.28-.82 2.15 0 3.06 1.86 3.75 3.64 3.95-.23.2-.44.55-.51 1.07-.46.21-1.61.55-2.33-.66-.15-.24-.6-.83-1.23-.82-.67.01-.27.38.01.53.34.19.73.9.82 1.13.16.45.68 1.31 2.69.94 0 .67.01 1.3.01 1.49 0 .21-.15.45-.55.38A7.995 7.995 0 0 1 0 8c0-4.42 3.58-8 8-8Z"></path>
</svg>
</a>
      <span>
        &copy; 2024 GitHub,&nbsp;Inc.
      </span>
    </div>

    <nav aria-label="Footer">
      <h3 class="sr-only" id="sr-footer-heading">Footer navigation</h3>

      <ul class="list-style-none d-flex flex-justify-center flex-wrap mb-2 mb-lg-0" aria-labelledby="sr-footer-heading">

          <li class="mx-2">
            <a data-analytics-event="{&quot;category&quot;:&quot;Footer&quot;,&quot;action&quot;:&quot;go to Terms&quot;,&quot;label&quot;:&quot;text:terms&quot;}" href="https://docs.github.com/site-policy/github-terms/github-terms-of-service" data-view-component="true" class="Link--secondary Link">Terms</a>
          </li>

          <li class="mx-2">
            <a data-analytics-event="{&quot;category&quot;:&quot;Footer&quot;,&quot;action&quot;:&quot;go to privacy&quot;,&quot;label&quot;:&quot;text:privacy&quot;}" href="https://docs.github.com/site-policy/privacy-policies/github-privacy-statement" data-view-component="true" class="Link--secondary Link">Privacy</a>
          </li>

          <li class="mx-2">
            <a data-analytics-event="{&quot;category&quot;:&quot;Footer&quot;,&quot;action&quot;:&quot;go to security&quot;,&quot;label&quot;:&quot;text:security&quot;}" href="https://github.com/security" data-view-component="true" class="Link--secondary Link">Security</a>
          </li>

          <li class="mx-2">
            <a data-analytics-event="{&quot;category&quot;:&quot;Footer&quot;,&quot;action&quot;:&quot;go to status&quot;,&quot;label&quot;:&quot;text:status&quot;}" href="https://www.githubstatus.com/" data-view-component="true" class="Link--secondary Link">Status</a>
          </li>

          <li class="mx-2">
            <a data-analytics-event="{&quot;category&quot;:&quot;Footer&quot;,&quot;action&quot;:&quot;go to docs&quot;,&quot;label&quot;:&quot;text:docs&quot;}" href="https://docs.github.com/" data-view-component="true" class="Link--secondary Link">Docs</a>
          </li>

          <li class="mx-2">
            <a data-analytics-event="{&quot;category&quot;:&quot;Footer&quot;,&quot;action&quot;:&quot;go to contact&quot;,&quot;label&quot;:&quot;text:contact&quot;}" href="https://support.github.com?tags=dotcom-footer" data-view-component="true" class="Link--secondary Link">Contact</a>
          </li>

          <li class="mr-3" >
  <cookie-consent-link>
    <button type="button" class="Link--secondary underline-on-hover border-0 p-0 color-bg-transparent" data-action="click:cookie-consent-link#showConsentManagement">
      Manage cookies
    </button>
  </cookie-consent-link>
</li>

<li class="mr-3">
  <cookie-consent-link>
    <button type="button" class="Link--secondary underline-on-hover border-0 p-0 color-bg-transparent" data-action="click:cookie-consent-link#showConsentManagement">
      Do not share my personal information
    </button>
  </cookie-consent-link>
</li>

      </ul>
    </nav>
  </div>
</footer>




    <ghcc-consent id="ghcc" class="position-fixed bottom-0 left-0" style="z-index: 999999" data-initial-cookie-consent-allowed="" data-cookie-consent-required="false"></ghcc-consent>


  <div id="ajax-error-message" class="ajax-error-message flash flash-error" hidden>
    <svg aria-hidden="true" height="16" viewBox="0 0 16 16" version="1.1" width="16" data-view-component="true" class="octicon octicon-alert">
    <path d="M6.457 1.047c.659-1.234 2.427-1.234 3.086 0l6.082 11.378A1.75 1.75 0 0 1 14.082 15H1.918a1.75 1.75 0 0 1-1.543-2.575Zm1.763.707a.25.25 0 0 0-.44 0L1.698 13.132a.25.25 0 0 0 .22.368h12.164a.25.25 0 0 0 .22-.368Zm.53 3.996v2.5a.75.75 0 0 1-1.5 0v-2.5a.75.75 0 0 1 1.5 0ZM9 11a1 1 0 1 1-2 0 1 1 0 0 1 2 0Z"></path>
</svg>
    <button type="button" class="flash-close js-ajax-error-dismiss" aria-label="Dismiss error">
      <svg aria-hidden="true" height="16" viewBox="0 0 16 16" version="1.1" width="16" data-view-component="true" class="octicon octicon-x">
    <path d="M3.72 3.72a.75.75 0 0 1 1.06 0L8 6.94l3.22-3.22a.749.749 0 0 1 1.275.326.749.749 0 0 1-.215.734L9.06 8l3.22 3.22a.749.749 0 0 1-.326 1.275.749.749 0 0 1-.734-.215L8 9.06l-3.22 3.22a.751.751 0 0 1-1.042-.018.751.751 0 0 1-.018-1.042L6.94 8 3.72 4.78a.75.75 0 0 1 0-1.06Z"></path>
</svg>
    </button>
    You can’t perform that action at this time.
  </div>

    <template id="site-details-dialog">
  <details class="details-reset details-overlay details-overlay-dark lh-default color-fg-default hx_rsm" open>
    <summary role="button" aria-label="Close dialog"></summary>
    <details-dialog class="Box Box--overlay d-flex flex-column anim-fade-in fast hx_rsm-dialog hx_rsm-modal">
      <button class="Box-btn-octicon m-0 btn-octicon position-absolute right-0 top-0" type="button" aria-label="Close dialog" data-close-dialog>
        <svg aria-hidden="true" height="16" viewBox="0 0 16 16" version="1.1" width="16" data-view-component="true" class="octicon octicon-x">
    <path d="M3.72 3.72a.75.75 0 0 1 1.06 0L8 6.94l3.22-3.22a.749.749 0 0 1 1.275.326.749.749 0 0 1-.215.734L9.06 8l3.22 3.22a.749.749 0 0 1-.326 1.275.749.749 0 0 1-.734-.215L8 9.06l-3.22 3.22a.751.751 0 0 1-1.042-.018.751.751 0 0 1-.018-1.042L6.94 8 3.72 4.78a.75.75 0 0 1 0-1.06Z"></path>
</svg>
      </button>
      <div class="octocat-spinner my-6 js-details-dialog-spinner"></div>
    </details-dialog>
  </details>
</template>

    <div class="Popover js-hovercard-content position-absolute" style="display: none; outline: none;" tabindex="0">
  <div class="Popover-message Popover-message--bottom-left Popover-message--large Box color-shadow-large" style="width:360px;">
  </div>
</div>

    <template id="snippet-clipboard-copy-button">
  <div class="zeroclipboard-container position-absolute right-0 top-0">
    <clipboard-copy aria-label="Copy" class="ClipboardButton btn js-clipboard-copy m-2 p-0 tooltipped-no-delay" data-copy-feedback="Copied!" data-tooltip-direction="w">
      <svg aria-hidden="true" height="16" viewBox="0 0 16 16" version="1.1" width="16" data-view-component="true" class="octicon octicon-copy js-clipboard-copy-icon m-2">
    <path d="M0 6.75C0 5.784.784 5 1.75 5h1.5a.75.75 0 0 1 0 1.5h-1.5a.25.25 0 0 0-.25.25v7.5c0 .138.112.25.25.25h7.5a.25.25 0 0 0 .25-.25v-1.5a.75.75 0 0 1 1.5 0v1.5A1.75 1.75 0 0 1 9.25 16h-7.5A1.75 1.75 0 0 1 0 14.25Z"></path><path d="M5 1.75C5 .784 5.784 0 6.75 0h7.5C15.216 0 16 .784 16 1.75v7.5A1.75 1.75 0 0 1 14.25 11h-7.5A1.75 1.75 0 0 1 5 9.25Zm1.75-.25a.25.25 0 0 0-.25.25v7.5c0 .138.112.25.25.25h7.5a.25.25 0 0 0 .25-.25v-7.5a.25.25 0 0 0-.25-.25Z"></path>
</svg>
      <svg aria-hidden="true" height="16" viewBox="0 0 16 16" version="1.1" width="16" data-view-component="true" class="octicon octicon-check js-clipboard-check-icon color-fg-success d-none m-2">
    <path d="M13.78 4.22a.75.75 0 0 1 0 1.06l-7.25 7.25a.75.75 0 0 1-1.06 0L2.22 9.28a.751.751 0 0 1 .018-1.042.751.751 0 0 1 1.042-.018L6 10.94l6.72-6.72a.75.75 0 0 1 1.06 0Z"></path>
</svg>
    </clipboard-copy>
  </div>
</template>
<template id="snippet-clipboard-copy-button-unpositioned">
  <div class="zeroclipboard-container">
    <clipboard-copy aria-label="Copy" class="ClipboardButton btn btn-invisible js-clipboard-copy m-2 p-0 tooltipped-no-delay d-flex flex-justify-center flex-items-center" data-copy-feedback="Copied!" data-tooltip-direction="w">
      <svg aria-hidden="true" height="16" viewBox="0 0 16 16" version="1.1" width="16" data-view-component="true" class="octicon octicon-copy js-clipboard-copy-icon">
    <path d="M0 6.75C0 5.784.784 5 1.75 5h1.5a.75.75 0 0 1 0 1.5h-1.5a.25.25 0 0 0-.25.25v7.5c0 .138.112.25.25.25h7.5a.25.25 0 0 0 .25-.25v-1.5a.75.75 0 0 1 1.5 0v1.5A1.75 1.75 0 0 1 9.25 16h-7.5A1.75 1.75 0 0 1 0 14.25Z"></path><path d="M5 1.75C5 .784 5.784 0 6.75 0h7.5C15.216 0 16 .784 16 1.75v7.5A1.75 1.75 0 0 1 14.25 11h-7.5A1.75 1.75 0 0 1 5 9.25Zm1.75-.25a.25.25 0 0 0-.25.25v7.5c0 .138.112.25.25.25h7.5a.25.25 0 0 0 .25-.25v-7.5a.25.25 0 0 0-.25-.25Z"></path>
</svg>
      <svg aria-hidden="true" height="16" viewBox="0 0 16 16" version="1.1" width="16" data-view-component="true" class="octicon octicon-check js-clipboard-check-icon color-fg-success d-none">
    <path d="M13.78 4.22a.75.75 0 0 1 0 1.06l-7.25 7.25a.75.75 0 0 1-1.06 0L2.22 9.28a.751.751 0 0 1 .018-1.042.751.751 0 0 1 1.042-.018L6 10.94l6.72-6.72a.75.75 0 0 1 1.06 0Z"></path>
</svg>
    </clipboard-copy>
  </div>
</template>




    </div>

    <div id="js-global-screen-reader-notice" class="sr-only" aria-live="polite" aria-atomic="true" ></div>
    <div id="js-global-screen-reader-notice-assertive" class="sr-only" aria-live="assertive" aria-atomic="true"></div>
  </body>
</html>

